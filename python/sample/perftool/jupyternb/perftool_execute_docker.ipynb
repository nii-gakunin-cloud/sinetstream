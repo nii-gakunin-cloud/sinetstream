{
 "cells": [
  {
   "cell_type": "markdown",
   "metadata": {
    "lc_cell_meme": {
     "current": "e190f930-4574-11e9-b072-0242ac110002-2-97ab-6e92",
     "history": [
      {
       "current": "e190f930-4574-11e9-b072-0242ac110002",
       "next": "e190f994-4574-11e9-b072-0242ac110002",
       "previous": null
      },
      {
       "current": "e190f930-4574-11e9-b072-0242ac110002",
       "next": "57c2ff04-462e-11e9-b072-0242ac110002",
       "previous": null
      },
      {
       "current": "e190f930-4574-11e9-b072-0242ac110002",
       "next": "e6d37b42-462e-11e9-b072-0242ac110002",
       "previous": null
      },
      {
       "current": "e190f930-4574-11e9-b072-0242ac110002",
       "next": "bdc94ac4-4633-11e9-b072-0242ac110002",
       "previous": null
      },
      {
       "current": "e190f930-4574-11e9-b072-0242ac110002",
       "next": "64ffcf54-8cb4-11e9-88da-0242ac110002",
       "previous": null
      },
      {
       "current": "e190f930-4574-11e9-b072-0242ac110002-1-97ab",
       "next": "4cb01526-2502-11ea-9618-0242ac110002",
       "previous": null
      },
      {
       "current": "e190f930-4574-11e9-b072-0242ac110002-2-97ab-6e92",
       "next": "4cb01526-2502-11ea-9618-0242ac110002-1-df1a",
       "previous": null
      },
      {
       "current": "e190f930-4574-11e9-b072-0242ac110002-2-97ab-6e92",
       "next": "dbc0898a-2502-11ea-9618-0242ac110002-2-aa6f-28bf",
       "previous": null
      },
      {
       "current": "e190f930-4574-11e9-b072-0242ac110002-2-97ab-6e92",
       "next": "4161c992-2504-11ea-9618-0242ac110002-2-c95d-9d55",
       "previous": null
      },
      {
       "current": "e190f930-4574-11e9-b072-0242ac110002-2-97ab-6e92",
       "next": "cc24ec8a-898a-11eb-a09b-0242ac110002",
       "previous": null
      },
      {
       "current": "e190f930-4574-11e9-b072-0242ac110002-2-97ab-6e92",
       "next": "53b60d10-8999-11eb-a09b-0242ac110002",
       "previous": null
      }
     ],
     "next": "53b60d10-8999-11eb-a09b-0242ac110002-1-d083",
     "previous": null
    }
   },
   "source": [
    "※ このNotebookでは、perftoolを使って統計情報のグラフを表示します。\n"
   ]
  },
  {
   "cell_type": "markdown",
   "metadata": {
    "lc_cell_meme": {
     "current": "53b60d10-8999-11eb-a09b-0242ac110002-1-d083",
     "execution_end_time": "2021-03-20T16:39:58.900654Z",
     "history": [
      {
       "current": "53b60d10-8999-11eb-a09b-0242ac110002-1-d083",
       "next": "cc24ec8a-898a-11eb-a09b-0242ac110002",
       "previous": "e190f930-4574-11e9-b072-0242ac110002-2-97ab-6e92"
      }
     ],
     "next": "e1ea2fcc-8e3e-11eb-a09b-0242ac110002",
     "previous": "e190f930-4574-11e9-b072-0242ac110002-2-97ab-6e92"
    },
    "lc_wrapper": {
     "log_history": [
      "/notebooks/notebook/work/sinetstream/.log/20210321/20210321-013958-0891.log"
     ]
    }
   },
   "source": [
    "perftoolの実行を行うノードとコンテナは「perftool_build_environment.ipynb」の Notebook で起動したVCノードであることを想定しています。\n",
    "perftoolはコンテナ上で実行されます。\n",
    "\n",
    "それ以外のノードに対して実行する場合は、以下の条件を満たすように準備を行ってください。\n",
    "\n",
    "1. 対象となるノードを ssh で操作できる\n",
    "1. Docker のセットアップが済んでいる\n",
    "1. perftool実行に利用するツールがインストールされているコンテナが起動していること\n",
    "  - python3.6\n",
    "  - SINETStreamのPython3ライブラリ 1.5.0"
   ]
  },
  {
   "cell_type": "markdown",
   "metadata": {
    "lc_cell_meme": {
     "current": "e1ea2fcc-8e3e-11eb-a09b-0242ac110002",
     "next": "cc24ec8a-898a-11eb-a09b-0242ac110002",
     "previous": "53b60d10-8999-11eb-a09b-0242ac110002-1-d083"
    }
   },
   "source": [
    "# perftool.py の仕様\n",
    "\n",
    "- 概要\n",
    "- 前提条件\n",
    "- 書式\n",
    "- オプション\n",
    "- 出力\n",
    "- 実行例\n",
    "\n",
    "## 概要\n",
    "\n",
    "本ツールは、[SINETStream Writer/Reader API](https://www.sinetstream.net/docs/userguide/api-python.html)によるデータの送信/受信を実行し、その際に取得されたメトリクス情報を出力する。\n",
    "メトリクス情報は、[SINETStream API Metricsクラス](https://www.sinetstream.net/docs/userguide/api-python.html)のプロパティのうちraw(メッセージングシステム固有の統計情報)を除くものを標準出力に出力する。\n",
    "メトリクス情報の計測期間は、Writerがオプション等で指定されたサンプリング数のデータ送信を開始/終了する期間とし、Readerも同期間とする。\n",
    "そのため、データ通信に問題がない場合もReaderの受信数はWriterの送信数より少なくなることがある。\n",
    "送信データのペイロード型はバイト列を使用する。\n",
    "\n",
    "\n",
    "## 前提条件\n",
    "\n",
    "- Python3.6\n",
    "- SINETStream v1.5.0(Python)\n",
    "- [SINETStream API 設定ファイル](https://github.com/nii-gakunin-cloud/sinetstream/blob/main/docs/userguide/config.md) (データ送受信先の接続情報等が記述されているもの)\n",
    "\n",
    "### 設定ファイル記述例\n",
    "```\n",
    "service-perftool-kafka:\n",
    "    type: kafka\n",
    "    brokers: \"broker:9092\"\n",
    "    topic: topic-perftool-kafka\n",
    "\n",
    "service-perftool-mqtt:\n",
    "    type: mqtt\n",
    "    brokers: \"broker:1883\"\n",
    "    topic: topic-perftool-mqtt\n",
    "\n",
    "```\n",
    "\n",
    "## 書式\n",
    "\n",
    "perftool.py -s|--service *SERVICE_NAME* [-f|--format *FORMAT*] [-c|--output-count *OUTPUT_COUNT*] [-n|--num-samples *NUM_SAMPLES*] [-p|--payload-size *PAYLOAD_SIZE*] [-a|--async-api]\n",
    "\n",
    "## オプション\n",
    "\n",
    "- `-s`, `--service` *SERVICE_NAME*\n",
    "    * SINETStream API で使用するサービス名\n",
    "- `-f`, `--format` *FORMAT*\n",
    "    * 出力形式。jsonかtsvが指定可能。デフォルト:json\n",
    "- `-c`, `--output-count` *OUTPUT_COUNT*\n",
    "    * *OUTPUT_COUNT*回メトリクス情報を計測し出力する。デフォルト:1\n",
    "- `-n`, `--num-samples` *NUM_SAMPLES*\n",
    "    * 一回のメトリクス情報を出力するまでに*NUM_SAMPLES*個のデータ送信を試行する。デフォルト:300\n",
    "- `-p`, `--payload-size` *PAYLOAD_SIZE*\n",
    "    * データ送信試行時に*PAYLOAD_SIZE*バイトのペイロード長のデータを使用する。デフォルト:1024\n",
    "- `-a`, `--async-api`\n",
    "    * 指定した場合はデータの送信/受信に非同期APIを使用する。指定しなかった場合は同期APIを使用する\n",
    "\n",
    "## 出力\n",
    "### JSON形式\n",
    "`-c`, `--output-count`オプションで指定した回数この形式で出力する\n",
    "ここでは人間が見やすいよう整形してコメントも追記しているが、実際は改行無しで\n",
    "詰めた形式で出力される。\n",
    "実際の出力は実行例を参照。\n",
    "\n",
    "```\n",
    "{\n",
    "    # writerのメトリクス情報\n",
    "     \"writer\": {\n",
    "         \"start_time\": 1616591251.9623938,\n",
    "         \"start_time_ms\": 1616591251962.3938,\n",
    "         \"end_time\": 1616591255.0322828,\n",
    "         \"end_time_ms\": 1616591255032.2827,\n",
    "         \"time\": 3.0698890686035156,\n",
    "         \"time_ms\": 3069.8890686035156,\n",
    "         \"msg_count_total\": 1000,\n",
    "         \"msg_count_rate\": 325.7446694824375,\n",
    "         \"msg_bytes_total\": 1044000,\n",
    "         \"msg_bytes_rate\": 340077.43493966473,\n",
    "         \"msg_size_min\": 1044,\n",
    "         \"msg_size_max\": 1044,\n",
    "         \"msg_size_avg\": 1044.0,\n",
    "         \"error_count_total\": 0,\n",
    "         \"error_count_rate\": 0.0\n",
    "     },\n",
    "    # readerのメトリクス情報\n",
    "     \"reader\": {\n",
    "         \"start_time\": 1616591251.962402,\n",
    "         \"start_time_ms\": 1616591251962.402,\n",
    "         \"end_time\": 1616591255.0317662,\n",
    "         \"end_time_ms\": 1616591255031.766,\n",
    "         \"time\": 3.069364070892334,\n",
    "         \"time_ms\": 3069.364070892334,\n",
    "         \"msg_count_total\": 1000,\n",
    "         \"msg_count_rate\": 325.8003863025859,\n",
    "         \"msg_bytes_total\": 1044000,\n",
    "         \"msg_bytes_rate\": 340135.60329989967,\n",
    "         \"msg_size_min\": 1044,\n",
    "         \"msg_size_max\": 1044,\n",
    "         \"msg_size_avg\": 1044.0,\n",
    "         \"error_count_total\": 0,\n",
    "         \"error_count_rate\": 0.0}\n",
    "     }\n",
    "}\n",
    "```\n",
    "\n",
    "### TSV形式\n",
    "writerとreaderのメトリクス情報を一行で出力する。writerのメトリクス情報ののヘッダはプレフィクスとして\"`writer_`\"を付与している。readerのプレフィクスは\"`reader_`\"としている。\n",
    "出力は、1行目がヘッダ、以降は `-c`, `--output-count`オプションで指定した回数分のデータ行となる。\n",
    "ここではヘッダの一覧を示す。\n",
    "実際の出力は実行例を参照。\n",
    "\n",
    "```\n",
    "    writer_start_time\n",
    "    writer_start_time_ms\n",
    "    writer_end_time\n",
    "    writer_end_time_ms\n",
    "    writer_time\n",
    "    writer_time_ms\n",
    "    writer_msg_count_total\n",
    "    writer_msg_count_rate\n",
    "    writer_msg_bytes_total\n",
    "    writer_msg_bytes_rate\n",
    "    writer_msg_size_min\n",
    "    writer_msg_size_max\n",
    "    writer_msg_size_avg\n",
    "    writer_error_count_total\n",
    "    writer_error_count_rate\n",
    "    reader_start_time\n",
    "    reader_start_time_ms\n",
    "    reader_end_time\n",
    "    reader_end_time_ms\n",
    "    reader_time\n",
    "    reader_time_ms\n",
    "    reader_msg_count_total\n",
    "    reader_msg_count_rate\n",
    "    reader_msg_bytes_total\n",
    "    reader_msg_bytes_rate\n",
    "    reader_msg_size_min\n",
    "    reader_msg_size_max\n",
    "    reader_msg_size_avg\n",
    "    reader_error_count_total\n",
    "    reader_error_count_rate\n",
    "```\n",
    "\n",
    "## 実行例\n",
    "\n",
    "```\n",
    "$ python3 perftool.py -s service-perftool-kafka\n",
    "{\"writer\": {\"start_time\": 1616677087.4501278, \"start_time_ms\": 1616677087450.128, \"end_time\": 1616677088.464487, \"end_time_ms\": 1616677088464.487, \"time\": 1.0143592357635498, \"time_ms\": 1014.3592357635498, \"msg_count_total\": 300, \"msg_count_rate\": 295.7532099307773, \"msg_bytes_total\": 313200, \"msg_bytes_rate\": 308766.3511677315, \"msg_size_min\": 1044, \"msg_size_max\": 1044, \"msg_size_avg\": 1044.0, \"error_count_total\": 0, \"error_count_rate\": 0.0}, \"reader\": {\"start_time\": 1616677087.4501393, \"start_time_ms\": 1616677087450.1394, \"end_time\": 1616677088.463871, \"end_time_ms\": 1616677088463.871, \"time\": 1.0137317180633545, \"time_ms\": 1013.7317180633545, \"msg_count_total\": 234, \"msg_count_rate\": 230.83030335386613, \"msg_bytes_total\": 244296, \"msg_bytes_rate\": 240986.83670143623, \"msg_size_min\": 1044, \"msg_size_max\": 1044, \"msg_size_avg\": 1044.0, \"error_count_total\": 0, \"error_count_rate\": 0.0}}\n",
    "```\n",
    "\n",
    "```\n",
    "$ python3 perftool.py -s service-perftool-kafka  -f tsv -c 3 -n 1000 -p 1024 -a\n",
    "writer_start_time       writer_start_time_ms    writer_end_time writer_end_time_ms      writer_time     writer_time_ms  writer_msg_count_total  writer_msg_count_rate   writer_msg_bytes_total  writer_msg_bytes_rate   writer_msg_size_min     writer_msg_size_max     writer_msg_size_avg     writer_error_count_total        writer_error_count_rate reader_start_time       reader_start_time_ms    reader_end_time reader_end_time_ms      reader_time     reader_time_ms  reader_msg_count_total  reader_msg_count_rate   reader_msg_bytes_total  reader_msg_bytes_rate   reader_msg_size_min     reader_msg_size_max     reader_msg_size_avg     reader_error_count_total        reader_error_count_rate\n",
    "1616591229.4149387      1616591229414.9387      1616591230.9502277      1616591230950.2278      1.5352890491485596      1535.2890491485596      1000    651.3431464612999       1044000 680002.2449055971       1044    1044    1044.0  0       0.0     1616591229.296469       1616591229296.469       1616591230.940047       1616591230940.047       1.643578052520752       1643.578052520752       976     593.8263768508657       1018944 619954.7374323038       1044    1044    1044.0  0       0.0\n",
    "1616591231.1887398      1616591231188.7397      1616591232.7698293      1616591232769.8293      1.5810894966125488      1581.0894966125488      1000    632.4752660380574       1044000 660304.1777437319       1044    1044    1044.0  0       0.0     1616591231.0742073      1616591231074.2073      1616591232.7586951      1616591232758.695       1.6844878196716309      1684.4878196716309      967     574.0617347939649       1009548 599320.4511248994       1044    1044    1044.0  0       0.0\n",
    "1616591233.01446        1616591233014.4602      1616591234.5790718      1616591234579.0718      1.5646116733551025      1564.6116733551025      1000    639.1362259592711       1044000 667258.219901479        1044    1044    1044.0  0       0.0     1616591232.9014885      1616591232901.4885      1616591234.5769625      1616591234576.9624      1.675473928451538       1675.473928451538       994     593.2649760289903       1037736 619368.6349742659       1044    1044    1044.0  0       0.0\n",
    "```"
   ]
  },
  {
   "cell_type": "markdown",
   "metadata": {
    "lc_cell_meme": {
     "current": "cc24ec8a-898a-11eb-a09b-0242ac110002",
     "history": [
      {
       "current": "cc24ec8a-898a-11eb-a09b-0242ac110002",
       "next": "cc24ee74-898a-11eb-a09b-0242ac110002",
       "previous": "e190f930-4574-11e9-b072-0242ac110002-2-97ab-6e92"
      },
      {
       "current": "cc24ec8a-898a-11eb-a09b-0242ac110002",
       "next": "cc24ee74-898a-11eb-a09b-0242ac110002",
       "previous": "53b60d10-8999-11eb-a09b-0242ac110002"
      },
      {
       "current": "cc24ec8a-898a-11eb-a09b-0242ac110002",
       "next": "cc24ee74-898a-11eb-a09b-0242ac110002",
       "previous": "53b60d10-8999-11eb-a09b-0242ac110002-1-d083"
      }
     ],
     "next": "cc24ee74-898a-11eb-a09b-0242ac110002",
     "previous": "e1ea2fcc-8e3e-11eb-a09b-0242ac110002"
    }
   },
   "source": [
    "# 環境設定"
   ]
  },
  {
   "cell_type": "code",
   "execution_count": 2,
   "metadata": {
    "lc_cell_meme": {
     "current": "cc24ee74-898a-11eb-a09b-0242ac110002",
     "execution_end_time": "2021-03-22T05:51:36.149505Z",
     "next": "4161c992-2504-11ea-9618-0242ac110002-2-c95d-9d55",
     "previous": "cc24ec8a-898a-11eb-a09b-0242ac110002"
    },
    "lc_wrapper": {
     "log_history": [
      "/notebooks/notebook/work/sinetstream/.log/20210321/20210321-000522-0700.log",
      "/notebooks/notebook/work/sinetstream/.log/20210321/20210321-002850-0034.log",
      "/notebooks/notebook/work/sinetstream/.log/20210321/20210321-010009-0644.log",
      "/notebooks/notebook/work/sinetstream/.log/20210322/20210322-003242-0686.log",
      "/notebooks/notebook/work/sinetstream/.log/20210322/20210322-145136-0141.log"
     ]
    }
   },
   "outputs": [],
   "source": [
    "import os\n",
    "\n",
    "# 実行環境にあわせて書きかえてください\n",
    "# hostノード設定\n",
    "host_ip = \"172.30.2.7\"\n",
    "host_user = \"root\"\n",
    "host_docker_path = \"/usr/local/bin/docker\"\n",
    "ssh_private_key = os.path.expanduser('~/.ssh/id_rsa')\n",
    "\n",
    "ssh_opts = f\"-i {ssh_private_key} -l {host_user}\"\n",
    "docker = f\"ssh {ssh_opts} {host_ip} {host_docker_path}\"\n",
    "\n",
    "# perftool実行コンテナ設定\n",
    "container_name = \"reader\"\n",
    "container_user = \"user01\" # perftoolの実行ユーザ\n",
    "container_base_dir = \"/home/user01/sinetstream/\" # perftoolフォルダの転送先\n",
    "container_work_dir = f\"{container_base_dir}perftool/\" # perftool.pyが置かれるディレクトリ\n"
   ]
  },
  {
   "cell_type": "markdown",
   "metadata": {
    "lc_cell_meme": {
     "current": "4161c992-2504-11ea-9618-0242ac110002-2-c95d-9d55",
     "execution_end_time": "2019-12-22T21:43:14.706676Z",
     "history": [
      {
       "current": "4161c992-2504-11ea-9618-0242ac110002-1-c95d",
       "next": "ac86c904-8cb4-11e9-88da-0242ac110002",
       "previous": "236c8a68-2503-11ea-9618-0242ac110002"
      },
      {
       "current": "4161c992-2504-11ea-9618-0242ac110002-2-c95d-9d55",
       "next": "ac86c904-8cb4-11e9-88da-0242ac110002-1-bd59",
       "previous": "236c8a68-2503-11ea-9618-0242ac110002-1-a4ac"
      },
      {
       "current": "4161c992-2504-11ea-9618-0242ac110002-2-c95d-9d55",
       "next": "ac86c904-8cb4-11e9-88da-0242ac110002-2-bd59-a4e9",
       "previous": "dbc08b10-2502-11ea-9618-0242ac110002-2-2306-16c7"
      },
      {
       "current": "4161c992-2504-11ea-9618-0242ac110002-2-c95d-9d55",
       "next": "bdc94ac4-4633-11e9-b072-0242ac110002-2-3c2b-562b",
       "previous": "dbc08b10-2502-11ea-9618-0242ac110002-2-2306-16c7"
      },
      {
       "current": "4161c992-2504-11ea-9618-0242ac110002-2-c95d-9d55",
       "next": "bdc94ac4-4633-11e9-b072-0242ac110002-2-3c2b-562b",
       "previous": "e190f930-4574-11e9-b072-0242ac110002-2-97ab-6e92"
      }
     ],
     "next": "bdc94ac4-4633-11e9-b072-0242ac110002-2-3c2b-562b",
     "previous": "cc24ee74-898a-11eb-a09b-0242ac110002"
    },
    "lc_wrapper": {
     "log_history": [
      "/notebooks/notebook/wada_work/.log/20191223/20191223-064306-0539.log",
      "/notebooks/notebook/wada_work/.log/20191223/20191223-064314-0702.log"
     ]
    }
   },
   "source": [
    "# perftoolの実行環境への配置"
   ]
  },
  {
   "cell_type": "markdown",
   "metadata": {
    "lc_cell_meme": {
     "current": "bdc94ac4-4633-11e9-b072-0242ac110002-2-3c2b-562b",
     "history": [
      {
       "current": "bdc94ac4-4633-11e9-b072-0242ac110002",
       "next": "57c2ff04-462e-11e9-b072-0242ac110002",
       "previous": "e6d37b42-462e-11e9-b072-0242ac110002"
      },
      {
       "current": "bdc94ac4-4633-11e9-b072-0242ac110002-1-3c2b",
       "next": "57c2ff04-462e-11e9-b072-0242ac110002",
       "previous": "ac86c904-8cb4-11e9-88da-0242ac110002"
      },
      {
       "current": "bdc94ac4-4633-11e9-b072-0242ac110002-2-3c2b-562b",
       "next": "57c2ff04-462e-11e9-b072-0242ac110002-1-d190",
       "previous": "ac86c904-8cb4-11e9-88da-0242ac110002-1-bd59"
      },
      {
       "current": "bdc94ac4-4633-11e9-b072-0242ac110002-2-3c2b-562b",
       "next": "57c2ff04-462e-11e9-b072-0242ac110002-2-d190-404b",
       "previous": "ac86c904-8cb4-11e9-88da-0242ac110002-2-bd59-a4e9"
      }
     ],
     "next": "57c2ff04-462e-11e9-b072-0242ac110002-2-d190-404b",
     "previous": "4161c992-2504-11ea-9618-0242ac110002-2-c95d-9d55"
    }
   },
   "source": [
    "このNotebookがあるフォルダにあるperftoolフォルダを実行環境に転送します。\n",
    "\n",
    "perftoolフォルダには次のファイルが置いてあることが前提です。\n",
    "- perftool/perftool.py\n",
    "- perftool/template.sinetstream_config.yml"
   ]
  },
  {
   "cell_type": "code",
   "execution_count": 86,
   "metadata": {
    "lc_cell_meme": {
     "current": "57c2ff04-462e-11e9-b072-0242ac110002-2-d190-404b",
     "execution_end_time": "2021-03-22T02:49:25.173623Z",
     "history": [
      {
       "current": "57c2ff04-462e-11e9-b072-0242ac110002",
       "next": "e190f994-4574-11e9-b072-0242ac110002",
       "previous": "e190f930-4574-11e9-b072-0242ac110002"
      },
      {
       "current": "57c2ff04-462e-11e9-b072-0242ac110002",
       "next": "e190f994-4574-11e9-b072-0242ac110002",
       "previous": "e6d37b42-462e-11e9-b072-0242ac110002"
      },
      {
       "current": "57c2ff04-462e-11e9-b072-0242ac110002",
       "next": "4c72da28-4630-11e9-b072-0242ac110002",
       "previous": "e6d37b42-462e-11e9-b072-0242ac110002"
      },
      {
       "current": "57c2ff04-462e-11e9-b072-0242ac110002",
       "next": "4c72da28-4630-11e9-b072-0242ac110002",
       "previous": "bdc94ac4-4633-11e9-b072-0242ac110002"
      },
      {
       "current": "57c2ff04-462e-11e9-b072-0242ac110002",
       "next": "bdc94ac4-4633-11e9-b072-0242ac110002",
       "previous": "bdc94ac4-4633-11e9-b072-0242ac110002"
      },
      {
       "current": "57c2ff04-462e-11e9-b072-0242ac110002",
       "next": "ac86ca12-8cb4-11e9-88da-0242ac110002",
       "previous": "bdc94ac4-4633-11e9-b072-0242ac110002"
      },
      {
       "current": "57c2ff04-462e-11e9-b072-0242ac110002-1-d190",
       "next": "bdc94ac4-4633-11e9-b072-0242ac110002",
       "previous": "bdc94ac4-4633-11e9-b072-0242ac110002"
      },
      {
       "current": "57c2ff04-462e-11e9-b072-0242ac110002-2-d190-404b",
       "next": "bdc94ac4-4633-11e9-b072-0242ac110002-1-4179",
       "previous": "bdc94ac4-4633-11e9-b072-0242ac110002-1-3c2b"
      },
      {
       "current": "57c2ff04-462e-11e9-b072-0242ac110002-2-d190-404b",
       "next": "bdc94ac4-4633-11e9-b072-0242ac110002-2-4179-c314",
       "previous": "bdc94ac4-4633-11e9-b072-0242ac110002-2-3c2b-562b"
      },
      {
       "current": "57c2ff04-462e-11e9-b072-0242ac110002-2-d190-404b",
       "next": "00e27c16-899b-11eb-a09b-0242ac110002",
       "previous": "bdc94ac4-4633-11e9-b072-0242ac110002-2-3c2b-562b"
      }
     ],
     "next": "00e27c16-899b-11eb-a09b-0242ac110002-1-dedc",
     "previous": "bdc94ac4-4633-11e9-b072-0242ac110002-2-3c2b-562b"
    },
    "lc_wrapper": {
     "log_history": [
      "/notebooks/notebook/work/.log/20200424/20200424-151838-0332.log",
      "/notebooks/notebook/work/sinetstream/.log/20210318/20210318-144244-0988.log",
      "/notebooks/notebook/work/sinetstream/.log/20210319/20210319-143206-0343.log",
      "/notebooks/notebook/work/sinetstream/.log/20210319/20210319-143242-0200.log",
      "/notebooks/notebook/work/sinetstream/.log/20210319/20210319-154933-0739.log",
      "/notebooks/notebook/work/sinetstream/.log/20210319/20210319-155140-0426.log",
      "/notebooks/notebook/work/sinetstream/.log/20210319/20210319-155302-0159.log",
      "/notebooks/notebook/work/sinetstream/.log/20210319/20210319-160053-0750.log",
      "/notebooks/notebook/work/sinetstream/.log/20210319/20210319-160142-0807.log",
      "/notebooks/notebook/work/sinetstream/.log/20210319/20210319-161648-0957.log",
      "/notebooks/notebook/work/sinetstream/.log/20210319/20210319-164155-0353.log",
      "/notebooks/notebook/work/sinetstream/.log/20210319/20210319-164212-0762.log",
      "/notebooks/notebook/work/sinetstream/.log/20210319/20210319-164400-0254.log",
      "/notebooks/notebook/work/sinetstream/.log/20210319/20210319-164503-0917.log",
      "/notebooks/notebook/work/sinetstream/.log/20210320/20210320-000404-0073.log",
      "/notebooks/notebook/work/sinetstream/.log/20210320/20210320-000905-0444.log",
      "/notebooks/notebook/work/sinetstream/.log/20210320/20210320-012045-0952.log",
      "/notebooks/notebook/work/sinetstream/.log/20210320/20210320-144344-0264.log",
      "/notebooks/notebook/work/sinetstream/.log/20210321/20210321-002941-0232.log",
      "/notebooks/notebook/work/sinetstream/.log/20210321/20210321-003927-0039.log",
      "/notebooks/notebook/work/sinetstream/.log/20210321/20210321-005230-0053.log",
      "/notebooks/notebook/work/sinetstream/.log/20210322/20210322-003253-0056.log",
      "/notebooks/notebook/work/sinetstream/.log/20210322/20210322-003348-0292.log",
      "/notebooks/notebook/work/sinetstream/.log/20210322/20210322-114923-0599.log"
     ]
    },
    "scrolled": true
   },
   "outputs": [],
   "source": [
    "# ファイルの転送\n",
    "!tar -cf - perftool | {docker} cp - {container_name}:{container_base_dir}\n",
    "\n",
    "# 設定ファイルのrename\n",
    "!{docker} exec -t {container_name} mv {container_work_dir}template.sinetstream_config.yml {container_work_dir}.sinetstream_config.yml\n",
    "\n",
    "# perftoolプログラムファイルに実行権限の付与\n",
    "#!{docker} exec -t {container_name} chmod a+x {container_work_dir}perftool.py"
   ]
  },
  {
   "cell_type": "markdown",
   "metadata": {
    "lc_cell_meme": {
     "current": "00e27c16-899b-11eb-a09b-0242ac110002-1-dedc",
     "next": "bdc94ac4-4633-11e9-b072-0242ac110002-2-4179-c314",
     "previous": "57c2ff04-462e-11e9-b072-0242ac110002-2-d190-404b"
    }
   },
   "source": [
    "SINETStreamの設定ファイル(.sinetstream_config.yml)にはブローカーの接続情報等が記述されています。必要に応じて実行環境にあわせて書き換えてください。"
   ]
  },
  {
   "cell_type": "markdown",
   "metadata": {
    "lc_cell_meme": {
     "current": "bdc94ac4-4633-11e9-b072-0242ac110002-2-4179-c314",
     "history": [
      {
       "current": "bdc94ac4-4633-11e9-b072-0242ac110002",
       "next": "57c2ff04-462e-11e9-b072-0242ac110002",
       "previous": "e6d37b42-462e-11e9-b072-0242ac110002"
      },
      {
       "current": "bdc94ac4-4633-11e9-b072-0242ac110002",
       "next": "57c2ff04-462e-11e9-b072-0242ac110002",
       "previous": "ac86c904-8cb4-11e9-88da-0242ac110002"
      },
      {
       "current": "bdc94ac4-4633-11e9-b072-0242ac110002-1-4179",
       "next": "ac86ca12-8cb4-11e9-88da-0242ac110002",
       "previous": "57c2ff04-462e-11e9-b072-0242ac110002"
      },
      {
       "current": "bdc94ac4-4633-11e9-b072-0242ac110002-2-4179-c314",
       "next": "ac86ca12-8cb4-11e9-88da-0242ac110002-1-32c6",
       "previous": "57c2ff04-462e-11e9-b072-0242ac110002-1-d190"
      },
      {
       "current": "bdc94ac4-4633-11e9-b072-0242ac110002-2-4179-c314",
       "next": "ac86ca12-8cb4-11e9-88da-0242ac110002-2-32c6-31c3",
       "previous": "57c2ff04-462e-11e9-b072-0242ac110002-2-d190-404b"
      },
      {
       "current": "bdc94ac4-4633-11e9-b072-0242ac110002-2-4179-c314",
       "next": "ac86ca12-8cb4-11e9-88da-0242ac110002-2-32c6-31c3",
       "previous": "00e27c16-899b-11eb-a09b-0242ac110002"
      }
     ],
     "next": "ac86ca12-8cb4-11e9-88da-0242ac110002-2-32c6-31c3",
     "previous": "00e27c16-899b-11eb-a09b-0242ac110002-1-dedc"
    }
   },
   "source": [
    "# 実行\n"
   ]
  },
  {
   "cell_type": "markdown",
   "metadata": {
    "lc_cell_meme": {
     "current": "ac86ca12-8cb4-11e9-88da-0242ac110002-2-32c6-31c3",
     "history": [
      {
       "current": "ac86ca12-8cb4-11e9-88da-0242ac110002",
       "next": "bdc94ac4-4633-11e9-b072-0242ac110002",
       "previous": "57c2ff04-462e-11e9-b072-0242ac110002"
      },
      {
       "current": "ac86ca12-8cb4-11e9-88da-0242ac110002-1-32c6",
       "next": "bdc94ac4-4633-11e9-b072-0242ac110002",
       "previous": "bdc94ac4-4633-11e9-b072-0242ac110002"
      },
      {
       "current": "ac86ca12-8cb4-11e9-88da-0242ac110002-2-32c6-31c3",
       "next": "bdc94ac4-4633-11e9-b072-0242ac110002-1-51f7",
       "previous": "bdc94ac4-4633-11e9-b072-0242ac110002-1-4179"
      }
     ],
     "next": "bdc94ac4-4633-11e9-b072-0242ac110002-2-51f7-6aca",
     "previous": "bdc94ac4-4633-11e9-b072-0242ac110002-2-4179-c314"
    }
   },
   "source": [
    "## perftool の実行"
   ]
  },
  {
   "cell_type": "markdown",
   "metadata": {
    "lc_cell_meme": {
     "current": "bdc94ac4-4633-11e9-b072-0242ac110002-2-51f7-6aca",
     "history": [
      {
       "current": "bdc94ac4-4633-11e9-b072-0242ac110002",
       "next": "57c2ff04-462e-11e9-b072-0242ac110002",
       "previous": "e6d37b42-462e-11e9-b072-0242ac110002"
      },
      {
       "current": "bdc94ac4-4633-11e9-b072-0242ac110002",
       "next": "4c72da28-4630-11e9-b072-0242ac110002",
       "previous": "57c2ff04-462e-11e9-b072-0242ac110002"
      },
      {
       "current": "bdc94ac4-4633-11e9-b072-0242ac110002",
       "next": "4c72da28-4630-11e9-b072-0242ac110002",
       "previous": "ac86ca12-8cb4-11e9-88da-0242ac110002"
      },
      {
       "current": "bdc94ac4-4633-11e9-b072-0242ac110002",
       "next": "9c9b5d82-8ccf-11e9-88da-0242ac110002",
       "previous": "ac86ca12-8cb4-11e9-88da-0242ac110002"
      },
      {
       "current": "bdc94ac4-4633-11e9-b072-0242ac110002",
       "next": "4c72da28-4630-11e9-b072-0242ac110002",
       "previous": "ac86ca12-8cb4-11e9-88da-0242ac110002"
      },
      {
       "current": "bdc94ac4-4633-11e9-b072-0242ac110002",
       "next": "2783394e-8e81-11e9-88da-0242ac110002",
       "previous": "ac86ca12-8cb4-11e9-88da-0242ac110002"
      },
      {
       "current": "bdc94ac4-4633-11e9-b072-0242ac110002-1-51f7",
       "next": "4c72da28-4630-11e9-b072-0242ac110002",
       "previous": "ac86ca12-8cb4-11e9-88da-0242ac110002"
      },
      {
       "current": "bdc94ac4-4633-11e9-b072-0242ac110002-2-51f7-6aca",
       "next": "4c72da28-4630-11e9-b072-0242ac110002-1-e002",
       "previous": "ac86ca12-8cb4-11e9-88da-0242ac110002-1-32c6"
      }
     ],
     "next": "4c72da28-4630-11e9-b072-0242ac110002-2-e002-c112",
     "previous": "ac86ca12-8cb4-11e9-88da-0242ac110002-2-32c6-31c3"
    }
   },
   "source": [
    "perftool.pyを実行し、実行結果をファイルに出力します。"
   ]
  },
  {
   "cell_type": "code",
   "execution_count": 3,
   "metadata": {
    "lc_cell_meme": {
     "current": "4c72da28-4630-11e9-b072-0242ac110002-2-e002-c112",
     "execution_end_time": "2021-03-22T05:52:05.835575Z",
     "history": [
      {
       "current": "4c72da28-4630-11e9-b072-0242ac110002",
       "next": "e190f994-4574-11e9-b072-0242ac110002",
       "previous": "57c2ff04-462e-11e9-b072-0242ac110002"
      },
      {
       "current": "4c72da28-4630-11e9-b072-0242ac110002",
       "next": "93f97118-4630-11e9-b072-0242ac110002",
       "previous": "57c2ff04-462e-11e9-b072-0242ac110002"
      },
      {
       "current": "4c72da28-4630-11e9-b072-0242ac110002",
       "next": "a421b3ce-4636-11e9-b072-0242ac110002",
       "previous": "57c2ff04-462e-11e9-b072-0242ac110002"
      },
      {
       "current": "4c72da28-4630-11e9-b072-0242ac110002",
       "next": "a421b3ce-4636-11e9-b072-0242ac110002",
       "previous": "bdc94ac4-4633-11e9-b072-0242ac110002"
      },
      {
       "current": "4c72da28-4630-11e9-b072-0242ac110002",
       "next": "9c9b5ed6-8ccf-11e9-88da-0242ac110002",
       "previous": "9c9b5d82-8ccf-11e9-88da-0242ac110002"
      },
      {
       "current": "4c72da28-4630-11e9-b072-0242ac110002",
       "next": "e42198f6-8ccf-11e9-88da-0242ac110002",
       "previous": "bdc94ac4-4633-11e9-b072-0242ac110002"
      },
      {
       "current": "4c72da28-4630-11e9-b072-0242ac110002",
       "next": "7330f6e0-8cd0-11e9-88da-0242ac110002",
       "previous": "bdc94ac4-4633-11e9-b072-0242ac110002"
      },
      {
       "current": "4c72da28-4630-11e9-b072-0242ac110002",
       "next": "7330f6e0-8cd0-11e9-88da-0242ac110002",
       "previous": "2783394e-8e81-11e9-88da-0242ac110002"
      },
      {
       "current": "4c72da28-4630-11e9-b072-0242ac110002",
       "next": "7330f6e0-8cd0-11e9-88da-0242ac110002",
       "previous": "fe18a6d8-8e81-11e9-88da-0242ac110002"
      },
      {
       "current": "4c72da28-4630-11e9-b072-0242ac110002",
       "next": "7330f6e0-8cd0-11e9-88da-0242ac110002",
       "previous": "2783394e-8e81-11e9-88da-0242ac110002"
      },
      {
       "current": "4c72da28-4630-11e9-b072-0242ac110002",
       "next": "7330f6e0-8cd0-11e9-88da-0242ac110002",
       "previous": "8df69e8c-998a-11e9-88da-0242ac110002"
      },
      {
       "current": "4c72da28-4630-11e9-b072-0242ac110002",
       "next": "7330f6e0-8cd0-11e9-88da-0242ac110002",
       "previous": "2783394e-8e81-11e9-88da-0242ac110002"
      },
      {
       "current": "4c72da28-4630-11e9-b072-0242ac110002",
       "next": "4c72da28-4630-11e9-b072-0242ac110002",
       "previous": "2783394e-8e81-11e9-88da-0242ac110002"
      },
      {
       "current": "4c72da28-4630-11e9-b072-0242ac110002",
       "next": "7330f6e0-8cd0-11e9-88da-0242ac110002",
       "previous": "2783394e-8e81-11e9-88da-0242ac110002"
      },
      {
       "current": "4c72da28-4630-11e9-b072-0242ac110002-1-e002",
       "next": "7330f6e0-8cd0-11e9-88da-0242ac110002",
       "previous": "bdc94ac4-4633-11e9-b072-0242ac110002"
      },
      {
       "current": "4c72da28-4630-11e9-b072-0242ac110002-2-e002-c112",
       "next": "7330f6e0-8cd0-11e9-88da-0242ac110002-1-dcb7",
       "previous": "bdc94ac4-4633-11e9-b072-0242ac110002-1-51f7"
      },
      {
       "current": "4c72da28-4630-11e9-b072-0242ac110002-2-e002-c112",
       "next": "7330f6e0-8cd0-11e9-88da-0242ac110002-2-dcb7-6d27",
       "previous": "bdc94ac4-4633-11e9-b072-0242ac110002-2-51f7-6aca"
      }
     ],
     "next": "e42198f6-8ccf-11e9-88da-0242ac110002-2-e0c0-2475",
     "previous": "bdc94ac4-4633-11e9-b072-0242ac110002-2-51f7-6aca"
    },
    "lc_wrapper": {
     "log_history": [
      "/notebooks/notebook/work/sinetstream/.log/20210318/20210318-145304-0615.log",
      "/notebooks/notebook/work/sinetstream/.log/20210318/20210318-145329-0633.log",
      "/notebooks/notebook/work/sinetstream/.log/20210318/20210318-145354-0292.log",
      "/notebooks/notebook/work/sinetstream/.log/20210318/20210318-145608-0037.log",
      "/notebooks/notebook/work/sinetstream/.log/20210318/20210318-145620-0787.log",
      "/notebooks/notebook/work/sinetstream/.log/20210320/20210320-011256-0025.log",
      "/notebooks/notebook/work/sinetstream/.log/20210320/20210320-011837-0180.log",
      "/notebooks/notebook/work/sinetstream/.log/20210320/20210320-012024-0908.log",
      "/notebooks/notebook/work/sinetstream/.log/20210320/20210320-012058-0861.log",
      "/notebooks/notebook/work/sinetstream/.log/20210320/20210320-012158-0988.log",
      "/notebooks/notebook/work/sinetstream/.log/20210320/20210320-012253-0458.log",
      "/notebooks/notebook/work/sinetstream/.log/20210320/20210320-012325-0949.log",
      "/notebooks/notebook/work/sinetstream/.log/20210320/20210320-012443-0448.log",
      "/notebooks/notebook/work/sinetstream/.log/20210320/20210320-012511-0068.log",
      "/notebooks/notebook/work/sinetstream/.log/20210320/20210320-012605-0486.log",
      "/notebooks/notebook/work/sinetstream/.log/20210320/20210320-012620-0855.log",
      "/notebooks/notebook/work/sinetstream/.log/20210320/20210320-013024-0112.log",
      "/notebooks/notebook/work/sinetstream/.log/20210320/20210320-013118-0843.log",
      "/notebooks/notebook/work/sinetstream/.log/20210320/20210320-013459-0983.log",
      "/notebooks/notebook/work/sinetstream/.log/20210320/20210320-013721-0764.log",
      "/notebooks/notebook/work/sinetstream/.log/20210320/20210320-014414-0530.log",
      "/notebooks/notebook/work/sinetstream/.log/20210320/20210320-015048-0117.log",
      "/notebooks/notebook/work/sinetstream/.log/20210320/20210320-015202-0919.log",
      "/notebooks/notebook/work/sinetstream/.log/20210320/20210320-015341-0790.log",
      "/notebooks/notebook/work/sinetstream/.log/20210320/20210320-015416-0486.log",
      "/notebooks/notebook/work/sinetstream/.log/20210320/20210320-020113-0696.log",
      "/notebooks/notebook/work/sinetstream/.log/20210320/20210320-143249-0453.log",
      "/notebooks/notebook/work/sinetstream/.log/20210320/20210320-144300-0636.log",
      "/notebooks/notebook/work/sinetstream/.log/20210320/20210320-144423-0096.log",
      "/notebooks/notebook/work/sinetstream/.log/20210320/20210320-144455-0266.log",
      "/notebooks/notebook/work/sinetstream/.log/20210320/20210320-145403-0854.log",
      "/notebooks/notebook/work/sinetstream/.log/20210321/20210321-005453-0331.log",
      "/notebooks/notebook/work/sinetstream/.log/20210321/20210321-005533-0674.log",
      "/notebooks/notebook/work/sinetstream/.log/20210321/20210321-005752-0933.log",
      "/notebooks/notebook/work/sinetstream/.log/20210321/20210321-005831-0404.log",
      "/notebooks/notebook/work/sinetstream/.log/20210321/20210321-005904-0670.log",
      "/notebooks/notebook/work/sinetstream/.log/20210321/20210321-010048-0873.log",
      "/notebooks/notebook/work/sinetstream/.log/20210321/20210321-010213-0945.log",
      "/notebooks/notebook/work/sinetstream/.log/20210321/20210321-010248-0703.log",
      "/notebooks/notebook/work/sinetstream/.log/20210321/20210321-010721-0524.log",
      "/notebooks/notebook/work/sinetstream/.log/20210322/20210322-003438-0334.log",
      "/notebooks/notebook/work/sinetstream/.log/20210322/20210322-003543-0497.log",
      "/notebooks/notebook/work/sinetstream/.log/20210322/20210322-145126-0721.log",
      "/notebooks/notebook/work/sinetstream/.log/20210322/20210322-145143-0786.log"
     ]
    }
   },
   "outputs": [
    {
     "name": "stdout",
     "output_type": "stream",
     "text": [
      "writer_start_time\twriter_end_time\twriter_time\twriter_msg_count_total\twriter_msg_count_rate\twriter_msg_bytes_total\twriter_msg_bytes_rate\twriter_msg_size_min\twriter_msg_size_max\twriter_msg_size_avg\twriter_error_count_total\twriter_error_count_rate\treader_start_time\treader_end_time\treader_time\treader_msg_count_total\treader_msg_count_rate\treader_msg_bytes_total\treader_msg_bytes_rate\treader_msg_size_min\treader_msg_size_max\treader_msg_size_avg\treader_error_count_total\treader_error_count_rate\r",
      "\r",
      "\r\n",
      "1616392313.8558612\t1616392314.3734286\t0.5175673961639404\t300\t579.6346567104363\t313200\t605138.5816056955\t1044\t1044\t1044.0\t0\t0.0\t1616392313.7451634\t1616392314.3730588\t0.6278953552246094\t294\t468.2308884015091\t306936\t488833.04749117553\t1044\t1044\t1044.0\t0\t0.0\r",
      "\r",
      "\r\n",
      "1616392314.590687\t1616392315.0676694\t0.47698235511779785\t300\t628.9540834815799\t313200\t656628.0631547694\t1044\t1044\t1044.0\t0\t0.0\t1616392314.482652\t1616392315.0635586\t0.5809066295623779\t188\t323.6320441748591\t196272\t337871.8541185529\t1044\t1044\t1044.0\t0\t0.0\r",
      "\r",
      "\r\n",
      "1616392315.2820427\t1616392315.821698\t0.5396552085876465\t300\t555.910505867519\t313200\t580370.5681256898\t1044\t1044\t1044.0\t0\t0.0\t1616392315.1734462\t1616392315.8212073\t0.6477611064910889\t294\t453.8710290782864\t306936\t473841.35435773106\t1044\t1044\t1044.0\t0\t0.0\r",
      "\r",
      "\r\n",
      "1616392316.0389187\t1616392316.5549731\t0.5160543918609619\t300\t581.3340700738141\t313200\t606912.769157062\t1044\t1044\t1044.0\t0\t0.0\t1616392315.9305313\t1616392316.553216\t0.6226847171783447\t294\t472.149053749451\t306936\t492923.61211442685\t1044\t1044\t1044.0\t0\t0.0\r",
      "\r",
      "\r\n",
      "1616392316.7700105\t1616392317.2661173\t0.4961068630218506\t300\t604.7084254643476\t313200\t631315.5961847788\t1044\t1044\t1044.0\t0\t0.0\t1616392316.6624513\t1616392317.263349\t0.6008977890014648\t291\t484.2753714963172\t303804\t505583.48784215515\t1044\t1044\t1044.0\t0\t0.0\r",
      "\r",
      "\r\n",
      "1616392317.4820688\t1616392317.930594\t0.44852519035339355\t300\t668.8587540950144\t313200\t698288.5392751951\t1044\t1044\t1044.0\t0\t0.0\t1616392317.374343\t1616392317.9266\t0.5522570610046387\t175\t316.88141692864673\t182700\t330824.19927350717\t1044\t1044\t1044.0\t0\t0.0\r",
      "\r",
      "\r\n",
      "1616392318.1482258\t1616392318.6555786\t0.5073528289794922\t300\t591.3044785882654\t313200\t617321.875646149\t1044\t1044\t1044.0\t0\t0.0\t1616392318.0409353\t1616392318.6507232\t0.6097879409790039\t295\t483.77473573252803\t307980\t505060.82410475926\t1044\t1044\t1044.0\t0\t0.0\r",
      "\r",
      "\r\n",
      "1616392318.8685174\t1616392319.3966904\t0.5281729698181152\t300\t567.9957459831952\t313200\t592987.5588064558\t1044\t1044\t1044.0\t0\t0.0\t1616392318.7605333\t1616392319.3960538\t0.6355204582214355\t294\t462.61295949903325\t306936\t482967.9297169907\t1044\t1044\t1044.0\t0\t0.0\r",
      "\r",
      "\r\n",
      "1616392319.6138403\t1616392320.136684\t0.522843599319458\t300\t573.7853545314221\t313200\t599031.9101308046\t1044\t1044\t1044.0\t0\t0.0\t1616392319.5059543\t1616392320.1365154\t0.630561113357544\t294\t466.2513970050269\t306936\t486766.4584732481\t1044\t1044\t1044.0\t0\t0.0\r",
      "\r",
      "\r\n",
      "1616392320.3540072\t1616392320.8098452\t0.4558379650115967\t300\t658.1285961830052\t313200\t687086.2544150575\t1044\t1044\t1044.0\t0\t0.0\t1616392320.2459826\t1616392320.805284\t0.5593013763427734\t180\t321.83006803417055\t187920\t335990.59102767403\t1044\t1044\t1044.0\t0\t0.0\r",
      "\r",
      "\r\n",
      "1616392321.024291\t1616392321.503755\t0.479464054107666\t300\t625.6986262678902\t313200\t653229.3658236774\t1044\t1044\t1044.0\t0\t0.0\t1616392320.91735\t1616392321.502969\t0.5856189727783203\t191\t326.1506352737328\t199404\t340501.263225777\t1044\t1044\t1044.0\t0\t0.0\r",
      "\r",
      "\r\n",
      "1616392321.721505\t1616392322.2674673\t0.5459623336791992\t300\t549.4884564257803\t313200\t573665.9485085147\t1044\t1044\t1044.0\t0\t0.0\t1616392321.613081\t1616392322.265796\t0.6527149677276611\t297\t455.0225055110431\t310068\t475043.49575352896\t1044\t1044\t1044.0\t0\t0.0\r",
      "\r",
      "\r\n",
      "1616392322.482552\t1616392323.0093925\t0.5268404483795166\t300\t569.432360257751\t313200\t594487.3841090921\t1044\t1044\t1044.0\t0\t0.0\t1616392322.3750637\t1616392323.0092285\t0.6341648101806641\t295\t465.1787599440576\t307980\t485646.62538159615\t1044\t1044\t1044.0\t0\t0.0\r",
      "\r",
      "\r\n",
      "1616392323.227057\t1616392323.70319\t0.4761331081390381\t300\t630.0759070767989\t313200\t657799.246988178\t1044\t1044\t1044.0\t0\t0.0\t1616392323.1186445\t1616392323.7043917\t0.585747241973877\t187\t319.250329493382\t195228\t333297.34399109083\t1044\t1044\t1044.0\t0\t0.0\r",
      "\r",
      "\r\n",
      "1616392323.920443\t1616392324.43009\t0.5096468925476074\t300\t588.6428513286309\t313200\t614543.1367870907\t1044\t1044\t1044.0\t0\t0.0\t1616392323.812045\t1616392324.4293556\t0.6173105239868164\t294\t476.25949757221184\t306936\t497214.91546538915\t1044\t1044\t1044.0\t0\t0.0\r",
      "\r",
      "\r\n",
      "1616392324.6474724\t1616392325.1230764\t0.4756040573120117\t300\t630.7767887757742\t313200\t658530.9674819083\t1044\t1044\t1044.0\t0\t0.0\t1616392324.5401368\t1616392325.1199145\t0.579777717590332\t191\t329.4365999332172\t199404\t343931.81033027876\t1044\t1044\t1044.0\t0\t0.0\r",
      "\r",
      "\r\n",
      "1616392325.3413079\t1616392325.8020604\t0.4607524871826172\t300\t651.1088021128713\t313200\t679757.5894058377\t1044\t1044\t1044.0\t0\t0.0\t1616392325.2332797\t1616392325.800387\t0.5671072006225586\t189\t333.2703231285367\t197316\t347934.21734619234\t1044\t1044\t1044.0\t0\t0.0\r",
      "\r",
      "\r\n",
      "1616392326.0187426\t1616392326.534191\t0.5154483318328857\t300\t582.0175980262236\t313200\t607626.3723393774\t1044\t1044\t1044.0\t0\t0.0\t1616392325.9096584\t1616392326.5333698\t0.623711347579956\t292\t468.16528372135696\t304848\t488764.55620509665\t1044\t1044\t1044.0\t0\t0.0\r",
      "\r",
      "\r\n",
      "1616392326.7518456\t1616392327.2419538\t0.4901082515716553\t300\t612.1096697269932\t313200\t639042.4951949809\t1044\t1044\t1044.0\t0\t0.0\t1616392326.6445813\t1616392327.2411659\t0.5965845584869385\t191\t320.15578895373255\t199404\t334242.6436676968\t1044\t1044\t1044.0\t0\t0.0\r",
      "\r",
      "\r\n",
      "1616392327.3585706\t1616392327.8167782\t0.4582076072692871\t300\t654.7250530995461\t313200\t683532.9554359262\t1044\t1044\t1044.0\t0\t0.0\t1616392327.2506227\t1616392327.8149722\t0.5643494129180908\t190\t336.6708561236271\t198360\t351484.3737930667\t1044\t1044\t1044.0\t0\t0.0\r",
      "\r",
      "\r\n",
      "1616392328.0313244\t1616392328.5626588\t0.531334400177002\t300\t564.6161812599784\t313200\t589459.2932354173\t1044\t1044\t1044.0\t0\t0.0\t1616392327.9237597\t1616392328.5599575\t0.6361978054046631\t292\t458.976748299641\t304848\t479171.72522482515\t1044\t1044\t1044.0\t0\t0.0\r",
      "\r",
      "\r\n",
      "1616392328.6781445\t1616392329.2121608\t0.5340163707733154\t300\t561.7805303713188\t313200\t586498.8737076569\t1044\t1044\t1044.0\t0\t0.0\t1616392328.5712194\t1616392329.2119875\t0.6407680511474609\t296\t461.94562832827796\t309024\t482271.2359747222\t1044\t1044\t1044.0\t0\t0.0\r",
      "\r",
      "\r\n",
      "1616392329.3287716\t1616392329.850857\t0.522085428237915\t300\t574.6186041095359\t313200\t599901.8226903555\t1044\t1044\t1044.0\t0\t0.0\t1616392329.2208924\t1616392329.8500826\t0.62919020652771\t298\t473.62466374764824\t311112\t494464.1489525448\t1044\t1044\t1044.0\t0\t0.0\r",
      "\r",
      "\r\n",
      "1616392329.9663851\t1616392330.4776611\t0.5112760066986084\t300\t586.7672178421757\t313200\t612584.9754272314\t1044\t1044\t1044.0\t0\t0.0\t1616392329.857716\t1616392330.4747832\t0.6170670986175537\t295\t478.0679453837407\t307980\t499102.9349806253\t1044\t1044\t1044.0\t0\t0.0\r",
      "\r",
      "\r\n",
      "1616392330.6932585\t1616392331.2135096\t0.5202510356903076\t300\t576.6446953862144\t313200\t602017.0619832078\t1044\t1044\t1044.0\t0\t0.0\t1616392330.5847929\t1616392331.21164\t0.6268470287322998\t293\t467.41866287943765\t305892\t487985.0840461329\t1044\t1044\t1044.0\t0\t0.0\r",
      "\r",
      "\r\n",
      "1616392331.33161\t1616392331.8279045\t0.4962944984436035\t300\t604.4798016919596\t313200\t631076.9129664059\t1044\t1044\t1044.0\t0\t0.0\t1616392331.2229698\t1616392331.8268702\t0.6039004325866699\t298\t493.4588285085091\t311112\t515171.01696288347\t1044\t1044\t1044.0\t0\t0.0\r",
      "\r",
      "\r\n",
      "1616392332.0434368\t1616392332.576663\t0.5332262516021729\t300\t562.612960443333\t313200\t587367.9307028396\t1044\t1044\t1044.0\t0\t0.0\t1616392331.9355955\t1616392332.574188\t0.6385924816131592\t291\t455.68967436775955\t303804\t475740.020039941\t1044\t1044\t1044.0\t0\t0.0\r",
      "\r",
      "\r\n",
      "1616392332.6950681\t1616392333.1985714\t0.5035033226013184\t300\t595.8252637739683\t313200\t622041.575380023\t1044\t1044\t1044.0\t0\t0.0\t1616392332.586789\t1616392333.1983657\t0.6115767955780029\t296\t483.9948182145295\t309024\t505290.5902159688\t1044\t1044\t1044.0\t0\t0.0\r",
      "\r",
      "\r\n",
      "1616392333.4140046\t1616392333.9294384\t0.5154337882995605\t300\t582.0340202952422\t313200\t607643.5171882329\t1044\t1044\t1044.0\t0\t0.0\t1616392333.3053055\t1616392333.9251587\t0.6198532581329346\t295\t475.9190923486828\t307980\t496859.53241202486\t1044\t1044\t1044.0\t0\t0.0\r",
      "\r",
      "\r\n",
      "1616392334.045859\t1616392334.559919\t0.5140600204467773\t300\t583.5894410525555\t313200\t609267.3764588678\t1044\t1044\t1044.0\t0\t0.0\t1616392333.938544\t1616392334.5573804\t0.6188364028930664\t295\t476.7011097292791\t307980\t497675.9585573673\t1044\t1044\t1044.0\t0\t0.0\r",
      "\r",
      "\r\n"
     ]
    }
   ],
   "source": [
    "output_count = 30\n",
    "num_samples = 300\n",
    "payload_size = 1024\n",
    "async_flag = True # 非同期実行の場合はTrue\n",
    "service_name = 'service-perftool-mqtt'\n",
    "\n",
    "result_file = 'perf_result.tsv' # このNotebookと同じフォルダにこの名前の結果ファイルが作成されます。\n",
    "\n",
    "async_option = ('-a' if async_flag else '')\n",
    "!{docker} exec -t -u {container_user} -w {container_work_dir} {container_name} python3 perftool.py -s {service_name} {async_option} -n {num_samples} -c {output_count} -f tsv | tee {result_file}\n"
   ]
  },
  {
   "cell_type": "markdown",
   "metadata": {
    "lc_cell_meme": {
     "current": "e42198f6-8ccf-11e9-88da-0242ac110002-2-e0c0-2475",
     "history": [
      {
       "current": "e42198f6-8ccf-11e9-88da-0242ac110002",
       "next": "9c9b5ed6-8ccf-11e9-88da-0242ac110002",
       "previous": "4c72da28-4630-11e9-b072-0242ac110002"
      },
      {
       "current": "e42198f6-8ccf-11e9-88da-0242ac110002-1-e0c0",
       "next": "9c9b5ed6-8ccf-11e9-88da-0242ac110002",
       "previous": "7330f6e0-8cd0-11e9-88da-0242ac110002"
      },
      {
       "current": "e42198f6-8ccf-11e9-88da-0242ac110002-2-e0c0-2475",
       "next": "9c9b5ed6-8ccf-11e9-88da-0242ac110002-1-e3ed",
       "previous": "7330f6e0-8cd0-11e9-88da-0242ac110002-1-dcb7"
      },
      {
       "current": "e42198f6-8ccf-11e9-88da-0242ac110002-2-e0c0-2475",
       "next": "9c9b5ed6-8ccf-11e9-88da-0242ac110002-2-e3ed-5594",
       "previous": "7330f6e0-8cd0-11e9-88da-0242ac110002-2-dcb7-6d27"
      },
      {
       "current": "e42198f6-8ccf-11e9-88da-0242ac110002-2-e0c0-2475",
       "next": "9c9b5ed6-8ccf-11e9-88da-0242ac110002-2-e3ed-5594",
       "previous": "4c72da28-4630-11e9-b072-0242ac110002-2-e002-c112"
      }
     ],
     "next": "88501184-8970-11eb-a09b-0242ac110002",
     "previous": "4c72da28-4630-11e9-b072-0242ac110002-2-e002-c112"
    }
   },
   "source": [
    "## perftoolの実行結果のグラフ表示"
   ]
  },
  {
   "cell_type": "markdown",
   "metadata": {
    "lc_cell_meme": {
     "current": "88501184-8970-11eb-a09b-0242ac110002",
     "execution_end_time": "2021-03-20T11:35:53.627890Z",
     "next": "9c9b5ed6-8ccf-11e9-88da-0242ac110002-2-e3ed-5594",
     "previous": "e42198f6-8ccf-11e9-88da-0242ac110002-2-e0c0-2475"
    },
    "lc_wrapper": {
     "log_history": [
      "/notebooks/notebook/work/sinetstream/.log/20210320/20210320-203553-0618.log"
     ]
    }
   },
   "source": [
    "perftool.pyの実行結果ファイルの内容をグラフで表示します。"
   ]
  },
  {
   "cell_type": "code",
   "execution_count": 17,
   "metadata": {
    "deletable": false,
    "editable": false,
    "lc_cell_meme": {
     "current": "9c9b5ed6-8ccf-11e9-88da-0242ac110002-2-e3ed-5594",
     "execution_end_time": "2021-03-25T05:09:03.638824Z",
     "history": [
      {
       "current": "9c9b5ed6-8ccf-11e9-88da-0242ac110002",
       "next": "a421b3ce-4636-11e9-b072-0242ac110002",
       "previous": "4c72da28-4630-11e9-b072-0242ac110002"
      },
      {
       "current": "9c9b5ed6-8ccf-11e9-88da-0242ac110002-1-e3ed",
       "next": "a421b3ce-4636-11e9-b072-0242ac110002",
       "previous": "e42198f6-8ccf-11e9-88da-0242ac110002"
      },
      {
       "current": "9c9b5ed6-8ccf-11e9-88da-0242ac110002-2-e3ed-5594",
       "next": "a421b3ce-4636-11e9-b072-0242ac110002-1-800c",
       "previous": "e42198f6-8ccf-11e9-88da-0242ac110002-1-e0c0"
      },
      {
       "current": "9c9b5ed6-8ccf-11e9-88da-0242ac110002-2-e3ed-5594",
       "next": "a421b3ce-4636-11e9-b072-0242ac110002-2-800c-6061",
       "previous": "e42198f6-8ccf-11e9-88da-0242ac110002-2-e0c0-2475"
      },
      {
       "current": "9c9b5ed6-8ccf-11e9-88da-0242ac110002-2-e3ed-5594",
       "next": null,
       "previous": "e42198f6-8ccf-11e9-88da-0242ac110002-2-e0c0-2475"
      },
      {
       "current": "9c9b5ed6-8ccf-11e9-88da-0242ac110002-2-e3ed-5594",
       "next": null,
       "previous": "88501184-8970-11eb-a09b-0242ac110002"
      }
     ],
     "next": "c966b66e-8aba-11eb-a09b-0242ac110002",
     "previous": "88501184-8970-11eb-a09b-0242ac110002"
    },
    "lc_wrapper": {
     "log_history": [
      "/notebooks/notebook/work/sinetstream/.log/20210318/20210318-145827-0606.log",
      "/notebooks/notebook/work/sinetstream/.log/20210320/20210320-142424-0262.log",
      "/notebooks/notebook/work/sinetstream/.log/20210320/20210320-142503-0905.log",
      "/notebooks/notebook/work/sinetstream/.log/20210320/20210320-143229-0702.log",
      "/notebooks/notebook/work/sinetstream/.log/20210320/20210320-143352-0007.log",
      "/notebooks/notebook/work/sinetstream/.log/20210320/20210320-143454-0041.log",
      "/notebooks/notebook/work/sinetstream/.log/20210320/20210320-145448-0595.log",
      "/notebooks/notebook/work/sinetstream/.log/20210320/20210320-145544-0403.log",
      "/notebooks/notebook/work/sinetstream/.log/20210320/20210320-145601-0687.log",
      "/notebooks/notebook/work/sinetstream/.log/20210320/20210320-145657-0521.log",
      "/notebooks/notebook/work/sinetstream/.log/20210320/20210320-145753-0049.log",
      "/notebooks/notebook/work/sinetstream/.log/20210320/20210320-172124-0573.log",
      "/notebooks/notebook/work/sinetstream/.log/20210320/20210320-172139-0210.log",
      "/notebooks/notebook/work/sinetstream/.log/20210320/20210320-172239-0892.log",
      "/notebooks/notebook/work/sinetstream/.log/20210320/20210320-173021-0534.log",
      "/notebooks/notebook/work/sinetstream/.log/20210320/20210320-173203-0468.log",
      "/notebooks/notebook/work/sinetstream/.log/20210320/20210320-173537-0768.log",
      "/notebooks/notebook/work/sinetstream/.log/20210320/20210320-173712-0536.log",
      "/notebooks/notebook/work/sinetstream/.log/20210320/20210320-174101-0424.log",
      "/notebooks/notebook/work/sinetstream/.log/20210321/20210321-010806-0387.log",
      "/notebooks/notebook/work/sinetstream/.log/20210322/20210322-003507-0994.log",
      "/notebooks/notebook/work/sinetstream/.log/20210322/20210322-003615-0178.log",
      "/notebooks/notebook/work/sinetstream/.log/20210322/20210322-115857-0904.log",
      "/notebooks/notebook/work/sinetstream/.log/20210322/20210322-120000-0238.log",
      "/notebooks/notebook/work/sinetstream/.log/20210322/20210322-145339-0138.log",
      "/notebooks/notebook/work/sinetstream/.log/20210324/20210324-235517-0678.log",
      "/notebooks/notebook/work/sinetstream/.log/20210324/20210324-235637-0439.log",
      "/notebooks/notebook/work/sinetstream/.log/20210324/20210324-235720-0825.log",
      "/notebooks/notebook/work/sinetstream/.log/20210325/20210325-132637-0132.log",
      "/notebooks/notebook/work/sinetstream/.log/20210325/20210325-132651-0218.log",
      "/notebooks/notebook/work/sinetstream/.log/20210325/20210325-132709-0417.log",
      "/notebooks/notebook/work/sinetstream/.log/20210325/20210325-133133-0835.log",
      "/notebooks/notebook/work/sinetstream/.log/20210325/20210325-133210-0812.log",
      "/notebooks/notebook/work/sinetstream/.log/20210325/20210325-133236-0037.log",
      "/notebooks/notebook/work/sinetstream/.log/20210325/20210325-133258-0555.log",
      "/notebooks/notebook/work/sinetstream/.log/20210325/20210325-133313-0738.log",
      "/notebooks/notebook/work/sinetstream/.log/20210325/20210325-133416-0545.log",
      "/notebooks/notebook/work/sinetstream/.log/20210325/20210325-140901-0754.log"
     ]
    },
    "run_through_control": {
     "frozen": true,
     "read_only": false
    },
    "scrolled": false
   },
   "outputs": [
    {
     "data": {
      "image/png": "[encoded data removed]",
      "text/plain": [
       "<Figure size 864x1728 with 6 Axes>"
      ]
     },
     "metadata": {
      "needs_background": "light"
     },
     "output_type": "display_data"
    }
   ],
   "source": [
    "#グラフとして表示する項目のコメントアウトを外してください。(複数可能)\n",
    "output_columns = [\n",
    "#        'writer_start_time',\n",
    "#        'writer_start_time_ms'\n",
    "#        'writer_end_time',\n",
    "#        'writer_end_time_ms', \n",
    "#        'writer_time',\n",
    "#        'writer_time_ms',\n",
    "#        'writer_msg_count_total',\n",
    "        'writer_msg_count_rate',\n",
    "#        'writer_msg_bytes_total',\n",
    "        'writer_msg_bytes_rate',\n",
    "#        'writer_msg_size_min',\n",
    "#        'writer_msg_size_max',\n",
    "#        'writer_msg_size_avg',\n",
    "#        'writer_error_count_total',\n",
    "        'writer_error_count_rate',\n",
    "#        'reader_start_time',\n",
    "#        'reader_end_time',\n",
    "#        'reader_time',\n",
    "#        'reader_msg_count_total',\n",
    "        'reader_msg_count_rate',\n",
    "#        'reader_msg_bytes_total',\n",
    "        'reader_msg_bytes_rate',\n",
    "#        'reader_msg_size_min',\n",
    "#        'reader_msg_size_max',\n",
    "#        'reader_msg_size_avg',\n",
    "#        'reader_error_count_total',\n",
    "        'reader_error_count_rate',\n",
    "]\n",
    "\n",
    "import pandas\n",
    "import matplotlib.pyplot as pyplot\n",
    "\n",
    "fig_height = 4 * len(output_columns)\n",
    "df = pandas.read_table(result_file)\n",
    "df.loc[:,output_columns].plot.line(subplots=True, figsize=(12,fig_height), ylim=[0, None])\n",
    "pyplot.show()\n"
   ]
  },
  {
   "cell_type": "code",
   "execution_count": null,
   "metadata": {
    "lc_cell_meme": {
     "current": "c966b66e-8aba-11eb-a09b-0242ac110002",
     "next": null,
     "previous": "9c9b5ed6-8ccf-11e9-88da-0242ac110002-2-e3ed-5594"
    }
   },
   "outputs": [],
   "source": []
  }
 ],
 "metadata": {
  "kernelspec": {
   "display_name": "Python 3",
   "language": "python",
   "name": "python3"
  },
  "language_info": {
   "file_extension": ".py",
   "mimetype": "text/x-python",
   "name": "python",
   "nbconvert_exporter": "python",
   "pygments_lexer": "ipython3",
   "version": "3.7.6"
  },
  "lc_notebook_meme": {
   "current": "e190f7d2-4574-11e9-b072-0242ac110002",
   "lc_server_signature": {
    "current": {
     "notebook_dir": "/notebooks/notebook",
     "notebook_path": "/work/sinetstream",
     "server_url": "http://vcc1045.vcp-handson.org/jupyter/",
     "signature_id": "7776a0a6-176c-11eb-a09b-0242ac110002"
    },
    "history": [
     {
      "notebook_dir": "/notebooks/notebook",
      "notebook_path": "/vcpsdk/動作確認",
      "server_url": "http://13.114.71.115/jupyter/",
      "signature_id": "b7cae6dc-3a3a-11e9-b072-0242ac110002"
     },
     {
      "notebook_dir": "/notebooks/notebook",
      "notebook_path": "/",
      "server_url": "http://13.114.71.115/jupyter/",
      "signature_id": "b7cae6dc-3a3a-11e9-b072-0242ac110002"
     },
     {
      "notebook_dir": "/notebooks/notebook",
      "notebook_path": "/BACKUP",
      "server_url": "http://13.114.71.115/jupyter/",
      "signature_id": "215bf5ce-5f4c-11e9-88da-0242ac110002"
     },
     {
      "notebook_dir": "/notebooks/notebook",
      "notebook_path": "/",
      "server_url": "http://13.114.71.115/jupyter/",
      "signature_id": "215bf5ce-5f4c-11e9-88da-0242ac110002"
     },
     {
      "notebook_dir": "/notebooks/notebook",
      "notebook_path": "/",
      "server_url": "http://localhost:5965/jupyter/",
      "signature_id": "215bf5ce-5f4c-11e9-88da-0242ac110002"
     },
     {
      "notebook_dir": "/notebooks/notebook",
      "notebook_path": "/wada_work",
      "server_url": "http://localhost:5965/jupyter/",
      "signature_id": "320d6062-22ea-11ea-9618-0242ac110002"
     },
     {
      "notebook_dir": "/notebooks/notebook",
      "notebook_path": "/work",
      "server_url": "http://localhost:5965/jupyter/",
      "signature_id": "f5fb6aea-7e3f-11ea-898d-0242ac110002"
     },
     {
      "notebook_dir": "/notebooks/notebook",
      "notebook_path": "/work",
      "server_url": "http://vcc1045.vcp-handson.org/jupyter/",
      "signature_id": "7776a0a6-176c-11eb-a09b-0242ac110002"
     }
    ]
   }
  },
  "toc": {
   "base_numbering": 1,
   "nav_menu": {},
   "number_sections": true,
   "sideBar": true,
   "skip_h1_title": false,
   "title_cell": "Table of Contents",
   "title_sidebar": "Contents",
   "toc_cell": false,
   "toc_position": {
    "height": "826px",
    "left": "0px",
    "right": "1202px",
    "top": "111px",
    "width": "213px"
   },
   "toc_section_display": "block",
   "toc_window_display": true
  }
 },
 "nbformat": 4,
 "nbformat_minor": 2
}
