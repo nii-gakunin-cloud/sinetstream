{
 "cells": [
  {
   "cell_type": "markdown",
   "metadata": {
    "lc_cell_meme": {
     "current": "e190f930-4574-11e9-b072-0242ac110002-2-97ab-6e92",
     "history": [
      {
       "current": "e190f930-4574-11e9-b072-0242ac110002",
       "next": "e190f994-4574-11e9-b072-0242ac110002",
       "previous": null
      },
      {
       "current": "e190f930-4574-11e9-b072-0242ac110002",
       "next": "57c2ff04-462e-11e9-b072-0242ac110002",
       "previous": null
      },
      {
       "current": "e190f930-4574-11e9-b072-0242ac110002",
       "next": "e6d37b42-462e-11e9-b072-0242ac110002",
       "previous": null
      },
      {
       "current": "e190f930-4574-11e9-b072-0242ac110002",
       "next": "bdc94ac4-4633-11e9-b072-0242ac110002",
       "previous": null
      },
      {
       "current": "e190f930-4574-11e9-b072-0242ac110002",
       "next": "64ffcf54-8cb4-11e9-88da-0242ac110002",
       "previous": null
      },
      {
       "current": "e190f930-4574-11e9-b072-0242ac110002-1-97ab",
       "next": "4cb01526-2502-11ea-9618-0242ac110002",
       "previous": null
      },
      {
       "current": "e190f930-4574-11e9-b072-0242ac110002-2-97ab-6e92",
       "next": "4cb01526-2502-11ea-9618-0242ac110002-1-df1a",
       "previous": null
      },
      {
       "current": "e190f930-4574-11e9-b072-0242ac110002-2-97ab-6e92",
       "next": "dbc0898a-2502-11ea-9618-0242ac110002-2-aa6f-28bf",
       "previous": null
      },
      {
       "current": "e190f930-4574-11e9-b072-0242ac110002-2-97ab-6e92",
       "next": "4161c992-2504-11ea-9618-0242ac110002-2-c95d-9d55",
       "previous": null
      },
      {
       "current": "e190f930-4574-11e9-b072-0242ac110002-2-97ab-6e92",
       "next": "cc24ec8a-898a-11eb-a09b-0242ac110002",
       "previous": null
      },
      {
       "current": "e190f930-4574-11e9-b072-0242ac110002-2-97ab-6e92",
       "next": "53b60d10-8999-11eb-a09b-0242ac110002",
       "previous": null
      }
     ],
     "next": "53b60d10-8999-11eb-a09b-0242ac110002-1-d083",
     "previous": null
    }
   },
   "source": [
    "※ このNotebookでは、perftoolを使って統計情報のグラフを表示します。\n"
   ]
  },
  {
   "cell_type": "markdown",
   "metadata": {
    "lc_cell_meme": {
     "current": "53b60d10-8999-11eb-a09b-0242ac110002-1-d083",
     "execution_end_time": "2021-03-20T16:39:58.900654Z",
     "history": [
      {
       "current": "53b60d10-8999-11eb-a09b-0242ac110002-1-d083",
       "next": "cc24ec8a-898a-11eb-a09b-0242ac110002",
       "previous": "e190f930-4574-11e9-b072-0242ac110002-2-97ab-6e92"
      }
     ],
     "next": "dc739efe-8e3c-11eb-a09b-0242ac110002",
     "previous": "e190f930-4574-11e9-b072-0242ac110002-2-97ab-6e92"
    },
    "lc_wrapper": {
     "log_history": [
      "/notebooks/notebook/work/sinetstream/.log/20210321/20210321-013958-0891.log"
     ]
    }
   },
   "source": [
    "perftoolの実行を行うノードは次の条件を満たす環境であることを想定しています。\n",
    "\n",
    "1. 対象となるノードを ssh で操作できる\n",
    "1. 次のソフトウェアがインストールされている\n",
    "  - python3.6\n",
    "  - SINETStreamのPython3ライブラリ 1.5.0"
   ]
  },
  {
   "cell_type": "markdown",
   "metadata": {
    "lc_cell_meme": {
     "current": "dc739efe-8e3c-11eb-a09b-0242ac110002",
     "execution_end_time": "2021-03-26T14:08:46.430127Z",
     "next": "cc24ec8a-898a-11eb-a09b-0242ac110002",
     "previous": "53b60d10-8999-11eb-a09b-0242ac110002-1-d083"
    },
    "lc_wrapper": {
     "log_history": [
      "/notebooks/notebook/work/sinetstream/.log/20210326/20210326-230846-0395.log"
     ]
    }
   },
   "source": [
    "# perftool.py の仕様\n",
    "\n",
    "- 概要\n",
    "- 前提条件\n",
    "- 書式\n",
    "- オプション\n",
    "- 出力\n",
    "- 実行例\n",
    "\n",
    "## 概要\n",
    "\n",
    "本ツールは、[SINETStream Writer/Reader API](https://www.sinetstream.net/docs/userguide/api-python.html)によるデータの送信/受信を実行し、その際に取得されたメトリクス情報を出力する。\n",
    "メトリクス情報は、[SINETStream API Metricsクラス](https://www.sinetstream.net/docs/userguide/api-python.html)のプロパティのうちraw(メッセージングシステム固有の統計情報)を除くものを標準出力に出力する。\n",
    "メトリクス情報の計測期間は、Writerがオプション等で指定されたサンプリング数のデータ送信を開始/終了する期間とし、Readerも同期間とする。\n",
    "そのため、データ通信に問題がない場合もReaderの受信数はWriterの送信数より少なくなることがある。\n",
    "送信データのペイロード型はバイト列を使用する。\n",
    "\n",
    "\n",
    "## 前提条件\n",
    "\n",
    "- Python3.6\n",
    "- SINETStream v1.5.0(Python)\n",
    "- [SINETStream API 設定ファイル](https://github.com/nii-gakunin-cloud/sinetstream/blob/main/docs/userguide/config.md) (データ送受信先の接続情報等が記述されているもの)\n",
    "\n",
    "### 設定ファイル記述例\n",
    "```\n",
    "service-perftool-kafka:\n",
    "    type: kafka\n",
    "    brokers: \"broker:9092\"\n",
    "    topic: topic-perftool-kafka\n",
    "\n",
    "service-perftool-mqtt:\n",
    "    type: mqtt\n",
    "    brokers: \"broker:1883\"\n",
    "    topic: topic-perftool-mqtt\n",
    "\n",
    "```\n",
    "\n",
    "## 書式\n",
    "\n",
    "perftool.py -s|--service *SERVICE_NAME* [-f|--format *FORMAT*] [-c|--output-count *OUTPUT_COUNT*] [-n|--num-samples *NUM_SAMPLES*] [-p|--payload-size *PAYLOAD_SIZE*] [-a|--async-api]\n",
    "\n",
    "## オプション\n",
    "\n",
    "- `-s`, `--service` *SERVICE_NAME*\n",
    "    * SINETStream API で使用するサービス名\n",
    "- `-f`, `--format` *FORMAT*\n",
    "    * 出力形式。jsonかtsvが指定可能。デフォルト:json\n",
    "- `-c`, `--output-count` *OUTPUT_COUNT*\n",
    "    * *OUTPUT_COUNT*回メトリクス情報を計測し出力する。デフォルト:1\n",
    "- `-n`, `--num-samples` *NUM_SAMPLES*\n",
    "    * 一回のメトリクス情報を出力するまでに*NUM_SAMPLES*個のデータ送信を試行する。デフォルト:300\n",
    "- `-p`, `--payload-size` *PAYLOAD_SIZE*\n",
    "    * データ送信試行時に*PAYLOAD_SIZE*バイトのペイロード長のデータを使用する。デフォルト:1024\n",
    "- `-a`, `--async-api`\n",
    "    * 指定した場合はデータの送信/受信に非同期APIを使用する。指定しなかった場合は同期APIを使用する\n",
    "\n",
    "## 出力\n",
    "### JSON形式\n",
    "`-c`, `--output-count`オプションで指定した回数この形式で出力する\n",
    "ここでは人間が見やすいよう整形してコメントも追記しているが、実際は改行無しで\n",
    "詰めた形式で出力される。\n",
    "実際の出力は実行例を参照。\n",
    "\n",
    "```\n",
    "{\n",
    "    # writerのメトリクス情報\n",
    "     \"writer\": {\n",
    "         \"start_time\": 1616591251.9623938,\n",
    "         \"start_time_ms\": 1616591251962.3938,\n",
    "         \"end_time\": 1616591255.0322828,\n",
    "         \"end_time_ms\": 1616591255032.2827,\n",
    "         \"time\": 3.0698890686035156,\n",
    "         \"time_ms\": 3069.8890686035156,\n",
    "         \"msg_count_total\": 1000,\n",
    "         \"msg_count_rate\": 325.7446694824375,\n",
    "         \"msg_bytes_total\": 1044000,\n",
    "         \"msg_bytes_rate\": 340077.43493966473,\n",
    "         \"msg_size_min\": 1044,\n",
    "         \"msg_size_max\": 1044,\n",
    "         \"msg_size_avg\": 1044.0,\n",
    "         \"error_count_total\": 0,\n",
    "         \"error_count_rate\": 0.0\n",
    "     },\n",
    "    # readerのメトリクス情報\n",
    "     \"reader\": {\n",
    "         \"start_time\": 1616591251.962402,\n",
    "         \"start_time_ms\": 1616591251962.402,\n",
    "         \"end_time\": 1616591255.0317662,\n",
    "         \"end_time_ms\": 1616591255031.766,\n",
    "         \"time\": 3.069364070892334,\n",
    "         \"time_ms\": 3069.364070892334,\n",
    "         \"msg_count_total\": 1000,\n",
    "         \"msg_count_rate\": 325.8003863025859,\n",
    "         \"msg_bytes_total\": 1044000,\n",
    "         \"msg_bytes_rate\": 340135.60329989967,\n",
    "         \"msg_size_min\": 1044,\n",
    "         \"msg_size_max\": 1044,\n",
    "         \"msg_size_avg\": 1044.0,\n",
    "         \"error_count_total\": 0,\n",
    "         \"error_count_rate\": 0.0}\n",
    "     }\n",
    "}\n",
    "```\n",
    "\n",
    "### TSV形式\n",
    "writerとreaderのメトリクス情報を一行で出力する。writerのメトリクス情報ののヘッダはプレフィクスとして\"`writer_`\"を付与している。readerのプレフィクスは\"`reader_`\"としている。\n",
    "出力は、1行目がヘッダ、以降は `-c`, `--output-count`オプションで指定した回数分のデータ行となる。\n",
    "ここではヘッダの一覧を示す。\n",
    "実際の出力は実行例を参照。\n",
    "\n",
    "```\n",
    "    writer_start_time\n",
    "    writer_start_time_ms\n",
    "    writer_end_time\n",
    "    writer_end_time_ms\n",
    "    writer_time\n",
    "    writer_time_ms\n",
    "    writer_msg_count_total\n",
    "    writer_msg_count_rate\n",
    "    writer_msg_bytes_total\n",
    "    writer_msg_bytes_rate\n",
    "    writer_msg_size_min\n",
    "    writer_msg_size_max\n",
    "    writer_msg_size_avg\n",
    "    writer_error_count_total\n",
    "    writer_error_count_rate\n",
    "    reader_start_time\n",
    "    reader_start_time_ms\n",
    "    reader_end_time\n",
    "    reader_end_time_ms\n",
    "    reader_time\n",
    "    reader_time_ms\n",
    "    reader_msg_count_total\n",
    "    reader_msg_count_rate\n",
    "    reader_msg_bytes_total\n",
    "    reader_msg_bytes_rate\n",
    "    reader_msg_size_min\n",
    "    reader_msg_size_max\n",
    "    reader_msg_size_avg\n",
    "    reader_error_count_total\n",
    "    reader_error_count_rate\n",
    "```\n",
    "\n",
    "## 実行例\n",
    "\n",
    "```\n",
    "$ python3 perftool.py -s service-perftool-kafka\n",
    "{\"writer\": {\"start_time\": 1616677087.4501278, \"start_time_ms\": 1616677087450.128, \"end_time\": 1616677088.464487, \"end_time_ms\": 1616677088464.487, \"time\": 1.0143592357635498, \"time_ms\": 1014.3592357635498, \"msg_count_total\": 300, \"msg_count_rate\": 295.7532099307773, \"msg_bytes_total\": 313200, \"msg_bytes_rate\": 308766.3511677315, \"msg_size_min\": 1044, \"msg_size_max\": 1044, \"msg_size_avg\": 1044.0, \"error_count_total\": 0, \"error_count_rate\": 0.0}, \"reader\": {\"start_time\": 1616677087.4501393, \"start_time_ms\": 1616677087450.1394, \"end_time\": 1616677088.463871, \"end_time_ms\": 1616677088463.871, \"time\": 1.0137317180633545, \"time_ms\": 1013.7317180633545, \"msg_count_total\": 234, \"msg_count_rate\": 230.83030335386613, \"msg_bytes_total\": 244296, \"msg_bytes_rate\": 240986.83670143623, \"msg_size_min\": 1044, \"msg_size_max\": 1044, \"msg_size_avg\": 1044.0, \"error_count_total\": 0, \"error_count_rate\": 0.0}}\n",
    "```\n",
    "\n",
    "```\n",
    "$ python3 perftool.py -s service-perftool-kafka  -f tsv -c 3 -n 1000 -p 1024 -a\n",
    "writer_start_time       writer_start_time_ms    writer_end_time writer_end_time_ms      writer_time     writer_time_ms  writer_msg_count_total  writer_msg_count_rate   writer_msg_bytes_total  writer_msg_bytes_rate   writer_msg_size_min     writer_msg_size_max     writer_msg_size_avg     writer_error_count_total        writer_error_count_rate reader_start_time       reader_start_time_ms    reader_end_time reader_end_time_ms      reader_time     reader_time_ms  reader_msg_count_total  reader_msg_count_rate   reader_msg_bytes_total  reader_msg_bytes_rate   reader_msg_size_min     reader_msg_size_max     reader_msg_size_avg     reader_error_count_total        reader_error_count_rate\n",
    "1616591229.4149387      1616591229414.9387      1616591230.9502277      1616591230950.2278      1.5352890491485596      1535.2890491485596      1000    651.3431464612999       1044000 680002.2449055971       1044    1044    1044.0  0       0.0     1616591229.296469       1616591229296.469       1616591230.940047       1616591230940.047       1.643578052520752       1643.578052520752       976     593.8263768508657       1018944 619954.7374323038       1044    1044    1044.0  0       0.0\n",
    "1616591231.1887398      1616591231188.7397      1616591232.7698293      1616591232769.8293      1.5810894966125488      1581.0894966125488      1000    632.4752660380574       1044000 660304.1777437319       1044    1044    1044.0  0       0.0     1616591231.0742073      1616591231074.2073      1616591232.7586951      1616591232758.695       1.6844878196716309      1684.4878196716309      967     574.0617347939649       1009548 599320.4511248994       1044    1044    1044.0  0       0.0\n",
    "1616591233.01446        1616591233014.4602      1616591234.5790718      1616591234579.0718      1.5646116733551025      1564.6116733551025      1000    639.1362259592711       1044000 667258.219901479        1044    1044    1044.0  0       0.0     1616591232.9014885      1616591232901.4885      1616591234.5769625      1616591234576.9624      1.675473928451538       1675.473928451538       994     593.2649760289903       1037736 619368.6349742659       1044    1044    1044.0  0       0.0\n",
    "```"
   ]
  },
  {
   "cell_type": "markdown",
   "metadata": {
    "lc_cell_meme": {
     "current": "cc24ec8a-898a-11eb-a09b-0242ac110002",
     "history": [
      {
       "current": "cc24ec8a-898a-11eb-a09b-0242ac110002",
       "next": "cc24ee74-898a-11eb-a09b-0242ac110002",
       "previous": "e190f930-4574-11e9-b072-0242ac110002-2-97ab-6e92"
      },
      {
       "current": "cc24ec8a-898a-11eb-a09b-0242ac110002",
       "next": "cc24ee74-898a-11eb-a09b-0242ac110002",
       "previous": "53b60d10-8999-11eb-a09b-0242ac110002"
      },
      {
       "current": "cc24ec8a-898a-11eb-a09b-0242ac110002",
       "next": "cc24ee74-898a-11eb-a09b-0242ac110002",
       "previous": "53b60d10-8999-11eb-a09b-0242ac110002-1-d083"
      }
     ],
     "next": "cc24ee74-898a-11eb-a09b-0242ac110002",
     "previous": "dc739efe-8e3c-11eb-a09b-0242ac110002"
    }
   },
   "source": [
    "# 環境設定"
   ]
  },
  {
   "cell_type": "code",
   "execution_count": 8,
   "metadata": {
    "lc_cell_meme": {
     "current": "cc24ee74-898a-11eb-a09b-0242ac110002",
     "execution_end_time": "2021-03-26T08:02:48.169027Z",
     "next": "4161c992-2504-11ea-9618-0242ac110002-2-c95d-9d55",
     "previous": "cc24ec8a-898a-11eb-a09b-0242ac110002"
    },
    "lc_wrapper": {
     "log_history": [
      "/notebooks/notebook/work/sinetstream/.log/20210321/20210321-000522-0700.log",
      "/notebooks/notebook/work/sinetstream/.log/20210321/20210321-002850-0034.log",
      "/notebooks/notebook/work/sinetstream/.log/20210321/20210321-010009-0644.log",
      "/notebooks/notebook/work/sinetstream/.log/20210322/20210322-003242-0686.log",
      "/notebooks/notebook/work/sinetstream/.log/20210322/20210322-145136-0141.log",
      "/notebooks/notebook/work/sinetstream/.log/20210326/20210326-164814-0794.log",
      "/notebooks/notebook/work/sinetstream/.log/20210326/20210326-164837-0509.log",
      "/notebooks/notebook/work/sinetstream/.log/20210326/20210326-165738-0733.log",
      "/notebooks/notebook/work/sinetstream/.log/20210326/20210326-170102-0638.log",
      "/notebooks/notebook/work/sinetstream/.log/20210326/20210326-170248-0162.log"
     ]
    }
   },
   "outputs": [],
   "source": [
    "import os\n",
    "\n",
    "# 実行環境にあわせて書きかえてください\n",
    "# perftool実行ノード設定\n",
    "host_ip = \"172.30.2.7\"\n",
    "host_user = \"root\"\n",
    "ssh_private_key = os.path.expanduser('~/.ssh/id_rsa')\n",
    "\n",
    "work_dir = f\"perftool/\" # perftool.pyが置かれるディレクトリ\n",
    "ssh_opts = f\"-i {ssh_private_key} -l {host_user}\"\n",
    "ssh = f\"ssh {ssh_opts} {host_ip}\""
   ]
  },
  {
   "cell_type": "markdown",
   "metadata": {
    "lc_cell_meme": {
     "current": "4161c992-2504-11ea-9618-0242ac110002-2-c95d-9d55",
     "execution_end_time": "2019-12-22T21:43:14.706676Z",
     "history": [
      {
       "current": "4161c992-2504-11ea-9618-0242ac110002-1-c95d",
       "next": "ac86c904-8cb4-11e9-88da-0242ac110002",
       "previous": "236c8a68-2503-11ea-9618-0242ac110002"
      },
      {
       "current": "4161c992-2504-11ea-9618-0242ac110002-2-c95d-9d55",
       "next": "ac86c904-8cb4-11e9-88da-0242ac110002-1-bd59",
       "previous": "236c8a68-2503-11ea-9618-0242ac110002-1-a4ac"
      },
      {
       "current": "4161c992-2504-11ea-9618-0242ac110002-2-c95d-9d55",
       "next": "ac86c904-8cb4-11e9-88da-0242ac110002-2-bd59-a4e9",
       "previous": "dbc08b10-2502-11ea-9618-0242ac110002-2-2306-16c7"
      },
      {
       "current": "4161c992-2504-11ea-9618-0242ac110002-2-c95d-9d55",
       "next": "bdc94ac4-4633-11e9-b072-0242ac110002-2-3c2b-562b",
       "previous": "dbc08b10-2502-11ea-9618-0242ac110002-2-2306-16c7"
      },
      {
       "current": "4161c992-2504-11ea-9618-0242ac110002-2-c95d-9d55",
       "next": "bdc94ac4-4633-11e9-b072-0242ac110002-2-3c2b-562b",
       "previous": "e190f930-4574-11e9-b072-0242ac110002-2-97ab-6e92"
      }
     ],
     "next": "bdc94ac4-4633-11e9-b072-0242ac110002-2-3c2b-562b",
     "previous": "cc24ee74-898a-11eb-a09b-0242ac110002"
    },
    "lc_wrapper": {
     "log_history": [
      "/notebooks/notebook/wada_work/.log/20191223/20191223-064306-0539.log",
      "/notebooks/notebook/wada_work/.log/20191223/20191223-064314-0702.log"
     ]
    }
   },
   "source": [
    "# perftoolの実行環境への配置"
   ]
  },
  {
   "cell_type": "markdown",
   "metadata": {
    "lc_cell_meme": {
     "current": "bdc94ac4-4633-11e9-b072-0242ac110002-2-3c2b-562b",
     "history": [
      {
       "current": "bdc94ac4-4633-11e9-b072-0242ac110002",
       "next": "57c2ff04-462e-11e9-b072-0242ac110002",
       "previous": "e6d37b42-462e-11e9-b072-0242ac110002"
      },
      {
       "current": "bdc94ac4-4633-11e9-b072-0242ac110002-1-3c2b",
       "next": "57c2ff04-462e-11e9-b072-0242ac110002",
       "previous": "ac86c904-8cb4-11e9-88da-0242ac110002"
      },
      {
       "current": "bdc94ac4-4633-11e9-b072-0242ac110002-2-3c2b-562b",
       "next": "57c2ff04-462e-11e9-b072-0242ac110002-1-d190",
       "previous": "ac86c904-8cb4-11e9-88da-0242ac110002-1-bd59"
      },
      {
       "current": "bdc94ac4-4633-11e9-b072-0242ac110002-2-3c2b-562b",
       "next": "57c2ff04-462e-11e9-b072-0242ac110002-2-d190-404b",
       "previous": "ac86c904-8cb4-11e9-88da-0242ac110002-2-bd59-a4e9"
      }
     ],
     "next": "57c2ff04-462e-11e9-b072-0242ac110002-2-d190-404b",
     "previous": "4161c992-2504-11ea-9618-0242ac110002-2-c95d-9d55"
    }
   },
   "source": [
    "このNotebookがあるフォルダにあるperftoolフォルダを実行環境に転送します。\n",
    "\n",
    "perftoolフォルダには次のファイルが置いてあることが前提です。\n",
    "- perftool/perftool.py\n",
    "- perftool/template.sinetstream_config.yml"
   ]
  },
  {
   "cell_type": "code",
   "execution_count": 23,
   "metadata": {
    "lc_cell_meme": {
     "current": "57c2ff04-462e-11e9-b072-0242ac110002-2-d190-404b",
     "execution_end_time": "2021-03-26T08:56:31.415794Z",
     "history": [
      {
       "current": "57c2ff04-462e-11e9-b072-0242ac110002",
       "next": "e190f994-4574-11e9-b072-0242ac110002",
       "previous": "e190f930-4574-11e9-b072-0242ac110002"
      },
      {
       "current": "57c2ff04-462e-11e9-b072-0242ac110002",
       "next": "e190f994-4574-11e9-b072-0242ac110002",
       "previous": "e6d37b42-462e-11e9-b072-0242ac110002"
      },
      {
       "current": "57c2ff04-462e-11e9-b072-0242ac110002",
       "next": "4c72da28-4630-11e9-b072-0242ac110002",
       "previous": "e6d37b42-462e-11e9-b072-0242ac110002"
      },
      {
       "current": "57c2ff04-462e-11e9-b072-0242ac110002",
       "next": "4c72da28-4630-11e9-b072-0242ac110002",
       "previous": "bdc94ac4-4633-11e9-b072-0242ac110002"
      },
      {
       "current": "57c2ff04-462e-11e9-b072-0242ac110002",
       "next": "bdc94ac4-4633-11e9-b072-0242ac110002",
       "previous": "bdc94ac4-4633-11e9-b072-0242ac110002"
      },
      {
       "current": "57c2ff04-462e-11e9-b072-0242ac110002",
       "next": "ac86ca12-8cb4-11e9-88da-0242ac110002",
       "previous": "bdc94ac4-4633-11e9-b072-0242ac110002"
      },
      {
       "current": "57c2ff04-462e-11e9-b072-0242ac110002-1-d190",
       "next": "bdc94ac4-4633-11e9-b072-0242ac110002",
       "previous": "bdc94ac4-4633-11e9-b072-0242ac110002"
      },
      {
       "current": "57c2ff04-462e-11e9-b072-0242ac110002-2-d190-404b",
       "next": "bdc94ac4-4633-11e9-b072-0242ac110002-1-4179",
       "previous": "bdc94ac4-4633-11e9-b072-0242ac110002-1-3c2b"
      },
      {
       "current": "57c2ff04-462e-11e9-b072-0242ac110002-2-d190-404b",
       "next": "bdc94ac4-4633-11e9-b072-0242ac110002-2-4179-c314",
       "previous": "bdc94ac4-4633-11e9-b072-0242ac110002-2-3c2b-562b"
      },
      {
       "current": "57c2ff04-462e-11e9-b072-0242ac110002-2-d190-404b",
       "next": "00e27c16-899b-11eb-a09b-0242ac110002",
       "previous": "bdc94ac4-4633-11e9-b072-0242ac110002-2-3c2b-562b"
      }
     ],
     "next": "00e27c16-899b-11eb-a09b-0242ac110002-1-dedc",
     "previous": "bdc94ac4-4633-11e9-b072-0242ac110002-2-3c2b-562b"
    },
    "lc_wrapper": {
     "log_history": [
      "/notebooks/notebook/work/.log/20200424/20200424-151838-0332.log",
      "/notebooks/notebook/work/sinetstream/.log/20210318/20210318-144244-0988.log",
      "/notebooks/notebook/work/sinetstream/.log/20210319/20210319-143206-0343.log",
      "/notebooks/notebook/work/sinetstream/.log/20210319/20210319-143242-0200.log",
      "/notebooks/notebook/work/sinetstream/.log/20210319/20210319-154933-0739.log",
      "/notebooks/notebook/work/sinetstream/.log/20210319/20210319-155140-0426.log",
      "/notebooks/notebook/work/sinetstream/.log/20210319/20210319-155302-0159.log",
      "/notebooks/notebook/work/sinetstream/.log/20210319/20210319-160053-0750.log",
      "/notebooks/notebook/work/sinetstream/.log/20210319/20210319-160142-0807.log",
      "/notebooks/notebook/work/sinetstream/.log/20210319/20210319-161648-0957.log",
      "/notebooks/notebook/work/sinetstream/.log/20210319/20210319-164155-0353.log",
      "/notebooks/notebook/work/sinetstream/.log/20210319/20210319-164212-0762.log",
      "/notebooks/notebook/work/sinetstream/.log/20210319/20210319-164400-0254.log",
      "/notebooks/notebook/work/sinetstream/.log/20210319/20210319-164503-0917.log",
      "/notebooks/notebook/work/sinetstream/.log/20210320/20210320-000404-0073.log",
      "/notebooks/notebook/work/sinetstream/.log/20210320/20210320-000905-0444.log",
      "/notebooks/notebook/work/sinetstream/.log/20210320/20210320-012045-0952.log",
      "/notebooks/notebook/work/sinetstream/.log/20210320/20210320-144344-0264.log",
      "/notebooks/notebook/work/sinetstream/.log/20210321/20210321-002941-0232.log",
      "/notebooks/notebook/work/sinetstream/.log/20210321/20210321-003927-0039.log",
      "/notebooks/notebook/work/sinetstream/.log/20210321/20210321-005230-0053.log",
      "/notebooks/notebook/work/sinetstream/.log/20210322/20210322-003253-0056.log",
      "/notebooks/notebook/work/sinetstream/.log/20210322/20210322-003348-0292.log",
      "/notebooks/notebook/work/sinetstream/.log/20210322/20210322-114923-0599.log",
      "/notebooks/notebook/work/sinetstream/.log/20210326/20210326-165742-0725.log",
      "/notebooks/notebook/work/sinetstream/.log/20210326/20210326-165919-0882.log",
      "/notebooks/notebook/work/sinetstream/.log/20210326/20210326-170106-0473.log",
      "/notebooks/notebook/work/sinetstream/.log/20210326/20210326-170250-0585.log",
      "/notebooks/notebook/work/sinetstream/.log/20210326/20210326-170313-0537.log",
      "/notebooks/notebook/work/sinetstream/.log/20210326/20210326-171950-0562.log",
      "/notebooks/notebook/work/sinetstream/.log/20210326/20210326-173356-0235.log",
      "/notebooks/notebook/work/sinetstream/.log/20210326/20210326-175244-0210.log",
      "/notebooks/notebook/work/sinetstream/.log/20210326/20210326-175629-0576.log"
     ]
    },
    "scrolled": true
   },
   "outputs": [],
   "source": [
    "# ファイルの転送\n",
    "!tar -zcf - perftool | ssh {ssh_opts} {host_ip} 'tar zxf -'\n",
    "\n",
    "# 設定ファイルのrename\n",
    "!{ssh} mv {work_dir}template.sinetstream_config.yml {work_dir}.sinetstream_config.yml\n",
    "\n",
    "# perftoolプログラムファイルに実行権限の付与\n",
    "!{ssh} chmod a+x {work_dir}perftool.py"
   ]
  },
  {
   "cell_type": "markdown",
   "metadata": {
    "lc_cell_meme": {
     "current": "00e27c16-899b-11eb-a09b-0242ac110002-1-dedc",
     "next": "bdc94ac4-4633-11e9-b072-0242ac110002-2-4179-c314",
     "previous": "57c2ff04-462e-11e9-b072-0242ac110002-2-d190-404b"
    }
   },
   "source": [
    "SINETStreamの設定ファイル(.sinetstream_config.yml)にはブローカーの接続情報等が記述されています。必要に応じて実行環境にあわせて書き換えてください。"
   ]
  },
  {
   "cell_type": "markdown",
   "metadata": {
    "lc_cell_meme": {
     "current": "bdc94ac4-4633-11e9-b072-0242ac110002-2-4179-c314",
     "history": [
      {
       "current": "bdc94ac4-4633-11e9-b072-0242ac110002",
       "next": "57c2ff04-462e-11e9-b072-0242ac110002",
       "previous": "e6d37b42-462e-11e9-b072-0242ac110002"
      },
      {
       "current": "bdc94ac4-4633-11e9-b072-0242ac110002",
       "next": "57c2ff04-462e-11e9-b072-0242ac110002",
       "previous": "ac86c904-8cb4-11e9-88da-0242ac110002"
      },
      {
       "current": "bdc94ac4-4633-11e9-b072-0242ac110002-1-4179",
       "next": "ac86ca12-8cb4-11e9-88da-0242ac110002",
       "previous": "57c2ff04-462e-11e9-b072-0242ac110002"
      },
      {
       "current": "bdc94ac4-4633-11e9-b072-0242ac110002-2-4179-c314",
       "next": "ac86ca12-8cb4-11e9-88da-0242ac110002-1-32c6",
       "previous": "57c2ff04-462e-11e9-b072-0242ac110002-1-d190"
      },
      {
       "current": "bdc94ac4-4633-11e9-b072-0242ac110002-2-4179-c314",
       "next": "ac86ca12-8cb4-11e9-88da-0242ac110002-2-32c6-31c3",
       "previous": "57c2ff04-462e-11e9-b072-0242ac110002-2-d190-404b"
      },
      {
       "current": "bdc94ac4-4633-11e9-b072-0242ac110002-2-4179-c314",
       "next": "ac86ca12-8cb4-11e9-88da-0242ac110002-2-32c6-31c3",
       "previous": "00e27c16-899b-11eb-a09b-0242ac110002"
      }
     ],
     "next": "ac86ca12-8cb4-11e9-88da-0242ac110002-2-32c6-31c3",
     "previous": "00e27c16-899b-11eb-a09b-0242ac110002-1-dedc"
    }
   },
   "source": [
    "# 実行\n"
   ]
  },
  {
   "cell_type": "markdown",
   "metadata": {
    "lc_cell_meme": {
     "current": "ac86ca12-8cb4-11e9-88da-0242ac110002-2-32c6-31c3",
     "history": [
      {
       "current": "ac86ca12-8cb4-11e9-88da-0242ac110002",
       "next": "bdc94ac4-4633-11e9-b072-0242ac110002",
       "previous": "57c2ff04-462e-11e9-b072-0242ac110002"
      },
      {
       "current": "ac86ca12-8cb4-11e9-88da-0242ac110002-1-32c6",
       "next": "bdc94ac4-4633-11e9-b072-0242ac110002",
       "previous": "bdc94ac4-4633-11e9-b072-0242ac110002"
      },
      {
       "current": "ac86ca12-8cb4-11e9-88da-0242ac110002-2-32c6-31c3",
       "next": "bdc94ac4-4633-11e9-b072-0242ac110002-1-51f7",
       "previous": "bdc94ac4-4633-11e9-b072-0242ac110002-1-4179"
      }
     ],
     "next": "bdc94ac4-4633-11e9-b072-0242ac110002-2-51f7-6aca",
     "previous": "bdc94ac4-4633-11e9-b072-0242ac110002-2-4179-c314"
    }
   },
   "source": [
    "## perftool の実行"
   ]
  },
  {
   "cell_type": "markdown",
   "metadata": {
    "lc_cell_meme": {
     "current": "bdc94ac4-4633-11e9-b072-0242ac110002-2-51f7-6aca",
     "history": [
      {
       "current": "bdc94ac4-4633-11e9-b072-0242ac110002",
       "next": "57c2ff04-462e-11e9-b072-0242ac110002",
       "previous": "e6d37b42-462e-11e9-b072-0242ac110002"
      },
      {
       "current": "bdc94ac4-4633-11e9-b072-0242ac110002",
       "next": "4c72da28-4630-11e9-b072-0242ac110002",
       "previous": "57c2ff04-462e-11e9-b072-0242ac110002"
      },
      {
       "current": "bdc94ac4-4633-11e9-b072-0242ac110002",
       "next": "4c72da28-4630-11e9-b072-0242ac110002",
       "previous": "ac86ca12-8cb4-11e9-88da-0242ac110002"
      },
      {
       "current": "bdc94ac4-4633-11e9-b072-0242ac110002",
       "next": "9c9b5d82-8ccf-11e9-88da-0242ac110002",
       "previous": "ac86ca12-8cb4-11e9-88da-0242ac110002"
      },
      {
       "current": "bdc94ac4-4633-11e9-b072-0242ac110002",
       "next": "4c72da28-4630-11e9-b072-0242ac110002",
       "previous": "ac86ca12-8cb4-11e9-88da-0242ac110002"
      },
      {
       "current": "bdc94ac4-4633-11e9-b072-0242ac110002",
       "next": "2783394e-8e81-11e9-88da-0242ac110002",
       "previous": "ac86ca12-8cb4-11e9-88da-0242ac110002"
      },
      {
       "current": "bdc94ac4-4633-11e9-b072-0242ac110002-1-51f7",
       "next": "4c72da28-4630-11e9-b072-0242ac110002",
       "previous": "ac86ca12-8cb4-11e9-88da-0242ac110002"
      },
      {
       "current": "bdc94ac4-4633-11e9-b072-0242ac110002-2-51f7-6aca",
       "next": "4c72da28-4630-11e9-b072-0242ac110002-1-e002",
       "previous": "ac86ca12-8cb4-11e9-88da-0242ac110002-1-32c6"
      }
     ],
     "next": "4c72da28-4630-11e9-b072-0242ac110002-2-e002-c112",
     "previous": "ac86ca12-8cb4-11e9-88da-0242ac110002-2-32c6-31c3"
    }
   },
   "source": [
    "perftool.pyを実行し、実行結果をファイルに出力します。"
   ]
  },
  {
   "cell_type": "code",
   "execution_count": 24,
   "metadata": {
    "lc_cell_meme": {
     "current": "4c72da28-4630-11e9-b072-0242ac110002-2-e002-c112",
     "execution_end_time": "2021-03-26T08:56:41.298379Z",
     "history": [
      {
       "current": "4c72da28-4630-11e9-b072-0242ac110002",
       "next": "e190f994-4574-11e9-b072-0242ac110002",
       "previous": "57c2ff04-462e-11e9-b072-0242ac110002"
      },
      {
       "current": "4c72da28-4630-11e9-b072-0242ac110002",
       "next": "93f97118-4630-11e9-b072-0242ac110002",
       "previous": "57c2ff04-462e-11e9-b072-0242ac110002"
      },
      {
       "current": "4c72da28-4630-11e9-b072-0242ac110002",
       "next": "a421b3ce-4636-11e9-b072-0242ac110002",
       "previous": "57c2ff04-462e-11e9-b072-0242ac110002"
      },
      {
       "current": "4c72da28-4630-11e9-b072-0242ac110002",
       "next": "a421b3ce-4636-11e9-b072-0242ac110002",
       "previous": "bdc94ac4-4633-11e9-b072-0242ac110002"
      },
      {
       "current": "4c72da28-4630-11e9-b072-0242ac110002",
       "next": "9c9b5ed6-8ccf-11e9-88da-0242ac110002",
       "previous": "9c9b5d82-8ccf-11e9-88da-0242ac110002"
      },
      {
       "current": "4c72da28-4630-11e9-b072-0242ac110002",
       "next": "e42198f6-8ccf-11e9-88da-0242ac110002",
       "previous": "bdc94ac4-4633-11e9-b072-0242ac110002"
      },
      {
       "current": "4c72da28-4630-11e9-b072-0242ac110002",
       "next": "7330f6e0-8cd0-11e9-88da-0242ac110002",
       "previous": "bdc94ac4-4633-11e9-b072-0242ac110002"
      },
      {
       "current": "4c72da28-4630-11e9-b072-0242ac110002",
       "next": "7330f6e0-8cd0-11e9-88da-0242ac110002",
       "previous": "2783394e-8e81-11e9-88da-0242ac110002"
      },
      {
       "current": "4c72da28-4630-11e9-b072-0242ac110002",
       "next": "7330f6e0-8cd0-11e9-88da-0242ac110002",
       "previous": "fe18a6d8-8e81-11e9-88da-0242ac110002"
      },
      {
       "current": "4c72da28-4630-11e9-b072-0242ac110002",
       "next": "7330f6e0-8cd0-11e9-88da-0242ac110002",
       "previous": "2783394e-8e81-11e9-88da-0242ac110002"
      },
      {
       "current": "4c72da28-4630-11e9-b072-0242ac110002",
       "next": "7330f6e0-8cd0-11e9-88da-0242ac110002",
       "previous": "8df69e8c-998a-11e9-88da-0242ac110002"
      },
      {
       "current": "4c72da28-4630-11e9-b072-0242ac110002",
       "next": "7330f6e0-8cd0-11e9-88da-0242ac110002",
       "previous": "2783394e-8e81-11e9-88da-0242ac110002"
      },
      {
       "current": "4c72da28-4630-11e9-b072-0242ac110002",
       "next": "4c72da28-4630-11e9-b072-0242ac110002",
       "previous": "2783394e-8e81-11e9-88da-0242ac110002"
      },
      {
       "current": "4c72da28-4630-11e9-b072-0242ac110002",
       "next": "7330f6e0-8cd0-11e9-88da-0242ac110002",
       "previous": "2783394e-8e81-11e9-88da-0242ac110002"
      },
      {
       "current": "4c72da28-4630-11e9-b072-0242ac110002-1-e002",
       "next": "7330f6e0-8cd0-11e9-88da-0242ac110002",
       "previous": "bdc94ac4-4633-11e9-b072-0242ac110002"
      },
      {
       "current": "4c72da28-4630-11e9-b072-0242ac110002-2-e002-c112",
       "next": "7330f6e0-8cd0-11e9-88da-0242ac110002-1-dcb7",
       "previous": "bdc94ac4-4633-11e9-b072-0242ac110002-1-51f7"
      },
      {
       "current": "4c72da28-4630-11e9-b072-0242ac110002-2-e002-c112",
       "next": "7330f6e0-8cd0-11e9-88da-0242ac110002-2-dcb7-6d27",
       "previous": "bdc94ac4-4633-11e9-b072-0242ac110002-2-51f7-6aca"
      }
     ],
     "next": "e42198f6-8ccf-11e9-88da-0242ac110002-2-e0c0-2475",
     "previous": "bdc94ac4-4633-11e9-b072-0242ac110002-2-51f7-6aca"
    },
    "lc_wrapper": {
     "log_history": [
      "/notebooks/notebook/work/sinetstream/.log/20210318/20210318-145304-0615.log",
      "/notebooks/notebook/work/sinetstream/.log/20210318/20210318-145329-0633.log",
      "/notebooks/notebook/work/sinetstream/.log/20210318/20210318-145354-0292.log",
      "/notebooks/notebook/work/sinetstream/.log/20210318/20210318-145608-0037.log",
      "/notebooks/notebook/work/sinetstream/.log/20210318/20210318-145620-0787.log",
      "/notebooks/notebook/work/sinetstream/.log/20210320/20210320-011256-0025.log",
      "/notebooks/notebook/work/sinetstream/.log/20210320/20210320-011837-0180.log",
      "/notebooks/notebook/work/sinetstream/.log/20210320/20210320-012024-0908.log",
      "/notebooks/notebook/work/sinetstream/.log/20210320/20210320-012058-0861.log",
      "/notebooks/notebook/work/sinetstream/.log/20210320/20210320-012158-0988.log",
      "/notebooks/notebook/work/sinetstream/.log/20210320/20210320-012253-0458.log",
      "/notebooks/notebook/work/sinetstream/.log/20210320/20210320-012325-0949.log",
      "/notebooks/notebook/work/sinetstream/.log/20210320/20210320-012443-0448.log",
      "/notebooks/notebook/work/sinetstream/.log/20210320/20210320-012511-0068.log",
      "/notebooks/notebook/work/sinetstream/.log/20210320/20210320-012605-0486.log",
      "/notebooks/notebook/work/sinetstream/.log/20210320/20210320-012620-0855.log",
      "/notebooks/notebook/work/sinetstream/.log/20210320/20210320-013024-0112.log",
      "/notebooks/notebook/work/sinetstream/.log/20210320/20210320-013118-0843.log",
      "/notebooks/notebook/work/sinetstream/.log/20210320/20210320-013459-0983.log",
      "/notebooks/notebook/work/sinetstream/.log/20210320/20210320-013721-0764.log",
      "/notebooks/notebook/work/sinetstream/.log/20210320/20210320-014414-0530.log",
      "/notebooks/notebook/work/sinetstream/.log/20210320/20210320-015048-0117.log",
      "/notebooks/notebook/work/sinetstream/.log/20210320/20210320-015202-0919.log",
      "/notebooks/notebook/work/sinetstream/.log/20210320/20210320-015341-0790.log",
      "/notebooks/notebook/work/sinetstream/.log/20210320/20210320-015416-0486.log",
      "/notebooks/notebook/work/sinetstream/.log/20210320/20210320-020113-0696.log",
      "/notebooks/notebook/work/sinetstream/.log/20210320/20210320-143249-0453.log",
      "/notebooks/notebook/work/sinetstream/.log/20210320/20210320-144300-0636.log",
      "/notebooks/notebook/work/sinetstream/.log/20210320/20210320-144423-0096.log",
      "/notebooks/notebook/work/sinetstream/.log/20210320/20210320-144455-0266.log",
      "/notebooks/notebook/work/sinetstream/.log/20210320/20210320-145403-0854.log",
      "/notebooks/notebook/work/sinetstream/.log/20210321/20210321-005453-0331.log",
      "/notebooks/notebook/work/sinetstream/.log/20210321/20210321-005533-0674.log",
      "/notebooks/notebook/work/sinetstream/.log/20210321/20210321-005752-0933.log",
      "/notebooks/notebook/work/sinetstream/.log/20210321/20210321-005831-0404.log",
      "/notebooks/notebook/work/sinetstream/.log/20210321/20210321-005904-0670.log",
      "/notebooks/notebook/work/sinetstream/.log/20210321/20210321-010048-0873.log",
      "/notebooks/notebook/work/sinetstream/.log/20210321/20210321-010213-0945.log",
      "/notebooks/notebook/work/sinetstream/.log/20210321/20210321-010248-0703.log",
      "/notebooks/notebook/work/sinetstream/.log/20210321/20210321-010721-0524.log",
      "/notebooks/notebook/work/sinetstream/.log/20210322/20210322-003438-0334.log",
      "/notebooks/notebook/work/sinetstream/.log/20210322/20210322-003543-0497.log",
      "/notebooks/notebook/work/sinetstream/.log/20210322/20210322-145126-0721.log",
      "/notebooks/notebook/work/sinetstream/.log/20210322/20210322-145143-0786.log",
      "/notebooks/notebook/work/sinetstream/.log/20210326/20210326-170323-0621.log",
      "/notebooks/notebook/work/sinetstream/.log/20210326/20210326-170816-0350.log",
      "/notebooks/notebook/work/sinetstream/.log/20210326/20210326-170835-0182.log",
      "/notebooks/notebook/work/sinetstream/.log/20210326/20210326-170909-0195.log",
      "/notebooks/notebook/work/sinetstream/.log/20210326/20210326-170950-0819.log",
      "/notebooks/notebook/work/sinetstream/.log/20210326/20210326-171015-0970.log",
      "/notebooks/notebook/work/sinetstream/.log/20210326/20210326-173402-0885.log",
      "/notebooks/notebook/work/sinetstream/.log/20210326/20210326-175250-0667.log",
      "/notebooks/notebook/work/sinetstream/.log/20210326/20210326-175609-0543.log",
      "/notebooks/notebook/work/sinetstream/.log/20210326/20210326-175634-0515.log"
     ]
    }
   },
   "outputs": [
    {
     "name": "stdout",
     "output_type": "stream",
     "text": [
      "writer_start_time\twriter_start_time_ms\twriter_end_time\twriter_end_time_ms\twriter_time\twriter_time_ms\twriter_msg_count_total\twriter_msg_count_rate\twriter_msg_bytes_total\twriter_msg_bytes_rate\twriter_msg_size_min\twriter_msg_size_max\twriter_msg_size_avg\twriter_error_count_total\twriter_error_count_rate\treader_start_time\treader_start_time_ms\treader_end_time\treader_end_time_ms\treader_time\treader_time_ms\treader_msg_count_total\treader_msg_count_rate\treader_msg_bytes_total\treader_msg_bytes_rate\treader_msg_size_min\treader_msg_size_max\treader_msg_size_avg\treader_error_count_total\treader_error_count_rate\r",
      "\r\n",
      "1616749014.2505505\t1616749014250.5505\t1616749014.4358337\t1616749014435.8337\t0.18528318405151367\t185.28318405151367\t300\t1619.1431593521838\t313200\t1690385.45836368\t1044\t1044\t1044.0\t0\t0.0\t1616749014.2444022\t1616749014244.402\t1616749014.4353662\t1616749014435.3662\t0.1909639835357666\t190.9639835357666\t297\t1555.2670954016487\t310068\t1623698.8475993213\t1044\t1044\t1044.0\t0\t0.0\r",
      "\r\n",
      "1616749014.443611\t1616749014443.6108\t1616749014.6256766\t1616749014625.6765\t0.18206572532653809\t182.0657253265381\t300\t1647.756597030796\t313200\t1720257.887300151\t1044\t1044\t1044.0\t0\t0.0\t1616749014.4399354\t1616749014439.9355\t1616749014.6251059\t1616749014625.106\t0.18517041206359863\t185.17041206359863\t297\t1603.9279531224047\t310068\t1674500.7830597905\t1044\t1044\t1044.0\t0\t0.0\r",
      "\r\n",
      "1616749014.6336565\t1616749014633.6565\t1616749014.8214192\t1616749014821.4192\t0.18776273727416992\t187.76273727416992\t300\t1597.7611125360936\t313200\t1668062.6014876817\t1044\t1044\t1044.0\t0\t0.0\t1616749014.6300385\t1616749014630.0386\t1616749014.8206782\t1616749014820.6782\t0.19063973426818848\t190.63973426818848\t296\t1552.6668726027106\t309024\t1620984.2149972299\t1044\t1044\t1044.0\t0\t0.0\r",
      "\r\n",
      "1616749014.8291123\t1616749014829.1123\t1616749015.0079737\t1616749015007.9736\t0.17886137962341309\t178.8613796234131\t300\t1677.2765626187186\t313200\t1751076.7313739422\t1044\t1044\t1044.0\t0\t0.0\t1616749014.8254747\t1616749014825.4749\t1616749015.0084426\t1616749015008.4426\t0.1829679012298584\t182.9679012298584\t299\t1634.1664193020017\t312156\t1706069.7417512897\t1044\t1044\t1044.0\t0\t0.0\r",
      "\r\n",
      "1616749015.0155125\t1616749015015.5125\t1616749015.1903179\t1616749015190.3179\t0.1748054027557373\t174.8054027557373\t300\t1716.1940950944302\t313200\t1791706.6352785851\t1044\t1044\t1044.0\t0\t0.0\t1616749015.0118427\t1616749015011.8428\t1616749015.1898856\t1616749015189.8855\t0.17804288864135742\t178.04288864135742\t297\t1668.1373924361849\t310068\t1741535.4377033769\t1044\t1044\t1044.0\t0\t0.0\r",
      "\r\n",
      "1616749015.197915\t1616749015197.915\t1616749015.38041\t1616749015380.41\t0.1824948787689209\t182.4948787689209\t300\t1643.8817462919972\t313200\t1716212.543128845\t1044\t1044\t1044.0\t0\t0.0\t1616749015.1943567\t1616749015194.3567\t1616749015.3806467\t1616749015380.6467\t0.18629002571105957\t186.29002571105957\t298\t1599.6562288428977\t311112\t1670041.1029119852\t1044\t1044\t1044.0\t0\t0.0\r",
      "\r\n",
      "1616749015.3879924\t1616749015387.9924\t1616749015.56978\t1616749015569.78\t0.18178772926330566\t181.78772926330566\t300\t1650.276403230016\t313200\t1722888.5649721366\t1044\t1044\t1044.0\t0\t0.0\t1616749015.3843935\t1616749015384.3936\t1616749015.5700197\t1616749015570.0198\t0.18562626838684082\t185.62626838684082\t298\t1605.3762357543865\t311112\t1676012.7901275796\t1044\t1044\t1044.0\t0\t0.0\r",
      "\r\n",
      "1616749015.5772343\t1616749015577.2344\t1616749015.7590544\t1616749015759.0544\t0.18182015419006348\t181.82015419006348\t300\t1649.982100919344\t313200\t1722581.3133597951\t1044\t1044\t1044.0\t0\t0.0\t1616749015.5736978\t1616749015573.6978\t1616749015.7591887\t1616749015759.1887\t0.18549084663391113\t185.49084663391113\t299\t1611.9393782816305\t312156\t1682864.7109260224\t1044\t1044\t1044.0\t0\t0.0\r",
      "\r\n",
      "1616749015.7665823\t1616749015766.5823\t1616749015.9493287\t1616749015949.3286\t0.18274641036987305\t182.74641036987305\t300\t1641.6191124783757\t313200\t1713850.353427424\t1044\t1044\t1044.0\t0\t0.0\t1616749015.7628093\t1616749015762.8093\t1616749015.949467\t1616749015949.467\t0.18665766716003418\t186.65766716003418\t299\t1601.862942729522\t312156\t1672344.912209621\t1044\t1044\t1044.0\t0\t0.0\r",
      "\r\n",
      "1616749015.9564571\t1616749015956.457\t1616749016.1307197\t1616749016130.7197\t0.17426252365112305\t174.26252365112305\t300\t1721.5405453475805\t313200\t1797288.329342874\t1044\t1044\t1044.0\t0\t0.0\t1616749015.9528728\t1616749015952.8728\t1616749016.1302469\t1616749016130.2468\t0.17737412452697754\t177.37412452697754\t297\t1674.426869150399\t310068\t1748101.6513930166\t1044\t1044\t1044.0\t0\t0.0\r",
      "\r\n",
      "1616749016.1382916\t1616749016138.2915\t1616749016.323537\t1616749016323.537\t0.18524551391601562\t185.24551391601562\t300\t1619.4724161364059\t313200\t1690729.2024464076\t1044\t1044\t1044.0\t0\t0.0\t1616749016.1346776\t1616749016134.6777\t1616749016.3237784\t1616749016323.7783\t0.1891007423400879\t189.1007423400879\t298\t1575.879588373389\t311112\t1645218.290261818\t1044\t1044\t1044.0\t0\t0.0\r",
      "\r\n",
      "1616749016.3310766\t1616749016331.0767\t1616749016.511367\t1616749016511.3672\t0.18029046058654785\t180.29046058654785\t300\t1663.9815496837448\t313200\t1737196.7378698296\t1044\t1044\t1044.0\t0\t0.0\t1616749016.327484\t1616749016327.484\t1616749016.510838\t1616749016510.8381\t0.18335413932800293\t183.35413932800293\t296\t1614.3622450240105\t309024\t1685394.1838050669\t1044\t1044\t1044.0\t0\t0.0\r",
      "\r\n",
      "1616749016.5191221\t1616749016519.122\t1616749016.6988523\t1616749016698.8523\t0.17973017692565918\t179.73017692565918\t300\t1669.1687791755048\t313200\t1742612.2054592269\t1044\t1044\t1044.0\t0\t0.0\t1616749016.5155425\t1616749016515.5425\t1616749016.6990736\t1616749016699.0735\t0.1835310459136963\t183.5310459136963\t298\t1623.7034912345655\t311112\t1695146.4448488865\t1044\t1044\t1044.0\t0\t0.0\r",
      "\r\n",
      "1616749016.7064872\t1616749016706.487\t1616749016.8893473\t1616749016889.3474\t0.1828601360321045\t182.8601360321045\t300\t1640.598145171069\t313200\t1712784.463558596\t1044\t1044\t1044.0\t0\t0.0\t1616749016.7029321\t1616749016702.9321\t1616749016.8887596\t1616749016888.7595\t0.18582749366760254\t185.82749366760254\t297\t1598.2565019751942\t310068\t1668579.7880621029\t1044\t1044\t1044.0\t0\t0.0\r",
      "\r\n",
      "1616749016.8982966\t1616749016898.2966\t1616749017.0762932\t1616749017076.2932\t0.17799663543701172\t177.99663543701172\t300\t1685.4251163986862\t313200\t1759583.8215202284\t1044\t1044\t1044.0\t0\t0.0\t1616749016.8946702\t1616749016894.6702\t1616749017.0764308\t1616749017076.431\t0.18176054954528809\t181.7605495452881\t299\t1645.02143478335\t312156\t1717402.3779138175\t1044\t1044\t1044.0\t0\t0.0\r",
      "\r\n",
      "1616749017.083425\t1616749017083.425\t1616749017.2738595\t1616749017273.8596\t0.19043445587158203\t190.43445587158203\t300\t1575.345168640609\t313200\t1644660.3560607957\t1044\t1044\t1044.0\t0\t0.0\t1616749017.079863\t1616749017079.863\t1616749017.2740762\t1616749017274.0762\t0.1942131519317627\t194.2131519317627\t298\t1534.396600003192\t311112\t1601910.0504033323\t1044\t1044\t1044.0\t0\t0.0\r",
      "\r\n",
      "1616749017.28123\t1616749017281.23\t1616749017.463128\t1616749017463.1282\t0.1818981170654297\t181.8981170654297\t300\t1649.2749064141685\t313200\t1721843.0022963919\t1044\t1044\t1044.0\t0\t0.0\t1616749017.2776504\t1616749017277.6504\t1616749017.4633155\t1616749017463.3154\t0.18566513061523438\t185.66513061523438\t298\t1605.040208748536\t311112\t1675661.9779334718\t1044\t1044\t1044.0\t0\t0.0\r",
      "\r\n",
      "1616749017.4707866\t1616749017470.7866\t1616749017.6549447\t1616749017654.9446\t0.1841580867767334\t184.1580867767334\t300\t1629.0351689182628\t313200\t1700712.7163506665\t1044\t1044\t1044.0\t0\t0.0\t1616749017.4670422\t1616749017467.0422\t1616749017.6553771\t1616749017655.3772\t0.18833494186401367\t188.33494186401367\t298\t1582.28737084364\t311112\t1651908.0151607604\t1044\t1044\t1044.0\t0\t0.0\r",
      "\r\n",
      "1616749017.6625607\t1616749017662.5608\t1616749017.8433037\t1616749017843.3037\t0.18074297904968262\t180.74297904968262\t300\t1659.8155102751516\t313200\t1732847.3927272584\t1044\t1044\t1044.0\t0\t0.0\t1616749017.658988\t1616749017658.988\t1616749017.8428771\t1616749017842.8772\t0.18388915061950684\t183.88915061950684\t297\t1615.1034413908183\t310068\t1686167.9928120142\t1044\t1044\t1044.0\t0\t0.0\r",
      "\r\n",
      "1616749017.8507905\t1616749017850.7905\t1616749018.031538\t1616749018031.538\t0.18074750900268555\t180.74750900268555\t300\t1659.773911437654\t313200\t1732803.963540911\t1044\t1044\t1044.0\t0\t0.0\t1616749017.8472347\t1616749017847.2346\t1616749018.031814\t1616749018031.8142\t0.18457937240600586\t184.57937240600586\t298\t1614.4815973504938\t311112\t1685518.7876339154\t1044\t1044\t1044.0\t0\t0.0\r",
      "\r\n",
      "1616749018.0395494\t1616749018039.5493\t1616749018.215541\t1616749018215.5408\t0.17599153518676758\t175.99153518676758\t300\t1704.6274395051494\t313200\t1779631.0468433758\t1044\t1044\t1044.0\t0\t0.0\t1616749018.0358505\t1616749018035.8506\t1616749018.2159877\t1616749018215.9878\t0.18013715744018555\t180.13715744018555\t299\t1659.8463318112633\t312156\t1732879.570410959\t1044\t1044\t1044.0\t0\t0.0\r",
      "\r\n",
      "1616749018.2230327\t1616749018223.0327\t1616749018.405354\t1616749018405.354\t0.18232131004333496\t182.32131004333496\t300\t1645.44671124124\t313200\t1717846.3665358548\t1044\t1044\t1044.0\t0\t0.0\t1616749018.2194052\t1616749018219.4053\t1616749018.4047525\t1616749018404.7524\t0.185347318649292\t185.347318649292\t297\t1602.3970681872852\t310068\t1672902.5391875256\t1044\t1044\t1044.0\t0\t0.0\r",
      "\r\n",
      "1616749018.4128125\t1616749018412.8125\t1616749018.597165\t1616749018597.165\t0.18435263633728027\t184.35263633728027\t300\t1627.3160284572139\t313200\t1698917.9337093313\t1044\t1044\t1044.0\t0\t0.0\t1616749018.4092402\t1616749018409.2402\t1616749018.5976186\t1616749018597.6187\t0.18837833404541016\t188.37833404541016\t299\t1587.231363495993\t312156\t1657069.5434898166\t1044\t1044\t1044.0\t0\t0.0\r",
      "\r\n",
      "1616749018.604625\t1616749018604.625\t1616749018.7882285\t1616749018788.2285\t0.18360352516174316\t183.60352516174316\t300\t1633.9555557864091\t313200\t1705849.600241011\t1044\t1044\t1044.0\t0\t0.0\t1616749018.6010327\t1616749018601.0327\t1616749018.7884636\t1616749018788.4636\t0.18743085861206055\t187.43085861206055\t298\t1589.91962266359\t311112\t1659876.086060788\t1044\t1044\t1044.0\t0\t0.0\r",
      "\r\n",
      "1616749018.7957497\t1616749018795.7498\t1616749018.9758594\t1616749018975.8594\t0.18010973930358887\t180.10973930358887\t300\t1665.6511811075738\t313200\t1738939.833076307\t1044\t1044\t1044.0\t0\t0.0\t1616749018.79224\t1616749018792.24\t1616749018.9752653\t1616749018975.2654\t0.18302536010742188\t183.02536010742188\t297\t1622.7259425998875\t310068\t1694125.8840742826\t1044\t1044\t1044.0\t0\t0.0\r",
      "\r\n",
      "1616749018.983689\t1616749018983.689\t1616749019.16197\t1616749019161.97\t0.17828083038330078\t178.28083038330078\t300\t1682.7384040954098\t313200\t1756778.8938756078\t1044\t1044\t1044.0\t0\t0.0\t1616749018.9799044\t1616749018979.9043\t1616749019.1624572\t1616749019162.4573\t0.18255281448364258\t182.55281448364258\t299\t1637.8821704049462\t312156\t1709948.985902764\t1044\t1044\t1044.0\t0\t0.0\r",
      "\r\n",
      "1616749019.169583\t1616749019169.583\t1616749019.3527741\t1616749019352.7742\t0.18319106101989746\t183.19106101989746\t300\t1637.6344911688416\t313200\t1709690.4087802707\t1044\t1044\t1044.0\t0\t0.0\t1616749019.1658475\t1616749019165.8477\t1616749019.3519368\t1616749019351.9368\t0.18608927726745605\t186.08927726745605\t296\t1590.6343683337284\t309024\t1660622.2805404125\t1044\t1044\t1044.0\t0\t0.0\r",
      "\r\n",
      "1616749019.360668\t1616749019360.668\t1616749019.5430143\t1616749019543.0144\t0.18234634399414062\t182.34634399414062\t300\t1645.2208112800988\t313200\t1717610.526976423\t1044\t1044\t1044.0\t0\t0.0\t1616749019.357117\t1616749019357.117\t1616749019.5432546\t1616749019543.2546\t0.18613767623901367\t186.13767623901367\t298\t1600.9655112345304\t311112\t1671407.9937288496\t1044\t1044\t1044.0\t0\t0.0\r",
      "\r\n",
      "1616749019.5504346\t1616749019550.4346\t1616749019.735665\t1616749019735.665\t0.18523049354553223\t185.23049354553223\t300\t1619.603739414838\t313200\t1690866.303949091\t1044\t1044\t1044.0\t0\t0.0\t1616749019.5468733\t1616749019546.8733\t1616749019.7351658\t1616749019735.1658\t0.1882925033569336\t188.2925033569336\t297\t1577.3331104796926\t310068\t1646735.7673407989\t1044\t1044\t1044.0\t0\t0.0\r",
      "\r\n",
      "1616749019.7432835\t1616749019743.2834\t1616749019.929895\t1616749019929.895\t0.18661141395568848\t186.61141395568848\t300\t1607.6187069202317\t313200\t1678353.930024722\t1044\t1044\t1044.0\t0\t0.0\t1616749019.7396162\t1616749019739.6162\t1616749019.9294066\t1616749019929.4067\t0.1897904872894287\t189.7904872894287\t297\t1564.8834893767769\t310068\t1633738.362909355\t1044\t1044\t1044.0\t0\t0.0\r",
      "\r\n"
     ]
    }
   ],
   "source": [
    "output_count = 30\n",
    "num_samples = 300\n",
    "payload_size = 1024\n",
    "async_flag = True # 非同期実行の場合はTrue\n",
    "service_name = 'service-perftool-mqtt'\n",
    "\n",
    "result_file = 'perf_result.tsv' # このNotebookと同じフォルダにこの名前の結果ファイルが作成されます。\n",
    "\n",
    "async_option = ('-a' if async_flag else '')\n",
    "!{ssh} cd {work_dir} \\&\\& python3 perftool.py -s {service_name} {async_option} -n {num_samples} -c {output_count} -f tsv | tee {result_file}\n"
   ]
  },
  {
   "cell_type": "markdown",
   "metadata": {
    "lc_cell_meme": {
     "current": "e42198f6-8ccf-11e9-88da-0242ac110002-2-e0c0-2475",
     "history": [
      {
       "current": "e42198f6-8ccf-11e9-88da-0242ac110002",
       "next": "9c9b5ed6-8ccf-11e9-88da-0242ac110002",
       "previous": "4c72da28-4630-11e9-b072-0242ac110002"
      },
      {
       "current": "e42198f6-8ccf-11e9-88da-0242ac110002-1-e0c0",
       "next": "9c9b5ed6-8ccf-11e9-88da-0242ac110002",
       "previous": "7330f6e0-8cd0-11e9-88da-0242ac110002"
      },
      {
       "current": "e42198f6-8ccf-11e9-88da-0242ac110002-2-e0c0-2475",
       "next": "9c9b5ed6-8ccf-11e9-88da-0242ac110002-1-e3ed",
       "previous": "7330f6e0-8cd0-11e9-88da-0242ac110002-1-dcb7"
      },
      {
       "current": "e42198f6-8ccf-11e9-88da-0242ac110002-2-e0c0-2475",
       "next": "9c9b5ed6-8ccf-11e9-88da-0242ac110002-2-e3ed-5594",
       "previous": "7330f6e0-8cd0-11e9-88da-0242ac110002-2-dcb7-6d27"
      },
      {
       "current": "e42198f6-8ccf-11e9-88da-0242ac110002-2-e0c0-2475",
       "next": "9c9b5ed6-8ccf-11e9-88da-0242ac110002-2-e3ed-5594",
       "previous": "4c72da28-4630-11e9-b072-0242ac110002-2-e002-c112"
      }
     ],
     "next": "88501184-8970-11eb-a09b-0242ac110002",
     "previous": "4c72da28-4630-11e9-b072-0242ac110002-2-e002-c112"
    }
   },
   "source": [
    "## perftoolの実行結果のグラフ表示"
   ]
  },
  {
   "cell_type": "markdown",
   "metadata": {
    "lc_cell_meme": {
     "current": "88501184-8970-11eb-a09b-0242ac110002",
     "execution_end_time": "2021-03-20T11:35:53.627890Z",
     "next": "9c9b5ed6-8ccf-11e9-88da-0242ac110002-2-e3ed-5594",
     "previous": "e42198f6-8ccf-11e9-88da-0242ac110002-2-e0c0-2475"
    },
    "lc_wrapper": {
     "log_history": [
      "/notebooks/notebook/work/sinetstream/.log/20210320/20210320-203553-0618.log"
     ]
    }
   },
   "source": [
    "perftool.pyの実行結果ファイルの内容をグラフで表示します。"
   ]
  },
  {
   "cell_type": "code",
   "execution_count": 26,
   "metadata": {
    "lc_cell_meme": {
     "current": "9c9b5ed6-8ccf-11e9-88da-0242ac110002-2-e3ed-5594",
     "execution_end_time": "2021-03-26T08:57:57.754752Z",
     "history": [
      {
       "current": "9c9b5ed6-8ccf-11e9-88da-0242ac110002",
       "next": "a421b3ce-4636-11e9-b072-0242ac110002",
       "previous": "4c72da28-4630-11e9-b072-0242ac110002"
      },
      {
       "current": "9c9b5ed6-8ccf-11e9-88da-0242ac110002-1-e3ed",
       "next": "a421b3ce-4636-11e9-b072-0242ac110002",
       "previous": "e42198f6-8ccf-11e9-88da-0242ac110002"
      },
      {
       "current": "9c9b5ed6-8ccf-11e9-88da-0242ac110002-2-e3ed-5594",
       "next": "a421b3ce-4636-11e9-b072-0242ac110002-1-800c",
       "previous": "e42198f6-8ccf-11e9-88da-0242ac110002-1-e0c0"
      },
      {
       "current": "9c9b5ed6-8ccf-11e9-88da-0242ac110002-2-e3ed-5594",
       "next": "a421b3ce-4636-11e9-b072-0242ac110002-2-800c-6061",
       "previous": "e42198f6-8ccf-11e9-88da-0242ac110002-2-e0c0-2475"
      },
      {
       "current": "9c9b5ed6-8ccf-11e9-88da-0242ac110002-2-e3ed-5594",
       "next": null,
       "previous": "e42198f6-8ccf-11e9-88da-0242ac110002-2-e0c0-2475"
      },
      {
       "current": "9c9b5ed6-8ccf-11e9-88da-0242ac110002-2-e3ed-5594",
       "next": null,
       "previous": "88501184-8970-11eb-a09b-0242ac110002"
      }
     ],
     "next": null,
     "previous": "88501184-8970-11eb-a09b-0242ac110002"
    },
    "lc_wrapper": {
     "log_history": [
      "/notebooks/notebook/work/sinetstream/.log/20210318/20210318-145827-0606.log",
      "/notebooks/notebook/work/sinetstream/.log/20210320/20210320-142424-0262.log",
      "/notebooks/notebook/work/sinetstream/.log/20210320/20210320-142503-0905.log",
      "/notebooks/notebook/work/sinetstream/.log/20210320/20210320-143229-0702.log",
      "/notebooks/notebook/work/sinetstream/.log/20210320/20210320-143352-0007.log",
      "/notebooks/notebook/work/sinetstream/.log/20210320/20210320-143454-0041.log",
      "/notebooks/notebook/work/sinetstream/.log/20210320/20210320-145448-0595.log",
      "/notebooks/notebook/work/sinetstream/.log/20210320/20210320-145544-0403.log",
      "/notebooks/notebook/work/sinetstream/.log/20210320/20210320-145601-0687.log",
      "/notebooks/notebook/work/sinetstream/.log/20210320/20210320-145657-0521.log",
      "/notebooks/notebook/work/sinetstream/.log/20210320/20210320-145753-0049.log",
      "/notebooks/notebook/work/sinetstream/.log/20210320/20210320-172124-0573.log",
      "/notebooks/notebook/work/sinetstream/.log/20210320/20210320-172139-0210.log",
      "/notebooks/notebook/work/sinetstream/.log/20210320/20210320-172239-0892.log",
      "/notebooks/notebook/work/sinetstream/.log/20210320/20210320-173021-0534.log",
      "/notebooks/notebook/work/sinetstream/.log/20210320/20210320-173203-0468.log",
      "/notebooks/notebook/work/sinetstream/.log/20210320/20210320-173537-0768.log",
      "/notebooks/notebook/work/sinetstream/.log/20210320/20210320-173712-0536.log",
      "/notebooks/notebook/work/sinetstream/.log/20210320/20210320-174101-0424.log",
      "/notebooks/notebook/work/sinetstream/.log/20210321/20210321-010806-0387.log",
      "/notebooks/notebook/work/sinetstream/.log/20210322/20210322-003507-0994.log",
      "/notebooks/notebook/work/sinetstream/.log/20210322/20210322-003615-0178.log",
      "/notebooks/notebook/work/sinetstream/.log/20210322/20210322-115857-0904.log",
      "/notebooks/notebook/work/sinetstream/.log/20210322/20210322-120000-0238.log",
      "/notebooks/notebook/work/sinetstream/.log/20210322/20210322-145339-0138.log",
      "/notebooks/notebook/work/sinetstream/.log/20210324/20210324-235517-0678.log",
      "/notebooks/notebook/work/sinetstream/.log/20210324/20210324-235637-0439.log",
      "/notebooks/notebook/work/sinetstream/.log/20210324/20210324-235720-0825.log",
      "/notebooks/notebook/work/sinetstream/.log/20210325/20210325-132637-0132.log",
      "/notebooks/notebook/work/sinetstream/.log/20210325/20210325-132651-0218.log",
      "/notebooks/notebook/work/sinetstream/.log/20210325/20210325-132709-0417.log",
      "/notebooks/notebook/work/sinetstream/.log/20210325/20210325-133133-0835.log",
      "/notebooks/notebook/work/sinetstream/.log/20210325/20210325-133210-0812.log",
      "/notebooks/notebook/work/sinetstream/.log/20210325/20210325-133236-0037.log",
      "/notebooks/notebook/work/sinetstream/.log/20210325/20210325-133258-0555.log",
      "/notebooks/notebook/work/sinetstream/.log/20210325/20210325-133313-0738.log",
      "/notebooks/notebook/work/sinetstream/.log/20210325/20210325-133416-0545.log",
      "/notebooks/notebook/work/sinetstream/.log/20210325/20210325-140901-0754.log",
      "/notebooks/notebook/work/sinetstream/.log/20210326/20210326-175722-0270.log",
      "/notebooks/notebook/work/sinetstream/.log/20210326/20210326-175755-0817.log"
     ]
    },
    "pinned_outputs": []
   },
   "outputs": [
    {
     "data": {
      "image/png": "[encoded data removed]",
      "text/plain": [
       "<Figure size 864x1728 with 6 Axes>"
      ]
     },
     "metadata": {
      "needs_background": "light"
     },
     "output_type": "display_data"
    }
   ],
   "source": [
    "#グラフとして表示する項目のコメントアウトを外してください。(複数可能)\n",
    "output_columns = [\n",
    "#        'writer_start_time',\n",
    "#        'writer_start_time_ms'\n",
    "#        'writer_end_time',\n",
    "#        'writer_end_time_ms', \n",
    "#        'writer_time',\n",
    "#        'writer_time_ms',\n",
    "#        'writer_msg_count_total',\n",
    "        'writer_msg_count_rate',\n",
    "#        'writer_msg_bytes_total',\n",
    "        'writer_msg_bytes_rate',\n",
    "#        'writer_msg_size_min',\n",
    "#        'writer_msg_size_max',\n",
    "#        'writer_msg_size_avg',\n",
    "#        'writer_error_count_total',\n",
    "        'writer_error_count_rate',\n",
    "#        'reader_start_time',\n",
    "#        'reader_end_time',\n",
    "#        'reader_time',\n",
    "#        'reader_msg_count_total',\n",
    "        'reader_msg_count_rate',\n",
    "#        'reader_msg_bytes_total',\n",
    "        'reader_msg_bytes_rate',\n",
    "#        'reader_msg_size_min',\n",
    "#        'reader_msg_size_max',\n",
    "#        'reader_msg_size_avg',\n",
    "#        'reader_error_count_total',\n",
    "        'reader_error_count_rate',\n",
    "]\n",
    "\n",
    "import pandas\n",
    "import matplotlib.pyplot as pyplot\n",
    "\n",
    "fig_height = 4 * len(output_columns)\n",
    "df = pandas.read_table(result_file)\n",
    "df.loc[:,output_columns].plot.line(subplots=True, figsize=(12,fig_height), ylim=[0, None])\n",
    "pyplot.show()\n"
   ]
  }
 ],
 "metadata": {
  "kernelspec": {
   "display_name": "Python 3",
   "language": "python",
   "name": "python3"
  },
  "language_info": {
   "file_extension": ".py",
   "mimetype": "text/x-python",
   "name": "python",
   "nbconvert_exporter": "python",
   "pygments_lexer": "ipython3",
   "version": "3.7.6"
  },
  "lc_notebook_meme": {
   "current": "e190f7d2-4574-11e9-b072-0242ac110002",
   "lc_server_signature": {
    "current": {
     "notebook_dir": "/notebooks/notebook",
     "notebook_path": "/work/sinetstream",
     "server_url": "http://vcc1045.vcp-handson.org/jupyter/",
     "signature_id": "7776a0a6-176c-11eb-a09b-0242ac110002"
    },
    "history": [
     {
      "notebook_dir": "/notebooks/notebook",
      "notebook_path": "/vcpsdk/動作確認",
      "server_url": "http://13.114.71.115/jupyter/",
      "signature_id": "b7cae6dc-3a3a-11e9-b072-0242ac110002"
     },
     {
      "notebook_dir": "/notebooks/notebook",
      "notebook_path": "/",
      "server_url": "http://13.114.71.115/jupyter/",
      "signature_id": "b7cae6dc-3a3a-11e9-b072-0242ac110002"
     },
     {
      "notebook_dir": "/notebooks/notebook",
      "notebook_path": "/BACKUP",
      "server_url": "http://13.114.71.115/jupyter/",
      "signature_id": "215bf5ce-5f4c-11e9-88da-0242ac110002"
     },
     {
      "notebook_dir": "/notebooks/notebook",
      "notebook_path": "/",
      "server_url": "http://13.114.71.115/jupyter/",
      "signature_id": "215bf5ce-5f4c-11e9-88da-0242ac110002"
     },
     {
      "notebook_dir": "/notebooks/notebook",
      "notebook_path": "/",
      "server_url": "http://localhost:5965/jupyter/",
      "signature_id": "215bf5ce-5f4c-11e9-88da-0242ac110002"
     },
     {
      "notebook_dir": "/notebooks/notebook",
      "notebook_path": "/wada_work",
      "server_url": "http://localhost:5965/jupyter/",
      "signature_id": "320d6062-22ea-11ea-9618-0242ac110002"
     },
     {
      "notebook_dir": "/notebooks/notebook",
      "notebook_path": "/work",
      "server_url": "http://localhost:5965/jupyter/",
      "signature_id": "f5fb6aea-7e3f-11ea-898d-0242ac110002"
     },
     {
      "notebook_dir": "/notebooks/notebook",
      "notebook_path": "/work",
      "server_url": "http://vcc1045.vcp-handson.org/jupyter/",
      "signature_id": "7776a0a6-176c-11eb-a09b-0242ac110002"
     }
    ]
   }
  },
  "toc": {
   "base_numbering": 1,
   "nav_menu": {},
   "number_sections": true,
   "sideBar": true,
   "skip_h1_title": false,
   "title_cell": "Table of Contents",
   "title_sidebar": "Contents",
   "toc_cell": false,
   "toc_position": {
    "height": "826px",
    "left": "0px",
    "right": "1202px",
    "top": "111px",
    "width": "213px"
   },
   "toc_section_display": "block",
   "toc_window_display": true
  }
 },
 "nbformat": 4,
 "nbformat_minor": 2
}
