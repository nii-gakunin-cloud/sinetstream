{
 "cells": [
  {
   "cell_type": "markdown",
   "metadata": {
    "lc_cell_meme": {
     "current": "e190f930-4574-11e9-b072-0242ac110002-2-97ab-6e92",
     "history": [
      {
       "current": "e190f930-4574-11e9-b072-0242ac110002",
       "next": "e190f994-4574-11e9-b072-0242ac110002",
       "previous": null
      },
      {
       "current": "e190f930-4574-11e9-b072-0242ac110002",
       "next": "57c2ff04-462e-11e9-b072-0242ac110002",
       "previous": null
      },
      {
       "current": "e190f930-4574-11e9-b072-0242ac110002",
       "next": "e6d37b42-462e-11e9-b072-0242ac110002",
       "previous": null
      },
      {
       "current": "e190f930-4574-11e9-b072-0242ac110002",
       "next": "bdc94ac4-4633-11e9-b072-0242ac110002",
       "previous": null
      },
      {
       "current": "e190f930-4574-11e9-b072-0242ac110002",
       "next": "64ffcf54-8cb4-11e9-88da-0242ac110002",
       "previous": null
      },
      {
       "current": "e190f930-4574-11e9-b072-0242ac110002-1-97ab",
       "next": "4cb01526-2502-11ea-9618-0242ac110002",
       "previous": null
      },
      {
       "current": "e190f930-4574-11e9-b072-0242ac110002-2-97ab-6e92",
       "next": "4cb01526-2502-11ea-9618-0242ac110002-1-df1a",
       "previous": null
      }
     ],
     "next": "dbc0898a-2502-11ea-9618-0242ac110002-2-aa6f-28bf",
     "previous": null
    }
   },
   "source": [
    "※ このNotebookでは、perftool動作確認のための環境構築を\n",
    "を実施します。\n"
   ]
  },
  {
   "cell_type": "markdown",
   "metadata": {
    "lc_cell_meme": {
     "current": "dbc0898a-2502-11ea-9618-0242ac110002-2-aa6f-28bf",
     "execution_end_time": "2019-12-22T21:33:13.138722Z",
     "history": [
      {
       "current": "dbc0898a-2502-11ea-9618-0242ac110002-1-aa6f",
       "next": "dbc08b10-2502-11ea-9618-0242ac110002",
       "previous": "4cb016c0-2502-11ea-9618-0242ac110002"
      },
      {
       "current": "dbc0898a-2502-11ea-9618-0242ac110002-2-aa6f-28bf",
       "next": "dbc08b10-2502-11ea-9618-0242ac110002-1-2306",
       "previous": "4cb016c0-2502-11ea-9618-0242ac110002-1-bfbe"
      }
     ],
     "next": "dbc08b10-2502-11ea-9618-0242ac110002-2-2306-16c7",
     "previous": "e190f930-4574-11e9-b072-0242ac110002-2-97ab-6e92"
    },
    "lc_wrapper": {
     "log_history": [
      "/notebooks/notebook/wada_work/.log/20191223/20191223-063313-0134.log"
     ]
    }
   },
   "source": [
    "## ssh公開鍵の作成\n",
    "\n",
    "Jupyter Notebook サーバからVCノードに ssh 接続するために、ssh キーペアを作成しておきます。"
   ]
  },
  {
   "cell_type": "code",
   "execution_count": 3,
   "metadata": {
    "deletable": false,
    "editable": false,
    "lc_cell_meme": {
     "current": "dbc08b10-2502-11ea-9618-0242ac110002-2-2306-16c7",
     "execution_end_time": "2021-03-18T05:53:23.369253Z",
     "history": [
      {
       "current": "dbc08b10-2502-11ea-9618-0242ac110002",
       "next": "ac86c904-8cb4-11e9-88da-0242ac110002",
       "previous": "dbc0898a-2502-11ea-9618-0242ac110002"
      },
      {
       "current": "dbc08b10-2502-11ea-9618-0242ac110002-1-2306",
       "next": "236c8a68-2503-11ea-9618-0242ac110002",
       "previous": "dbc0898a-2502-11ea-9618-0242ac110002"
      },
      {
       "current": "dbc08b10-2502-11ea-9618-0242ac110002-2-2306-16c7",
       "next": "236c8a68-2503-11ea-9618-0242ac110002-1-a4ac",
       "previous": "dbc0898a-2502-11ea-9618-0242ac110002-1-aa6f"
      }
     ],
     "next": "4161c992-2504-11ea-9618-0242ac110002-2-c95d-9d55",
     "previous": "dbc0898a-2502-11ea-9618-0242ac110002-2-aa6f-28bf"
    },
    "lc_wrapper": {
     "log_history": [
      "/notebooks/notebook/work/sinetstream/.log/20210318/20210318-145322-0427.log"
     ]
    },
    "run_through_control": {
     "frozen": true,
     "read_only": false
    }
   },
   "outputs": [],
   "source": [
    "# 動作確認用SSHキーペア作成\n",
    "!mkdir -p ~/.ssh\n",
    "!test -f ~/.ssh/id_rsa || ssh-keygen -t rsa -f ~/.ssh/id_rsa -N \"\""
   ]
  },
  {
   "cell_type": "markdown",
   "metadata": {
    "lc_cell_meme": {
     "current": "4161c992-2504-11ea-9618-0242ac110002-2-c95d-9d55",
     "execution_end_time": "2019-12-22T21:43:14.706676Z",
     "history": [
      {
       "current": "4161c992-2504-11ea-9618-0242ac110002-1-c95d",
       "next": "ac86c904-8cb4-11e9-88da-0242ac110002",
       "previous": "236c8a68-2503-11ea-9618-0242ac110002"
      },
      {
       "current": "4161c992-2504-11ea-9618-0242ac110002-2-c95d-9d55",
       "next": "ac86c904-8cb4-11e9-88da-0242ac110002-1-bd59",
       "previous": "236c8a68-2503-11ea-9618-0242ac110002-1-a4ac"
      }
     ],
     "next": "ac86c904-8cb4-11e9-88da-0242ac110002-2-bd59-a4e9",
     "previous": "dbc08b10-2502-11ea-9618-0242ac110002-2-2306-16c7"
    },
    "lc_wrapper": {
     "log_history": [
      "/notebooks/notebook/wada_work/.log/20191223/20191223-064306-0539.log",
      "/notebooks/notebook/wada_work/.log/20191223/20191223-064314-0702.log"
     ]
    }
   },
   "source": [
    "# VCノードの作成"
   ]
  },
  {
   "cell_type": "markdown",
   "metadata": {
    "lc_cell_meme": {
     "current": "ac86c904-8cb4-11e9-88da-0242ac110002-2-bd59-a4e9",
     "history": [
      {
       "current": "ac86c904-8cb4-11e9-88da-0242ac110002",
       "next": "bdc94ac4-4633-11e9-b072-0242ac110002",
       "previous": "e6d37b42-462e-11e9-b072-0242ac110002"
      },
      {
       "current": "ac86c904-8cb4-11e9-88da-0242ac110002",
       "next": "bdc94ac4-4633-11e9-b072-0242ac110002",
       "previous": "052b8f5a-2502-11ea-9618-0242ac110002"
      },
      {
       "current": "ac86c904-8cb4-11e9-88da-0242ac110002",
       "next": "bdc94ac4-4633-11e9-b072-0242ac110002",
       "previous": "4cb016c0-2502-11ea-9618-0242ac110002"
      },
      {
       "current": "ac86c904-8cb4-11e9-88da-0242ac110002",
       "next": "bdc94ac4-4633-11e9-b072-0242ac110002",
       "previous": "dbc08b10-2502-11ea-9618-0242ac110002"
      },
      {
       "current": "ac86c904-8cb4-11e9-88da-0242ac110002",
       "next": "bdc94ac4-4633-11e9-b072-0242ac110002",
       "previous": "236c8a68-2503-11ea-9618-0242ac110002"
      },
      {
       "current": "ac86c904-8cb4-11e9-88da-0242ac110002-1-bd59",
       "next": "bdc94ac4-4633-11e9-b072-0242ac110002",
       "previous": "4161c992-2504-11ea-9618-0242ac110002"
      },
      {
       "current": "ac86c904-8cb4-11e9-88da-0242ac110002-2-bd59-a4e9",
       "next": "bdc94ac4-4633-11e9-b072-0242ac110002-1-3c2b",
       "previous": "4161c992-2504-11ea-9618-0242ac110002-1-c95d"
      }
     ],
     "next": "bdc94ac4-4633-11e9-b072-0242ac110002-2-3c2b-562b",
     "previous": "4161c992-2504-11ea-9618-0242ac110002-2-c95d-9d55"
    }
   },
   "source": [
    "## VCP SDK の初期化"
   ]
  },
  {
   "cell_type": "markdown",
   "metadata": {
    "lc_cell_meme": {
     "current": "bdc94ac4-4633-11e9-b072-0242ac110002-2-3c2b-562b",
     "history": [
      {
       "current": "bdc94ac4-4633-11e9-b072-0242ac110002",
       "next": "57c2ff04-462e-11e9-b072-0242ac110002",
       "previous": "e6d37b42-462e-11e9-b072-0242ac110002"
      },
      {
       "current": "bdc94ac4-4633-11e9-b072-0242ac110002-1-3c2b",
       "next": "57c2ff04-462e-11e9-b072-0242ac110002",
       "previous": "ac86c904-8cb4-11e9-88da-0242ac110002"
      },
      {
       "current": "bdc94ac4-4633-11e9-b072-0242ac110002-2-3c2b-562b",
       "next": "57c2ff04-462e-11e9-b072-0242ac110002-1-d190",
       "previous": "ac86c904-8cb4-11e9-88da-0242ac110002-1-bd59"
      }
     ],
     "next": "57c2ff04-462e-11e9-b072-0242ac110002-2-d190-404b",
     "previous": "ac86c904-8cb4-11e9-88da-0242ac110002-2-bd59-a4e9"
    }
   },
   "source": [
    "VCP SDK を使用ために、はじめにアクセストークンを使用して VCP SDKを初期化してください。  \n",
    "次のセルを実行すると、VCコントローラのアクセストークンの入力枠が表示されます。  \n",
    "アクセストークンの値を入力し、Enterキーを押すことで初期化が完了します。"
   ]
  },
  {
   "cell_type": "code",
   "execution_count": 1,
   "metadata": {
    "deletable": false,
    "editable": false,
    "lc_cell_meme": {
     "current": "57c2ff04-462e-11e9-b072-0242ac110002-2-d190-404b",
     "execution_end_time": "2021-03-18T05:42:57.462774Z",
     "history": [
      {
       "current": "57c2ff04-462e-11e9-b072-0242ac110002",
       "next": "e190f994-4574-11e9-b072-0242ac110002",
       "previous": "e190f930-4574-11e9-b072-0242ac110002"
      },
      {
       "current": "57c2ff04-462e-11e9-b072-0242ac110002",
       "next": "e190f994-4574-11e9-b072-0242ac110002",
       "previous": "e6d37b42-462e-11e9-b072-0242ac110002"
      },
      {
       "current": "57c2ff04-462e-11e9-b072-0242ac110002",
       "next": "4c72da28-4630-11e9-b072-0242ac110002",
       "previous": "e6d37b42-462e-11e9-b072-0242ac110002"
      },
      {
       "current": "57c2ff04-462e-11e9-b072-0242ac110002",
       "next": "4c72da28-4630-11e9-b072-0242ac110002",
       "previous": "bdc94ac4-4633-11e9-b072-0242ac110002"
      },
      {
       "current": "57c2ff04-462e-11e9-b072-0242ac110002",
       "next": "bdc94ac4-4633-11e9-b072-0242ac110002",
       "previous": "bdc94ac4-4633-11e9-b072-0242ac110002"
      },
      {
       "current": "57c2ff04-462e-11e9-b072-0242ac110002",
       "next": "ac86ca12-8cb4-11e9-88da-0242ac110002",
       "previous": "bdc94ac4-4633-11e9-b072-0242ac110002"
      },
      {
       "current": "57c2ff04-462e-11e9-b072-0242ac110002-1-d190",
       "next": "bdc94ac4-4633-11e9-b072-0242ac110002",
       "previous": "bdc94ac4-4633-11e9-b072-0242ac110002"
      },
      {
       "current": "57c2ff04-462e-11e9-b072-0242ac110002-2-d190-404b",
       "next": "bdc94ac4-4633-11e9-b072-0242ac110002-1-4179",
       "previous": "bdc94ac4-4633-11e9-b072-0242ac110002-1-3c2b"
      }
     ],
     "next": "bdc94ac4-4633-11e9-b072-0242ac110002-2-4179-c314",
     "previous": "bdc94ac4-4633-11e9-b072-0242ac110002-2-3c2b-562b"
    },
    "lc_wrapper": {
     "log_history": [
      "/notebooks/notebook/work/.log/20200424/20200424-151838-0332.log",
      "/notebooks/notebook/work/sinetstream/.log/20210318/20210318-144244-0988.log"
     ]
    },
    "run_through_control": {
     "frozen": true,
     "read_only": false
    },
    "scrolled": true
   },
   "outputs": [
    {
     "name": "stdout",
     "output_type": "stream",
     "text": [
      "········\n",
      "\n",
      "vcplib:\n",
      "  filename: /notebooks/notebook/vcpsdk/vcplib/occtr.py\n",
      "  version: 20.08.0+20200831\n",
      "\n",
      "vcpsdk:\n",
      "  filename: /notebooks/notebook/vcpsdk/vcpsdk/vcpsdk.py\n",
      "  version: 20.10.0+2021001\n",
      "\n",
      "  plugin:\n",
      "    aws: 1.2+20191001\n",
      "    aws_disk: 1.0+20190408\n",
      "    aws_spot: 1.1+20191001\n",
      "    azure: 1.2+20191001\n",
      "    vmware: 1.1+20191001\n",
      "    azure_disk: 1.0+20190408\n",
      "    sakura: 1.1+20191001\n",
      "    sakura_disk: 1.0+20190930\n",
      "    oracle: 1.0+20200331\n",
      "    oracle_disk: 1.0+20200331\n",
      "    aic: 1.2+20191001\n",
      "    abc: 1.3+20190408\n",
      "    hokudai: 1.1+20191001\n",
      "    chameleon: 1.0+20200831\n",
      "    chameleon_ext: 20200831\n",
      "    gcp: 1.0+20190408\n",
      "    onpremises: 1.0+20190408\n",
      "\n",
      "vc_controller:\n",
      "  host: 10.0.0.1\n",
      "  name: vcc1045\n",
      "  wait_timeout_sec: 1000(default 15min)\n",
      "  vc_controller: 20.10.1+20210101\n",
      "  vc_controller_git_tag: 20.10.1\n",
      "\n",
      "  plugin:\n",
      "    vmware: 1.1+20210101\n",
      "    chameleon: 1.0+20210101\n",
      "    azure: 1.2+20210101\n",
      "    aws_spot: 1.1+20210101\n",
      "    aic: 1.2+20210101\n",
      "    sakura: 1.1+20210101\n",
      "    hokudai: 1.1+20210101\n",
      "    abc: 1.3+20210101\n",
      "    oracle: 1.0+20210101\n",
      "    aws: 1.2+20210101\n",
      "    gcp: 1.0+20210101"
     ]
    }
   ],
   "source": [
    "from getpass import getpass\n",
    "vcc_access_token = getpass()\n",
    "\n",
    "from common import logsetting\n",
    "from vcpsdk.vcpsdk import VcpSDK\n",
    "\n",
    "# VCP SDKの初期化\n",
    "vcp = VcpSDK(\n",
    "    vcc_access_token,  # VC Controllerのアクセストークン\n",
    ")\n",
    "\n",
    "vcp.version()\n"
   ]
  },
  {
   "cell_type": "markdown",
   "metadata": {
    "lc_cell_meme": {
     "current": "bdc94ac4-4633-11e9-b072-0242ac110002-2-4179-c314",
     "history": [
      {
       "current": "bdc94ac4-4633-11e9-b072-0242ac110002",
       "next": "57c2ff04-462e-11e9-b072-0242ac110002",
       "previous": "e6d37b42-462e-11e9-b072-0242ac110002"
      },
      {
       "current": "bdc94ac4-4633-11e9-b072-0242ac110002",
       "next": "57c2ff04-462e-11e9-b072-0242ac110002",
       "previous": "ac86c904-8cb4-11e9-88da-0242ac110002"
      },
      {
       "current": "bdc94ac4-4633-11e9-b072-0242ac110002-1-4179",
       "next": "ac86ca12-8cb4-11e9-88da-0242ac110002",
       "previous": "57c2ff04-462e-11e9-b072-0242ac110002"
      },
      {
       "current": "bdc94ac4-4633-11e9-b072-0242ac110002-2-4179-c314",
       "next": "ac86ca12-8cb4-11e9-88da-0242ac110002-1-32c6",
       "previous": "57c2ff04-462e-11e9-b072-0242ac110002-1-d190"
      }
     ],
     "next": "ac86ca12-8cb4-11e9-88da-0242ac110002-2-32c6-31c3",
     "previous": "57c2ff04-462e-11e9-b072-0242ac110002-2-d190-404b"
    }
   },
   "source": [
    "### もしエラーが発生したら...\n",
    "\n",
    "- `Exception: ('VCP', 'config vc failed')` ... 使われたアクセストークンが正しくない\n",
    "- `Exception: ('VCP', 'server error')` ... VCコントローラのIPアドレス設定が正しくないか、ネットワーク接続エラーが発生している"
   ]
  },
  {
   "cell_type": "markdown",
   "metadata": {
    "lc_cell_meme": {
     "current": "ac86ca12-8cb4-11e9-88da-0242ac110002-2-32c6-31c3",
     "history": [
      {
       "current": "ac86ca12-8cb4-11e9-88da-0242ac110002",
       "next": "bdc94ac4-4633-11e9-b072-0242ac110002",
       "previous": "57c2ff04-462e-11e9-b072-0242ac110002"
      },
      {
       "current": "ac86ca12-8cb4-11e9-88da-0242ac110002-1-32c6",
       "next": "bdc94ac4-4633-11e9-b072-0242ac110002",
       "previous": "bdc94ac4-4633-11e9-b072-0242ac110002"
      },
      {
       "current": "ac86ca12-8cb4-11e9-88da-0242ac110002-2-32c6-31c3",
       "next": "bdc94ac4-4633-11e9-b072-0242ac110002-1-51f7",
       "previous": "bdc94ac4-4633-11e9-b072-0242ac110002-1-4179"
      }
     ],
     "next": "bdc94ac4-4633-11e9-b072-0242ac110002-2-51f7-6aca",
     "previous": "bdc94ac4-4633-11e9-b072-0242ac110002-2-4179-c314"
    }
   },
   "source": [
    "## VCノードの起動"
   ]
  },
  {
   "cell_type": "markdown",
   "metadata": {
    "lc_cell_meme": {
     "current": "bdc94ac4-4633-11e9-b072-0242ac110002-2-51f7-6aca",
     "history": [
      {
       "current": "bdc94ac4-4633-11e9-b072-0242ac110002",
       "next": "57c2ff04-462e-11e9-b072-0242ac110002",
       "previous": "e6d37b42-462e-11e9-b072-0242ac110002"
      },
      {
       "current": "bdc94ac4-4633-11e9-b072-0242ac110002",
       "next": "4c72da28-4630-11e9-b072-0242ac110002",
       "previous": "57c2ff04-462e-11e9-b072-0242ac110002"
      },
      {
       "current": "bdc94ac4-4633-11e9-b072-0242ac110002",
       "next": "4c72da28-4630-11e9-b072-0242ac110002",
       "previous": "ac86ca12-8cb4-11e9-88da-0242ac110002"
      },
      {
       "current": "bdc94ac4-4633-11e9-b072-0242ac110002",
       "next": "9c9b5d82-8ccf-11e9-88da-0242ac110002",
       "previous": "ac86ca12-8cb4-11e9-88da-0242ac110002"
      },
      {
       "current": "bdc94ac4-4633-11e9-b072-0242ac110002",
       "next": "4c72da28-4630-11e9-b072-0242ac110002",
       "previous": "ac86ca12-8cb4-11e9-88da-0242ac110002"
      },
      {
       "current": "bdc94ac4-4633-11e9-b072-0242ac110002",
       "next": "2783394e-8e81-11e9-88da-0242ac110002",
       "previous": "ac86ca12-8cb4-11e9-88da-0242ac110002"
      },
      {
       "current": "bdc94ac4-4633-11e9-b072-0242ac110002-1-51f7",
       "next": "4c72da28-4630-11e9-b072-0242ac110002",
       "previous": "ac86ca12-8cb4-11e9-88da-0242ac110002"
      },
      {
       "current": "bdc94ac4-4633-11e9-b072-0242ac110002-2-51f7-6aca",
       "next": "4c72da28-4630-11e9-b072-0242ac110002-1-e002",
       "previous": "ac86ca12-8cb4-11e9-88da-0242ac110002-1-32c6"
      }
     ],
     "next": "4c72da28-4630-11e9-b072-0242ac110002-2-e002-c112",
     "previous": "ac86ca12-8cb4-11e9-88da-0242ac110002-2-32c6-31c3"
    }
   },
   "source": [
    "次のセルを実行し、動作確認用のVCノードを1個作成します。  \n",
    "クラウドのインスタンスを起動してVCノード用の初期設定を行うため、実行完了まで数分程度を要します。"
   ]
  },
  {
   "cell_type": "code",
   "execution_count": 9,
   "metadata": {
    "deletable": false,
    "editable": false,
    "lc_cell_meme": {
     "current": "4c72da28-4630-11e9-b072-0242ac110002-2-e002-c112",
     "execution_end_time": "2021-03-18T05:58:16.997568Z",
     "history": [
      {
       "current": "4c72da28-4630-11e9-b072-0242ac110002",
       "next": "e190f994-4574-11e9-b072-0242ac110002",
       "previous": "57c2ff04-462e-11e9-b072-0242ac110002"
      },
      {
       "current": "4c72da28-4630-11e9-b072-0242ac110002",
       "next": "93f97118-4630-11e9-b072-0242ac110002",
       "previous": "57c2ff04-462e-11e9-b072-0242ac110002"
      },
      {
       "current": "4c72da28-4630-11e9-b072-0242ac110002",
       "next": "a421b3ce-4636-11e9-b072-0242ac110002",
       "previous": "57c2ff04-462e-11e9-b072-0242ac110002"
      },
      {
       "current": "4c72da28-4630-11e9-b072-0242ac110002",
       "next": "a421b3ce-4636-11e9-b072-0242ac110002",
       "previous": "bdc94ac4-4633-11e9-b072-0242ac110002"
      },
      {
       "current": "4c72da28-4630-11e9-b072-0242ac110002",
       "next": "9c9b5ed6-8ccf-11e9-88da-0242ac110002",
       "previous": "9c9b5d82-8ccf-11e9-88da-0242ac110002"
      },
      {
       "current": "4c72da28-4630-11e9-b072-0242ac110002",
       "next": "e42198f6-8ccf-11e9-88da-0242ac110002",
       "previous": "bdc94ac4-4633-11e9-b072-0242ac110002"
      },
      {
       "current": "4c72da28-4630-11e9-b072-0242ac110002",
       "next": "7330f6e0-8cd0-11e9-88da-0242ac110002",
       "previous": "bdc94ac4-4633-11e9-b072-0242ac110002"
      },
      {
       "current": "4c72da28-4630-11e9-b072-0242ac110002",
       "next": "7330f6e0-8cd0-11e9-88da-0242ac110002",
       "previous": "2783394e-8e81-11e9-88da-0242ac110002"
      },
      {
       "current": "4c72da28-4630-11e9-b072-0242ac110002",
       "next": "7330f6e0-8cd0-11e9-88da-0242ac110002",
       "previous": "fe18a6d8-8e81-11e9-88da-0242ac110002"
      },
      {
       "current": "4c72da28-4630-11e9-b072-0242ac110002",
       "next": "7330f6e0-8cd0-11e9-88da-0242ac110002",
       "previous": "2783394e-8e81-11e9-88da-0242ac110002"
      },
      {
       "current": "4c72da28-4630-11e9-b072-0242ac110002",
       "next": "7330f6e0-8cd0-11e9-88da-0242ac110002",
       "previous": "8df69e8c-998a-11e9-88da-0242ac110002"
      },
      {
       "current": "4c72da28-4630-11e9-b072-0242ac110002",
       "next": "7330f6e0-8cd0-11e9-88da-0242ac110002",
       "previous": "2783394e-8e81-11e9-88da-0242ac110002"
      },
      {
       "current": "4c72da28-4630-11e9-b072-0242ac110002",
       "next": "4c72da28-4630-11e9-b072-0242ac110002",
       "previous": "2783394e-8e81-11e9-88da-0242ac110002"
      },
      {
       "current": "4c72da28-4630-11e9-b072-0242ac110002",
       "next": "7330f6e0-8cd0-11e9-88da-0242ac110002",
       "previous": "2783394e-8e81-11e9-88da-0242ac110002"
      },
      {
       "current": "4c72da28-4630-11e9-b072-0242ac110002-1-e002",
       "next": "7330f6e0-8cd0-11e9-88da-0242ac110002",
       "previous": "bdc94ac4-4633-11e9-b072-0242ac110002"
      },
      {
       "current": "4c72da28-4630-11e9-b072-0242ac110002-2-e002-c112",
       "next": "7330f6e0-8cd0-11e9-88da-0242ac110002-1-dcb7",
       "previous": "bdc94ac4-4633-11e9-b072-0242ac110002-1-51f7"
      }
     ],
     "next": "7330f6e0-8cd0-11e9-88da-0242ac110002-2-dcb7-6d27",
     "previous": "bdc94ac4-4633-11e9-b072-0242ac110002-2-51f7-6aca"
    },
    "lc_wrapper": {
     "log_history": [
      "/notebooks/notebook/work/sinetstream/.log/20210318/20210318-145304-0615.log",
      "/notebooks/notebook/work/sinetstream/.log/20210318/20210318-145329-0633.log",
      "/notebooks/notebook/work/sinetstream/.log/20210318/20210318-145354-0292.log",
      "/notebooks/notebook/work/sinetstream/.log/20210318/20210318-145608-0037.log",
      "/notebooks/notebook/work/sinetstream/.log/20210318/20210318-145620-0787.log"
     ]
    },
    "run_through_control": {
     "frozen": true,
     "read_only": false
    }
   },
   "outputs": [
    {
     "name": "stdout",
     "output_type": "stream",
     "text": [
      "2021-03-18 14:56:22,623 - INFO - BOOTING ... 0 sec\n",
      "2021-03-18 14:56:27,750 - INFO - BOOTING ... 5 sec\n",
      "2021-03-18 14:56:32,873 - INFO - BOOTING ... 10 sec\n",
      "2021-03-18 14:56:38,006 - INFO - BOOTING ... 15 sec\n",
      "2021-03-18 14:56:43,135 - INFO - BOOTING ... 20 sec\n",
      "2021-03-18 14:56:48,265 - INFO - BOOTING ... 25 sec\n",
      "2021-03-18 14:56:53,394 - INFO - BOOTING ... 30 sec\n",
      "2021-03-18 14:56:58,531 - INFO - BOOTING ... 35 sec\n",
      "2021-03-18 14:57:03,667 - INFO - BOOTING ... 40 sec\n",
      "2021-03-18 14:57:08,801 - INFO - BOOTING ... 45 sec\n",
      "2021-03-18 14:57:13,930 - INFO - BOOTING ... 50 sec\n",
      "2021-03-18 14:57:19,086 - INFO - BOOTING ... 55 sec\n",
      "2021-03-18 14:57:24,443 - INFO - BOOTING ... 60 sec\n",
      "2021-03-18 14:57:29,707 - INFO - BOOTING ... 65 sec\n",
      "2021-03-18 14:57:34,902 - INFO - BOOTING ... 70 sec\n",
      "2021-03-18 14:57:40,039 - INFO - BOOTING ... 75 sec\n",
      "2021-03-18 14:57:45,172 - INFO - BOOTING ... 80 sec\n",
      "2021-03-18 14:57:50,310 - INFO - BOOTING ... 85 sec\n",
      "2021-03-18 14:57:55,440 - INFO - BOOTING ... 90 sec\n",
      "2021-03-18 14:58:00,580 - INFO - BOOTING ... 95 sec\n",
      "2021-03-18 14:58:05,720 - INFO - BOOTING ... 100 sec\n",
      "2021-03-18 14:58:16,860 - INFO - unit aws-testnodes is RUNNING\n"
     ]
    }
   ],
   "source": [
    "# UnitGroupの作成\n",
    "unit_group = vcp.create_ugroup(\n",
    "    'sinetstream01'    # UnitGroupの名前\n",
    ")\n",
    "\n",
    "spec = vcp.get_spec('aws', 'small')\n",
    "spec.set_ssh_pubkey('/home/jovyan/.ssh/id_rsa.pub')\n",
    "spec.num_nodes = 2\n",
    "\n",
    "unit = unit_group.create_unit(\n",
    "    'aws-testnodes',    # Unit名の指定\n",
    "    spec\n",
    ")\n"
   ]
  },
  {
   "cell_type": "markdown",
   "metadata": {
    "lc_cell_meme": {
     "current": "7330f6e0-8cd0-11e9-88da-0242ac110002-2-dcb7-6d27",
     "history": [
      {
       "current": "7330f6e0-8cd0-11e9-88da-0242ac110002-1-dcb7",
       "next": "e42198f6-8ccf-11e9-88da-0242ac110002",
       "previous": "4c72da28-4630-11e9-b072-0242ac110002"
      },
      {
       "current": "7330f6e0-8cd0-11e9-88da-0242ac110002-2-dcb7-6d27",
       "next": "e42198f6-8ccf-11e9-88da-0242ac110002-1-e0c0",
       "previous": "4c72da28-4630-11e9-b072-0242ac110002-1-e002"
      }
     ],
     "next": "e42198f6-8ccf-11e9-88da-0242ac110002-2-e0c0-2475",
     "previous": "4c72da28-4630-11e9-b072-0242ac110002-2-e002-c112"
    }
   },
   "source": [
    "### もしエラーが発生したら...\n",
    "\n",
    "AWSのクレデンシャル情報が正しくない場合、以下のようなエラーが発生します。  \n",
    "Valut に設定した内容を確認してください。\n",
    "\n",
    "```\n",
    "*** HAS ERROR:\n",
    "---\n",
    "2019/06/12 05:09:13 UTC: * provider.aws: InvalidClientTokenId: The security token included in the request is invalid.\n",
    "---\n",
    "```"
   ]
  },
  {
   "cell_type": "markdown",
   "metadata": {
    "lc_cell_meme": {
     "current": "e42198f6-8ccf-11e9-88da-0242ac110002-2-e0c0-2475",
     "history": [
      {
       "current": "e42198f6-8ccf-11e9-88da-0242ac110002",
       "next": "9c9b5ed6-8ccf-11e9-88da-0242ac110002",
       "previous": "4c72da28-4630-11e9-b072-0242ac110002"
      },
      {
       "current": "e42198f6-8ccf-11e9-88da-0242ac110002-1-e0c0",
       "next": "9c9b5ed6-8ccf-11e9-88da-0242ac110002",
       "previous": "7330f6e0-8cd0-11e9-88da-0242ac110002"
      },
      {
       "current": "e42198f6-8ccf-11e9-88da-0242ac110002-2-e0c0-2475",
       "next": "9c9b5ed6-8ccf-11e9-88da-0242ac110002-1-e3ed",
       "previous": "7330f6e0-8cd0-11e9-88da-0242ac110002-1-dcb7"
      }
     ],
     "next": "9c9b5ed6-8ccf-11e9-88da-0242ac110002-2-e3ed-5594",
     "previous": "7330f6e0-8cd0-11e9-88da-0242ac110002-2-dcb7-6d27"
    }
   },
   "source": [
    "## 起動したVCノードの確認\n",
    "\n",
    "次のセルを実行し、起動したVCノードを確認してください。"
   ]
  },
  {
   "cell_type": "code",
   "execution_count": 10,
   "metadata": {
    "deletable": false,
    "editable": false,
    "lc_cell_meme": {
     "current": "9c9b5ed6-8ccf-11e9-88da-0242ac110002-2-e3ed-5594",
     "execution_end_time": "2021-03-18T05:58:28.042504Z",
     "history": [
      {
       "current": "9c9b5ed6-8ccf-11e9-88da-0242ac110002",
       "next": "a421b3ce-4636-11e9-b072-0242ac110002",
       "previous": "4c72da28-4630-11e9-b072-0242ac110002"
      },
      {
       "current": "9c9b5ed6-8ccf-11e9-88da-0242ac110002-1-e3ed",
       "next": "a421b3ce-4636-11e9-b072-0242ac110002",
       "previous": "e42198f6-8ccf-11e9-88da-0242ac110002"
      },
      {
       "current": "9c9b5ed6-8ccf-11e9-88da-0242ac110002-2-e3ed-5594",
       "next": "a421b3ce-4636-11e9-b072-0242ac110002-1-800c",
       "previous": "e42198f6-8ccf-11e9-88da-0242ac110002-1-e0c0"
      },
      {
       "current": "9c9b5ed6-8ccf-11e9-88da-0242ac110002-2-e3ed-5594",
       "next": "a421b3ce-4636-11e9-b072-0242ac110002-2-800c-6061",
       "previous": "e42198f6-8ccf-11e9-88da-0242ac110002-2-e0c0-2475"
      }
     ],
     "next": "10ee5e4e-8e85-11e9-88da-0242ac110002-2-ebe8-086e",
     "previous": "e42198f6-8ccf-11e9-88da-0242ac110002-2-e0c0-2475"
    },
    "lc_wrapper": {
     "log_history": [
      "/notebooks/notebook/work/sinetstream/.log/20210318/20210318-145827-0606.log"
     ]
    },
    "run_through_control": {
     "frozen": true,
     "read_only": false
    }
   },
   "outputs": [
    {
     "data": {
      "text/html": [
       "<style  type=\"text/css\" >\n",
       "    #T_f5a6ca5c_87ae_11eb_a9c0_0242ac110002row0_col3 {\n",
       "            background-color:  #dfd;\n",
       "        }    #T_f5a6ca5c_87ae_11eb_a9c0_0242ac110002row0_col6 {\n",
       "            background-color:  #dfd;\n",
       "        }    #T_f5a6ca5c_87ae_11eb_a9c0_0242ac110002row1_col3 {\n",
       "            background-color:  #dfd;\n",
       "        }    #T_f5a6ca5c_87ae_11eb_a9c0_0242ac110002row1_col6 {\n",
       "            background-color:  #dfd;\n",
       "        }</style><table id=\"T_f5a6ca5c_87ae_11eb_a9c0_0242ac110002\" ><thead>    <tr>        <th class=\"blank level0\" ></th>        <th class=\"col_heading level0 col0\" >vcno</th>        <th class=\"col_heading level0 col1\" >vcname</th>        <th class=\"col_heading level0 col2\" >unit_name</th>        <th class=\"col_heading level0 col3\" >unit_state</th>        <th class=\"col_heading level0 col4\" >node_no</th>        <th class=\"col_heading level0 col5\" >node_id</th>        <th class=\"col_heading level0 col6\" >node_state</th>        <th class=\"col_heading level0 col7\" >cloud_instance_address</th>        <th class=\"col_heading level0 col8\" >cloud_instance_id</th>        <th class=\"col_heading level0 col9\" >cloud_instance_name</th>        <th class=\"col_heading level0 col10\" >volumes</th>    </tr></thead><tbody>\n",
       "                <tr>\n",
       "                        <th id=\"T_f5a6ca5c_87ae_11eb_a9c0_0242ac110002level0_row0\" class=\"row_heading level0 row0\" >0</th>\n",
       "                        <td id=\"T_f5a6ca5c_87ae_11eb_a9c0_0242ac110002row0_col0\" class=\"data row0 col0\" >99</td>\n",
       "                        <td id=\"T_f5a6ca5c_87ae_11eb_a9c0_0242ac110002row0_col1\" class=\"data row0 col1\" >sinetstream01</td>\n",
       "                        <td id=\"T_f5a6ca5c_87ae_11eb_a9c0_0242ac110002row0_col2\" class=\"data row0 col2\" >aws-testnodes</td>\n",
       "                        <td id=\"T_f5a6ca5c_87ae_11eb_a9c0_0242ac110002row0_col3\" class=\"data row0 col3\" >RUNNING</td>\n",
       "                        <td id=\"T_f5a6ca5c_87ae_11eb_a9c0_0242ac110002row0_col4\" class=\"data row0 col4\" >1</td>\n",
       "                        <td id=\"T_f5a6ca5c_87ae_11eb_a9c0_0242ac110002row0_col5\" class=\"data row0 col5\" >57e0c0fc...</td>\n",
       "                        <td id=\"T_f5a6ca5c_87ae_11eb_a9c0_0242ac110002row0_col6\" class=\"data row0 col6\" >RUNNING</td>\n",
       "                        <td id=\"T_f5a6ca5c_87ae_11eb_a9c0_0242ac110002row0_col7\" class=\"data row0 col7\" >172.30.2.7</td>\n",
       "                        <td id=\"T_f5a6ca5c_87ae_11eb_a9c0_0242ac110002row0_col8\" class=\"data row0 col8\" >i-098a811c793e9520e</td>\n",
       "                        <td id=\"T_f5a6ca5c_87ae_11eb_a9c0_0242ac110002row0_col9\" class=\"data row0 col9\" >VCP-f7944417-b6973f9d</td>\n",
       "                        <td id=\"T_f5a6ca5c_87ae_11eb_a9c0_0242ac110002row0_col10\" class=\"data row0 col10\" >none</td>\n",
       "            </tr>\n",
       "            <tr>\n",
       "                        <th id=\"T_f5a6ca5c_87ae_11eb_a9c0_0242ac110002level0_row1\" class=\"row_heading level0 row1\" >1</th>\n",
       "                        <td id=\"T_f5a6ca5c_87ae_11eb_a9c0_0242ac110002row1_col0\" class=\"data row1 col0\" >99</td>\n",
       "                        <td id=\"T_f5a6ca5c_87ae_11eb_a9c0_0242ac110002row1_col1\" class=\"data row1 col1\" >sinetstream01</td>\n",
       "                        <td id=\"T_f5a6ca5c_87ae_11eb_a9c0_0242ac110002row1_col2\" class=\"data row1 col2\" >aws-testnodes</td>\n",
       "                        <td id=\"T_f5a6ca5c_87ae_11eb_a9c0_0242ac110002row1_col3\" class=\"data row1 col3\" >RUNNING</td>\n",
       "                        <td id=\"T_f5a6ca5c_87ae_11eb_a9c0_0242ac110002row1_col4\" class=\"data row1 col4\" >2</td>\n",
       "                        <td id=\"T_f5a6ca5c_87ae_11eb_a9c0_0242ac110002row1_col5\" class=\"data row1 col5\" >a87b6a07...</td>\n",
       "                        <td id=\"T_f5a6ca5c_87ae_11eb_a9c0_0242ac110002row1_col6\" class=\"data row1 col6\" >RUNNING</td>\n",
       "                        <td id=\"T_f5a6ca5c_87ae_11eb_a9c0_0242ac110002row1_col7\" class=\"data row1 col7\" >172.30.2.36</td>\n",
       "                        <td id=\"T_f5a6ca5c_87ae_11eb_a9c0_0242ac110002row1_col8\" class=\"data row1 col8\" >i-03a60dba52e253e2f</td>\n",
       "                        <td id=\"T_f5a6ca5c_87ae_11eb_a9c0_0242ac110002row1_col9\" class=\"data row1 col9\" >VCP-f7944417-b6973f9d</td>\n",
       "                        <td id=\"T_f5a6ca5c_87ae_11eb_a9c0_0242ac110002row1_col10\" class=\"data row1 col10\" >none</td>\n",
       "            </tr>\n",
       "    </tbody></table>"
      ],
      "text/plain": [
       "<pandas.io.formats.style.Styler at 0x7f41a2dff510>"
      ]
     },
     "execution_count": 10,
     "metadata": {},
     "output_type": "execute_result"
    }
   ],
   "source": [
    "unit.df_nodes()"
   ]
  },
  {
   "cell_type": "markdown",
   "metadata": {
    "lc_cell_meme": {
     "current": "10ee5e4e-8e85-11e9-88da-0242ac110002-2-ebe8-086e",
     "history": [
      {
       "current": "10ee5e4e-8e85-11e9-88da-0242ac110002-1-ebe8",
       "next": "ac86ca76-8cb4-11e9-88da-0242ac110002",
       "previous": "a421b3ce-4636-11e9-b072-0242ac110002"
      },
      {
       "current": "10ee5e4e-8e85-11e9-88da-0242ac110002-2-ebe8-086e",
       "next": "ac86ca76-8cb4-11e9-88da-0242ac110002-1-f8d8",
       "previous": "a421b3ce-4636-11e9-b072-0242ac110002-1-800c"
      },
      {
       "current": "10ee5e4e-8e85-11e9-88da-0242ac110002-2-ebe8-086e",
       "next": "ac86ca76-8cb4-11e9-88da-0242ac110002-2-f8d8-2930",
       "previous": "a421b3ce-4636-11e9-b072-0242ac110002-2-800c-6061"
      },
      {
       "current": "10ee5e4e-8e85-11e9-88da-0242ac110002-2-ebe8-086e",
       "next": "ac86ca76-8cb4-11e9-88da-0242ac110002-2-f8d8-2930",
       "previous": "9c9b5ed6-8ccf-11e9-88da-0242ac110002-2-e3ed-5594"
      }
     ],
     "next": "5ec8b4b6-87b7-11eb-a09b-0242ac110002",
     "previous": "9c9b5ed6-8ccf-11e9-88da-0242ac110002-2-e3ed-5594"
    }
   },
   "source": [
    "## VCノードへのsshログイン\n",
    "\n",
    "JupyterNotebook の Terminal 機能を用いて、作成したVCノードにsshログインすることができます。  \n",
    "VCノードのIPアドレスは上記の `unit.df_nodes()` の出力に含まれています。\n",
    "\n",
    "```\n",
    "$ ssh -i ~/.ssh/id_rsa root@{cloud_instance_address}\n",
    "```"
   ]
  },
  {
   "cell_type": "code",
   "execution_count": 11,
   "metadata": {
    "deletable": false,
    "editable": false,
    "lc_cell_meme": {
     "current": "5ec8b4b6-87b7-11eb-a09b-0242ac110002",
     "execution_end_time": "2021-03-18T07:04:57.260120Z",
     "history": [
      {
       "current": "5ec8b4b6-87b7-11eb-a09b-0242ac110002",
       "next": "ac86ca76-8cb4-11e9-88da-0242ac110002-2-f8d8-2930",
       "previous": "10ee5e4e-8e85-11e9-88da-0242ac110002-2-ebe8-086e"
      },
      {
       "current": "5ec8b4b6-87b7-11eb-a09b-0242ac110002",
       "next": "a66fe6d6-87b7-11eb-a09b-0242ac110002",
       "previous": "10ee5e4e-8e85-11e9-88da-0242ac110002-2-ebe8-086e"
      }
     ],
     "next": "a66fe6d6-87b7-11eb-a09b-0242ac110002-1-4354",
     "previous": "10ee5e4e-8e85-11e9-88da-0242ac110002-2-ebe8-086e"
    },
    "lc_wrapper": {
     "log_history": [
      "/notebooks/notebook/work/sinetstream/.log/20210318/20210318-160457-0120.log"
     ]
    },
    "run_through_control": {
     "frozen": true,
     "read_only": false
    }
   },
   "outputs": [],
   "source": [
    "# unit_group.find_ip_addresses() は UnitGroup内の全VCノードのIPアドレスのリストを返します\n",
    "ip_addresses = unit_group.find_ip_addresses(node_state='RUNNING')\n",
    "client_ip = ip_addresses[0]\n",
    "server_ip = ip_addresses[1]"
   ]
  },
  {
   "cell_type": "markdown",
   "metadata": {
    "lc_cell_meme": {
     "current": "a66fe6d6-87b7-11eb-a09b-0242ac110002-1-4354",
     "history": [
      {
       "current": "a66fe6d6-87b7-11eb-a09b-0242ac110002-1-4354",
       "next": "ac86ca76-8cb4-11e9-88da-0242ac110002-2-f8d8-2930",
       "previous": "5ec8b4b6-87b7-11eb-a09b-0242ac110002"
      }
     ],
     "next": "edd39be4-87b7-11eb-a09b-0242ac110002",
     "previous": "5ec8b4b6-87b7-11eb-a09b-0242ac110002"
    }
   },
   "source": [
    "まず、ログインする前に ~/.ssh/known_hosts のホストキーを更新します。"
   ]
  },
  {
   "cell_type": "code",
   "execution_count": 12,
   "metadata": {
    "deletable": false,
    "editable": false,
    "lc_cell_meme": {
     "current": "edd39be4-87b7-11eb-a09b-0242ac110002",
     "execution_end_time": "2021-03-18T07:05:02.882823Z",
     "history": [
      {
       "current": "edd39be4-87b7-11eb-a09b-0242ac110002",
       "next": "ac86ca76-8cb4-11e9-88da-0242ac110002-2-f8d8-2930",
       "previous": "a66fe6d6-87b7-11eb-a09b-0242ac110002-1-4354"
      }
     ],
     "next": "3554783a-87b8-11eb-a09b-0242ac110002",
     "previous": "a66fe6d6-87b7-11eb-a09b-0242ac110002-1-4354"
    },
    "lc_wrapper": {
     "log_history": [
      "/notebooks/notebook/work/sinetstream/.log/20210318/20210318-160500-0438.log"
     ]
    },
    "run_through_control": {
     "frozen": true,
     "read_only": false
    }
   },
   "outputs": [
    {
     "name": "stdout",
     "output_type": "stream",
     "text": [
      "# Host 172.30.2.7 found: line 16\n",
      "# Host 172.30.2.7 found: line 17\n",
      "# Host 172.30.2.7 found: line 18\n",
      "/home/jovyan/.ssh/known_hosts updated.\n",
      "Original contents retained as /home/jovyan/.ssh/known_hosts.old\n",
      "Host 172.30.2.36 not found in /home/jovyan/.ssh/known_hosts\n",
      "# 172.30.2.7:22 SSH-2.0-OpenSSH_8.1\n",
      "# 172.30.2.7:22 SSH-2.0-OpenSSH_8.1\n",
      "# 172.30.2.7:22 SSH-2.0-OpenSSH_8.1\n",
      "# 172.30.2.36:22 SSH-2.0-OpenSSH_8.1\n",
      "# 172.30.2.36:22 SSH-2.0-OpenSSH_8.1\n",
      "# 172.30.2.36:22 SSH-2.0-OpenSSH_8.1\n"
     ]
    }
   ],
   "source": [
    "!touch ~/.ssh/known_hosts\n",
    "# ~/.ssh/known_hosts から古いホストキーを削除する\n",
    "!ssh-keygen -R {client_ip}\n",
    "!ssh-keygen -R {server_ip}\n",
    "\n",
    "# ホストキーの登録\n",
    "!ssh-keyscan -H {client_ip} >> ~/.ssh/known_hosts\n",
    "!ssh-keyscan -H {server_ip} >> ~/.ssh/known_hosts"
   ]
  },
  {
   "cell_type": "code",
   "execution_count": 15,
   "metadata": {
    "deletable": false,
    "editable": false,
    "lc_cell_meme": {
     "current": "3554783a-87b8-11eb-a09b-0242ac110002",
     "execution_end_time": "2021-03-18T07:07:24.733114Z",
     "next": "35547a24-87b8-11eb-a09b-0242ac110002",
     "previous": "edd39be4-87b7-11eb-a09b-0242ac110002"
    },
    "lc_wrapper": {
     "log_history": [
      "/notebooks/notebook/work/sinetstream/.log/20210318/20210318-160509-0829.log",
      "/notebooks/notebook/work/sinetstream/.log/20210318/20210318-160644-0525.log",
      "/notebooks/notebook/work/sinetstream/.log/20210318/20210318-160724-0727.log"
     ]
    },
    "run_through_control": {
     "frozen": true,
     "read_only": false
    }
   },
   "outputs": [],
   "source": [
    "import os\n",
    "ssh_private_key = os.path.expanduser('~/.ssh/id_rsa')\n",
    "ssh_opts = f\"-i {ssh_private_key} -l root\""
   ]
  },
  {
   "cell_type": "code",
   "execution_count": 16,
   "metadata": {
    "deletable": false,
    "editable": false,
    "lc_cell_meme": {
     "current": "35547a24-87b8-11eb-a09b-0242ac110002",
     "execution_end_time": "2021-03-18T07:07:30.876874Z",
     "history": [
      {
       "current": "35547a24-87b8-11eb-a09b-0242ac110002",
       "next": "ac86ca76-8cb4-11e9-88da-0242ac110002-2-f8d8-2930",
       "previous": "3554783a-87b8-11eb-a09b-0242ac110002"
      },
      {
       "current": "35547a24-87b8-11eb-a09b-0242ac110002",
       "next": "c46035c8-87b8-11eb-a09b-0242ac110002",
       "previous": "3554783a-87b8-11eb-a09b-0242ac110002"
      }
     ],
     "next": "c46035c8-87b8-11eb-a09b-0242ac110002-1-b1b4",
     "previous": "3554783a-87b8-11eb-a09b-0242ac110002"
    },
    "lc_wrapper": {
     "log_history": [
      "/notebooks/notebook/work/sinetstream/.log/20210318/20210318-160729-0636.log"
     ]
    },
    "run_through_control": {
     "frozen": true,
     "read_only": false
    }
   },
   "outputs": [
    {
     "name": "stdout",
     "output_type": "stream",
     "text": [
      "Linux ip-172-30-2-7 4.4.0-159-generic #187-Ubuntu SMP Thu Aug 1 16:28:06 UTC 2019 x86_64 Linux\n",
      "Linux ip-172-30-2-36 4.4.0-159-generic #187-Ubuntu SMP Thu Aug 1 16:28:06 UTC 2019 x86_64 Linux\n"
     ]
    }
   ],
   "source": [
    "!ssh {ssh_opts} {client_ip} uname -a\n",
    "!ssh {ssh_opts} {server_ip} uname -a"
   ]
  },
  {
   "cell_type": "markdown",
   "metadata": {
    "lc_cell_meme": {
     "current": "c46035c8-87b8-11eb-a09b-0242ac110002-1-b1b4",
     "history": [
      {
       "current": "c46035c8-87b8-11eb-a09b-0242ac110002-1-b1b4",
       "next": "ac86ca76-8cb4-11e9-88da-0242ac110002-2-f8d8-2930",
       "previous": "35547a24-87b8-11eb-a09b-0242ac110002"
      },
      {
       "current": "c46035c8-87b8-11eb-a09b-0242ac110002-1-b1b4",
       "next": "0be5d13c-87b9-11eb-a09b-0242ac110002",
       "previous": "35547a24-87b8-11eb-a09b-0242ac110002"
      }
     ],
     "next": "0be5d344-87b9-11eb-a09b-0242ac110002",
     "previous": "35547a24-87b8-11eb-a09b-0242ac110002"
    }
   },
   "source": [
    "##  Brokerを準備する"
   ]
  },
  {
   "cell_type": "code",
   "execution_count": 18,
   "metadata": {
    "deletable": false,
    "editable": false,
    "lc_cell_meme": {
     "current": "0be5d344-87b9-11eb-a09b-0242ac110002",
     "execution_end_time": "2021-03-18T07:15:23.736781Z",
     "history": [
      {
       "current": "0be5d344-87b9-11eb-a09b-0242ac110002",
       "next": "ac86ca76-8cb4-11e9-88da-0242ac110002-2-f8d8-2930",
       "previous": "0be5d13c-87b9-11eb-a09b-0242ac110002"
      },
      {
       "current": "0be5d344-87b9-11eb-a09b-0242ac110002",
       "next": "e2734928-87b9-11eb-a09b-0242ac110002",
       "previous": "0be5d13c-87b9-11eb-a09b-0242ac110002"
      }
     ],
     "next": "e2734928-87b9-11eb-a09b-0242ac110002",
     "previous": "c46035c8-87b8-11eb-a09b-0242ac110002-1-b1b4"
    },
    "lc_wrapper": {
     "log_history": [
      "/notebooks/notebook/work/sinetstream/.log/20210318/20210318-161147-0157.log",
      "/notebooks/notebook/work/sinetstream/.log/20210318/20210318-161500-0895.log"
     ]
    },
    "run_through_control": {
     "frozen": true,
     "read_only": false
    }
   },
   "outputs": [
    {
     "name": "stdout",
     "output_type": "stream",
     "text": [
      "Unable to find image 'sinetstream/tutorial:1.0.0' locally\n",
      "1.0.0: Pulling from sinetstream/tutorial\n",
      "f34b00c7da20: Pulling fs layer\n",
      "51958a606945: Pulling fs layer\n",
      "84bd5f3a8eec: Pulling fs layer\n",
      "c48210ad5f8a: Pulling fs layer\n",
      "5178c184ad75: Pulling fs layer\n",
      "7b78a55c12d0: Pulling fs layer\n",
      "00e788353df9: Pulling fs layer\n",
      "834ff8bc3f6e: Pulling fs layer\n",
      "487060dd475d: Pulling fs layer\n",
      "7b78a55c12d0: Waiting\n",
      "00e788353df9: Waiting\n",
      "834ff8bc3f6e: Waiting\n",
      "487060dd475d: Waiting\n",
      "5178c184ad75: Waiting\n",
      "c48210ad5f8a: Waiting\n",
      "f34b00c7da20: Verifying Checksum\n",
      "f34b00c7da20: Download complete\n",
      "84bd5f3a8eec: Verifying Checksum\n",
      "84bd5f3a8eec: Download complete\n",
      "c48210ad5f8a: Verifying Checksum\n",
      "c48210ad5f8a: Download complete\n",
      "f34b00c7da20: Pull complete\n",
      "5178c184ad75: Verifying Checksum\n",
      "5178c184ad75: Download complete\n",
      "00e788353df9: Verifying Checksum\n",
      "00e788353df9: Download complete\n",
      "51958a606945: Verifying Checksum\n",
      "51958a606945: Download complete\n",
      "7b78a55c12d0: Verifying Checksum\n",
      "7b78a55c12d0: Download complete\n",
      "487060dd475d: Verifying Checksum\n",
      "487060dd475d: Download complete\n",
      "834ff8bc3f6e: Verifying Checksum\n",
      "834ff8bc3f6e: Download complete\n",
      "51958a606945: Pull complete\n",
      "84bd5f3a8eec: Pull complete\n",
      "c48210ad5f8a: Pull complete\n",
      "5178c184ad75: Pull complete\n",
      "7b78a55c12d0: Pull complete\n",
      "00e788353df9: Pull complete\n",
      "834ff8bc3f6e: Pull complete\n",
      "487060dd475d: Pull complete\n",
      "Digest: sha256:2428041c0f049db296c881ceabf588a36e306c6417ef50c79933ad1b50281368\n",
      "Status: Downloaded newer image for sinetstream/tutorial:1.0.0\n",
      "e4d92eb5ef8519bff5a152484bca7d4fb50ce70ad8c48a9bab28181e65d3671a\n"
     ]
    }
   ],
   "source": [
    "!ssh {ssh_opts} {server_ip} /usr/local/bin/docker run -d --name broker --hostname broker -p 1883:1883 -p 9092:9092 sinetstream/tutorial:1.0.0"
   ]
  },
  {
   "cell_type": "code",
   "execution_count": 20,
   "metadata": {
    "deletable": false,
    "editable": false,
    "lc_cell_meme": {
     "current": "e2734928-87b9-11eb-a09b-0242ac110002",
     "execution_end_time": "2021-03-18T07:18:14.037298Z",
     "history": [
      {
       "current": "e2734928-87b9-11eb-a09b-0242ac110002",
       "next": "ac86ca76-8cb4-11e9-88da-0242ac110002-2-f8d8-2930",
       "previous": "0be5d344-87b9-11eb-a09b-0242ac110002"
      },
      {
       "current": "e2734928-87b9-11eb-a09b-0242ac110002",
       "next": "6dd14362-87ba-11eb-a09b-0242ac110002",
       "previous": "0be5d344-87b9-11eb-a09b-0242ac110002"
      }
     ],
     "next": "6dd14362-87ba-11eb-a09b-0242ac110002-1-7d8b",
     "previous": "0be5d344-87b9-11eb-a09b-0242ac110002"
    },
    "lc_wrapper": {
     "log_history": [
      "/notebooks/notebook/work/sinetstream/.log/20210318/20210318-161632-0495.log",
      "/notebooks/notebook/work/sinetstream/.log/20210318/20210318-161812-0648.log"
     ]
    },
    "run_through_control": {
     "frozen": true,
     "read_only": false
    }
   },
   "outputs": [
    {
     "name": "stdout",
     "output_type": "stream",
     "text": [
      "CONTAINER ID        IMAGE                        COMMAND                  CREATED             STATUS              PORTS                                            NAMES\n",
      "e4d92eb5ef85        sinetstream/tutorial:1.0.0   \"/usr/local/bin/supe…\"   2 minutes ago       Up 2 minutes        0.0.0.0:1883->1883/tcp, 0.0.0.0:9092->9092/tcp   broker\n",
      "  PID TTY      STAT   TIME COMMAND\n",
      "    1 ?        Ss     0:00 /usr/bin/python3 /usr/local/bin/supervisord -n -c /et\n",
      "    9 ?        Sl     0:06 java -Xmx1G -Xms1G -server -XX:+UseG1GC -XX:MaxGCPaus\n",
      "   10 ?        S      0:00 /usr/sbin/mosquitto -c /etc/mosquitto/mosquitto.conf\n",
      "   12 ?        Sl     0:01 java -Xmx512M -Xms512M -server -XX:+UseG1GC -XX:MaxGC\n",
      "  717 pts/0    Rs+    0:00 ps ax\n"
     ]
    }
   ],
   "source": [
    "!ssh {ssh_opts} {server_ip} /usr/local/bin/docker ps -l\n",
    "!ssh {ssh_opts} {server_ip} /usr/local/bin/docker exec -t broker ps ax"
   ]
  },
  {
   "cell_type": "markdown",
   "metadata": {
    "lc_cell_meme": {
     "current": "6dd14362-87ba-11eb-a09b-0242ac110002-1-7d8b",
     "execution_end_time": "2021-03-18T07:20:14.878204Z",
     "history": [
      {
       "current": "6dd14362-87ba-11eb-a09b-0242ac110002",
       "next": "ac86ca76-8cb4-11e9-88da-0242ac110002-2-f8d8-2930",
       "previous": "e2734928-87b9-11eb-a09b-0242ac110002"
      }
     ],
     "next": "b902b154-87ba-11eb-a09b-0242ac110002",
     "previous": "e2734928-87b9-11eb-a09b-0242ac110002"
    },
    "lc_wrapper": {
     "log_history": [
      "/notebooks/notebook/work/sinetstream/.log/20210318/20210318-162014-0872.log"
     ]
    }
   },
   "source": [
    "## pertool実行環境を準備する"
   ]
  },
  {
   "cell_type": "code",
   "execution_count": 22,
   "metadata": {
    "deletable": false,
    "editable": false,
    "lc_cell_meme": {
     "current": "b902b154-87ba-11eb-a09b-0242ac110002",
     "execution_end_time": "2021-03-18T07:22:50.687205Z",
     "history": [
      {
       "current": "b902b154-87ba-11eb-a09b-0242ac110002",
       "next": "ac86ca76-8cb4-11e9-88da-0242ac110002-2-f8d8-2930",
       "previous": "6dd14362-87ba-11eb-a09b-0242ac110002"
      }
     ],
     "next": "dad38db2-87ba-11eb-a09b-0242ac110002",
     "previous": "6dd14362-87ba-11eb-a09b-0242ac110002-1-7d8b"
    },
    "lc_wrapper": {
     "log_history": [
      "/notebooks/notebook/work/sinetstream/.log/20210318/20210318-162230-0785.log"
     ]
    },
    "run_through_control": {
     "frozen": true,
     "read_only": false
    }
   },
   "outputs": [
    {
     "name": "stdout",
     "output_type": "stream",
     "text": [
      "Unable to find image 'sinetstream/tutorial:1.0.0' locally\n",
      "1.0.0: Pulling from sinetstream/tutorial\n",
      "f34b00c7da20: Pulling fs layer\n",
      "51958a606945: Pulling fs layer\n",
      "84bd5f3a8eec: Pulling fs layer\n",
      "c48210ad5f8a: Pulling fs layer\n",
      "5178c184ad75: Pulling fs layer\n",
      "7b78a55c12d0: Pulling fs layer\n",
      "00e788353df9: Pulling fs layer\n",
      "834ff8bc3f6e: Pulling fs layer\n",
      "487060dd475d: Pulling fs layer\n",
      "c48210ad5f8a: Waiting\n",
      "5178c184ad75: Waiting\n",
      "7b78a55c12d0: Waiting\n",
      "00e788353df9: Waiting\n",
      "834ff8bc3f6e: Waiting\n",
      "487060dd475d: Waiting\n",
      "84bd5f3a8eec: Verifying Checksum\n",
      "84bd5f3a8eec: Download complete\n",
      "c48210ad5f8a: Verifying Checksum\n",
      "c48210ad5f8a: Download complete\n",
      "5178c184ad75: Verifying Checksum\n",
      "5178c184ad75: Download complete\n",
      "f34b00c7da20: Verifying Checksum\n",
      "f34b00c7da20: Download complete\n",
      "00e788353df9: Verifying Checksum\n",
      "00e788353df9: Download complete\n",
      "7b78a55c12d0: Verifying Checksum\n",
      "7b78a55c12d0: Download complete\n",
      "834ff8bc3f6e: Verifying Checksum\n",
      "834ff8bc3f6e: Download complete\n",
      "487060dd475d: Verifying Checksum\n",
      "487060dd475d: Download complete\n",
      "51958a606945: Verifying Checksum\n",
      "51958a606945: Download complete\n",
      "f34b00c7da20: Pull complete\n",
      "51958a606945: Pull complete\n",
      "84bd5f3a8eec: Pull complete\n",
      "c48210ad5f8a: Pull complete\n",
      "5178c184ad75: Pull complete\n",
      "7b78a55c12d0: Pull complete\n",
      "00e788353df9: Pull complete\n",
      "834ff8bc3f6e: Pull complete\n",
      "487060dd475d: Pull complete\n",
      "Digest: sha256:2428041c0f049db296c881ceabf588a36e306c6417ef50c79933ad1b50281368\n",
      "Status: Downloaded newer image for sinetstream/tutorial:1.0.0\n",
      "4e81e87190e4d64ccefb6e9c38d7b7fbd3028b6355ddfd4ee966381574ea2afe\n"
     ]
    }
   ],
   "source": [
    "!ssh {ssh_opts} {client_ip} /usr/local/bin/docker run -d --name reader --hostname reader -e ENABLE_BROKER=false --add-host=broker:{server_ip} sinetstream/tutorial:1.0.0"
   ]
  },
  {
   "cell_type": "code",
   "execution_count": 24,
   "metadata": {
    "lc_cell_meme": {
     "current": "dad38db2-87ba-11eb-a09b-0242ac110002",
     "execution_end_time": "2021-03-18T07:26:26.414017Z",
     "history": [
      {
       "current": "dad38db2-87ba-11eb-a09b-0242ac110002",
       "next": "ac86ca76-8cb4-11e9-88da-0242ac110002-2-f8d8-2930",
       "previous": "b902b154-87ba-11eb-a09b-0242ac110002"
      }
     ],
     "next": "8f9060a4-87bb-11eb-a09b-0242ac110002",
     "previous": "b902b154-87ba-11eb-a09b-0242ac110002"
    },
    "lc_wrapper": {
     "log_history": [
      "/notebooks/notebook/work/sinetstream/.log/20210318/20210318-162607-0387.log",
      "/notebooks/notebook/work/sinetstream/.log/20210318/20210318-162624-0997.log"
     ]
    }
   },
   "outputs": [
    {
     "name": "stdout",
     "output_type": "stream",
     "text": [
      "CONTAINER ID        IMAGE                        COMMAND                  CREATED             STATUS              PORTS                NAMES\n",
      "4e81e87190e4        sinetstream/tutorial:1.0.0   \"/usr/local/bin/supe…\"   3 minutes ago       Up 3 minutes        1883/tcp, 9092/tcp   reader\n",
      "  PID TTY      STAT   TIME COMMAND\n",
      "    1 ?        Ss     0:00 /usr/bin/python3 /usr/local/bin/supervisord -n -c /et\n",
      "   30 pts/0    Rs+    0:00 ps ax\n"
     ]
    }
   ],
   "source": [
    "!ssh {ssh_opts} {client_ip} /usr/local/bin/docker ps -l\n",
    "!ssh {ssh_opts} {client_ip} /usr/local/bin/docker exec -t reader ps ax"
   ]
  },
  {
   "cell_type": "markdown",
   "metadata": {
    "lc_cell_meme": {
     "current": "8f9060a4-87bb-11eb-a09b-0242ac110002",
     "next": "dad38db2-87ba-11eb-a09b-0242ac110002-1-9112",
     "previous": "dad38db2-87ba-11eb-a09b-0242ac110002"
    }
   },
   "source": [
    "Reader用のコンテナを起動する際に指定した --add-host は　Readerコンテナの /etc/hosts に、Broker の IPアドレスを登録するためのものです。 Kafkaブローカーを利用するためにはサーバアドレスの名前解決が必要となるため、このパラメータの指定を追加しています。 Readerコンテナの /etc/hosts を表示して Broker のIPアドレスが登録されていることを確認します。"
   ]
  },
  {
   "cell_type": "code",
   "execution_count": 25,
   "metadata": {
    "deletable": false,
    "editable": false,
    "lc_cell_meme": {
     "current": "dad38db2-87ba-11eb-a09b-0242ac110002-1-9112",
     "execution_end_time": "2021-03-18T07:27:37.647237Z",
     "history": [
      {
       "current": "dad38db2-87ba-11eb-a09b-0242ac110002-1-9112",
       "next": "ac86ca76-8cb4-11e9-88da-0242ac110002-2-f8d8-2930",
       "previous": "b902b154-87ba-11eb-a09b-0242ac110002"
      },
      {
       "current": "dad38db2-87ba-11eb-a09b-0242ac110002-1-9112",
       "next": "ac86ca76-8cb4-11e9-88da-0242ac110002-2-f8d8-2930",
       "previous": "8f9060a4-87bb-11eb-a09b-0242ac110002"
      }
     ],
     "next": "66212a40-87bc-11eb-a09b-0242ac110002",
     "previous": "8f9060a4-87bb-11eb-a09b-0242ac110002"
    },
    "lc_wrapper": {
     "log_history": [
      "/notebooks/notebook/work/sinetstream/.log/20210318/20210318-162607-0387.log",
      "/notebooks/notebook/work/sinetstream/.log/20210318/20210318-162624-0997.log",
      "/notebooks/notebook/work/sinetstream/.log/20210318/20210318-162736-0881.log"
     ]
    },
    "run_through_control": {
     "frozen": true,
     "read_only": false
    }
   },
   "outputs": [
    {
     "name": "stdout",
     "output_type": "stream",
     "text": [
      "127.0.0.1\tlocalhost\r",
      "\r\n",
      "::1\tlocalhost ip6-localhost ip6-loopback\r",
      "\r\n",
      "fe00::0\tip6-localnet\r",
      "\r\n",
      "ff00::0\tip6-mcastprefix\r",
      "\r\n",
      "ff02::1\tip6-allnodes\r",
      "\r\n",
      "ff02::2\tip6-allrouters\r",
      "\r\n",
      "172.30.2.36\tbroker\r",
      "\r\n",
      "172.17.0.2\treader\r",
      "\r\n"
     ]
    }
   ],
   "source": [
    "!ssh {ssh_opts} {client_ip} /usr/local/bin/docker exec -t reader cat /etc/hosts"
   ]
  },
  {
   "cell_type": "markdown",
   "metadata": {
    "lc_cell_meme": {
     "current": "66212a40-87bc-11eb-a09b-0242ac110002",
     "history": [
      {
       "current": "66212a40-87bc-11eb-a09b-0242ac110002",
       "next": "ac86ca76-8cb4-11e9-88da-0242ac110002-2-f8d8-2930",
       "previous": "dad38db2-87ba-11eb-a09b-0242ac110002-1-9112"
      }
     ],
     "next": "ada50b20-87bc-11eb-a09b-0242ac110002",
     "previous": "dad38db2-87ba-11eb-a09b-0242ac110002-1-9112"
    }
   },
   "source": [
    "### SINETStreamをインストールする"
   ]
  },
  {
   "cell_type": "code",
   "execution_count": 26,
   "metadata": {
    "deletable": false,
    "editable": false,
    "lc_cell_meme": {
     "current": "ada50b20-87bc-11eb-a09b-0242ac110002",
     "execution_end_time": "2021-03-18T07:36:23.511592Z",
     "history": [
      {
       "current": "ada50b20-87bc-11eb-a09b-0242ac110002",
       "next": "ac86ca76-8cb4-11e9-88da-0242ac110002-2-f8d8-2930",
       "previous": "66212a40-87bc-11eb-a09b-0242ac110002"
      },
      {
       "current": "ada50b20-87bc-11eb-a09b-0242ac110002",
       "next": "74d15bc8-87c6-11eb-a09b-0242ac110002",
       "previous": "66212a40-87bc-11eb-a09b-0242ac110002"
      }
     ],
     "next": "bc57ac54-87c6-11eb-a09b-0242ac110002",
     "previous": "66212a40-87bc-11eb-a09b-0242ac110002"
    },
    "lc_wrapper": {
     "log_history": [
      "/notebooks/notebook/work/sinetstream/.log/20210318/20210318-163617-0071.log"
     ]
    },
    "run_through_control": {
     "frozen": true,
     "read_only": false
    }
   },
   "outputs": [
    {
     "name": "stdout",
     "output_type": "stream",
     "text": [
      "Collecting sinetstream-kafka\n",
      "  Downloading https://files.pythonhosted.org/packages/fd/7c/cfb05a77a711cc2ed397063e4953e2a86ec494087b8d1d6e63ba71088e5c/sinetstream_kafka-1.5.0-py3-none-any.whl\n",
      "Collecting sinetstream-mqtt\n",
      "  Downloading https://files.pythonhosted.org/packages/75/f4/a94c6835181fdd9a16c42906632124a6151972d73771a5f3b6560b76dcfd/sinetstream_mqtt-1.5.0-py3-none-any.whl\n",
      "Collecting promise\n",
      "  Downloading https://files.pythonhosted.org/packages/cf/9c/fb5d48abfe5d791cd496e4242ebcf87a4bb2e0c3dcd6e0ae68c11426a528/promise-2.3.tar.gz\n",
      "Collecting kafka-python>=2.0\n",
      "\u001b[?25l  Downloading https://files.pythonhosted.org/packages/75/68/dcb0db055309f680ab2931a3eeb22d865604b638acf8c914bedf4c1a0c8c/kafka_python-2.0.2-py2.py3-none-any.whl (246kB)\n",
      "\u001b[K     |################################| 256kB 12.4MB/s eta 0:00:01\n",
      "\u001b[?25hCollecting sinetstream>=1.5.0\n",
      "  Downloading https://files.pythonhosted.org/packages/75/e9/416e68c5209237de0b844b0f260dbe529ffbf868218ec3745df4f884c8c5/sinetstream-1.5.0-py3-none-any.whl\n",
      "Collecting paho-mqtt>=1.5\n",
      "\u001b[?25l  Downloading https://files.pythonhosted.org/packages/32/d3/6dcb8fd14746fcde6a556f932b5de8bea8fedcb85b3a092e0e986372c0e7/paho-mqtt-1.5.1.tar.gz (101kB)\n",
      "\u001b[K     |################################| 102kB 9.5MB/s eta 0:00:01\n",
      "\u001b[?25hCollecting six\n",
      "  Downloading https://files.pythonhosted.org/packages/ee/ff/48bde5c0f013094d729fe4b0316ba2a24774b3ff1c52d924a8a4cb04078a/six-1.15.0-py2.py3-none-any.whl\n",
      "Requirement already satisfied: pyyaml in /usr/lib64/python3.6/site-packages (from sinetstream>=1.5.0->sinetstream-kafka) (3.12)\n",
      "Collecting avro-python3\n",
      "  Downloading https://files.pythonhosted.org/packages/cc/97/7a6970380ca8db9139a3cc0b0e3e0dd3e4bc584fb3644e1d06e71e1a55f0/avro-python3-1.10.2.tar.gz\n",
      "Collecting pycryptodomex\n",
      "\u001b[?25l  Downloading https://files.pythonhosted.org/packages/e5/9d/99a949925b5fc9604cb65219951fd270ef30d0fd4f064d1b363eb8bb5e9b/pycryptodomex-3.10.1-cp35-abi3-manylinux2010_x86_64.whl (1.9MB)\n",
      "\u001b[K     |################################| 1.9MB 14.8MB/s eta 0:00:01\n",
      "\u001b[?25hInstalling collected packages: six, promise, kafka-python, avro-python3, pycryptodomex, sinetstream, sinetstream-kafka, paho-mqtt, sinetstream-mqtt\n",
      "    Running setup.py install for promise ... \u001b[?25ldone\n",
      "\u001b[?25h    Running setup.py install for avro-python3 ... \u001b[?25ldone\n",
      "\u001b[?25h    Running setup.py install for paho-mqtt ... \u001b[?25ldone\n",
      "\u001b[?25hSuccessfully installed avro-python3-1.10.2 kafka-python-2.0.2 paho-mqtt-1.5.1 promise-2.3 pycryptodomex-3.10.1 sinetstream-1.5.0 sinetstream-kafka-1.5.0 sinetstream-mqtt-1.5.0 six-1.15.0\n",
      "\u001b[33mWARNING: You are using pip version 19.3.1; however, version 21.0.1 is available.\n",
      "You should consider upgrading via the 'pip install --upgrade pip' command.\u001b[0m\n"
     ]
    }
   ],
   "source": [
    "!ssh {ssh_opts} {client_ip} /usr/local/bin/docker exec -t -u user01 reader pip3 install --user sinetstream-kafka sinetstream-mqtt"
   ]
  },
  {
   "cell_type": "markdown",
   "metadata": {
    "lc_cell_meme": {
     "current": "bc57ac54-87c6-11eb-a09b-0242ac110002",
     "next": "74d15bc8-87c6-11eb-a09b-0242ac110002",
     "previous": "ada50b20-87bc-11eb-a09b-0242ac110002"
    }
   },
   "source": [
    "最後に Successfully installed ...と表示されていれば、ライブラリのインストールに成功しています。 確認のためインストールされている Python3　ライブラリの一覧を表示してみます。"
   ]
  },
  {
   "cell_type": "code",
   "execution_count": 27,
   "metadata": {
    "deletable": false,
    "editable": false,
    "lc_cell_meme": {
     "current": "74d15bc8-87c6-11eb-a09b-0242ac110002",
     "execution_end_time": "2021-03-18T08:46:48.974514Z",
     "history": [
      {
       "current": "74d15bc8-87c6-11eb-a09b-0242ac110002",
       "next": "ac86ca76-8cb4-11e9-88da-0242ac110002-2-f8d8-2930",
       "previous": "ada50b20-87bc-11eb-a09b-0242ac110002"
      },
      {
       "current": "74d15bc8-87c6-11eb-a09b-0242ac110002",
       "next": "ac86ca76-8cb4-11e9-88da-0242ac110002-2-f8d8-2930",
       "previous": "bc57ac54-87c6-11eb-a09b-0242ac110002"
      },
      {
       "current": "74d15bc8-87c6-11eb-a09b-0242ac110002",
       "next": "16928722-87ca-11eb-a09b-0242ac110002",
       "previous": "bc57ac54-87c6-11eb-a09b-0242ac110002"
      }
     ],
     "next": "16928722-87ca-11eb-a09b-0242ac110002-1-9bbb",
     "previous": "bc57ac54-87c6-11eb-a09b-0242ac110002"
    },
    "lc_wrapper": {
     "log_history": [
      "/notebooks/notebook/work/sinetstream/.log/20210318/20210318-174647-0812.log"
     ]
    },
    "run_through_control": {
     "frozen": true,
     "read_only": false
    }
   },
   "outputs": [
    {
     "name": "stdout",
     "output_type": "stream",
     "text": [
      "Package           Version\n",
      "----------------- -------\n",
      "avro-python3      1.10.2 \n",
      "kafka-python      2.0.2  \n",
      "paho-mqtt         1.5.1  \n",
      "pip               19.3.1 \n",
      "promise           2.3    \n",
      "pycryptodomex     3.10.1 \n",
      "PyYAML            3.12   \n",
      "setuptools        42.0.2 \n",
      "sinetstream       1.5.0  \n",
      "sinetstream-kafka 1.5.0  \n",
      "sinetstream-mqtt  1.5.0  \n",
      "six               1.15.0 \n",
      "supervisor        4.1.0  \n",
      "\u001b[33mWARNING: You are using pip version 19.3.1; however, version 21.0.1 is available.\n",
      "You should consider upgrading via the 'pip install --upgrade pip' command.\u001b[0m\n"
     ]
    }
   ],
   "source": [
    "!ssh {ssh_opts} {client_ip} /usr/local/bin/docker exec -t -u user01 reader pip3 list"
   ]
  },
  {
   "cell_type": "markdown",
   "metadata": {
    "lc_cell_meme": {
     "current": "16928722-87ca-11eb-a09b-0242ac110002-1-9bbb",
     "execution_end_time": "2021-03-18T09:12:45.141081Z",
     "history": [
      {
       "current": "16928722-87ca-11eb-a09b-0242ac110002-1-9bbb",
       "next": "ac86ca76-8cb4-11e9-88da-0242ac110002-2-f8d8-2930",
       "previous": "74d15bc8-87c6-11eb-a09b-0242ac110002"
      }
     ],
     "next": "5e1785f2-87ca-11eb-a09b-0242ac110002",
     "previous": "74d15bc8-87c6-11eb-a09b-0242ac110002"
    },
    "lc_wrapper": {
     "log_history": [
      "/notebooks/notebook/work/sinetstream/.log/20210318/20210318-181245-0136.log"
     ]
    }
   },
   "source": [
    "# SINETStreamの動作確認"
   ]
  },
  {
   "cell_type": "markdown",
   "metadata": {
    "lc_cell_meme": {
     "current": "5e1785f2-87ca-11eb-a09b-0242ac110002",
     "next": "5e1787dc-87ca-11eb-a09b-0242ac110002",
     "previous": "16928722-87ca-11eb-a09b-0242ac110002-1-9bbb"
    }
   },
   "source": [
    "## Readerのプログラムと設定ファイルを準備する"
   ]
  },
  {
   "cell_type": "code",
   "execution_count": 32,
   "metadata": {
    "deletable": false,
    "editable": false,
    "lc_cell_meme": {
     "current": "5e1787dc-87ca-11eb-a09b-0242ac110002",
     "execution_end_time": "2021-03-18T09:19:28.439202Z",
     "history": [
      {
       "current": "5e1787dc-87ca-11eb-a09b-0242ac110002",
       "next": "ac86ca76-8cb4-11e9-88da-0242ac110002-2-f8d8-2930",
       "previous": "5e1785f2-87ca-11eb-a09b-0242ac110002"
      }
     ],
     "next": "29489976-87cd-11eb-a09b-0242ac110002",
     "previous": "5e1785f2-87ca-11eb-a09b-0242ac110002"
    },
    "lc_wrapper": {
     "log_history": [
      "/notebooks/notebook/work/sinetstream/.log/20210318/20210318-181515-0165.log",
      "/notebooks/notebook/work/sinetstream/.log/20210318/20210318-181709-0624.log",
      "/notebooks/notebook/work/sinetstream/.log/20210318/20210318-181750-0658.log",
      "/notebooks/notebook/work/sinetstream/.log/20210318/20210318-181927-0677.log"
     ]
    },
    "run_through_control": {
     "frozen": true,
     "read_only": false
    }
   },
   "outputs": [],
   "source": [
    "!ssh {ssh_opts} {client_ip} /usr/local/bin/docker exec -t -u user01 reader mkdir -p /home/user01/sinetstream/reader"
   ]
  },
  {
   "cell_type": "code",
   "execution_count": 41,
   "metadata": {
    "deletable": false,
    "editable": false,
    "lc_cell_meme": {
     "current": "29489976-87cd-11eb-a09b-0242ac110002",
     "execution_end_time": "2021-03-18T13:00:02.264049Z",
     "history": [
      {
       "current": "29489976-87cd-11eb-a09b-0242ac110002",
       "next": "ac86ca76-8cb4-11e9-88da-0242ac110002-2-f8d8-2930",
       "previous": "5e1787dc-87ca-11eb-a09b-0242ac110002"
      }
     ],
     "next": "acf2f68e-87cf-11eb-a09b-0242ac110002",
     "previous": "5e1787dc-87ca-11eb-a09b-0242ac110002"
    },
    "lc_wrapper": {
     "log_history": [
      "/notebooks/notebook/work/sinetstream/.log/20210318/20210318-183438-0440.log",
      "/notebooks/notebook/work/sinetstream/.log/20210318/20210318-183506-0139.log",
      "/notebooks/notebook/work/sinetstream/.log/20210318/20210318-210758-0339.log",
      "/notebooks/notebook/work/sinetstream/.log/20210318/20210318-210958-0104.log",
      "/notebooks/notebook/work/sinetstream/.log/20210318/20210318-211325-0019.log",
      "/notebooks/notebook/work/sinetstream/.log/20210318/20210318-211718-0856.log",
      "/notebooks/notebook/work/sinetstream/.log/20210318/20210318-215959-0200.log"
     ]
    },
    "run_through_control": {
     "frozen": true,
     "read_only": false
    }
   },
   "outputs": [
    {
     "name": "stdout",
     "output_type": "stream",
     "text": [
      "  % Total    % Received % Xferd  Average Speed   Time    Time     Time  Current\n",
      "                                 Dload  Upload   Total   Spent    Left  Speed\n",
      "100   239  100   239    0     0    540      0 --:--:-- --:--:-- --:--:--   540\n",
      "100  1687  100  1687    0     0   6555      0 --:--:-- --:--:-- --:--:--  6564\n"
     ]
    }
   ],
   "source": [
    "ss_url='https://raw.githubusercontent.com/nii-gakunin-cloud/sinetstream/master'\n",
    "\n",
    "!ssh {ssh_opts} {client_ip} /usr/local/bin/docker exec -t -u user01 reader curl -O {ss_url}/docs/tutorial/.sinetstream_config.yml -O {ss_url}/python/sample/text/consumer.py\n",
    "!ssh {ssh_opts} {client_ip} /usr/local/bin/docker exec -t -u user01 reader mv .sinetstream_config.yml sinetstream/reader/\n",
    "!ssh {ssh_opts} {client_ip} /usr/local/bin/docker exec -t -u user01 reader mv consumer.py sinetstream/reader/\n"
   ]
  },
  {
   "cell_type": "code",
   "execution_count": 42,
   "metadata": {
    "deletable": false,
    "editable": false,
    "lc_cell_meme": {
     "current": "acf2f68e-87cf-11eb-a09b-0242ac110002",
     "execution_end_time": "2021-03-18T13:00:10.862847Z",
     "history": [
      {
       "current": "acf2f68e-87cf-11eb-a09b-0242ac110002",
       "next": "ac86ca76-8cb4-11e9-88da-0242ac110002-2-f8d8-2930",
       "previous": "29489976-87cd-11eb-a09b-0242ac110002"
      }
     ],
     "next": "3a99e684-87f6-11eb-a09b-0242ac110002",
     "previous": "29489976-87cd-11eb-a09b-0242ac110002"
    },
    "lc_wrapper": {
     "log_history": [
      "/notebooks/notebook/work/sinetstream/.log/20210318/20210318-185216-0424.log",
      "/notebooks/notebook/work/sinetstream/.log/20210318/20210318-210816-0675.log",
      "/notebooks/notebook/work/sinetstream/.log/20210318/20210318-220010-0079.log"
     ]
    },
    "run_through_control": {
     "frozen": true,
     "read_only": false
    }
   },
   "outputs": [
    {
     "name": "stdout",
     "output_type": "stream",
     "text": [
      ".  ..  .sinetstream_config.yml\tconsumer.py\r",
      "\r\n"
     ]
    }
   ],
   "source": [
    "!ssh {ssh_opts} {client_ip} /usr/local/bin/docker exec -t -u user01 reader ls -a /home/user01/sinetstream/reader"
   ]
  },
  {
   "cell_type": "markdown",
   "metadata": {
    "lc_cell_meme": {
     "current": "3a99e684-87f6-11eb-a09b-0242ac110002",
     "next": "3a99e882-87f6-11eb-a09b-0242ac110002",
     "previous": "acf2f68e-87cf-11eb-a09b-0242ac110002"
    }
   },
   "source": [
    "## Writerのプログラムと設定ファイルを準備する"
   ]
  },
  {
   "cell_type": "code",
   "execution_count": 43,
   "metadata": {
    "deletable": false,
    "editable": false,
    "lc_cell_meme": {
     "current": "3a99e882-87f6-11eb-a09b-0242ac110002",
     "execution_end_time": "2021-03-18T14:28:11.877156Z",
     "next": "3a99e986-87f6-11eb-a09b-0242ac110002",
     "previous": "3a99e684-87f6-11eb-a09b-0242ac110002"
    },
    "lc_wrapper": {
     "log_history": [
      "/notebooks/notebook/work/sinetstream/.log/20210318/20210318-232811-0112.log"
     ]
    },
    "run_through_control": {
     "frozen": true,
     "read_only": false
    }
   },
   "outputs": [],
   "source": [
    "!ssh {ssh_opts} {client_ip} /usr/local/bin/docker exec -t -u user01 reader mkdir -p /home/user01/sinetstream/writer"
   ]
  },
  {
   "cell_type": "code",
   "execution_count": 44,
   "metadata": {
    "deletable": false,
    "editable": false,
    "lc_cell_meme": {
     "current": "3a99e986-87f6-11eb-a09b-0242ac110002",
     "execution_end_time": "2021-03-18T14:30:07.832605Z",
     "history": [
      {
       "current": "3a99e986-87f6-11eb-a09b-0242ac110002",
       "next": "ac86ca76-8cb4-11e9-88da-0242ac110002-2-f8d8-2930",
       "previous": "3a99e882-87f6-11eb-a09b-0242ac110002"
      }
     ],
     "next": "821dff18-87f6-11eb-a09b-0242ac110002",
     "previous": "3a99e882-87f6-11eb-a09b-0242ac110002"
    },
    "lc_wrapper": {
     "log_history": [
      "/notebooks/notebook/work/sinetstream/.log/20210318/20210318-233004-0794.log"
     ]
    },
    "run_through_control": {
     "frozen": true,
     "read_only": false
    }
   },
   "outputs": [
    {
     "name": "stdout",
     "output_type": "stream",
     "text": [
      "  % Total    % Received % Xferd  Average Speed   Time    Time     Time  Current\n",
      "                                 Dload  Upload   Total   Spent    Left  Speed\n",
      "100   239  100   239    0     0    501      0 --:--:-- --:--:-- --:--:--   502\n",
      "100  1608  100  1608    0     0   5607      0 --:--:-- --:--:-- --:--:--  523k\n"
     ]
    }
   ],
   "source": [
    "ss_url='https://raw.githubusercontent.com/nii-gakunin-cloud/sinetstream/master'\n",
    "\n",
    "!ssh {ssh_opts} {client_ip} /usr/local/bin/docker exec -t -u user01 reader curl -O {ss_url}/docs/tutorial/.sinetstream_config.yml -O {ss_url}/python/sample/text/producer.py\n",
    "!ssh {ssh_opts} {client_ip} /usr/local/bin/docker exec -t -u user01 reader mv .sinetstream_config.yml sinetstream/writer/\n",
    "!ssh {ssh_opts} {client_ip} /usr/local/bin/docker exec -t -u user01 reader mv producer.py sinetstream/writer/"
   ]
  },
  {
   "cell_type": "code",
   "execution_count": 45,
   "metadata": {
    "deletable": false,
    "editable": false,
    "lc_cell_meme": {
     "current": "821dff18-87f6-11eb-a09b-0242ac110002",
     "execution_end_time": "2021-03-18T14:30:35.457338Z",
     "history": [
      {
       "current": "821dff18-87f6-11eb-a09b-0242ac110002",
       "next": "ac86ca76-8cb4-11e9-88da-0242ac110002-2-f8d8-2930",
       "previous": "3a99e986-87f6-11eb-a09b-0242ac110002"
      }
     ],
     "next": "fa5a11ec-87f6-11eb-a09b-0242ac110002",
     "previous": "3a99e986-87f6-11eb-a09b-0242ac110002"
    },
    "lc_wrapper": {
     "log_history": [
      "/notebooks/notebook/work/sinetstream/.log/20210318/20210318-233034-0693.log"
     ]
    },
    "run_through_control": {
     "frozen": true,
     "read_only": false
    }
   },
   "outputs": [
    {
     "name": "stdout",
     "output_type": "stream",
     "text": [
      ".  ..  .sinetstream_config.yml\tproducer.py\r",
      "\r\n"
     ]
    }
   ],
   "source": [
    "!ssh {ssh_opts} {client_ip} /usr/local/bin/docker exec -t -u user01 reader ls -a /home/user01/sinetstream/writer"
   ]
  },
  {
   "cell_type": "markdown",
   "metadata": {
    "lc_cell_meme": {
     "current": "fa5a11ec-87f6-11eb-a09b-0242ac110002",
     "next": "ac86ca76-8cb4-11e9-88da-0242ac110002-2-f8d8-2930",
     "previous": "821dff18-87f6-11eb-a09b-0242ac110002"
    }
   },
   "source": [
    "https://www.sinetstream.net/docs/tutorial/TUTORIAL-STEP2.html 3.1. Kafkaブローカーとの間でメッセージの送受信を行う と同様に実行してみる"
   ]
  },
  {
   "cell_type": "markdown",
   "metadata": {
    "lc_cell_meme": {
     "current": "ac86ca76-8cb4-11e9-88da-0242ac110002-2-f8d8-2930",
     "history": [
      {
       "current": "ac86ca76-8cb4-11e9-88da-0242ac110002",
       "next": "db854dd6-4630-11e9-b072-0242ac110002",
       "previous": "a421b3ce-4636-11e9-b072-0242ac110002"
      },
      {
       "current": "ac86ca76-8cb4-11e9-88da-0242ac110002-1-f8d8",
       "next": "db854dd6-4630-11e9-b072-0242ac110002",
       "previous": "10ee5e4e-8e85-11e9-88da-0242ac110002"
      },
      {
       "current": "ac86ca76-8cb4-11e9-88da-0242ac110002-2-f8d8-2930",
       "next": "db854dd6-4630-11e9-b072-0242ac110002-1-2298",
       "previous": "10ee5e4e-8e85-11e9-88da-0242ac110002-1-ebe8"
      },
      {
       "current": "ac86ca76-8cb4-11e9-88da-0242ac110002-2-f8d8-2930",
       "next": "db854dd6-4630-11e9-b072-0242ac110002-2-2298-8ec5",
       "previous": "10ee5e4e-8e85-11e9-88da-0242ac110002-2-ebe8-086e"
      },
      {
       "current": "ac86ca76-8cb4-11e9-88da-0242ac110002-2-f8d8-2930",
       "next": "db854dd6-4630-11e9-b072-0242ac110002-2-2298-8ec5",
       "previous": "5ec8b4b6-87b7-11eb-a09b-0242ac110002"
      },
      {
       "current": "ac86ca76-8cb4-11e9-88da-0242ac110002-2-f8d8-2930",
       "next": "db854dd6-4630-11e9-b072-0242ac110002-2-2298-8ec5",
       "previous": "a66fe6d6-87b7-11eb-a09b-0242ac110002"
      },
      {
       "current": "ac86ca76-8cb4-11e9-88da-0242ac110002-2-f8d8-2930",
       "next": "db854dd6-4630-11e9-b072-0242ac110002-2-2298-8ec5",
       "previous": "edd39be4-87b7-11eb-a09b-0242ac110002"
      },
      {
       "current": "ac86ca76-8cb4-11e9-88da-0242ac110002-2-f8d8-2930",
       "next": "db854dd6-4630-11e9-b072-0242ac110002-2-2298-8ec5",
       "previous": "35547a24-87b8-11eb-a09b-0242ac110002"
      },
      {
       "current": "ac86ca76-8cb4-11e9-88da-0242ac110002-2-f8d8-2930",
       "next": "db854dd6-4630-11e9-b072-0242ac110002-2-2298-8ec5",
       "previous": "c46035c8-87b8-11eb-a09b-0242ac110002"
      },
      {
       "current": "ac86ca76-8cb4-11e9-88da-0242ac110002-2-f8d8-2930",
       "next": "db854dd6-4630-11e9-b072-0242ac110002-2-2298-8ec5",
       "previous": "0be5d344-87b9-11eb-a09b-0242ac110002"
      },
      {
       "current": "ac86ca76-8cb4-11e9-88da-0242ac110002-2-f8d8-2930",
       "next": "db854dd6-4630-11e9-b072-0242ac110002-2-2298-8ec5",
       "previous": "e2734928-87b9-11eb-a09b-0242ac110002"
      },
      {
       "current": "ac86ca76-8cb4-11e9-88da-0242ac110002-2-f8d8-2930",
       "next": "db854dd6-4630-11e9-b072-0242ac110002-2-2298-8ec5",
       "previous": "6dd14362-87ba-11eb-a09b-0242ac110002"
      },
      {
       "current": "ac86ca76-8cb4-11e9-88da-0242ac110002-2-f8d8-2930",
       "next": "db854dd6-4630-11e9-b072-0242ac110002-2-2298-8ec5",
       "previous": "b902b154-87ba-11eb-a09b-0242ac110002"
      },
      {
       "current": "ac86ca76-8cb4-11e9-88da-0242ac110002-2-f8d8-2930",
       "next": "db854dd6-4630-11e9-b072-0242ac110002-2-2298-8ec5",
       "previous": "dad38db2-87ba-11eb-a09b-0242ac110002"
      },
      {
       "current": "ac86ca76-8cb4-11e9-88da-0242ac110002-2-f8d8-2930",
       "next": "db854dd6-4630-11e9-b072-0242ac110002-2-2298-8ec5",
       "previous": "dad38db2-87ba-11eb-a09b-0242ac110002-1-9112"
      },
      {
       "current": "ac86ca76-8cb4-11e9-88da-0242ac110002-2-f8d8-2930",
       "next": "db854dd6-4630-11e9-b072-0242ac110002-2-2298-8ec5",
       "previous": "66212a40-87bc-11eb-a09b-0242ac110002"
      },
      {
       "current": "ac86ca76-8cb4-11e9-88da-0242ac110002-2-f8d8-2930",
       "next": "db854dd6-4630-11e9-b072-0242ac110002-2-2298-8ec5",
       "previous": "ada50b20-87bc-11eb-a09b-0242ac110002"
      },
      {
       "current": "ac86ca76-8cb4-11e9-88da-0242ac110002-2-f8d8-2930",
       "next": "db854dd6-4630-11e9-b072-0242ac110002-2-2298-8ec5",
       "previous": "74d15bc8-87c6-11eb-a09b-0242ac110002"
      },
      {
       "current": "ac86ca76-8cb4-11e9-88da-0242ac110002-2-f8d8-2930",
       "next": "db854dd6-4630-11e9-b072-0242ac110002-2-2298-8ec5",
       "previous": "16928722-87ca-11eb-a09b-0242ac110002"
      },
      {
       "current": "ac86ca76-8cb4-11e9-88da-0242ac110002-2-f8d8-2930",
       "next": "db854dd6-4630-11e9-b072-0242ac110002-2-2298-8ec5",
       "previous": "5e1787dc-87ca-11eb-a09b-0242ac110002"
      },
      {
       "current": "ac86ca76-8cb4-11e9-88da-0242ac110002-2-f8d8-2930",
       "next": "db854dd6-4630-11e9-b072-0242ac110002-2-2298-8ec5",
       "previous": "29489976-87cd-11eb-a09b-0242ac110002"
      },
      {
       "current": "ac86ca76-8cb4-11e9-88da-0242ac110002-2-f8d8-2930",
       "next": "db854dd6-4630-11e9-b072-0242ac110002-2-2298-8ec5",
       "previous": "acf2f68e-87cf-11eb-a09b-0242ac110002"
      },
      {
       "current": "ac86ca76-8cb4-11e9-88da-0242ac110002-2-f8d8-2930",
       "next": "db854dd6-4630-11e9-b072-0242ac110002-2-2298-8ec5",
       "previous": "3a99e986-87f6-11eb-a09b-0242ac110002"
      },
      {
       "current": "ac86ca76-8cb4-11e9-88da-0242ac110002-2-f8d8-2930",
       "next": "db854dd6-4630-11e9-b072-0242ac110002-2-2298-8ec5",
       "previous": "821dff18-87f6-11eb-a09b-0242ac110002"
      }
     ],
     "next": "db854dd6-4630-11e9-b072-0242ac110002-2-2298-8ec5",
     "previous": "fa5a11ec-87f6-11eb-a09b-0242ac110002"
    }
   },
   "source": [
    "# VCノードの削除\n",
    "次のセルを実行し、動作確認に使用したクラウドインスタンスを削除してください。  \n",
    "実行完了まで数分程度を要します。"
   ]
  },
  {
   "cell_type": "code",
   "execution_count": 8,
   "metadata": {
    "lc_cell_meme": {
     "current": "db854dd6-4630-11e9-b072-0242ac110002-2-2298-8ec5",
     "execution_end_time": "2021-03-18T05:56:14.736355Z",
     "history": [
      {
       "current": "db854dd6-4630-11e9-b072-0242ac110002",
       "next": null,
       "previous": "93f97118-4630-11e9-b072-0242ac110002"
      },
      {
       "current": "db854dd6-4630-11e9-b072-0242ac110002",
       "next": null,
       "previous": "a421b3ce-4636-11e9-b072-0242ac110002"
      },
      {
       "current": "db854dd6-4630-11e9-b072-0242ac110002",
       "next": "fb58a0c6-4636-11e9-b072-0242ac110002",
       "previous": "a421b3ce-4636-11e9-b072-0242ac110002"
      },
      {
       "current": "db854dd6-4630-11e9-b072-0242ac110002",
       "next": null,
       "previous": "ac86ca76-8cb4-11e9-88da-0242ac110002"
      },
      {
       "current": "db854dd6-4630-11e9-b072-0242ac110002",
       "next": null,
       "previous": "ac86ca76-8cb4-11e9-88da-0242ac110002"
      },
      {
       "current": "db854dd6-4630-11e9-b072-0242ac110002",
       "next": null,
       "previous": "ac86ca76-8cb4-11e9-88da-0242ac110002"
      },
      {
       "current": "db854dd6-4630-11e9-b072-0242ac110002",
       "next": "4672985e-998a-11e9-88da-0242ac110002",
       "previous": "ac86ca76-8cb4-11e9-88da-0242ac110002"
      },
      {
       "current": "db854dd6-4630-11e9-b072-0242ac110002-1-2298",
       "next": null,
       "previous": "ac86ca76-8cb4-11e9-88da-0242ac110002"
      },
      {
       "current": "db854dd6-4630-11e9-b072-0242ac110002-2-2298-8ec5",
       "next": null,
       "previous": "ac86ca76-8cb4-11e9-88da-0242ac110002-1-f8d8"
      }
     ],
     "next": null,
     "previous": "ac86ca76-8cb4-11e9-88da-0242ac110002-2-f8d8-2930"
    },
    "lc_wrapper": {
     "log_history": [
      "/notebooks/notebook/work/sinetstream/.log/20210318/20210318-145344-0927.log",
      "/notebooks/notebook/work/sinetstream/.log/20210318/20210318-145614-0577.log"
     ]
    }
   },
   "outputs": [
    {
     "name": "stdout",
     "output_type": "stream",
     "text": [
      "2021-03-18 14:56:14,734 - INFO - cleanup completed. vc sinetstream01 is cleanup(no unit)\n"
     ]
    }
   ],
   "source": [
    "unit_group.cleanup()"
   ]
  }
 ],
 "metadata": {
  "kernelspec": {
   "display_name": "Python 3",
   "language": "python",
   "name": "python3"
  },
  "language_info": {
   "file_extension": ".py",
   "mimetype": "text/x-python",
   "name": "python",
   "nbconvert_exporter": "python",
   "pygments_lexer": "ipython3",
   "version": "3.7.6"
  },
  "lc_notebook_meme": {
   "current": "e190f7d2-4574-11e9-b072-0242ac110002",
   "lc_server_signature": {
    "current": {
     "notebook_dir": "/notebooks/notebook",
     "notebook_path": "/work/sinetstream",
     "server_url": "http://vcc1045.vcp-handson.org/jupyter/",
     "signature_id": "7776a0a6-176c-11eb-a09b-0242ac110002"
    },
    "history": [
     {
      "notebook_dir": "/notebooks/notebook",
      "notebook_path": "/vcpsdk/動作確認",
      "server_url": "http://13.114.71.115/jupyter/",
      "signature_id": "b7cae6dc-3a3a-11e9-b072-0242ac110002"
     },
     {
      "notebook_dir": "/notebooks/notebook",
      "notebook_path": "/",
      "server_url": "http://13.114.71.115/jupyter/",
      "signature_id": "b7cae6dc-3a3a-11e9-b072-0242ac110002"
     },
     {
      "notebook_dir": "/notebooks/notebook",
      "notebook_path": "/BACKUP",
      "server_url": "http://13.114.71.115/jupyter/",
      "signature_id": "215bf5ce-5f4c-11e9-88da-0242ac110002"
     },
     {
      "notebook_dir": "/notebooks/notebook",
      "notebook_path": "/",
      "server_url": "http://13.114.71.115/jupyter/",
      "signature_id": "215bf5ce-5f4c-11e9-88da-0242ac110002"
     },
     {
      "notebook_dir": "/notebooks/notebook",
      "notebook_path": "/",
      "server_url": "http://localhost:5965/jupyter/",
      "signature_id": "215bf5ce-5f4c-11e9-88da-0242ac110002"
     },
     {
      "notebook_dir": "/notebooks/notebook",
      "notebook_path": "/wada_work",
      "server_url": "http://localhost:5965/jupyter/",
      "signature_id": "320d6062-22ea-11ea-9618-0242ac110002"
     },
     {
      "notebook_dir": "/notebooks/notebook",
      "notebook_path": "/work",
      "server_url": "http://localhost:5965/jupyter/",
      "signature_id": "f5fb6aea-7e3f-11ea-898d-0242ac110002"
     },
     {
      "notebook_dir": "/notebooks/notebook",
      "notebook_path": "/work",
      "server_url": "http://vcc1045.vcp-handson.org/jupyter/",
      "signature_id": "7776a0a6-176c-11eb-a09b-0242ac110002"
     }
    ]
   }
  },
  "toc": {
   "base_numbering": 1,
   "nav_menu": {},
   "number_sections": true,
   "sideBar": true,
   "skip_h1_title": false,
   "title_cell": "Table of Contents",
   "title_sidebar": "Contents",
   "toc_cell": false,
   "toc_position": {
    "height": "826px",
    "left": "0px",
    "right": "1202px",
    "top": "111px",
    "width": "213px"
   },
   "toc_section_display": "block",
   "toc_window_display": true
  }
 },
 "nbformat": 4,
 "nbformat_minor": 2
}
