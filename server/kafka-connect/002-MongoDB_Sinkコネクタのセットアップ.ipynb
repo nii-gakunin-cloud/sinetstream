{
 "cells": [
  {
   "cell_type": "markdown",
   "metadata": {},
   "source": [
    "# MongoDB Sinkコネクタのセットアップ\n",
    "\n",
    "対象ノードでKafkaコネクタコンテナを起動して、そこにMongoDB Sinkコネクタの登録を行います。"
   ]
  },
  {
   "cell_type": "markdown",
   "metadata": {},
   "source": [
    "## 前提条件"
   ]
  },
  {
   "cell_type": "markdown",
   "metadata": {},
   "source": [
    "セットアップ対象となるノードは以下の条件を満たしていることを前提とします。\n",
    "\n",
    "* Ansible で操作可能なこと\n",
    "* Dockerコンテナが起動できること\n",
    "* `docker-compose`コマンドが実行可能なこと\n",
    "\n",
    "前提条件をみたしていることを確認します。"
   ]
  },
  {
   "cell_type": "markdown",
   "metadata": {},
   "source": [
    "操作対象となるAnsibleのグループ名を指定してください。"
   ]
  },
  {
   "cell_type": "code",
   "execution_count": null,
   "metadata": {},
   "outputs": [],
   "source": [
    "group_name=kafka_connect"
   ]
  },
  {
   "cell_type": "markdown",
   "metadata": {},
   "source": [
    "Ansibleで接続可能なことを確認します。"
   ]
  },
  {
   "cell_type": "code",
   "execution_count": null,
   "metadata": {},
   "outputs": [],
   "source": [
    "ansible ${group_name} -m ping"
   ]
  },
  {
   "cell_type": "markdown",
   "metadata": {},
   "source": [
    "Dockerが利用可能なことを確認します。"
   ]
  },
  {
   "cell_type": "code",
   "execution_count": null,
   "metadata": {
    "scrolled": true
   },
   "outputs": [],
   "source": [
    "ansible ${group_name} -a 'docker info'"
   ]
  },
  {
   "cell_type": "markdown",
   "metadata": {},
   "source": [
    "`docker-compose`コマンドが利用可能なことを確認します。"
   ]
  },
  {
   "cell_type": "code",
   "execution_count": null,
   "metadata": {},
   "outputs": [],
   "source": [
    "ansible ${group_name} -a 'docker-compose version'"
   ]
  },
  {
   "cell_type": "markdown",
   "metadata": {},
   "source": [
    "## Kafkaコネクタコンテナの起動"
   ]
  },
  {
   "cell_type": "markdown",
   "metadata": {},
   "source": [
    "ここでは[Confluent Base Image for Kafka Connect](https://hub.docker.com/r/confluentinc/cp-kafka-connect-base)を利用して、MongoDB コネクタを実行する環境を構築します。起動するコンテナではKafkaコネクタに関する多くのパラメータを設定する必要があるため、コンテナの起動には`docker run`ではなく`docker-compose`コマンドを利用します。\n",
    "\n"
   ]
  },
  {
   "cell_type": "markdown",
   "metadata": {},
   "source": [
    "### 資材の配置\n",
    "\n",
    "コンテナを起動するために必要となる資材を対象ノードに配置します。"
   ]
  },
  {
   "cell_type": "markdown",
   "metadata": {},
   "source": [
    "配置するファイルを以下に示します。\n",
    "\n",
    "* docker-compose.yml\n",
    "* image/Dockerfile\n",
    "\n",
    "対象となるファイルを、まずローカル環境に作成します。そのための作業ディレクトリを作成します。"
   ]
  },
  {
   "cell_type": "code",
   "execution_count": null,
   "metadata": {},
   "outputs": [],
   "source": [
    "work_dir=$(mktemp -d)"
   ]
  },
  {
   "cell_type": "markdown",
   "metadata": {},
   "source": [
    "`docker-compose.yml`を作成します。主な設定項目を以下に示します。\n",
    "\n",
    "* Kafkaブローカーのアドレス\n",
    "* Kafkaコネクタのホスト名、ポート番号\n",
    "* Kafkaコネクタのグループ名\n",
    "* Kafkaコネクタの設定内容を記録するトピックに関するパラメータ\n",
    "    * パラメータの種類\n",
    "        * コンフィグレーション\n",
    "        * オフセット\n",
    "        * ステータス\n",
    "    * レプリケーションに関するパラメータ\n",
    "* コンバータ\n",
    "\n",
    "`docker-compose.yml`の例を以下に示します。\n",
    "\n",
    "```yaml\n",
    "version: '3.7'\n",
    "services:\n",
    "  kafka-connect:\n",
    "    build: ./image\n",
    "    hostname: kafka-connect                                             # Kafkaコネクタのホスト名\n",
    "    ports:\n",
    "    - \"8083:8083\"                                                       # Kafkaコネクタのポート番号\n",
    "    environment:\n",
    "      CONNECT_BOOTSTRAP_SERVERS: kafka1:9092,kafka2:9092,kafka3:9092    # Kafkaブローカーのアドレス\n",
    "      CONNECT_REST_ADVERTISED_HOST_NAME: kafka-connect                  # Kafkaコネクタのホスト名\n",
    "      CONNECT_REST_PORT: 8083                                           # Kafkaコネクタのポート番号\n",
    "      CONNECT_GROUP_ID: kafka-group-id                                  # Kafkaコネクタのグループ名\n",
    "      CONNECT_CONFIG_STORAGE_TOPIC: kafka-connect-config                # 保存先となるトピック名(コンフィグレーション)\n",
    "      CONNECT_CONFIG_STORAGE_REPLICATION_FACTOR: 1                      # レプリケーション数(コンフィグレーション)\n",
    "      CONNECT_OFFSET_STORAGE_TOPIC: kafka-connect-offset                # 保存先となるトピック名(オフセット)\n",
    "      CONNECT_OFFSET_STORAGE_REPLICATION_FACTOR: 1                      # レプリケーション数(オフセット)\n",
    "      CONNECT_STATUS_STORAGE_TOPIC: kafka-connect-status                # 保存先となるトピック名(ステータス)\n",
    "      CONNECT_STATUS_STORAGE_REPLICATION_FACTOR: 1                      # レプリケーション数(ステータス)\n",
    "      CONNECT_KEY_CONVERTER: org.apache.kafka.connect.converters.ByteArrayConverter     # コンバータ\n",
    "      CONNECT_VALUE_CONVERTER: org.apache.kafka.connect.converters.ByteArrayConverter   # コンバータ\n",
    "```"
   ]
  },
  {
   "cell_type": "code",
   "execution_count": null,
   "metadata": {},
   "outputs": [],
   "source": [
    "cat > ${work_dir}/docker-compose.yml <<EOF\n",
    "version: '3.7'\n",
    "services:\n",
    "  kafka-connect:\n",
    "    build: ./image\n",
    "    hostname: kafka-connect                                             # Kafkaコネクタのホスト名\n",
    "    ports:\n",
    "    - \"8083:8083\"                                                       # Kafkaコネクタのポート番号\n",
    "    environment:\n",
    "      CONNECT_BOOTSTRAP_SERVERS: kafka1:9092,kafka2:9092,kafka3:9092    # Kafkaブローカーのアドレス\n",
    "      CONNECT_REST_ADVERTISED_HOST_NAME: kafka-connect                  # Kafkaコネクタのホスト名\n",
    "      CONNECT_REST_PORT: 8083                                           # Kafkaコネクタのポート番号\n",
    "      CONNECT_GROUP_ID: kafka-group-id                                  # Kafkaコネクタのグループ名\n",
    "      CONNECT_CONFIG_STORAGE_TOPIC: kafka-connect-config                # 保存先となるトピック名(コンフィグレーション)\n",
    "      CONNECT_CONFIG_STORAGE_REPLICATION_FACTOR: 1                      # レプリケーション数(コンフィグレーション)\n",
    "      CONNECT_OFFSET_STORAGE_TOPIC: kafka-connect-offset                # 保存先となるトピック名(オフセット)\n",
    "      CONNECT_OFFSET_STORAGE_REPLICATION_FACTOR: 1                      # レプリケーション数(オフセット)\n",
    "      CONNECT_STATUS_STORAGE_TOPIC: kafka-connect-status                # 保存先となるトピック名(ステータス)\n",
    "      CONNECT_STATUS_STORAGE_REPLICATION_FACTOR: 1                      # レプリケーション数(ステータス)\n",
    "      CONNECT_KEY_CONVERTER: org.apache.kafka.connect.converters.ByteArrayConverter     # コンバータ\n",
    "      CONNECT_VALUE_CONVERTER: org.apache.kafka.connect.converters.ByteArrayConverter   # コンバータ\n",
    "EOF"
   ]
  },
  {
   "cell_type": "markdown",
   "metadata": {},
   "source": [
    "Kafkaコネクタコンテナの `Dockerfile`を作成します。\n",
    "\n",
    "* `confluentinc/cp-kafka-connect-base:5.4.0` をベースとする\n",
    "* `mongodb/kafka-connect-mongodb:1.0.0` をインストールする"
   ]
  },
  {
   "cell_type": "code",
   "execution_count": null,
   "metadata": {},
   "outputs": [],
   "source": [
    "cat > ${work_dir}/Dockerfile <<EOF\n",
    "FROM confluentinc/cp-kafka-connect-base:5.4.0\n",
    "\n",
    "RUN confluent-hub install mongodb/kafka-connect-mongodb:1.0.0 --no-prompt\n",
    "EOF"
   ]
  },
  {
   "cell_type": "markdown",
   "metadata": {},
   "source": [
    "対象ノードに配置します。まず配置先のディレクトリを作成します。"
   ]
  },
  {
   "cell_type": "code",
   "execution_count": null,
   "metadata": {},
   "outputs": [],
   "source": [
    "ansible ${group_name} -m file -a 'path=connect-mongo state=directory'\n",
    "ansible ${group_name} -m file -a 'path=connect-mongo/image state=directory'"
   ]
  },
  {
   "cell_type": "markdown",
   "metadata": {},
   "source": [
    "コンテナを起動するための資材となるファイルを配置します。"
   ]
  },
  {
   "cell_type": "code",
   "execution_count": null,
   "metadata": {
    "scrolled": true
   },
   "outputs": [],
   "source": [
    "ansible ${group_name} -m copy -a \"src=${work_dir}/docker-compose.yml dest=connect-mongo/\"\n",
    "ansible ${group_name} -m copy -a \"src=${work_dir}/Dockerfile dest=connect-mongo/image/\""
   ]
  },
  {
   "cell_type": "markdown",
   "metadata": {},
   "source": [
    "ファイルが配置されたことを確認します。"
   ]
  },
  {
   "cell_type": "code",
   "execution_count": null,
   "metadata": {},
   "outputs": [],
   "source": [
    "ansible ${group_name} -a 'ls -lR connect-mongo/'"
   ]
  },
  {
   "cell_type": "markdown",
   "metadata": {},
   "source": [
    "### コンテナの起動\n",
    "\n",
    "Kafkaコネクタコンテナを起動します。"
   ]
  },
  {
   "cell_type": "markdown",
   "metadata": {},
   "source": [
    "まず、コンテナイメージをビルドします。"
   ]
  },
  {
   "cell_type": "code",
   "execution_count": null,
   "metadata": {},
   "outputs": [],
   "source": [
    "ansible ${group_name} -a 'chdir=connect-mongo/ docker-compose build'"
   ]
  },
  {
   "cell_type": "markdown",
   "metadata": {},
   "source": [
    "コンテナを起動します。"
   ]
  },
  {
   "cell_type": "code",
   "execution_count": null,
   "metadata": {},
   "outputs": [],
   "source": [
    "ansible ${group_name} -a 'chdir=connect-mongo/ docker-compose up -d'"
   ]
  },
  {
   "cell_type": "markdown",
   "metadata": {},
   "source": [
    "コンテナが正常に起動できたことを確認します。出力結果の`State`が`Up`となっていれば起動が成功したことが確認できます。\n",
    "\n",
    "```\n",
    "node001 | CHANGED | rc=0 >>\n",
    "         Name                        Command                       State                        Ports              \n",
    "-------------------------------------------------------------------------------------------------------------------\n",
    "connect_kafka-connect_1   /etc/confluent/docker/run        Up (health: starting)   0.0.0.0:8083->8083/tcp, 9092/tcp\n",
    "```"
   ]
  },
  {
   "cell_type": "code",
   "execution_count": null,
   "metadata": {},
   "outputs": [],
   "source": [
    "ansible ${group_name} -a 'chdir=connect-mongo/ docker-compose ps'"
   ]
  },
  {
   "cell_type": "markdown",
   "metadata": {},
   "source": [
    "## MongoDB Sinkコネクタの登録"
   ]
  },
  {
   "cell_type": "markdown",
   "metadata": {},
   "source": [
    "KafkaコネクタのREST APIを用いてMongoDB Sinkコネクタを登録します。"
   ]
  },
  {
   "cell_type": "markdown",
   "metadata": {},
   "source": [
    "コネクタを登録するには、以下のパラメータを指定する必要があります。\n",
    "\n",
    "* Kafkaコネクタ名\n",
    "* コネクタの対象となるKafkaのトピック名\n",
    "* MongoDBのアドレス\n",
    "* MongoDBのデータベース名\n",
    "* MongoDBのコレクション名\n",
    "\n",
    "パラメータはJSON形式で指定します。パラメータの例を以下に示します。\n",
    "\n",
    "```json\n",
    "{\n",
    "  \"name\": \"mongodb-sink\",\n",
    "  \"config\": {\n",
    "    \"name\": \"mongodb-sink\",\n",
    "    \"topics\": \"topic-name\",\n",
    "    \"connection.uri\": \"mongodb://mongodb:27017\",\n",
    "    \"database\": \"database_name\",\n",
    "    \"collection\": \"collection_name\",\n",
    "    \"value.converter\": \"org.apache.kafka.connect.json.JsonConverter\",\n",
    "    \"value.converter.schemas.enable\": false,\n",
    "    \"connector.class\": \"com.mongodb.kafka.connect.MongoSinkConnector\"\n",
    "  }\n",
    "}\n",
    "```"
   ]
  },
  {
   "cell_type": "markdown",
   "metadata": {},
   "source": [
    "KafkaコネクタのREST APIのアドレスを指定してください。"
   ]
  },
  {
   "cell_type": "code",
   "execution_count": null,
   "metadata": {},
   "outputs": [],
   "source": [
    "rest_url=http://node001:8083"
   ]
  },
  {
   "cell_type": "markdown",
   "metadata": {},
   "source": [
    "REST APIを用いてMongoDB Sinkコネクタを登録します。"
   ]
  },
  {
   "cell_type": "code",
   "execution_count": null,
   "metadata": {},
   "outputs": [],
   "source": [
    "curl -X POST ${rest_url}/connectors -H 'Content-Type:application/json' -d @- <<EOF\n",
    "{\n",
    "  \"name\": \"mongodb-sink\",\n",
    "  \"config\": {\n",
    "    \"name\": \"mongodb-sink\",\n",
    "    \"topics\": \"topic-name\",\n",
    "    \"connection.uri\": \"mongodb://mongodb:27017\",\n",
    "    \"database\": \"database_name\",\n",
    "    \"collection\": \"collection_name\",\n",
    "    \"value.converter\": \"org.apache.kafka.connect.json.JsonConverter\",\n",
    "    \"value.converter.schemas.enable\": false,\n",
    "    \"connector.class\": \"com.mongodb.kafka.connect.MongoSinkConnector\"\n",
    "  }\n",
    "}\n",
    "EOF"
   ]
  },
  {
   "cell_type": "markdown",
   "metadata": {},
   "source": [
    "登録されたことを確認します。"
   ]
  },
  {
   "cell_type": "code",
   "execution_count": null,
   "metadata": {
    "scrolled": true
   },
   "outputs": [],
   "source": [
    "curl -s ${rest_url}/connectors/mongodb-sink | jq ."
   ]
  },
  {
   "cell_type": "markdown",
   "metadata": {},
   "source": [
    "## 後始末\n",
    "\n",
    "作業ディレクトリの削除します。"
   ]
  },
  {
   "cell_type": "code",
   "execution_count": null,
   "metadata": {},
   "outputs": [],
   "source": [
    "rm -rf ${work_dir}"
   ]
  }
 ],
 "metadata": {
  "kernelspec": {
   "display_name": "Bash",
   "language": "bash",
   "name": "bash"
  },
  "language_info": {
   "name": "bash"
  },
  "toc": {
   "base_numbering": 1,
   "nav_menu": {},
   "number_sections": true,
   "sideBar": true,
   "skip_h1_title": true,
   "title_cell": "Table of Contents",
   "title_sidebar": "Contents",
   "toc_cell": false,
   "toc_position": {},
   "toc_section_display": true,
   "toc_window_display": true
  }
 },
 "nbformat": 4,
 "nbformat_minor": 2
}