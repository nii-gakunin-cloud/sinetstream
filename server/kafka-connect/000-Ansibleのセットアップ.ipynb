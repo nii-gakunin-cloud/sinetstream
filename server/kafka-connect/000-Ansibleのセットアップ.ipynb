{
 "cells": [
  {
   "cell_type": "markdown",
   "metadata": {},
   "source": [
    "# Ansibleのセットアップ\n",
    "\n",
    "Kafkaコネクタのセットアップを行うために [Ansible](https://docs.ansible.com/ansible/) を利用します。Ansibleを利用できるようにするための設定について簡単な説明を行います。"
   ]
  },
  {
   "cell_type": "markdown",
   "metadata": {},
   "source": [
    "ここでは、以下に示す２つの設定ファイルを作成します。\n",
    "\n",
    "* `ansible.cfg`\n",
    "    - Ansibleのコンフィグレーションファイル\n",
    "* `inventory.yml`\n",
    "    - インベントリ\n",
    "    - Ansibleの操作対象となるノードに関する設定を記述する"
   ]
  },
  {
   "cell_type": "markdown",
   "metadata": {},
   "source": [
    "## `ansible.cfg` の作成"
   ]
  },
  {
   "cell_type": "markdown",
   "metadata": {},
   "source": [
    "Ansibleの設定を行うには以下の方法があります（詳細については[Ansible Configuration Settings](https://docs.ansible.com/ansible/latest/reference_appendices/config.html)を参照してください）。\n",
    "\n",
    "* `ANSIBLE_CONFIG` (環境変数)\n",
    "* `ansible.cfg` (カレントディレクトリ)\n",
    "* `~/.ansible.cfg` (ユーザのホームディレクトリ)\n",
    "* `/etc/ansible/ansible.cfg` \n",
    "\n",
    "ここでは、カレントディレクトリに`ansible.cfg`を作成して設定を行います。"
   ]
  },
  {
   "cell_type": "markdown",
   "metadata": {},
   "source": [
    "設定内容は以下の通りです。\n",
    "\n",
    "* インベントリの指定\n",
    "    - `inventory`\n",
    "    - 次節で作成するインベントリのパスを指定します。\n",
    "* コマンド実行時の警告抑止\n",
    "    - `command_warnings`\n",
    "\n",
    "カレントディレクトリの`ansible.cfg`に以下の内容を書き込みます。\n",
    "\n",
    "```\n",
    "[defaults]\n",
    "inventory = $(pwd)/inventory.yml\n",
    "command_warnings = False\n",
    "```\n",
    "\n",
    "> `$(pwd)`となっている箇所は実際のカレントディレクトリの値になります。"
   ]
  },
  {
   "cell_type": "code",
   "execution_count": null,
   "metadata": {},
   "outputs": [],
   "source": [
    "cat > ansible.cfg <<EOF\n",
    "[defaults]\n",
    "inventory = $(pwd)/inventory.yml\n",
    "command_warnings = False\n",
    "EOF\n",
    "\n",
    "cat ansible.cfg"
   ]
  },
  {
   "cell_type": "markdown",
   "metadata": {},
   "source": [
    "## インベントリの作成\n",
    "\n",
    "Ansibleを利用してノードの操作を行うためには、インベントリにノードを登録する必要があります。インベントリの作成を行います。"
   ]
  },
  {
   "cell_type": "markdown",
   "metadata": {},
   "source": [
    "> ここではインベントリの書式を YAML とするので Ansible のバージョンは 2.4 以上であることを想定しています。"
   ]
  },
  {
   "cell_type": "markdown",
   "metadata": {},
   "source": [
    "インベントリに記述する主な内容は以下の通りです。\n",
    "\n",
    "* 操作対象となるノードのリスト\n",
    "* 操作対象となるノードをまとめて扱うためのグループ名\n",
    "* ノードにログインするためのユーザ名\n",
    "* ノードにログインするためのSSHの秘密鍵\n",
    "* 操作対象となるノード側での Python のパス\n",
    "\n",
    "インベントリの例を以下に示します。\n",
    "\n",
    "```yaml\n",
    "all:\n",
    "  children:\n",
    "    group_name:                                      # グループ名\n",
    "      hosts:\n",
    "        node001:                                     # 最後にコロンを付ける\n",
    "        node002:                                     # 最後にコロンを付ける\n",
    "      vars:\n",
    "        ansible_user: root                           # ユーザ名\n",
    "        ansible_ssh_private_key_file: ~/.ssh/id_rsa  # SSHの秘密鍵\n",
    "        ansible_python_interpreter: /usr/bin/python3 # Pythonインタプリタのパス\n",
    "```"
   ]
  },
  {
   "cell_type": "markdown",
   "metadata": {},
   "source": [
    "後で参照するので、グループ名を変数に設定しておきます。"
   ]
  },
  {
   "cell_type": "code",
   "execution_count": null,
   "metadata": {},
   "outputs": [],
   "source": [
    "group_name=kafka_connect"
   ]
  },
  {
   "cell_type": "markdown",
   "metadata": {},
   "source": [
    "インベントリを作成します。ノードのホスト名、ユーザ名などは実際の環境に合わせて書き換えてください。"
   ]
  },
  {
   "cell_type": "code",
   "execution_count": null,
   "metadata": {},
   "outputs": [],
   "source": [
    "cat > inventory.yml <<EOF\n",
    "all:\n",
    "  children:\n",
    "    ${group_name}:                                   # グループ名\n",
    "      hosts:\n",
    "        node001:                                     # 最後にコロンを付ける\n",
    "      vars:\n",
    "        ansible_user: root                           # ユーザ名\n",
    "        ansible_ssh_private_key_file: ~/.ssh/id_rsa  # SSHの秘密鍵\n",
    "        ansible_python_interpreter: /usr/bin/python3 # Pythonインタプリタのパス\n",
    "EOF\n",
    "\n",
    "cat inventory.yml"
   ]
  },
  {
   "cell_type": "markdown",
   "metadata": {},
   "source": [
    "## Ansibleが利用できることを確認する\n",
    "\n",
    "インベントリに登録したノードに対してAnsibleでアクセスできることを確認します。"
   ]
  },
  {
   "cell_type": "markdown",
   "metadata": {},
   "source": [
    "次のセルを実行してください。以下のような出力結果が表示されていれば、ノードに対するアクセスが成功しています。\n",
    "\n",
    "```\n",
    "node001 | SUCCESS => {\n",
    "    \"changed\": false,\n",
    "    \"ping\": \"pong\"\n",
    "}\n",
    "```\n",
    "\n",
    "次のセルを実行するには事前に `~/.ssh/known_hosts`に対象ノードが登録されていることを想定しています。登録されていない場合は、事前に\n",
    "\n",
    "```bash\n",
    "$ ssh-keyscan -H node001 >> ~/.ssh/known_hosts\n",
    "```\n",
    "\n",
    "などのコマンドを実行して `~/.ssh/known_hosts`の内容を更新してください。"
   ]
  },
  {
   "cell_type": "code",
   "execution_count": null,
   "metadata": {},
   "outputs": [],
   "source": [
    "ansible ${group_name} -m ping"
   ]
  },
  {
   "cell_type": "markdown",
   "metadata": {},
   "source": [
    "管理者権限でノードの操作が行えることを確認します。次のセルを実行してエラーにならなければ成功です。"
   ]
  },
  {
   "cell_type": "code",
   "execution_count": null,
   "metadata": {},
   "outputs": [],
   "source": [
    "ansible ${group_name} -b -a 'whoami'"
   ]
  }
 ],
 "metadata": {
  "kernelspec": {
   "display_name": "Bash",
   "language": "bash",
   "name": "bash"
  },
  "language_info": {
   "name": "bash"
  },
  "toc": {
   "base_numbering": 1,
   "nav_menu": {},
   "number_sections": true,
   "sideBar": true,
   "skip_h1_title": true,
   "title_cell": "Table of Contents",
   "title_sidebar": "Contents",
   "toc_cell": false,
   "toc_position": {},
   "toc_section_display": true,
   "toc_window_display": true
  }
 },
 "nbformat": 4,
 "nbformat_minor": 2
}