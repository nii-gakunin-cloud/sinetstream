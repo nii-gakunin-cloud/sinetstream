{
 "cells": [
  {
   "cell_type": "markdown",
   "metadata": {
    "lc_cell_meme": {
     "current": "a8c18212-7009-11ea-804d-0242ac160002",
     "history": [
      {
       "current": "a8c18212-7009-11ea-804d-0242ac160002",
       "next": null,
       "previous": null
      },
      {
       "current": "a8c18212-7009-11ea-804d-0242ac160002",
       "next": "37dfd96c-700a-11ea-804d-0242ac160002",
       "previous": null
      },
      {
       "current": "a8c18212-7009-11ea-804d-0242ac160002",
       "next": "b55333f4-795f-11ea-804d-0242ac160002",
       "previous": null
      },
      {
       "current": "a8c18212-7009-11ea-804d-0242ac160002",
       "next": "d554a258-88f7-11ea-972a-0242ac160002",
       "previous": null
      }
     ],
     "next": "c62ab65c-8913-11ea-972a-0242ac160002",
     "previous": null
    }
   },
   "source": [
    "# Kafka brokerの構築手順"
   ]
  },
  {
   "cell_type": "code",
   "execution_count": 1,
   "metadata": {
    "deletable": false,
    "editable": false,
    "lc_cell_meme": {
     "current": "c62ab65c-8913-11ea-972a-0242ac160002",
     "execution_end_time": "2020-05-12T09:40:07.503702Z",
     "history": [
      {
       "current": "c62ab65c-8913-11ea-972a-0242ac160002",
       "next": "c62ab94a-8913-11ea-972a-0242ac160002",
       "previous": "a8c18212-7009-11ea-804d-0242ac160002"
      }
     ],
     "next": "b55333f4-795f-11ea-804d-0242ac160002",
     "previous": "a8c18212-7009-11ea-804d-0242ac160002"
    },
    "lc_wrapper": {
     "log_history": [
      "/notebooks/notebook/tmp/サーバ構築手順/.log/20200428/20200428-144751-0068.log",
      "/notebooks/notebook/tmp/サーバ構築手順/.log/20200428/20200428-144832-0008.log",
      "/notebooks/notebook/tmp/サーバ構築手順/.log/20200428/20200428-145049-0107.log",
      "/notebooks/notebook/tmp/サーバ構築手順/.log/20200430/20200430-180341-0393.log",
      "/notebooks/notebook/tmp/サーバ構築手順/.log/20200501/20200501-113706-0263.log",
      "/notebooks/notebook/tmp/サーバ構築手順/.log/20200505/20200505-172812-0341.log",
      "/notebooks/notebook/tmp/サーバ構築手順/.log/20200507/20200507-150700-0863.log",
      "/notebooks/notebook/tmp/サーバ構築手順/.log/20200508/20200508-112523-0706.log",
      "/notebooks/notebook/tmp/サーバ構築手順/.log/20200508/20200508-114543-0829.log",
      "/notebooks/notebook/tmp/サーバ構築手順/.log/20200512/20200512-143619-0709.log",
      "/notebooks/notebook/tmp/サーバ構築手順/.log/20200512/20200512-161749-0126.log",
      "/notebooks/notebook/tmp/サーバ構築手順/.log/20200512/20200512-181432-0905.log",
      "/notebooks/notebook/tmp/サーバ構築手順/.log/20200512/20200512-183607-0023.log",
      "/notebooks/notebook/tmp/サーバ構築手順/.log/20200512/20200512-184007-0394.log"
     ]
    },
    "run_through_control": {
     "frozen": true
    }
   },
   "outputs": [],
   "source": [
    "set -o pipefail"
   ]
  },
  {
   "cell_type": "markdown",
   "metadata": {
    "lc_cell_meme": {
     "current": "b55333f4-795f-11ea-804d-0242ac160002",
     "history": [
      {
       "current": "b55333f4-795f-11ea-804d-0242ac160002",
       "next": "37dfd96c-700a-11ea-804d-0242ac160002",
       "previous": "a8c18212-7009-11ea-804d-0242ac160002"
      },
      {
       "current": "b55333f4-795f-11ea-804d-0242ac160002",
       "next": "37dfd96c-700a-11ea-804d-0242ac160002",
       "previous": "d554a258-88f7-11ea-972a-0242ac160002"
      },
      {
       "current": "b55333f4-795f-11ea-804d-0242ac160002",
       "next": "37dfd96c-700a-11ea-804d-0242ac160002",
       "previous": "c62ab94a-8913-11ea-972a-0242ac160002"
      }
     ],
     "next": "37dfd96c-700a-11ea-804d-0242ac160002",
     "previous": "c62ab65c-8913-11ea-972a-0242ac160002"
    }
   },
   "source": [
    "## Ansibleの設定"
   ]
  },
  {
   "cell_type": "markdown",
   "metadata": {
    "lc_cell_meme": {
     "current": "37dfd96c-700a-11ea-804d-0242ac160002",
     "history": [
      {
       "current": "37dfd96c-700a-11ea-804d-0242ac160002",
       "next": "37dfdda4-700a-11ea-804d-0242ac160002",
       "previous": "a8c18212-7009-11ea-804d-0242ac160002"
      },
      {
       "current": "37dfd96c-700a-11ea-804d-0242ac160002",
       "next": "37dfdda4-700a-11ea-804d-0242ac160002",
       "previous": "b55333f4-795f-11ea-804d-0242ac160002"
      }
     ],
     "next": "37dfd96c-700a-11ea-804d-0242ac160002",
     "previous": "b55333f4-795f-11ea-804d-0242ac160002"
    }
   },
   "source": [
    "ansibleをつかってKafka brokerクラスタ(とzookeeperクラスタ)を構築する。"
   ]
  },
  {
   "cell_type": "markdown",
   "metadata": {
    "lc_cell_meme": {
     "current": "37dfd96c-700a-11ea-804d-0242ac160002",
     "history": [
      {
       "current": "37dfd96c-700a-11ea-804d-0242ac160002",
       "next": "37dfdda4-700a-11ea-804d-0242ac160002",
       "previous": "a8c18212-7009-11ea-804d-0242ac160002"
      },
      {
       "current": "37dfd96c-700a-11ea-804d-0242ac160002",
       "next": "37dfdda4-700a-11ea-804d-0242ac160002",
       "previous": "b55333f4-795f-11ea-804d-0242ac160002"
      }
     ],
     "next": "37dfdda4-700a-11ea-804d-0242ac160002",
     "previous": "37dfd96c-700a-11ea-804d-0242ac160002"
    }
   },
   "source": [
    "ansibleのインベントリファイルを作成する。"
   ]
  },
  {
   "cell_type": "code",
   "execution_count": 2,
   "metadata": {
    "deletable": false,
    "editable": false,
    "lc_cell_meme": {
     "current": "37dfdda4-700a-11ea-804d-0242ac160002",
     "execution_end_time": "2020-05-12T09:40:08.587521Z",
     "history": [
      {
       "current": "37dfdda4-700a-11ea-804d-0242ac160002",
       "next": null,
       "previous": "37dfd96c-700a-11ea-804d-0242ac160002"
      }
     ],
     "next": "68dbc036-700e-11ea-804d-0242ac160002",
     "previous": "37dfd96c-700a-11ea-804d-0242ac160002"
    },
    "lc_wrapper": {
     "log_history": [
      "/notebooks/notebook/tmp/サーバ構築手順/.log/20200327/20200327-180622-0382.log",
      "/notebooks/notebook/tmp/サーバ構築手順/.log/20200327/20200327-183401-0231.log",
      "/notebooks/notebook/tmp/サーバ構築手順/.log/20200327/20200327-183908-0203.log",
      "/notebooks/notebook/tmp/サーバ構築手順/.log/20200329/20200329-183201-0850.log",
      "/notebooks/notebook/tmp/サーバ構築手順/.log/20200329/20200329-183627-0779.log",
      "/notebooks/notebook/tmp/サーバ構築手順/.log/20200329/20200329-185526-0672.log",
      "/notebooks/notebook/tmp/サーバ構築手順/.log/20200407/20200407-160542-0943.log",
      "/notebooks/notebook/tmp/サーバ構築手順/.log/20200410/20200410-123007-0479.log",
      "/notebooks/notebook/tmp/サーバ構築手順/.log/20200414/20200414-175847-0317.log",
      "/notebooks/notebook/tmp/サーバ構築手順/.log/20200428/20200428-145049-0223.log",
      "/notebooks/notebook/tmp/サーバ構築手順/.log/20200430/20200430-180412-0538.log",
      "/notebooks/notebook/tmp/サーバ構築手順/.log/20200501/20200501-113706-0380.log",
      "/notebooks/notebook/tmp/サーバ構築手順/.log/20200505/20200505-172812-0457.log",
      "/notebooks/notebook/tmp/サーバ構築手順/.log/20200507/20200507-150700-0979.log",
      "/notebooks/notebook/tmp/サーバ構築手順/.log/20200508/20200508-112523-0823.log",
      "/notebooks/notebook/tmp/サーバ構築手順/.log/20200508/20200508-114543-0944.log",
      "/notebooks/notebook/tmp/サーバ構築手順/.log/20200512/20200512-143619-0842.log",
      "/notebooks/notebook/tmp/サーバ構築手順/.log/20200512/20200512-161749-0243.log",
      "/notebooks/notebook/tmp/サーバ構築手順/.log/20200512/20200512-181433-0022.log",
      "/notebooks/notebook/tmp/サーバ構築手順/.log/20200512/20200512-183607-0138.log",
      "/notebooks/notebook/tmp/サーバ構築手順/.log/20200512/20200512-184007-0511.log"
     ]
    },
    "run_through_control": {
     "frozen": true
    }
   },
   "outputs": [],
   "source": [
    "cat >inventory.yml <<EOF\n",
    "all:\n",
    "    children:\n",
    "        kafka:\n",
    "            hosts:\n",
    "                server1.example.jp:\n",
    "                #ここにKafkaをうごかすホストを羅列する。行末のコロンを忘れずに\n",
    "            vars:\n",
    "                ansible_user: piyo  #実行ユーザは変更する\n",
    "                ansible_ssh_private_key_file: ~/.ssh/id_rsa\n",
    "                ansible_python_interpreter: /usr/bin/python3\n",
    "        zookeeper:\n",
    "            hosts:\n",
    "                server1.example.jp:\n",
    "                #ここにZookeeperをうごかすホストを羅列する。行末のコロンを忘れずに\n",
    "            vars:\n",
    "                ansible_user: piyo  #実行ユーザは変更する\n",
    "                ansible_ssh_private_key_file: ~/.ssh/id_rsa\n",
    "                ansible_python_interpreter: /usr/bin/python3\n",
    "EOF"
   ]
  },
  {
   "cell_type": "markdown",
   "metadata": {
    "lc_cell_meme": {
     "current": "68dbc036-700e-11ea-804d-0242ac160002",
     "next": "68dbc2f2-700e-11ea-804d-0242ac160002",
     "previous": "37dfdda4-700a-11ea-804d-0242ac160002"
    }
   },
   "source": [
    "ansibleの設定ファイルを作成する。"
   ]
  },
  {
   "cell_type": "code",
   "execution_count": 3,
   "metadata": {
    "deletable": false,
    "editable": false,
    "lc_cell_meme": {
     "current": "68dbc2f2-700e-11ea-804d-0242ac160002",
     "execution_end_time": "2020-05-12T09:40:08.904510Z",
     "next": "68dbc3ba-700e-11ea-804d-0242ac160002",
     "previous": "68dbc036-700e-11ea-804d-0242ac160002"
    },
    "lc_wrapper": {
     "log_history": [
      "/notebooks/notebook/tmp/サーバ構築手順/.log/20200327/20200327-183910-0403.log",
      "/notebooks/notebook/tmp/サーバ構築手順/.log/20200329/20200329-172611-0230.log",
      "/notebooks/notebook/tmp/サーバ構築手順/.log/20200329/20200329-183205-0793.log",
      "/notebooks/notebook/tmp/サーバ構築手順/.log/20200329/20200329-183629-0449.log",
      "/notebooks/notebook/tmp/サーバ構築手順/.log/20200329/20200329-185538-0390.log",
      "/notebooks/notebook/tmp/サーバ構築手順/.log/20200407/20200407-160548-0818.log",
      "/notebooks/notebook/tmp/サーバ構築手順/.log/20200410/20200410-123008-0567.log",
      "/notebooks/notebook/tmp/サーバ構築手順/.log/20200414/20200414-175848-0406.log",
      "/notebooks/notebook/tmp/サーバ構築手順/.log/20200428/20200428-145050-0306.log",
      "/notebooks/notebook/tmp/サーバ構築手順/.log/20200430/20200430-180420-0750.log",
      "/notebooks/notebook/tmp/サーバ構築手順/.log/20200501/20200501-113707-0462.log",
      "/notebooks/notebook/tmp/サーバ構築手順/.log/20200505/20200505-172813-0545.log",
      "/notebooks/notebook/tmp/サーバ構築手順/.log/20200507/20200507-150702-0063.log",
      "/notebooks/notebook/tmp/サーバ構築手順/.log/20200508/20200508-112524-0906.log",
      "/notebooks/notebook/tmp/サーバ構築手順/.log/20200508/20200508-114545-0026.log",
      "/notebooks/notebook/tmp/サーバ構築手順/.log/20200512/20200512-143620-0933.log",
      "/notebooks/notebook/tmp/サーバ構築手順/.log/20200512/20200512-161750-0326.log",
      "/notebooks/notebook/tmp/サーバ構築手順/.log/20200512/20200512-181434-0110.log",
      "/notebooks/notebook/tmp/サーバ構築手順/.log/20200512/20200512-183608-0224.log",
      "/notebooks/notebook/tmp/サーバ構築手順/.log/20200512/20200512-184008-0594.log"
     ]
    },
    "run_through_control": {
     "frozen": true
    }
   },
   "outputs": [],
   "source": [
    "cat >ansible.cfg <<EOF\n",
    "[defaults]\n",
    "command_warnings = False\n",
    "inventory = ./inventory.yml\n",
    "EOF"
   ]
  },
  {
   "cell_type": "markdown",
   "metadata": {
    "lc_cell_meme": {
     "current": "68dbc3ba-700e-11ea-804d-0242ac160002",
     "next": "68dbc450-700e-11ea-804d-0242ac160002",
     "previous": "68dbc2f2-700e-11ea-804d-0242ac160002"
    }
   },
   "source": [
    "ansibleを通じてzookeeperとkafkaを実行するホストにアクセスできるのを確認する。"
   ]
  },
  {
   "cell_type": "code",
   "execution_count": 4,
   "metadata": {
    "deletable": false,
    "editable": false,
    "lc_cell_meme": {
     "current": "68dbc450-700e-11ea-804d-0242ac160002",
     "execution_end_time": "2020-05-12T09:40:10.575185Z",
     "history": [
      {
       "current": "68dbc450-700e-11ea-804d-0242ac160002",
       "next": null,
       "previous": "68dbc3ba-700e-11ea-804d-0242ac160002"
      },
      {
       "current": "68dbc450-700e-11ea-804d-0242ac160002",
       "next": "f7b794f6-700e-11ea-804d-0242ac160002",
       "previous": "68dbc3ba-700e-11ea-804d-0242ac160002"
      },
      {
       "current": "68dbc450-700e-11ea-804d-0242ac160002",
       "next": "a4daee3e-7010-11ea-804d-0242ac160002",
       "previous": "68dbc3ba-700e-11ea-804d-0242ac160002"
      }
     ],
     "next": "33e52eaa-7011-11ea-804d-0242ac160002",
     "previous": "68dbc3ba-700e-11ea-804d-0242ac160002"
    },
    "lc_wrapper": {
     "log_history": [
      "/notebooks/notebook/tmp/サーバ構築手順/.log/20200327/20200327-183933-0236.log",
      "/notebooks/notebook/tmp/サーバ構築手順/.log/20200329/20200329-172627-0042.log",
      "/notebooks/notebook/tmp/サーバ構築手順/.log/20200329/20200329-183206-0772.log",
      "/notebooks/notebook/tmp/サーバ構築手順/.log/20200329/20200329-183630-0271.log",
      "/notebooks/notebook/tmp/サーバ構築手順/.log/20200329/20200329-185540-0324.log",
      "/notebooks/notebook/tmp/サーバ構築手順/.log/20200407/20200407-160550-0673.log",
      "/notebooks/notebook/tmp/サーバ構築手順/.log/20200410/20200410-123008-0883.log",
      "/notebooks/notebook/tmp/サーバ構築手順/.log/20200414/20200414-175848-0723.log",
      "/notebooks/notebook/tmp/サーバ構築手順/.log/20200428/20200428-145050-0624.log",
      "/notebooks/notebook/tmp/サーバ構築手順/.log/20200430/20200430-180425-0533.log",
      "/notebooks/notebook/tmp/サーバ構築手順/.log/20200501/20200501-113707-0777.log",
      "/notebooks/notebook/tmp/サーバ構築手順/.log/20200505/20200505-172813-0863.log",
      "/notebooks/notebook/tmp/サーバ構築手順/.log/20200507/20200507-150702-0379.log",
      "/notebooks/notebook/tmp/サーバ構築手順/.log/20200508/20200508-112525-0222.log",
      "/notebooks/notebook/tmp/サーバ構築手順/.log/20200508/20200508-114545-0344.log",
      "/notebooks/notebook/tmp/サーバ構築手順/.log/20200512/20200512-143621-0257.log",
      "/notebooks/notebook/tmp/サーバ構築手順/.log/20200512/20200512-161750-0642.log",
      "/notebooks/notebook/tmp/サーバ構築手順/.log/20200512/20200512-181434-0426.log",
      "/notebooks/notebook/tmp/サーバ構築手順/.log/20200512/20200512-183608-0541.log",
      "/notebooks/notebook/tmp/サーバ構築手順/.log/20200512/20200512-184008-0910.log"
     ]
    },
    "run_through_control": {
     "frozen": true
    }
   },
   "outputs": [
    {
     "name": "stdout",
     "output_type": "stream",
     "text": [
      "server1.example.jp | SUCCESS => {\n",
      "    \"changed\": false,\n",
      "    \"ping\": \"pong\"\n",
      "}\n"
     ]
    }
   ],
   "source": [
    "ansible all -m ping"
   ]
  },
  {
   "cell_type": "markdown",
   "metadata": {
    "lc_cell_meme": {
     "current": "33e52eaa-7011-11ea-804d-0242ac160002",
     "next": "33e531e8-7011-11ea-804d-0242ac160002",
     "previous": "68dbc450-700e-11ea-804d-0242ac160002"
    }
   },
   "source": [
    "Dockerがインストールされているのを確認する。"
   ]
  },
  {
   "cell_type": "code",
   "execution_count": 5,
   "metadata": {
    "deletable": false,
    "editable": false,
    "lc_cell_meme": {
     "current": "33e531e8-7011-11ea-804d-0242ac160002",
     "execution_end_time": "2020-05-12T09:40:12.167049Z",
     "history": [
      {
       "current": "33e531e8-7011-11ea-804d-0242ac160002",
       "next": "a4daee3e-7010-11ea-804d-0242ac160002",
       "previous": "33e52eaa-7011-11ea-804d-0242ac160002"
      },
      {
       "current": "33e531e8-7011-11ea-804d-0242ac160002",
       "next": "17102b50-789e-11ea-804d-0242ac160002",
       "previous": "33e52eaa-7011-11ea-804d-0242ac160002"
      }
     ],
     "next": "9adefb30-78a0-11ea-804d-0242ac160002",
     "previous": "33e52eaa-7011-11ea-804d-0242ac160002"
    },
    "lc_wrapper": {
     "log_history": [
      "/notebooks/notebook/tmp/サーバ構築手順/.log/20200327/20200327-185433-0362.log",
      "/notebooks/notebook/tmp/サーバ構築手順/.log/20200329/20200329-172733-0978.log",
      "/notebooks/notebook/tmp/サーバ構築手順/.log/20200329/20200329-172817-0267.log",
      "/notebooks/notebook/tmp/サーバ構築手順/.log/20200329/20200329-183209-0959.log",
      "/notebooks/notebook/tmp/サーバ構築手順/.log/20200329/20200329-183631-0857.log",
      "/notebooks/notebook/tmp/サーバ構築手順/.log/20200329/20200329-185542-0982.log",
      "/notebooks/notebook/tmp/サーバ構築手順/.log/20200407/20200407-160553-0722.log",
      "/notebooks/notebook/tmp/サーバ構築手順/.log/20200410/20200410-123010-0536.log",
      "/notebooks/notebook/tmp/サーバ構築手順/.log/20200414/20200414-175850-0371.log",
      "/notebooks/notebook/tmp/サーバ構築手順/.log/20200428/20200428-145052-0283.log",
      "/notebooks/notebook/tmp/サーバ構築手順/.log/20200430/20200430-180432-0302.log",
      "/notebooks/notebook/tmp/サーバ構築手順/.log/20200501/20200501-113709-0376.log",
      "/notebooks/notebook/tmp/サーバ構築手順/.log/20200505/20200505-172817-0063.log",
      "/notebooks/notebook/tmp/サーバ構築手順/.log/20200507/20200507-150704-0044.log",
      "/notebooks/notebook/tmp/サーバ構築手順/.log/20200508/20200508-112526-0894.log",
      "/notebooks/notebook/tmp/サーバ構築手順/.log/20200508/20200508-114547-0035.log",
      "/notebooks/notebook/tmp/サーバ構築手順/.log/20200512/20200512-143623-0012.log",
      "/notebooks/notebook/tmp/サーバ構築手順/.log/20200512/20200512-161752-0266.log",
      "/notebooks/notebook/tmp/サーバ構築手順/.log/20200512/20200512-181436-0110.log",
      "/notebooks/notebook/tmp/サーバ構築手順/.log/20200512/20200512-183610-0192.log",
      "/notebooks/notebook/tmp/サーバ構築手順/.log/20200512/20200512-184010-0582.log"
     ]
    },
    "run_through_control": {
     "frozen": true
    }
   },
   "outputs": [
    {
     "name": "stdout",
     "output_type": "stream",
     "text": [
      "server1.example.jp | CHANGED | rc=0 >>\n",
      "Client: Docker Engine - Community\n",
      " Version:           19.03.5\n",
      " API version:       1.40\n",
      " Go version:        go1.12.12\n",
      " Git commit:        633a0ea\n",
      " Built:             Wed Nov 13 07:25:41 2019\n",
      " OS/Arch:           linux/amd64\n",
      " Experimental:      false\n",
      "\n",
      "Server: Docker Engine - Community\n",
      " Engine:\n",
      "  Version:          19.03.5\n",
      "  API version:      1.40 (minimum version 1.12)\n",
      "  Go version:       go1.12.12\n",
      "  Git commit:       633a0ea\n",
      "  Built:            Wed Nov 13 07:24:18 2019\n",
      "  OS/Arch:          linux/amd64\n",
      "  Experimental:     false\n",
      " containerd:\n",
      "  Version:          1.2.10\n",
      "  GitCommit:        b34a5c8af56e510852c35414db4c1f4fa6172339\n",
      " runc:\n",
      "  Version:          1.0.0-rc8+dev\n",
      "  GitCommit:        3e425f80a8c931f88e6d94a8c831b9d5aa481657\n",
      " docker-init:\n",
      "  Version:          0.18.0\n",
      "  GitCommit:        fec3683\n"
     ]
    }
   ],
   "source": [
    "ansible all -m command -a \"docker version\""
   ]
  },
  {
   "cell_type": "markdown",
   "metadata": {
    "lc_cell_meme": {
     "current": "9adefb30-78a0-11ea-804d-0242ac160002",
     "history": [
      {
       "current": "9adefb30-78a0-11ea-804d-0242ac160002",
       "next": "17102b50-789e-11ea-804d-0242ac160002",
       "previous": "33e531e8-7011-11ea-804d-0242ac160002"
      }
     ],
     "next": "c5cd65f4-86b8-11ea-972a-0242ac160002",
     "previous": "33e531e8-7011-11ea-804d-0242ac160002"
    }
   },
   "source": [
    "## ZooKeeperクラスタの構築"
   ]
  },
  {
   "cell_type": "markdown",
   "metadata": {
    "lc_cell_meme": {
     "current": "c5cd65f4-86b8-11ea-972a-0242ac160002",
     "execution_end_time": "2020-04-25T05:51:53.089971Z",
     "next": "17102b50-789e-11ea-804d-0242ac160002",
     "previous": "9adefb30-78a0-11ea-804d-0242ac160002"
    },
    "lc_wrapper": {
     "log_history": [
      "/notebooks/notebook/tmp/サーバ構築手順/.log/20200425/20200425-145152-0925.log"
     ]
    }
   },
   "source": [
    "zookeeperのdockerイメージ名とポート番号を設定する。\n",
    "PPORT,LPORT,CPORTはほかのサービスのポート番号とぶつかっているのでなければ変更する必要はない。\n",
    "zookeeperの仕様によりCPORTは変更できない。"
   ]
  },
  {
   "cell_type": "code",
   "execution_count": 6,
   "metadata": {
    "deletable": false,
    "editable": false,
    "lc_cell_meme": {
     "current": "17102b50-789e-11ea-804d-0242ac160002",
     "execution_end_time": "2020-05-12T09:40:12.482225Z",
     "history": [
      {
       "current": "17102b50-789e-11ea-804d-0242ac160002",
       "next": "a4daee3e-7010-11ea-804d-0242ac160002",
       "previous": "33e531e8-7011-11ea-804d-0242ac160002"
      },
      {
       "current": "17102b50-789e-11ea-804d-0242ac160002",
       "next": "a4daee3e-7010-11ea-804d-0242ac160002",
       "previous": "9adefb30-78a0-11ea-804d-0242ac160002"
      },
      {
       "current": "17102b50-789e-11ea-804d-0242ac160002",
       "next": "b8f71192-78a1-11ea-804d-0242ac160002",
       "previous": "9adefb30-78a0-11ea-804d-0242ac160002"
      },
      {
       "current": "17102b50-789e-11ea-804d-0242ac160002",
       "next": "b8f71192-78a1-11ea-804d-0242ac160002",
       "previous": "c5cd65f4-86b8-11ea-972a-0242ac160002"
      }
     ],
     "next": "e3e5c404-86b9-11ea-972a-0242ac160002",
     "previous": "c5cd65f4-86b8-11ea-972a-0242ac160002"
    },
    "lc_wrapper": {
     "log_history": [
      "/notebooks/notebook/tmp/サーバ構築手順/.log/20200407/20200407-160557-0898.log",
      "/notebooks/notebook/tmp/サーバ構築手順/.log/20200407/20200407-162907-0607.log",
      "/notebooks/notebook/tmp/サーバ構築手順/.log/20200408/20200408-150047-0266.log",
      "/notebooks/notebook/tmp/サーバ構築手順/.log/20200408/20200408-150453-0702.log",
      "/notebooks/notebook/tmp/サーバ構築手順/.log/20200410/20200410-123012-0106.log",
      "/notebooks/notebook/tmp/サーバ構築手順/.log/20200414/20200414-175852-0000.log",
      "/notebooks/notebook/tmp/サーバ構築手順/.log/20200428/20200428-145053-0897.log",
      "/notebooks/notebook/tmp/サーバ構築手順/.log/20200430/20200430-180540-0784.log",
      "/notebooks/notebook/tmp/サーバ構築手順/.log/20200501/20200501-113710-0955.log",
      "/notebooks/notebook/tmp/サーバ構築手順/.log/20200505/20200505-172818-0700.log",
      "/notebooks/notebook/tmp/サーバ構築手順/.log/20200507/20200507-150705-0676.log",
      "/notebooks/notebook/tmp/サーバ構築手順/.log/20200508/20200508-112528-0576.log",
      "/notebooks/notebook/tmp/サーバ構築手順/.log/20200508/20200508-114548-0655.log",
      "/notebooks/notebook/tmp/サーバ構築手順/.log/20200512/20200512-143624-0617.log",
      "/notebooks/notebook/tmp/サーバ構築手順/.log/20200512/20200512-161753-0824.log",
      "/notebooks/notebook/tmp/サーバ構築手順/.log/20200512/20200512-181437-0697.log",
      "/notebooks/notebook/tmp/サーバ構築手順/.log/20200512/20200512-183611-0788.log",
      "/notebooks/notebook/tmp/サーバ構築手順/.log/20200512/20200512-184012-0174.log"
     ]
    },
    "run_through_control": {
     "frozen": true
    }
   },
   "outputs": [],
   "source": [
    "DOCKER_IMAGE=\"zookeeper\"\n",
    "\n",
    "ZK_PPORT=12888      # peer\n",
    "ZK_LPORT=13888      # leader\n",
    "ZK_CPORT=2181      # client"
   ]
  },
  {
   "cell_type": "markdown",
   "metadata": {
    "lc_cell_meme": {
     "current": "e3e5c404-86b9-11ea-972a-0242ac160002",
     "next": "b8f71192-78a1-11ea-804d-0242ac160002",
     "previous": "17102b50-789e-11ea-804d-0242ac160002"
    }
   },
   "source": [
    "zookeeperを起動するスクリプトを生成する。"
   ]
  },
  {
   "cell_type": "code",
   "execution_count": 7,
   "metadata": {
    "deletable": false,
    "editable": false,
    "lc_cell_meme": {
     "current": "b8f71192-78a1-11ea-804d-0242ac160002",
     "execution_end_time": "2020-05-12T09:40:14.938825Z",
     "history": [
      {
       "current": "b8f71192-78a1-11ea-804d-0242ac160002",
       "next": "a4daee3e-7010-11ea-804d-0242ac160002",
       "previous": "17102b50-789e-11ea-804d-0242ac160002"
      },
      {
       "current": "b8f71192-78a1-11ea-804d-0242ac160002",
       "next": "848d114e-795b-11ea-804d-0242ac160002",
       "previous": "17102b50-789e-11ea-804d-0242ac160002"
      }
     ],
     "next": "e3e5c684-86b9-11ea-972a-0242ac160002",
     "previous": "e3e5c404-86b9-11ea-972a-0242ac160002"
    },
    "lc_wrapper": {
     "log_history": [
      "/notebooks/notebook/tmp/サーバ構築手順/.log/20200407/20200407-163229-0968.log",
      "/notebooks/notebook/tmp/サーバ構築手順/.log/20200407/20200407-163304-0911.log",
      "/notebooks/notebook/tmp/サーバ構築手順/.log/20200407/20200407-163329-0304.log",
      "/notebooks/notebook/tmp/サーバ構築手順/.log/20200408/20200408-144142-0332.log",
      "/notebooks/notebook/tmp/サーバ構築手順/.log/20200408/20200408-145936-0506.log",
      "/notebooks/notebook/tmp/サーバ構築手順/.log/20200408/20200408-150047-0582.log",
      "/notebooks/notebook/tmp/サーバ構築手順/.log/20200408/20200408-150232-0561.log",
      "/notebooks/notebook/tmp/サーバ構築手順/.log/20200408/20200408-150455-0739.log",
      "/notebooks/notebook/tmp/サーバ構築手順/.log/20200410/20200410-123012-0421.log",
      "/notebooks/notebook/tmp/サーバ構築手順/.log/20200410/20200410-180024-0402.log",
      "/notebooks/notebook/tmp/サーバ構築手順/.log/20200410/20200410-180058-0415.log",
      "/notebooks/notebook/tmp/サーバ構築手順/.log/20200414/20200414-175852-0318.log",
      "/notebooks/notebook/tmp/サーバ構築手順/.log/20200428/20200428-145054-0213.log",
      "/notebooks/notebook/tmp/サーバ構築手順/.log/20200430/20200430-180543-0975.log",
      "/notebooks/notebook/tmp/サーバ構築手順/.log/20200501/20200501-113711-0270.log",
      "/notebooks/notebook/tmp/サーバ構築手順/.log/20200505/20200505-172819-0017.log",
      "/notebooks/notebook/tmp/サーバ構築手順/.log/20200507/20200507-150705-0993.log",
      "/notebooks/notebook/tmp/サーバ構築手順/.log/20200508/20200508-112528-0892.log",
      "/notebooks/notebook/tmp/サーバ構築手順/.log/20200508/20200508-114548-0972.log",
      "/notebooks/notebook/tmp/サーバ構築手順/.log/20200512/20200512-143624-0932.log",
      "/notebooks/notebook/tmp/サーバ構築手順/.log/20200512/20200512-161754-0139.log",
      "/notebooks/notebook/tmp/サーバ構築手順/.log/20200512/20200512-181438-0016.log",
      "/notebooks/notebook/tmp/サーバ構築手順/.log/20200512/20200512-183612-0106.log",
      "/notebooks/notebook/tmp/サーバ構築手順/.log/20200512/20200512-184012-0489.log"
     ]
    },
    "run_through_control": {
     "frozen": true
    }
   },
   "outputs": [
    {
     "name": "stdout",
     "output_type": "stream",
     "text": [
      "-rw-r--r-- 1 jovyan users 199 May 12 18:40 tmp/zookeeper-docker_run-server1.example.jp.sh\n"
     ]
    }
   ],
   "source": [
    "LIST_ZOOKEEPER_HOSTS=\"$(ansible-inventory --list  | jq  -r '.zookeeper.hosts|.[]')\"\n",
    "list_zookeeper_hosts() {\n",
    "    echo \"$LIST_ZOOKEEPER_HOSTS\"\n",
    "}\n",
    "\n",
    "print_servers() {\n",
    "    local MYID=\"$1\"\n",
    "    local HOST\n",
    "    local ID=1\n",
    "    local SERVER\n",
    "    list_zookeeper_hosts | while read HOST; do\n",
    "        if [ \"$ID\" = \"$MYID\" ]; then\n",
    "            local ANYADDR=\"0.0.0.0\"\n",
    "            HOST=\"$ANYADDR\"\n",
    "        fi\n",
    "        printf \"server.$ID=$HOST:$ZK_PPORT:$ZK_LPORT \"\n",
    "        ID=$((ID + 1))\n",
    "    done\n",
    "    printf \"\\n\"\n",
    "}\n",
    "\n",
    "print_docker_run() {\n",
    "    local DIR=\"$1\"\n",
    "    local ID=1\n",
    "    list_zookeeper_hosts | while read HOST; do\n",
    "        #local NAME=\"sinetstream-zookeeper-$ID\"\n",
    "        local NAME=\"sinetstream-zookeeper\"\n",
    "        local SERVERS=\"$(print_servers \"$ID\")\"\n",
    "        {\n",
    "            printf \"docker run --rm --detach --name '$NAME' --env 'ZOO_MY_ID=$ID' --env 'ZOO_SERVERS=$SERVERS' --publish $ZK_PPORT:$ZK_PPORT --publish $ZK_LPORT:$ZK_LPORT --publish $ZK_CPORT:$ZK_CPORT $DOCKER_IMAGE\"\n",
    "        } > \"$DIR/zookeeper-docker_run-${HOST}.sh\"\n",
    "        ID=$((ID + 1))\n",
    "    done\n",
    "}\n",
    "\n",
    "mkdir -p tmp  &&\n",
    "rm -f tmp/*.sh  &&\n",
    "print_docker_run tmp  &&\n",
    "ls -l tmp/*.sh"
   ]
  },
  {
   "cell_type": "markdown",
   "metadata": {
    "lc_cell_meme": {
     "current": "e3e5c684-86b9-11ea-972a-0242ac160002",
     "next": "848d114e-795b-11ea-804d-0242ac160002",
     "previous": "b8f71192-78a1-11ea-804d-0242ac160002"
    }
   },
   "source": [
    "ansibleをつかってzookeeperサーバーを起動する。"
   ]
  },
  {
   "cell_type": "code",
   "execution_count": 8,
   "metadata": {
    "deletable": false,
    "editable": false,
    "lc_cell_meme": {
     "current": "848d114e-795b-11ea-804d-0242ac160002",
     "execution_end_time": "2020-05-12T09:40:16.671087Z",
     "history": [
      {
       "current": "848d114e-795b-11ea-804d-0242ac160002",
       "next": "a4daee3e-7010-11ea-804d-0242ac160002",
       "previous": "b8f71192-78a1-11ea-804d-0242ac160002"
      },
      {
       "current": "848d114e-795b-11ea-804d-0242ac160002",
       "next": "b55335de-795f-11ea-804d-0242ac160002",
       "previous": "b8f71192-78a1-11ea-804d-0242ac160002"
      },
      {
       "current": "848d114e-795b-11ea-804d-0242ac160002",
       "next": "b55335de-795f-11ea-804d-0242ac160002",
       "previous": "e3e5c684-86b9-11ea-972a-0242ac160002"
      }
     ],
     "next": "91073720-86bb-11ea-972a-0242ac160002",
     "previous": "e3e5c684-86b9-11ea-972a-0242ac160002"
    },
    "lc_wrapper": {
     "log_history": [
      "/notebooks/notebook/tmp/サーバ構築手順/.log/20200408/20200408-144203-0519.log",
      "/notebooks/notebook/tmp/サーバ構築手順/.log/20200408/20200408-145708-0723.log",
      "/notebooks/notebook/tmp/サーバ構築手順/.log/20200408/20200408-145727-0189.log",
      "/notebooks/notebook/tmp/サーバ構築手順/.log/20200408/20200408-145941-0977.log",
      "/notebooks/notebook/tmp/サーバ構築手順/.log/20200408/20200408-150120-0791.log",
      "/notebooks/notebook/tmp/サーバ構築手順/.log/20200408/20200408-150311-0178.log",
      "/notebooks/notebook/tmp/サーバ構築手順/.log/20200408/20200408-150922-0736.log",
      "/notebooks/notebook/tmp/サーバ構築手順/.log/20200410/20200410-123014-0882.log",
      "/notebooks/notebook/tmp/サーバ構築手順/.log/20200410/20200410-180034-0392.log",
      "/notebooks/notebook/tmp/サーバ構築手順/.log/20200410/20200410-180103-0656.log",
      "/notebooks/notebook/tmp/サーバ構築手順/.log/20200410/20200410-180147-0579.log",
      "/notebooks/notebook/tmp/サーバ構築手順/.log/20200414/20200414-175854-0837.log",
      "/notebooks/notebook/tmp/サーバ構築手順/.log/20200428/20200428-145056-0751.log",
      "/notebooks/notebook/tmp/サーバ構築手順/.log/20200430/20200430-180604-0687.log",
      "/notebooks/notebook/tmp/サーバ構築手順/.log/20200501/20200501-113713-0730.log",
      "/notebooks/notebook/tmp/サーバ構築手順/.log/20200501/20200501-115352-0173.log",
      "/notebooks/notebook/tmp/サーバ構築手順/.log/20200505/20200505-172821-0517.log",
      "/notebooks/notebook/tmp/サーバ構築手順/.log/20200507/20200507-150217-0604.log",
      "/notebooks/notebook/tmp/サーバ構築手順/.log/20200507/20200507-150253-0925.log",
      "/notebooks/notebook/tmp/サーバ構築手順/.log/20200507/20200507-150708-0471.log",
      "/notebooks/notebook/tmp/サーバ構築手順/.log/20200508/20200508-112531-0353.log",
      "/notebooks/notebook/tmp/サーバ構築手順/.log/20200508/20200508-114551-0435.log",
      "/notebooks/notebook/tmp/サーバ構築手順/.log/20200512/20200512-143627-0413.log",
      "/notebooks/notebook/tmp/サーバ構築手順/.log/20200512/20200512-143710-0426.log",
      "/notebooks/notebook/tmp/サーバ構築手順/.log/20200512/20200512-161756-0592.log",
      "/notebooks/notebook/tmp/サーバ構築手順/.log/20200512/20200512-181440-0472.log",
      "/notebooks/notebook/tmp/サーバ構築手順/.log/20200512/20200512-183614-0561.log",
      "/notebooks/notebook/tmp/サーバ構築手順/.log/20200512/20200512-184014-0946.log"
     ]
    },
    "run_through_control": {
     "frozen": true
    }
   },
   "outputs": [
    {
     "name": "stdout",
     "output_type": "stream",
     "text": [
      "server1.example.jp | CHANGED => {\n",
      "    \"changed\": true,\n",
      "    \"rc\": 0,\n",
      "    \"stderr\": \"Shared connection to server1.example.jp closed.\\r\\n\",\n",
      "    \"stderr_lines\": [\n",
      "        \"Shared connection to server1.example.jp closed.\"\n",
      "    ],\n",
      "    \"stdout\": \"5b920416deb6d59169840a4643fc7ed1e6a0311fd5824f532b19aafbe03858cf\\r\\n\",\n",
      "    \"stdout_lines\": [\n",
      "        \"5b920416deb6d59169840a4643fc7ed1e6a0311fd5824f532b19aafbe03858cf\"\n",
      "    ]\n",
      "}\n"
     ]
    }
   ],
   "source": [
    "ansible zookeeper -m script -a 'tmp/zookeeper-docker_run-{{inventory_hostname}}.sh'"
   ]
  },
  {
   "cell_type": "code",
   "execution_count": 9,
   "metadata": {
    "deletable": false,
    "editable": false,
    "lc_cell_meme": {
     "current": "91073720-86bb-11ea-972a-0242ac160002",
     "execution_end_time": "2020-05-12T09:40:18.249000Z",
     "next": "b55335de-795f-11ea-804d-0242ac160002",
     "previous": "848d114e-795b-11ea-804d-0242ac160002"
    },
    "lc_wrapper": {
     "log_history": [
      "/notebooks/notebook/tmp/サーバ構築手順/.log/20200425/20200425-151117-0586.log",
      "/notebooks/notebook/tmp/サーバ構築手順/.log/20200425/20200425-151126-0130.log",
      "/notebooks/notebook/tmp/サーバ構築手順/.log/20200425/20200425-151144-0628.log",
      "/notebooks/notebook/tmp/サーバ構築手順/.log/20200425/20200425-153340-0550.log",
      "/notebooks/notebook/tmp/サーバ構築手順/.log/20200428/20200428-145058-0797.log",
      "/notebooks/notebook/tmp/サーバ構築手順/.log/20200430/20200430-180622-0577.log",
      "/notebooks/notebook/tmp/サーバ構築手順/.log/20200501/20200501-115354-0055.log",
      "/notebooks/notebook/tmp/サーバ構築手順/.log/20200505/20200505-172823-0464.log",
      "/notebooks/notebook/tmp/サーバ構築手順/.log/20200507/20200507-150710-0221.log",
      "/notebooks/notebook/tmp/サーバ構築手順/.log/20200508/20200508-112533-0130.log",
      "/notebooks/notebook/tmp/サーバ構築手順/.log/20200508/20200508-114553-0167.log",
      "/notebooks/notebook/tmp/サーバ構築手順/.log/20200512/20200512-143712-0568.log",
      "/notebooks/notebook/tmp/サーバ構築手順/.log/20200512/20200512-161758-0310.log",
      "/notebooks/notebook/tmp/サーバ構築手順/.log/20200512/20200512-181442-0168.log",
      "/notebooks/notebook/tmp/サーバ構築手順/.log/20200512/20200512-184016-0678.log"
     ]
    },
    "run_through_control": {
     "frozen": true
    }
   },
   "outputs": [
    {
     "name": "stdout",
     "output_type": "stream",
     "text": [
      "server1.example.jp | CHANGED | rc=0 >>\n",
      "CONTAINER ID        IMAGE               COMMAND                  CREATED             STATUS              PORTS                                                                                            NAMES\n",
      "5b920416deb6        zookeeper           \"/docker-entrypoint.…\"   3 seconds ago       Up 1 second         2888/tcp, 0.0.0.0:2181->2181/tcp, 0.0.0.0:12888->12888/tcp, 0.0.0.0:13888->13888/tcp, 3888/tcp   sinetstream-zookeeper\n"
     ]
    }
   ],
   "source": [
    "ansible zookeeper -m command -a 'docker ps --filter \"name=sinetstream-zookeeper\"'"
   ]
  },
  {
   "cell_type": "markdown",
   "metadata": {
    "lc_cell_meme": {
     "current": "b55335de-795f-11ea-804d-0242ac160002",
     "history": [
      {
       "current": "b55335de-795f-11ea-804d-0242ac160002",
       "next": "a4daee3e-7010-11ea-804d-0242ac160002",
       "previous": "848d114e-795b-11ea-804d-0242ac160002"
      },
      {
       "current": "b55335de-795f-11ea-804d-0242ac160002",
       "next": "fd012eb8-795f-11ea-804d-0242ac160002",
       "previous": "848d114e-795b-11ea-804d-0242ac160002"
      },
      {
       "current": "b55335de-795f-11ea-804d-0242ac160002",
       "next": "a4daee3e-7010-11ea-804d-0242ac160002",
       "previous": "848d114e-795b-11ea-804d-0242ac160002"
      }
     ],
     "next": "a4daee3e-7010-11ea-804d-0242ac160002",
     "previous": "91073720-86bb-11ea-972a-0242ac160002"
    }
   },
   "source": [
    "## Kafkaクラスタ"
   ]
  },
  {
   "cell_type": "markdown",
   "metadata": {
    "lc_cell_meme": {
     "current": "a4daee3e-7010-11ea-804d-0242ac160002",
     "history": [
      {
       "current": "a4daee3e-7010-11ea-804d-0242ac160002",
       "next": "f7b794f6-700e-11ea-804d-0242ac160002",
       "previous": "68dbc450-700e-11ea-804d-0242ac160002"
      },
      {
       "current": "a4daee3e-7010-11ea-804d-0242ac160002",
       "next": "f7b794f6-700e-11ea-804d-0242ac160002",
       "previous": "33e531e8-7011-11ea-804d-0242ac160002"
      },
      {
       "current": "a4daee3e-7010-11ea-804d-0242ac160002",
       "next": "f7b794f6-700e-11ea-804d-0242ac160002",
       "previous": "17102b50-789e-11ea-804d-0242ac160002"
      },
      {
       "current": "a4daee3e-7010-11ea-804d-0242ac160002",
       "next": "f7b794f6-700e-11ea-804d-0242ac160002",
       "previous": "b8f71192-78a1-11ea-804d-0242ac160002"
      },
      {
       "current": "a4daee3e-7010-11ea-804d-0242ac160002",
       "next": "f7b794f6-700e-11ea-804d-0242ac160002",
       "previous": "848d114e-795b-11ea-804d-0242ac160002"
      },
      {
       "current": "a4daee3e-7010-11ea-804d-0242ac160002",
       "next": "f7b794f6-700e-11ea-804d-0242ac160002",
       "previous": "b55335de-795f-11ea-804d-0242ac160002"
      },
      {
       "current": "a4daee3e-7010-11ea-804d-0242ac160002",
       "next": "f7b794f6-700e-11ea-804d-0242ac160002",
       "previous": "fd012eb8-795f-11ea-804d-0242ac160002"
      },
      {
       "current": "a4daee3e-7010-11ea-804d-0242ac160002",
       "next": "f7b794f6-700e-11ea-804d-0242ac160002",
       "previous": "b55335de-795f-11ea-804d-0242ac160002"
      }
     ],
     "next": "0f9e44a4-7963-11ea-804d-0242ac160002",
     "previous": "b55335de-795f-11ea-804d-0242ac160002"
    }
   },
   "source": [
    "公式のKafka一式をダウンロードする。\n",
    "手元でダウンロードしてから各ホストにコピーする。"
   ]
  },
  {
   "cell_type": "code",
   "execution_count": 10,
   "metadata": {
    "deletable": false,
    "editable": false,
    "lc_cell_meme": {
     "current": "0f9e44a4-7963-11ea-804d-0242ac160002",
     "execution_end_time": "2020-05-12T09:40:18.362395Z",
     "next": "f7b794f6-700e-11ea-804d-0242ac160002",
     "previous": "a4daee3e-7010-11ea-804d-0242ac160002"
    },
    "lc_wrapper": {
     "log_history": [
      "/notebooks/notebook/tmp/サーバ構築手順/.log/20200408/20200408-153500-0682.log",
      "/notebooks/notebook/tmp/サーバ構築手順/.log/20200410/20200410-180206-0681.log",
      "/notebooks/notebook/tmp/サーバ構築手順/.log/20200414/20200414-175856-0532.log",
      "/notebooks/notebook/tmp/サーバ構築手順/.log/20200428/20200428-145100-0421.log",
      "/notebooks/notebook/tmp/サーバ構築手順/.log/20200430/20200430-180653-0589.log",
      "/notebooks/notebook/tmp/サーバ構築手順/.log/20200501/20200501-115355-0655.log",
      "/notebooks/notebook/tmp/サーバ構築手順/.log/20200505/20200505-172825-0017.log",
      "/notebooks/notebook/tmp/サーバ構築手順/.log/20200507/20200507-150711-0797.log",
      "/notebooks/notebook/tmp/サーバ構築手順/.log/20200508/20200508-112534-0775.log",
      "/notebooks/notebook/tmp/サーバ構築手順/.log/20200508/20200508-114554-0676.log",
      "/notebooks/notebook/tmp/サーバ構築手順/.log/20200512/20200512-143714-0169.log",
      "/notebooks/notebook/tmp/サーバ構築手順/.log/20200512/20200512-161759-0872.log",
      "/notebooks/notebook/tmp/サーバ構築手順/.log/20200512/20200512-181443-0741.log",
      "/notebooks/notebook/tmp/サーバ構築手順/.log/20200512/20200512-184018-0256.log"
     ]
    },
    "run_through_control": {
     "frozen": true
    }
   },
   "outputs": [],
   "source": [
    "KAFKA=\"kafka_2.12-2.4.1\""
   ]
  },
  {
   "cell_type": "code",
   "execution_count": 11,
   "metadata": {
    "deletable": false,
    "editable": false,
    "lc_cell_meme": {
     "current": "f7b794f6-700e-11ea-804d-0242ac160002",
     "execution_end_time": "2020-05-12T09:40:18.506009Z",
     "history": [
      {
       "current": "f7b794f6-700e-11ea-804d-0242ac160002",
       "next": null,
       "previous": "68dbc450-700e-11ea-804d-0242ac160002"
      },
      {
       "current": "f7b794f6-700e-11ea-804d-0242ac160002",
       "next": "a4daf08c-7010-11ea-804d-0242ac160002",
       "previous": "a4daee3e-7010-11ea-804d-0242ac160002"
      },
      {
       "current": "f7b794f6-700e-11ea-804d-0242ac160002",
       "next": "a4daf08c-7010-11ea-804d-0242ac160002",
       "previous": "0f9e44a4-7963-11ea-804d-0242ac160002"
      }
     ],
     "next": "d72b7cf4-7d54-11ea-972a-0242ac160002",
     "previous": "0f9e44a4-7963-11ea-804d-0242ac160002"
    },
    "lc_wrapper": {
     "log_history": [
      "/notebooks/notebook/tmp/サーバ構築手順/.log/20200327/20200327-184135-0366.log",
      "/notebooks/notebook/tmp/サーバ構築手順/.log/20200329/20200329-183211-0576.log",
      "/notebooks/notebook/tmp/サーバ構築手順/.log/20200329/20200329-183253-0922.log",
      "/notebooks/notebook/tmp/サーバ構築手順/.log/20200329/20200329-183634-0501.log",
      "/notebooks/notebook/tmp/サーバ構築手順/.log/20200329/20200329-185546-0438.log",
      "/notebooks/notebook/tmp/サーバ構築手順/.log/20200408/20200408-153503-0125.log",
      "/notebooks/notebook/tmp/サーバ構築手順/.log/20200410/20200410-180206-0792.log",
      "/notebooks/notebook/tmp/サーバ構築手順/.log/20200414/20200414-175856-0644.log",
      "/notebooks/notebook/tmp/サーバ構築手順/.log/20200428/20200428-145100-0534.log",
      "/notebooks/notebook/tmp/サーバ構築手順/.log/20200430/20200430-180654-0274.log",
      "/notebooks/notebook/tmp/サーバ構築手順/.log/20200501/20200501-115355-0768.log",
      "/notebooks/notebook/tmp/サーバ構築手順/.log/20200505/20200505-172825-0129.log",
      "/notebooks/notebook/tmp/サーバ構築手順/.log/20200507/20200507-150711-0909.log",
      "/notebooks/notebook/tmp/サーバ構築手順/.log/20200508/20200508-112534-0887.log",
      "/notebooks/notebook/tmp/サーバ構築手順/.log/20200508/20200508-114554-0789.log",
      "/notebooks/notebook/tmp/サーバ構築手順/.log/20200512/20200512-143714-0280.log",
      "/notebooks/notebook/tmp/サーバ構築手順/.log/20200512/20200512-161759-0984.log",
      "/notebooks/notebook/tmp/サーバ構築手順/.log/20200512/20200512-181443-0852.log",
      "/notebooks/notebook/tmp/サーバ構築手順/.log/20200512/20200512-184018-0368.log"
     ]
    },
    "run_through_control": {
     "frozen": true
    }
   },
   "outputs": [
    {
     "name": "stdout",
     "output_type": "stream",
     "text": [
      "--2020-05-12 18:40:18--  http://ftp.kddilabs.jp/infosystems/apache/kafka/2.4.1/kafka_2.12-2.4.1.tgz\n",
      "Resolving ftp.kddilabs.jp (ftp.kddilabs.jp)... 192.26.91.193, 2001:200:601:10:206:5bff:fef0:466c\n",
      "Connecting to ftp.kddilabs.jp (ftp.kddilabs.jp)|192.26.91.193|:80... connected.\n",
      "HTTP request sent, awaiting response... 304 Not Modified\n",
      "File ‘ftp.kddilabs.jp/infosystems/apache/kafka/2.4.1/kafka_2.12-2.4.1.tgz’ not modified on server. Omitting download.\n",
      "\n"
     ]
    }
   ],
   "source": [
    "wget --mirror http://ftp.kddilabs.jp/infosystems/apache/kafka/2.4.1/$KAFKA.tgz"
   ]
  },
  {
   "cell_type": "code",
   "execution_count": 12,
   "metadata": {
    "deletable": false,
    "editable": false,
    "lc_cell_meme": {
     "current": "d72b7cf4-7d54-11ea-972a-0242ac160002",
     "execution_end_time": "2020-05-12T09:40:19.967046Z",
     "next": "a4daf08c-7010-11ea-804d-0242ac160002",
     "previous": "f7b794f6-700e-11ea-804d-0242ac160002"
    },
    "lc_wrapper": {
     "log_history": [
      "/notebooks/notebook/tmp/サーバ構築手順/.log/20200413/20200413-160334-0044.log",
      "/notebooks/notebook/tmp/サーバ構築手順/.log/20200413/20200413-160439-0796.log",
      "/notebooks/notebook/tmp/サーバ構築手順/.log/20200414/20200414-175856-0835.log",
      "/notebooks/notebook/tmp/サーバ構築手順/.log/20200428/20200428-145100-0718.log",
      "/notebooks/notebook/tmp/サーバ構築手順/.log/20200430/20200430-180702-0426.log",
      "/notebooks/notebook/tmp/サーバ構築手順/.log/20200501/20200501-115355-0929.log",
      "/notebooks/notebook/tmp/サーバ構築手順/.log/20200505/20200505-172825-0481.log",
      "/notebooks/notebook/tmp/サーバ構築手順/.log/20200507/20200507-150712-0073.log",
      "/notebooks/notebook/tmp/サーバ構築手順/.log/20200508/20200508-112535-0066.log",
      "/notebooks/notebook/tmp/サーバ構築手順/.log/20200508/20200508-114554-0986.log",
      "/notebooks/notebook/tmp/サーバ構築手順/.log/20200512/20200512-143714-0615.log",
      "/notebooks/notebook/tmp/サーバ構築手順/.log/20200512/20200512-161800-0120.log",
      "/notebooks/notebook/tmp/サーバ構築手順/.log/20200512/20200512-181444-0032.log",
      "/notebooks/notebook/tmp/サーバ構築手順/.log/20200512/20200512-184018-0512.log"
     ]
    },
    "run_through_control": {
     "frozen": true
    }
   },
   "outputs": [
    {
     "name": "stdout",
     "output_type": "stream",
     "text": [
      "server1.example.jp | CHANGED | rc=0 >>\n",
      "\n"
     ]
    }
   ],
   "source": [
    "ansible kafka -m command -a \"mkdir -p \\$PWD/sinetstream-kafka\""
   ]
  },
  {
   "cell_type": "code",
   "execution_count": 13,
   "metadata": {
    "deletable": false,
    "editable": false,
    "lc_cell_meme": {
     "current": "a4daf08c-7010-11ea-804d-0242ac160002",
     "execution_end_time": "2020-05-12T09:40:22.156262Z",
     "history": [
      {
       "current": "a4daf08c-7010-11ea-804d-0242ac160002",
       "next": null,
       "previous": "f7b794f6-700e-11ea-804d-0242ac160002"
      },
      {
       "current": "a4daf08c-7010-11ea-804d-0242ac160002",
       "next": "f45348f8-7196-11ea-804d-0242ac160002",
       "previous": "f7b794f6-700e-11ea-804d-0242ac160002"
      },
      {
       "current": "a4daf08c-7010-11ea-804d-0242ac160002",
       "next": "f45348f8-7196-11ea-804d-0242ac160002",
       "previous": "d72b7cf4-7d54-11ea-972a-0242ac160002"
      }
     ],
     "next": "bee4d822-7ded-11ea-972a-0242ac160002",
     "previous": "d72b7cf4-7d54-11ea-972a-0242ac160002"
    },
    "lc_wrapper": {
     "log_history": [
      "/notebooks/notebook/tmp/サーバ構築手順/.log/20200327/20200327-185221-0023.log",
      "/notebooks/notebook/tmp/サーバ構築手順/.log/20200329/20200329-172843-0162.log",
      "/notebooks/notebook/tmp/サーバ構築手順/.log/20200329/20200329-183325-0188.log",
      "/notebooks/notebook/tmp/サーバ構築手順/.log/20200329/20200329-183650-0072.log",
      "/notebooks/notebook/tmp/サーバ構築手順/.log/20200329/20200329-185549-0475.log",
      "/notebooks/notebook/tmp/サーバ構築手順/.log/20200408/20200408-153506-0838.log",
      "/notebooks/notebook/tmp/サーバ構築手順/.log/20200410/20200410-180206-0930.log",
      "/notebooks/notebook/tmp/サーバ構築手順/.log/20200413/20200413-151502-0246.log",
      "/notebooks/notebook/tmp/サーバ構築手順/.log/20200413/20200413-160502-0172.log",
      "/notebooks/notebook/tmp/サーバ構築手順/.log/20200414/20200414-175858-0301.log",
      "/notebooks/notebook/tmp/サーバ構築手順/.log/20200428/20200428-145102-0251.log",
      "/notebooks/notebook/tmp/サーバ構築手順/.log/20200430/20200430-180705-0723.log",
      "/notebooks/notebook/tmp/サーバ構築手順/.log/20200501/20200501-115357-0457.log",
      "/notebooks/notebook/tmp/サーバ構築手順/.log/20200505/20200505-172827-0000.log",
      "/notebooks/notebook/tmp/サーバ構築手順/.log/20200507/20200507-150713-0607.log",
      "/notebooks/notebook/tmp/サーバ構築手順/.log/20200508/20200508-112536-0649.log",
      "/notebooks/notebook/tmp/サーバ構築手順/.log/20200508/20200508-114556-0438.log",
      "/notebooks/notebook/tmp/サーバ構築手順/.log/20200512/20200512-143716-0090.log",
      "/notebooks/notebook/tmp/サーバ構築手順/.log/20200512/20200512-161801-0619.log",
      "/notebooks/notebook/tmp/サーバ構築手順/.log/20200512/20200512-181445-0489.log",
      "/notebooks/notebook/tmp/サーバ構築手順/.log/20200512/20200512-184019-0974.log"
     ]
    },
    "run_through_control": {
     "frozen": true
    }
   },
   "outputs": [
    {
     "name": "stdout",
     "output_type": "stream",
     "text": [
      "server1.example.jp | SUCCESS => {\n",
      "    \"changed\": false,\n",
      "    \"checksum\": \"d043d80b62dff190c22d11f4afbe8c59827ba7a5\",\n",
      "    \"dest\": \"/home/piyo/sinetstream-kafka/kafka_2.12-2.4.1.tgz\",\n",
      "    \"gid\": 1004,\n",
      "    \"group\": \"piyo\",\n",
      "    \"mode\": \"0664\",\n",
      "    \"owner\": \"piyo\",\n",
      "    \"path\": \"/home/piyo/sinetstream-kafka/kafka_2.12-2.4.1.tgz\",\n",
      "    \"size\": 62358954,\n",
      "    \"state\": \"file\",\n",
      "    \"uid\": 1004\n",
      "}\n"
     ]
    }
   ],
   "source": [
    "ansible kafka -m copy -a \"src=$KAFKA.tgz dest=\\$PWD/sinetstream-kafka/\""
   ]
  },
  {
   "cell_type": "markdown",
   "metadata": {
    "lc_cell_meme": {
     "current": "bee4d822-7ded-11ea-972a-0242ac160002",
     "history": [
      {
       "current": "bee4d822-7ded-11ea-972a-0242ac160002",
       "next": "f45348f8-7196-11ea-804d-0242ac160002",
       "previous": "a4daf08c-7010-11ea-804d-0242ac160002"
      },
      {
       "current": "bee4d822-7ded-11ea-972a-0242ac160002",
       "next": "922b1f6a-71a1-11ea-804d-0242ac160002",
       "previous": "a4daf08c-7010-11ea-804d-0242ac160002"
      }
     ],
     "next": "1c2f804e-86c3-11ea-972a-0242ac160002",
     "previous": "a4daf08c-7010-11ea-804d-0242ac160002"
    }
   },
   "source": [
    "### KafkaブローカーをうごかすCentOSのコンテナを作成"
   ]
  },
  {
   "cell_type": "markdown",
   "metadata": {
    "lc_cell_meme": {
     "current": "1c2f804e-86c3-11ea-972a-0242ac160002",
     "history": [
      {
       "current": "1c2f804e-86c3-11ea-972a-0242ac160002",
       "next": "922b1f6a-71a1-11ea-804d-0242ac160002",
       "previous": "bee4d822-7ded-11ea-972a-0242ac160002"
      }
     ],
     "next": "63b5dae4-86c3-11ea-972a-0242ac160002",
     "previous": "bee4d822-7ded-11ea-972a-0242ac160002"
    }
   },
   "source": [
    "認証方法をどれかひとつ選択する。"
   ]
  },
  {
   "cell_type": "code",
   "execution_count": 14,
   "metadata": {
    "deletable": false,
    "editable": false,
    "lc_cell_meme": {
     "current": "63b5dae4-86c3-11ea-972a-0242ac160002",
     "execution_end_time": "2020-05-12T09:40:22.425384Z",
     "history": [
      {
       "current": "63b5dae4-86c3-11ea-972a-0242ac160002",
       "next": "922b1f6a-71a1-11ea-804d-0242ac160002",
       "previous": "1c2f804e-86c3-11ea-972a-0242ac160002"
      },
      {
       "current": "63b5dae4-86c3-11ea-972a-0242ac160002",
       "next": "c9552124-86c4-11ea-972a-0242ac160002",
       "previous": "1c2f804e-86c3-11ea-972a-0242ac160002"
      }
     ],
     "next": "10dad548-86c5-11ea-972a-0242ac160002",
     "previous": "1c2f804e-86c3-11ea-972a-0242ac160002"
    },
    "lc_wrapper": {
     "log_history": [
      "/notebooks/notebook/tmp/サーバ構築手順/.log/20200428/20200428-145104-0761.log",
      "/notebooks/notebook/tmp/サーバ構築手順/.log/20200430/20200430-180731-0059.log",
      "/notebooks/notebook/tmp/サーバ構築手順/.log/20200501/20200501-115359-0670.log",
      "/notebooks/notebook/tmp/サーバ構築手順/.log/20200501/20200501-134806-0193.log",
      "/notebooks/notebook/tmp/サーバ構築手順/.log/20200505/20200505-172829-0253.log",
      "/notebooks/notebook/tmp/サーバ構築手順/.log/20200507/20200507-133828-0768.log",
      "/notebooks/notebook/tmp/サーバ構築手順/.log/20200507/20200507-150715-0794.log",
      "/notebooks/notebook/tmp/サーバ構築手順/.log/20200507/20200507-154656-0434.log",
      "/notebooks/notebook/tmp/サーバ構築手順/.log/20200507/20200507-154850-0206.log",
      "/notebooks/notebook/tmp/サーバ構築手順/.log/20200507/20200507-155011-0566.log",
      "/notebooks/notebook/tmp/サーバ構築手順/.log/20200508/20200508-112538-0859.log",
      "/notebooks/notebook/tmp/サーバ構築手順/.log/20200508/20200508-114558-0623.log",
      "/notebooks/notebook/tmp/サーバ構築手順/.log/20200512/20200512-143718-0418.log",
      "/notebooks/notebook/tmp/サーバ構築手順/.log/20200512/20200512-161803-0825.log",
      "/notebooks/notebook/tmp/サーバ構築手順/.log/20200512/20200512-170218-0764.log",
      "/notebooks/notebook/tmp/サーバ構築手順/.log/20200512/20200512-181447-0583.log",
      "/notebooks/notebook/tmp/サーバ構築手順/.log/20200512/20200512-184022-0162.log"
     ]
    },
    "run_through_control": {
     "frozen": true
    }
   },
   "outputs": [],
   "source": [
    "#KAFKA_AUTH=SSL        # SSL/TLS認証（クライアント認証）; 通信にTLSをつかい、認証に証明書をつかう\n",
    "KAFKA_AUTH=SASL_SSL_SCRAM  # SCRAM認証/TLS; 通信にTLSをつかい、認証にSCRAM(パスワード)をつかう\n",
    "#KAFKA_AUTH=SASL_SSL_PLAIN  # パスワード認証/TLS; 通信にTLSをつかい、認証に平文パスワードをつかう\n",
    "#KAFKA_AUTH=PLAINTEXT # 通信は暗号化されず、認証もない ※つかってはいけない"
   ]
  },
  {
   "cell_type": "markdown",
   "metadata": {
    "lc_cell_meme": {
     "current": "10dad548-86c5-11ea-972a-0242ac160002",
     "next": "922b1f6a-71a1-11ea-804d-0242ac160002",
     "previous": "63b5dae4-86c3-11ea-972a-0242ac160002"
    }
   },
   "source": [
    "truststore/keystoreを保護するためのパスワードを設定する。パスワードは適当に強度の高い文字列を指定する。"
   ]
  },
  {
   "cell_type": "code",
   "execution_count": 15,
   "metadata": {
    "deletable": false,
    "editable": false,
    "lc_cell_meme": {
     "current": "922b1f6a-71a1-11ea-804d-0242ac160002",
     "execution_end_time": "2020-05-12T09:40:22.588715Z",
     "history": [
      {
       "current": "922b1f6a-71a1-11ea-804d-0242ac160002",
       "next": "159bb684-7ada-11ea-972a-0242ac160002",
       "previous": "9d80a3fa-719f-11ea-804d-0242ac160002"
      },
      {
       "current": "922b1f6a-71a1-11ea-804d-0242ac160002",
       "next": "159bb684-7ada-11ea-972a-0242ac160002",
       "previous": "4e0cda72-7dee-11ea-972a-0242ac160002"
      },
      {
       "current": "922b1f6a-71a1-11ea-804d-0242ac160002",
       "next": "f45348f8-7196-11ea-804d-0242ac160002",
       "previous": "bee4d822-7ded-11ea-972a-0242ac160002"
      },
      {
       "current": "922b1f6a-71a1-11ea-804d-0242ac160002",
       "next": "f45348f8-7196-11ea-804d-0242ac160002",
       "previous": "1c2f804e-86c3-11ea-972a-0242ac160002"
      },
      {
       "current": "922b1f6a-71a1-11ea-804d-0242ac160002",
       "next": "f45348f8-7196-11ea-804d-0242ac160002",
       "previous": "63b5dae4-86c3-11ea-972a-0242ac160002"
      },
      {
       "current": "922b1f6a-71a1-11ea-804d-0242ac160002",
       "next": "922b1f6a-71a1-11ea-804d-0242ac160002",
       "previous": "c9552124-86c4-11ea-972a-0242ac160002"
      }
     ],
     "next": "c9552124-86c4-11ea-972a-0242ac160002",
     "previous": "10dad548-86c5-11ea-972a-0242ac160002"
    },
    "lc_wrapper": {
     "log_history": [
      "/notebooks/notebook/tmp/サーバ構築手順/.log/20200410/20200410-121723-0315.log",
      "/notebooks/notebook/tmp/サーバ構築手順/.log/20200410/20200410-121732-0188.log",
      "/notebooks/notebook/tmp/サーバ構築手順/.log/20200410/20200410-180411-0403.log",
      "/notebooks/notebook/tmp/サーバ構築手順/.log/20200413/20200413-163945-0740.log",
      "/notebooks/notebook/tmp/サーバ構築手順/.log/20200414/20200414-160517-0839.log",
      "/notebooks/notebook/tmp/サーバ構築手順/.log/20200414/20200414-161555-0602.log",
      "/notebooks/notebook/tmp/サーバ構築手順/.log/20200414/20200414-175900-0492.log",
      "/notebooks/notebook/tmp/サーバ構築手順/.log/20200428/20200428-145105-0031.log",
      "/notebooks/notebook/tmp/サーバ構築手順/.log/20200430/20200430-180737-0401.log",
      "/notebooks/notebook/tmp/サーバ構築手順/.log/20200501/20200501-115359-0990.log",
      "/notebooks/notebook/tmp/サーバ構築手順/.log/20200501/20200501-134808-0395.log",
      "/notebooks/notebook/tmp/サーバ構築手順/.log/20200505/20200505-172829-0571.log",
      "/notebooks/notebook/tmp/サーバ構築手順/.log/20200507/20200507-150716-0112.log",
      "/notebooks/notebook/tmp/サーバ構築手順/.log/20200508/20200508-112539-0179.log",
      "/notebooks/notebook/tmp/サーバ構築手順/.log/20200508/20200508-114558-0941.log",
      "/notebooks/notebook/tmp/サーバ構築手順/.log/20200512/20200512-143718-0748.log",
      "/notebooks/notebook/tmp/サーバ構築手順/.log/20200512/20200512-161804-0143.log",
      "/notebooks/notebook/tmp/サーバ構築手順/.log/20200512/20200512-181447-0904.log",
      "/notebooks/notebook/tmp/サーバ構築手順/.log/20200512/20200512-184022-0432.log"
     ]
    },
    "run_through_control": {
     "frozen": true
    }
   },
   "outputs": [],
   "source": [
    "TRUSTSTORE_PASSWORD=\"trust-pass-00\"\n",
    "KEYSTORE_PASSWORD=\"key-pass-00\""
   ]
  },
  {
   "cell_type": "markdown",
   "metadata": {
    "lc_cell_meme": {
     "current": "c9552124-86c4-11ea-972a-0242ac160002",
     "history": [
      {
       "current": "c9552124-86c4-11ea-972a-0242ac160002",
       "next": "922b1f6a-71a1-11ea-804d-0242ac160002",
       "previous": "63b5dae4-86c3-11ea-972a-0242ac160002"
      }
     ],
     "next": "922b1f6a-71a1-11ea-804d-0242ac160002",
     "previous": "922b1f6a-71a1-11ea-804d-0242ac160002"
    }
   },
   "source": [
    "SCAM認証やパスワード認証を使う場合には、ユーザーのリストと各ユーザのパスワードを設定する。\n",
    "SSL/TLS認証を使う場合はパスワードは設定しなくてよく、ユーザのリストだけを設定する。SSL/TLS認証でのユーザ名は証明書のCommon Nameである。\n",
    "\n",
    "ユーザ `admin` はkafkaブローカ間の通信につかう特別なユーザなので消してはいけない。\n",
    "パスワードは十分な強度をもったものに変更すべきである。"
   ]
  },
  {
   "cell_type": "code",
   "execution_count": 16,
   "metadata": {
    "deletable": false,
    "editable": false,
    "lc_cell_meme": {
     "current": "922b1f6a-71a1-11ea-804d-0242ac160002",
     "execution_end_time": "2020-05-12T09:40:22.905709Z",
     "history": [
      {
       "current": "922b1f6a-71a1-11ea-804d-0242ac160002",
       "next": "159bb684-7ada-11ea-972a-0242ac160002",
       "previous": "9d80a3fa-719f-11ea-804d-0242ac160002"
      },
      {
       "current": "922b1f6a-71a1-11ea-804d-0242ac160002",
       "next": "159bb684-7ada-11ea-972a-0242ac160002",
       "previous": "4e0cda72-7dee-11ea-972a-0242ac160002"
      },
      {
       "current": "922b1f6a-71a1-11ea-804d-0242ac160002",
       "next": "f45348f8-7196-11ea-804d-0242ac160002",
       "previous": "bee4d822-7ded-11ea-972a-0242ac160002"
      },
      {
       "current": "922b1f6a-71a1-11ea-804d-0242ac160002",
       "next": "f45348f8-7196-11ea-804d-0242ac160002",
       "previous": "1c2f804e-86c3-11ea-972a-0242ac160002"
      },
      {
       "current": "922b1f6a-71a1-11ea-804d-0242ac160002",
       "next": "f45348f8-7196-11ea-804d-0242ac160002",
       "previous": "63b5dae4-86c3-11ea-972a-0242ac160002"
      },
      {
       "current": "922b1f6a-71a1-11ea-804d-0242ac160002",
       "next": "922b1f6a-71a1-11ea-804d-0242ac160002",
       "previous": "c9552124-86c4-11ea-972a-0242ac160002"
      },
      {
       "current": "922b1f6a-71a1-11ea-804d-0242ac160002",
       "next": "2ef8441a-86c6-11ea-972a-0242ac160002",
       "previous": "c9552124-86c4-11ea-972a-0242ac160002"
      }
     ],
     "next": "08cd4a7e-9044-11ea-972a-0242ac160002",
     "previous": "c9552124-86c4-11ea-972a-0242ac160002"
    },
    "lc_wrapper": {
     "log_history": [
      "/notebooks/notebook/tmp/サーバ構築手順/.log/20200410/20200410-121723-0315.log",
      "/notebooks/notebook/tmp/サーバ構築手順/.log/20200410/20200410-121732-0188.log",
      "/notebooks/notebook/tmp/サーバ構築手順/.log/20200410/20200410-180411-0403.log",
      "/notebooks/notebook/tmp/サーバ構築手順/.log/20200413/20200413-163945-0740.log",
      "/notebooks/notebook/tmp/サーバ構築手順/.log/20200414/20200414-160517-0839.log",
      "/notebooks/notebook/tmp/サーバ構築手順/.log/20200414/20200414-161555-0602.log",
      "/notebooks/notebook/tmp/サーバ構築手順/.log/20200414/20200414-175900-0492.log",
      "/notebooks/notebook/tmp/サーバ構築手順/.log/20200428/20200428-145105-0194.log",
      "/notebooks/notebook/tmp/サーバ構築手順/.log/20200430/20200430-180753-0525.log",
      "/notebooks/notebook/tmp/サーバ構築手順/.log/20200501/20200501-115400-0157.log",
      "/notebooks/notebook/tmp/サーバ構築手順/.log/20200501/20200501-134809-0232.log",
      "/notebooks/notebook/tmp/サーバ構築手順/.log/20200505/20200505-172829-0735.log",
      "/notebooks/notebook/tmp/サーバ構築手順/.log/20200507/20200507-114920-0826.log",
      "/notebooks/notebook/tmp/サーバ構築手順/.log/20200507/20200507-120210-0355.log",
      "/notebooks/notebook/tmp/サーバ構築手順/.log/20200507/20200507-150716-0274.log",
      "/notebooks/notebook/tmp/サーバ構築手順/.log/20200508/20200508-112539-0344.log",
      "/notebooks/notebook/tmp/サーバ構築手順/.log/20200508/20200508-114559-0105.log",
      "/notebooks/notebook/tmp/サーバ構築手順/.log/20200512/20200512-143718-0912.log",
      "/notebooks/notebook/tmp/サーバ構築手順/.log/20200512/20200512-161804-0306.log",
      "/notebooks/notebook/tmp/サーバ構築手順/.log/20200512/20200512-181448-0066.log",
      "/notebooks/notebook/tmp/サーバ構築手順/.log/20200512/20200512-184022-0596.log"
     ]
    },
    "run_through_control": {
     "frozen": true
    }
   },
   "outputs": [],
   "source": [
    "USER_LIST=\"user01 user02 user03 CN=client0,C=JP\"\n",
    "PASSWORD_admin=\"admin-pass\"\n",
    "PASSWORD_user01=\"user01-pass\"\n",
    "PASSWORD_user02=\"user02-pass\"\n",
    "PASSWORD_user03=\"user03-pass\""
   ]
  },
  {
   "cell_type": "markdown",
   "metadata": {
    "lc_cell_meme": {
     "current": "08cd4a7e-9044-11ea-972a-0242ac160002",
     "next": "08cd4da8-9044-11ea-972a-0242ac160002",
     "previous": "922b1f6a-71a1-11ea-804d-0242ac160002"
    }
   },
   "source": [
    "認可(ACL)の設定。"
   ]
  },
  {
   "cell_type": "code",
   "execution_count": 17,
   "metadata": {
    "deletable": false,
    "editable": false,
    "lc_cell_meme": {
     "current": "08cd4da8-9044-11ea-972a-0242ac160002",
     "execution_end_time": "2020-05-12T09:40:23.223021Z",
     "next": "2ef8441a-86c6-11ea-972a-0242ac160002",
     "previous": "08cd4a7e-9044-11ea-972a-0242ac160002"
    },
    "lc_wrapper": {
     "log_history": [
      "/notebooks/notebook/tmp/サーバ構築手順/.log/20200507/20200507-183859-0912.log",
      "/notebooks/notebook/tmp/サーバ構築手順/.log/20200507/20200507-183931-0271.log",
      "/notebooks/notebook/tmp/サーバ構築手順/.log/20200508/20200508-112539-0661.log",
      "/notebooks/notebook/tmp/サーバ構築手順/.log/20200508/20200508-114559-0421.log",
      "/notebooks/notebook/tmp/サーバ構築手順/.log/20200512/20200512-143719-0229.log",
      "/notebooks/notebook/tmp/サーバ構築手順/.log/20200512/20200512-161804-0622.log",
      "/notebooks/notebook/tmp/サーバ構築手順/.log/20200512/20200512-181448-0382.log",
      "/notebooks/notebook/tmp/サーバ構築手順/.log/20200512/20200512-183358-0002.log",
      "/notebooks/notebook/tmp/サーバ構築手順/.log/20200512/20200512-184022-0913.log"
     ]
    },
    "run_through_control": {
     "frozen": true
    }
   },
   "outputs": [],
   "source": [
    "KAFKA_ACL_DEFAULT_TO_ALLOW=\"false\"  # trueに設定するとACLが設定されていないユーザはアクセスが許可される。\n",
    "ACL_user01=\"readwrite\"\n",
    "ACL_user02=\"write\"\n",
    "ACL_user03=\"read\"\n",
    "ACL_CN_client0_C_JP=\"readwrite\"  # 英数字以外は _ に置き換えて"
   ]
  },
  {
   "cell_type": "raw",
   "metadata": {
    "lc_cell_meme": {
     "current": "2ef8441a-86c6-11ea-972a-0242ac160002",
     "history": [
      {
       "current": "2ef8441a-86c6-11ea-972a-0242ac160002",
       "next": "922b1f6a-71a1-11ea-804d-0242ac160002",
       "previous": "922b1f6a-71a1-11ea-804d-0242ac160002"
      }
     ],
     "next": "922b1f6a-71a1-11ea-804d-0242ac160002",
     "previous": "08cd4da8-9044-11ea-972a-0242ac160002"
    }
   },
   "source": [
    "Kafkaブローカのポート番号を設定する。ほかのサービスとぶつかっていなければ変更しなくてよい。"
   ]
  },
  {
   "cell_type": "code",
   "execution_count": 18,
   "metadata": {
    "deletable": false,
    "editable": false,
    "lc_cell_meme": {
     "current": "922b1f6a-71a1-11ea-804d-0242ac160002",
     "execution_end_time": "2020-05-12T09:40:23.386821Z",
     "history": [
      {
       "current": "922b1f6a-71a1-11ea-804d-0242ac160002",
       "next": "159bb684-7ada-11ea-972a-0242ac160002",
       "previous": "9d80a3fa-719f-11ea-804d-0242ac160002"
      },
      {
       "current": "922b1f6a-71a1-11ea-804d-0242ac160002",
       "next": "159bb684-7ada-11ea-972a-0242ac160002",
       "previous": "4e0cda72-7dee-11ea-972a-0242ac160002"
      },
      {
       "current": "922b1f6a-71a1-11ea-804d-0242ac160002",
       "next": "f45348f8-7196-11ea-804d-0242ac160002",
       "previous": "bee4d822-7ded-11ea-972a-0242ac160002"
      },
      {
       "current": "922b1f6a-71a1-11ea-804d-0242ac160002",
       "next": "f45348f8-7196-11ea-804d-0242ac160002",
       "previous": "1c2f804e-86c3-11ea-972a-0242ac160002"
      },
      {
       "current": "922b1f6a-71a1-11ea-804d-0242ac160002",
       "next": "f45348f8-7196-11ea-804d-0242ac160002",
       "previous": "63b5dae4-86c3-11ea-972a-0242ac160002"
      },
      {
       "current": "922b1f6a-71a1-11ea-804d-0242ac160002",
       "next": "f45348f8-7196-11ea-804d-0242ac160002",
       "previous": "922b1f6a-71a1-11ea-804d-0242ac160002"
      },
      {
       "current": "922b1f6a-71a1-11ea-804d-0242ac160002",
       "next": "f45348f8-7196-11ea-804d-0242ac160002",
       "previous": "2ef8441a-86c6-11ea-972a-0242ac160002"
      },
      {
       "current": "922b1f6a-71a1-11ea-804d-0242ac160002",
       "next": "767ec8ae-86c6-11ea-972a-0242ac160002",
       "previous": "2ef8441a-86c6-11ea-972a-0242ac160002"
      }
     ],
     "next": "a58fcc26-8abb-11ea-972a-0242ac160002",
     "previous": "2ef8441a-86c6-11ea-972a-0242ac160002"
    },
    "lc_wrapper": {
     "log_history": [
      "/notebooks/notebook/tmp/サーバ構築手順/.log/20200410/20200410-121723-0315.log",
      "/notebooks/notebook/tmp/サーバ構築手順/.log/20200410/20200410-121732-0188.log",
      "/notebooks/notebook/tmp/サーバ構築手順/.log/20200410/20200410-180411-0403.log",
      "/notebooks/notebook/tmp/サーバ構築手順/.log/20200413/20200413-163945-0740.log",
      "/notebooks/notebook/tmp/サーバ構築手順/.log/20200414/20200414-160517-0839.log",
      "/notebooks/notebook/tmp/サーバ構築手順/.log/20200414/20200414-161555-0602.log",
      "/notebooks/notebook/tmp/サーバ構築手順/.log/20200414/20200414-175900-0492.log",
      "/notebooks/notebook/tmp/サーバ構築手順/.log/20200428/20200428-145105-0459.log",
      "/notebooks/notebook/tmp/サーバ構築手順/.log/20200430/20200430-180756-0023.log",
      "/notebooks/notebook/tmp/サーバ構築手順/.log/20200501/20200501-115400-0421.log",
      "/notebooks/notebook/tmp/サーバ構築手順/.log/20200501/20200501-134810-0527.log",
      "/notebooks/notebook/tmp/サーバ構築手順/.log/20200505/20200505-172830-0000.log",
      "/notebooks/notebook/tmp/サーバ構築手順/.log/20200507/20200507-150716-0590.log",
      "/notebooks/notebook/tmp/サーバ構築手順/.log/20200508/20200508-112539-0928.log",
      "/notebooks/notebook/tmp/サーバ構築手順/.log/20200508/20200508-114559-0686.log",
      "/notebooks/notebook/tmp/サーバ構築手順/.log/20200512/20200512-143719-0495.log",
      "/notebooks/notebook/tmp/サーバ構築手順/.log/20200512/20200512-161804-0887.log",
      "/notebooks/notebook/tmp/サーバ構築手順/.log/20200512/20200512-181448-0650.log",
      "/notebooks/notebook/tmp/サーバ構築手順/.log/20200512/20200512-184023-0230.log"
     ]
    },
    "run_through_control": {
     "frozen": true
    }
   },
   "outputs": [],
   "source": [
    "KAFKA_PORT_SSL=9093    \n",
    "KAFKA_PORT_SASL_SSL=9093"
   ]
  },
  {
   "cell_type": "markdown",
   "metadata": {
    "lc_cell_meme": {
     "current": "a58fcc26-8abb-11ea-972a-0242ac160002",
     "next": "922b1f6a-71a1-11ea-804d-0242ac160002",
     "previous": "922b1f6a-71a1-11ea-804d-0242ac160002"
    }
   },
   "source": [
    "認証方法の詳細なパラメータを設定する。"
   ]
  },
  {
   "cell_type": "code",
   "execution_count": 19,
   "metadata": {
    "deletable": false,
    "editable": false,
    "lc_cell_meme": {
     "current": "922b1f6a-71a1-11ea-804d-0242ac160002",
     "execution_end_time": "2020-05-12T09:40:23.502456Z",
     "history": [
      {
       "current": "922b1f6a-71a1-11ea-804d-0242ac160002",
       "next": "159bb684-7ada-11ea-972a-0242ac160002",
       "previous": "9d80a3fa-719f-11ea-804d-0242ac160002"
      },
      {
       "current": "922b1f6a-71a1-11ea-804d-0242ac160002",
       "next": "159bb684-7ada-11ea-972a-0242ac160002",
       "previous": "4e0cda72-7dee-11ea-972a-0242ac160002"
      },
      {
       "current": "922b1f6a-71a1-11ea-804d-0242ac160002",
       "next": "f45348f8-7196-11ea-804d-0242ac160002",
       "previous": "bee4d822-7ded-11ea-972a-0242ac160002"
      },
      {
       "current": "922b1f6a-71a1-11ea-804d-0242ac160002",
       "next": "f45348f8-7196-11ea-804d-0242ac160002",
       "previous": "1c2f804e-86c3-11ea-972a-0242ac160002"
      },
      {
       "current": "922b1f6a-71a1-11ea-804d-0242ac160002",
       "next": "f45348f8-7196-11ea-804d-0242ac160002",
       "previous": "63b5dae4-86c3-11ea-972a-0242ac160002"
      },
      {
       "current": "922b1f6a-71a1-11ea-804d-0242ac160002",
       "next": "f45348f8-7196-11ea-804d-0242ac160002",
       "previous": "922b1f6a-71a1-11ea-804d-0242ac160002"
      },
      {
       "current": "922b1f6a-71a1-11ea-804d-0242ac160002",
       "next": "f45348f8-7196-11ea-804d-0242ac160002",
       "previous": "2ef8441a-86c6-11ea-972a-0242ac160002"
      },
      {
       "current": "922b1f6a-71a1-11ea-804d-0242ac160002",
       "next": "767ec8ae-86c6-11ea-972a-0242ac160002",
       "previous": "2ef8441a-86c6-11ea-972a-0242ac160002"
      }
     ],
     "next": "767ec8ae-86c6-11ea-972a-0242ac160002",
     "previous": "a58fcc26-8abb-11ea-972a-0242ac160002"
    },
    "lc_wrapper": {
     "log_history": [
      "/notebooks/notebook/tmp/サーバ構築手順/.log/20200410/20200410-121723-0315.log",
      "/notebooks/notebook/tmp/サーバ構築手順/.log/20200410/20200410-121732-0188.log",
      "/notebooks/notebook/tmp/サーバ構築手順/.log/20200410/20200410-180411-0403.log",
      "/notebooks/notebook/tmp/サーバ構築手順/.log/20200413/20200413-163945-0740.log",
      "/notebooks/notebook/tmp/サーバ構築手順/.log/20200414/20200414-160517-0839.log",
      "/notebooks/notebook/tmp/サーバ構築手順/.log/20200414/20200414-161555-0602.log",
      "/notebooks/notebook/tmp/サーバ構築手順/.log/20200414/20200414-175900-0492.log",
      "/notebooks/notebook/tmp/サーバ構築手順/.log/20200428/20200428-145105-0459.log",
      "/notebooks/notebook/tmp/サーバ構築手順/.log/20200430/20200430-180758-0516.log",
      "/notebooks/notebook/tmp/サーバ構築手順/.log/20200501/20200501-115400-0608.log",
      "/notebooks/notebook/tmp/サーバ構築手順/.log/20200501/20200501-134812-0940.log",
      "/notebooks/notebook/tmp/サーバ構築手順/.log/20200505/20200505-172830-0164.log",
      "/notebooks/notebook/tmp/サーバ構築手順/.log/20200507/20200507-150716-0753.log",
      "/notebooks/notebook/tmp/サーバ構築手順/.log/20200508/20200508-112540-0092.log",
      "/notebooks/notebook/tmp/サーバ構築手順/.log/20200508/20200508-114559-0850.log",
      "/notebooks/notebook/tmp/サーバ構築手順/.log/20200512/20200512-143719-0659.log",
      "/notebooks/notebook/tmp/サーバ構築手順/.log/20200512/20200512-161805-0052.log",
      "/notebooks/notebook/tmp/サーバ構築手順/.log/20200512/20200512-181448-0813.log",
      "/notebooks/notebook/tmp/サーバ構築手順/.log/20200512/20200512-184023-0395.log"
     ]
    },
    "run_through_control": {
     "frozen": true
    }
   },
   "outputs": [],
   "source": [
    "SCRAM_MECHANISM=\"SCRAM-SHA-256\""
   ]
  },
  {
   "cell_type": "markdown",
   "metadata": {
    "lc_cell_meme": {
     "current": "767ec8ae-86c6-11ea-972a-0242ac160002",
     "next": "f45348f8-7196-11ea-804d-0242ac160002",
     "previous": "922b1f6a-71a1-11ea-804d-0242ac160002"
    }
   },
   "source": [
    "Kafkaブローカを動かすコンテナを作る。"
   ]
  },
  {
   "cell_type": "code",
   "execution_count": 20,
   "metadata": {
    "deletable": false,
    "editable": false,
    "lc_cell_meme": {
     "current": "f45348f8-7196-11ea-804d-0242ac160002",
     "execution_end_time": "2020-05-12T09:40:25.593295Z",
     "history": [
      {
       "current": "f45348f8-7196-11ea-804d-0242ac160002",
       "next": null,
       "previous": "a4daf08c-7010-11ea-804d-0242ac160002"
      },
      {
       "current": "f45348f8-7196-11ea-804d-0242ac160002",
       "next": "8abc39c6-719c-11ea-804d-0242ac160002",
       "previous": "a4daf08c-7010-11ea-804d-0242ac160002"
      },
      {
       "current": "f45348f8-7196-11ea-804d-0242ac160002",
       "next": "b1916770-7d4e-11ea-972a-0242ac160002",
       "previous": "a4daf08c-7010-11ea-804d-0242ac160002"
      },
      {
       "current": "f45348f8-7196-11ea-804d-0242ac160002",
       "next": "8825936a-7d4f-11ea-972a-0242ac160002",
       "previous": "a4daf08c-7010-11ea-804d-0242ac160002"
      },
      {
       "current": "f45348f8-7196-11ea-804d-0242ac160002",
       "next": "8abc39c6-719c-11ea-804d-0242ac160002",
       "previous": "a4daf08c-7010-11ea-804d-0242ac160002"
      },
      {
       "current": "f45348f8-7196-11ea-804d-0242ac160002",
       "next": "8abc39c6-719c-11ea-804d-0242ac160002",
       "previous": "bee4d822-7ded-11ea-972a-0242ac160002"
      },
      {
       "current": "f45348f8-7196-11ea-804d-0242ac160002",
       "next": "8abc39c6-719c-11ea-804d-0242ac160002",
       "previous": "922b1f6a-71a1-11ea-804d-0242ac160002"
      },
      {
       "current": "f45348f8-7196-11ea-804d-0242ac160002",
       "next": "8abc39c6-719c-11ea-804d-0242ac160002",
       "previous": "767ec8ae-86c6-11ea-972a-0242ac160002"
      },
      {
       "current": "f45348f8-7196-11ea-804d-0242ac160002",
       "next": "05aeb4da-86c7-11ea-972a-0242ac160002",
       "previous": "767ec8ae-86c6-11ea-972a-0242ac160002"
      }
     ],
     "next": "f45348f8-7196-11ea-804d-0242ac160002",
     "previous": "767ec8ae-86c6-11ea-972a-0242ac160002"
    },
    "lc_wrapper": {
     "log_history": [
      "/notebooks/notebook/tmp/サーバ構築手順/.log/20200329/20200329-172917-0520.log",
      "/notebooks/notebook/tmp/サーバ構築手順/.log/20200329/20200329-172928-0095.log",
      "/notebooks/notebook/tmp/サーバ構築手順/.log/20200329/20200329-172950-0035.log",
      "/notebooks/notebook/tmp/サーバ構築手順/.log/20200329/20200329-175020-0709.log",
      "/notebooks/notebook/tmp/サーバ構築手順/.log/20200329/20200329-175924-0423.log",
      "/notebooks/notebook/tmp/サーバ構築手順/.log/20200329/20200329-175950-0477.log",
      "/notebooks/notebook/tmp/サーバ構築手順/.log/20200329/20200329-180024-0960.log",
      "/notebooks/notebook/tmp/サーバ構築手順/.log/20200329/20200329-180037-0983.log",
      "/notebooks/notebook/tmp/サーバ構築手順/.log/20200329/20200329-183332-0808.log",
      "/notebooks/notebook/tmp/サーバ構築手順/.log/20200329/20200329-183656-0215.log",
      "/notebooks/notebook/tmp/サーバ構築手順/.log/20200329/20200329-185551-0988.log",
      "/notebooks/notebook/tmp/サーバ構築手順/.log/20200329/20200329-185654-0461.log",
      "/notebooks/notebook/tmp/サーバ構築手順/.log/20200408/20200408-153514-0590.log",
      "/notebooks/notebook/tmp/サーバ構築手順/.log/20200408/20200408-155601-0431.log",
      "/notebooks/notebook/tmp/サーバ構築手順/.log/20200410/20200410-180209-0452.log",
      "/notebooks/notebook/tmp/サーバ構築手順/.log/20200413/20200413-151515-0830.log",
      "/notebooks/notebook/tmp/サーバ構築手順/.log/20200413/20200413-151837-0909.log",
      "/notebooks/notebook/tmp/サーバ構築手順/.log/20200413/20200413-151858-0680.log",
      "/notebooks/notebook/tmp/サーバ構築手順/.log/20200413/20200413-152331-0811.log",
      "/notebooks/notebook/tmp/サーバ構築手順/.log/20200413/20200413-152352-0282.log",
      "/notebooks/notebook/tmp/サーバ構築手順/.log/20200413/20200413-152459-0172.log",
      "/notebooks/notebook/tmp/サーバ構築手順/.log/20200413/20200413-153057-0604.log",
      "/notebooks/notebook/tmp/サーバ構築手順/.log/20200413/20200413-153222-0677.log",
      "/notebooks/notebook/tmp/サーバ構築手順/.log/20200413/20200413-160557-0787.log",
      "/notebooks/notebook/tmp/サーバ構築手順/.log/20200414/20200414-175901-0165.log",
      "/notebooks/notebook/tmp/サーバ構築手順/.log/20200414/20200414-180844-0710.log",
      "/notebooks/notebook/tmp/サーバ構築手順/.log/20200428/20200428-145105-0826.log",
      "/notebooks/notebook/tmp/サーバ構築手順/.log/20200430/20200430-180823-0271.log",
      "/notebooks/notebook/tmp/サーバ構築手順/.log/20200501/20200501-115400-0728.log",
      "/notebooks/notebook/tmp/サーバ構築手順/.log/20200501/20200501-134814-0525.log",
      "/notebooks/notebook/tmp/サーバ構築手順/.log/20200501/20200501-134843-0376.log",
      "/notebooks/notebook/tmp/サーバ構築手順/.log/20200505/20200505-172830-0277.log",
      "/notebooks/notebook/tmp/サーバ構築手順/.log/20200507/20200507-150716-0865.log",
      "/notebooks/notebook/tmp/サーバ構築手順/.log/20200508/20200508-112540-0207.log",
      "/notebooks/notebook/tmp/サーバ構築手順/.log/20200508/20200508-114559-0962.log",
      "/notebooks/notebook/tmp/サーバ構築手順/.log/20200512/20200512-143719-0773.log",
      "/notebooks/notebook/tmp/サーバ構築手順/.log/20200512/20200512-143844-0917.log",
      "/notebooks/notebook/tmp/サーバ構築手順/.log/20200512/20200512-161805-0164.log",
      "/notebooks/notebook/tmp/サーバ構築手順/.log/20200512/20200512-181448-0925.log",
      "/notebooks/notebook/tmp/サーバ構築手順/.log/20200512/20200512-184023-0509.log"
     ]
    },
    "run_through_control": {
     "frozen": true
    }
   },
   "outputs": [
    {
     "name": "stdout",
     "output_type": "stream",
     "text": [
      "server1.example.jp | CHANGED | rc=0 >>\n",
      "642b24558f7629a0a071f65bac082644fd61fc40dac92d912b08a75a097f7268\n"
     ]
    }
   ],
   "source": [
    "ansible kafka -m command -a \"docker run \\\n",
    "    --detach \\\n",
    "    --interactive \\\n",
    "    --net host \\\n",
    "    --name sinetstream-kafka \\\n",
    "    --volume \\$PWD/sinetstream-kafka:/sinetstream-kafka \\\n",
    "    centos:7\""
   ]
  },
  {
   "cell_type": "code",
   "execution_count": 21,
   "metadata": {
    "deletable": false,
    "editable": false,
    "lc_cell_meme": {
     "current": "f45348f8-7196-11ea-804d-0242ac160002",
     "execution_end_time": "2020-05-12T09:40:27.331397Z",
     "history": [
      {
       "current": "f45348f8-7196-11ea-804d-0242ac160002",
       "next": null,
       "previous": "a4daf08c-7010-11ea-804d-0242ac160002"
      },
      {
       "current": "f45348f8-7196-11ea-804d-0242ac160002",
       "next": "8abc39c6-719c-11ea-804d-0242ac160002",
       "previous": "a4daf08c-7010-11ea-804d-0242ac160002"
      },
      {
       "current": "f45348f8-7196-11ea-804d-0242ac160002",
       "next": "b1916770-7d4e-11ea-972a-0242ac160002",
       "previous": "a4daf08c-7010-11ea-804d-0242ac160002"
      },
      {
       "current": "f45348f8-7196-11ea-804d-0242ac160002",
       "next": "8825936a-7d4f-11ea-972a-0242ac160002",
       "previous": "a4daf08c-7010-11ea-804d-0242ac160002"
      },
      {
       "current": "f45348f8-7196-11ea-804d-0242ac160002",
       "next": "8abc39c6-719c-11ea-804d-0242ac160002",
       "previous": "a4daf08c-7010-11ea-804d-0242ac160002"
      },
      {
       "current": "f45348f8-7196-11ea-804d-0242ac160002",
       "next": "8abc39c6-719c-11ea-804d-0242ac160002",
       "previous": "bee4d822-7ded-11ea-972a-0242ac160002"
      },
      {
       "current": "f45348f8-7196-11ea-804d-0242ac160002",
       "next": "8abc39c6-719c-11ea-804d-0242ac160002",
       "previous": "922b1f6a-71a1-11ea-804d-0242ac160002"
      },
      {
       "current": "f45348f8-7196-11ea-804d-0242ac160002",
       "next": "8abc39c6-719c-11ea-804d-0242ac160002",
       "previous": "767ec8ae-86c6-11ea-972a-0242ac160002"
      },
      {
       "current": "f45348f8-7196-11ea-804d-0242ac160002",
       "next": "05aeb4da-86c7-11ea-972a-0242ac160002",
       "previous": "767ec8ae-86c6-11ea-972a-0242ac160002"
      }
     ],
     "next": "05aeb4da-86c7-11ea-972a-0242ac160002",
     "previous": "f45348f8-7196-11ea-804d-0242ac160002"
    },
    "lc_wrapper": {
     "log_history": [
      "/notebooks/notebook/tmp/サーバ構築手順/.log/20200329/20200329-172917-0520.log",
      "/notebooks/notebook/tmp/サーバ構築手順/.log/20200329/20200329-172928-0095.log",
      "/notebooks/notebook/tmp/サーバ構築手順/.log/20200329/20200329-172950-0035.log",
      "/notebooks/notebook/tmp/サーバ構築手順/.log/20200329/20200329-175020-0709.log",
      "/notebooks/notebook/tmp/サーバ構築手順/.log/20200329/20200329-175924-0423.log",
      "/notebooks/notebook/tmp/サーバ構築手順/.log/20200329/20200329-175950-0477.log",
      "/notebooks/notebook/tmp/サーバ構築手順/.log/20200329/20200329-180024-0960.log",
      "/notebooks/notebook/tmp/サーバ構築手順/.log/20200329/20200329-180037-0983.log",
      "/notebooks/notebook/tmp/サーバ構築手順/.log/20200329/20200329-183332-0808.log",
      "/notebooks/notebook/tmp/サーバ構築手順/.log/20200329/20200329-183656-0215.log",
      "/notebooks/notebook/tmp/サーバ構築手順/.log/20200329/20200329-185551-0988.log",
      "/notebooks/notebook/tmp/サーバ構築手順/.log/20200329/20200329-185654-0461.log",
      "/notebooks/notebook/tmp/サーバ構築手順/.log/20200408/20200408-153514-0590.log",
      "/notebooks/notebook/tmp/サーバ構築手順/.log/20200408/20200408-155601-0431.log",
      "/notebooks/notebook/tmp/サーバ構築手順/.log/20200410/20200410-180209-0452.log",
      "/notebooks/notebook/tmp/サーバ構築手順/.log/20200413/20200413-151515-0830.log",
      "/notebooks/notebook/tmp/サーバ構築手順/.log/20200413/20200413-151837-0909.log",
      "/notebooks/notebook/tmp/サーバ構築手順/.log/20200413/20200413-151858-0680.log",
      "/notebooks/notebook/tmp/サーバ構築手順/.log/20200413/20200413-152331-0811.log",
      "/notebooks/notebook/tmp/サーバ構築手順/.log/20200413/20200413-152352-0282.log",
      "/notebooks/notebook/tmp/サーバ構築手順/.log/20200413/20200413-152459-0172.log",
      "/notebooks/notebook/tmp/サーバ構築手順/.log/20200413/20200413-153057-0604.log",
      "/notebooks/notebook/tmp/サーバ構築手順/.log/20200413/20200413-153222-0677.log",
      "/notebooks/notebook/tmp/サーバ構築手順/.log/20200413/20200413-160557-0787.log",
      "/notebooks/notebook/tmp/サーバ構築手順/.log/20200414/20200414-175901-0165.log",
      "/notebooks/notebook/tmp/サーバ構築手順/.log/20200414/20200414-180844-0710.log",
      "/notebooks/notebook/tmp/サーバ構築手順/.log/20200428/20200428-145105-0826.log",
      "/notebooks/notebook/tmp/サーバ構築手順/.log/20200430/20200430-180826-0720.log",
      "/notebooks/notebook/tmp/サーバ構築手順/.log/20200501/20200501-115402-0804.log",
      "/notebooks/notebook/tmp/サーバ構築手順/.log/20200501/20200501-134838-0001.log",
      "/notebooks/notebook/tmp/サーバ構築手順/.log/20200501/20200501-134846-0334.log",
      "/notebooks/notebook/tmp/サーバ構築手順/.log/20200505/20200505-172832-0324.log",
      "/notebooks/notebook/tmp/サーバ構築手順/.log/20200507/20200507-150718-0917.log",
      "/notebooks/notebook/tmp/サーバ構築手順/.log/20200508/20200508-112542-0266.log",
      "/notebooks/notebook/tmp/サーバ構築手順/.log/20200508/20200508-114602-0119.log",
      "/notebooks/notebook/tmp/サーバ構築手順/.log/20200512/20200512-143847-0153.log",
      "/notebooks/notebook/tmp/サーバ構築手順/.log/20200512/20200512-161807-0225.log",
      "/notebooks/notebook/tmp/サーバ構築手順/.log/20200512/20200512-181450-0929.log",
      "/notebooks/notebook/tmp/サーバ構築手順/.log/20200512/20200512-184025-0604.log"
     ]
    },
    "run_through_control": {
     "frozen": true
    }
   },
   "outputs": [
    {
     "name": "stdout",
     "output_type": "stream",
     "text": [
      "server1.example.jp | CHANGED | rc=0 >>\n",
      "\n"
     ]
    }
   ],
   "source": [
    "ansible kafka -m command -a \"docker exec sinetstream-kafka true\""
   ]
  },
  {
   "cell_type": "markdown",
   "metadata": {
    "lc_cell_meme": {
     "current": "05aeb4da-86c7-11ea-972a-0242ac160002",
     "history": [
      {
       "current": "05aeb4da-86c7-11ea-972a-0242ac160002",
       "next": "8abc39c6-719c-11ea-804d-0242ac160002",
       "previous": "f45348f8-7196-11ea-804d-0242ac160002"
      }
     ],
     "next": "01c34c0a-90d6-11ea-972a-0242ac160002",
     "previous": "f45348f8-7196-11ea-804d-0242ac160002"
    }
   },
   "source": [
    "コンテナにKafkaの実行に必要なソフトウェアをインストールする。"
   ]
  },
  {
   "cell_type": "code",
   "execution_count": 22,
   "metadata": {
    "deletable": false,
    "editable": false,
    "lc_cell_meme": {
     "current": "01c34c0a-90d6-11ea-972a-0242ac160002",
     "execution_end_time": "2020-05-12T09:42:47.700045Z",
     "next": "8abc39c6-719c-11ea-804d-0242ac160002",
     "previous": "05aeb4da-86c7-11ea-972a-0242ac160002"
    },
    "lc_wrapper": {
     "log_history": [
      "/notebooks/notebook/tmp/サーバ構築手順/.log/20200508/20200508-114603-0854.log",
      "/notebooks/notebook/tmp/サーバ構築手順/.log/20200512/20200512-143848-0920.log",
      "/notebooks/notebook/tmp/サーバ構築手順/.log/20200512/20200512-161808-0960.log",
      "/notebooks/notebook/tmp/サーバ構築手順/.log/20200512/20200512-181452-0581.log",
      "/notebooks/notebook/tmp/サーバ構築手順/.log/20200512/20200512-184027-0338.log"
     ]
    },
    "run_through_control": {
     "frozen": true
    }
   },
   "outputs": [
    {
     "name": "stdout",
     "output_type": "stream",
     "text": [
      "server1.example.jp | CHANGED | rc=0 >>\n",
      "Loaded plugins: fastestmirror, ovl\n",
      "Determining fastest mirrors\n",
      " * base: ty1.mirror.newmediaexpress.com\n",
      " * extras: ty1.mirror.newmediaexpress.com\n",
      " * updates: ty1.mirror.newmediaexpress.com\n",
      "Resolving Dependencies\n",
      "--> Running transaction check\n",
      "---> Package acl.x86_64 0:2.2.51-14.el7 will be updated\n",
      "---> Package acl.x86_64 0:2.2.51-15.el7 will be an update\n",
      "---> Package bash.x86_64 0:4.2.46-33.el7 will be updated\n",
      "---> Package bash.x86_64 0:4.2.46-34.el7 will be an update\n",
      "---> Package bind-license.noarch 32:9.11.4-9.P2.el7 will be updated\n",
      "---> Package bind-license.noarch 32:9.11.4-16.P2.el7_8.2 will be an update\n",
      "---> Package binutils.x86_64 0:2.27-41.base.el7 will be updated\n",
      "---> Package binutils.x86_64 0:2.27-43.base.el7 will be an update\n",
      "---> Package ca-certificates.noarch 0:2018.2.22-70.0.el7_5 will be updated\n",
      "---> Package ca-certificates.noarch 0:2019.2.32-76.el7_7 will be an update\n",
      "---> Package centos-release.x86_64 0:7-7.1908.0.el7.centos will be updated\n",
      "---> Package centos-release.x86_64 0:7-8.2003.0.el7.centos will be an update\n",
      "---> Package cryptsetup-libs.x86_64 0:2.0.3-5.el7 will be updated\n",
      "---> Package cryptsetup-libs.x86_64 0:2.0.3-6.el7 will be an update\n",
      "---> Package curl.x86_64 0:7.29.0-54.el7 will be updated\n",
      "---> Package curl.x86_64 0:7.29.0-57.el7 will be an update\n",
      "---> Package device-mapper.x86_64 7:1.02.158-2.el7 will be updated\n",
      "---> Package device-mapper.x86_64 7:1.02.164-7.el7_8.1 will be an update\n",
      "---> Package device-mapper-libs.x86_64 7:1.02.158-2.el7 will be updated\n",
      "---> Package device-mapper-libs.x86_64 7:1.02.164-7.el7_8.1 will be an update\n",
      "---> Package dracut.x86_64 0:033-564.el7 will be updated\n",
      "---> Package dracut.x86_64 0:033-568.el7 will be an update\n",
      "---> Package elfutils-default-yama-scope.noarch 0:0.176-2.el7 will be updated\n",
      "---> Package elfutils-default-yama-scope.noarch 0:0.176-4.el7 will be an update\n",
      "---> Package elfutils-libelf.x86_64 0:0.176-2.el7 will be updated\n",
      "---> Package elfutils-libelf.x86_64 0:0.176-4.el7 will be an update\n",
      "---> Package elfutils-libs.x86_64 0:0.176-2.el7 will be updated\n",
      "---> Package elfutils-libs.x86_64 0:0.176-4.el7 will be an update\n",
      "---> Package expat.x86_64 0:2.1.0-10.el7_3 will be updated\n",
      "---> Package expat.x86_64 0:2.1.0-11.el7 will be an update\n",
      "---> Package file-libs.x86_64 0:5.11-35.el7 will be updated\n",
      "---> Package file-libs.x86_64 0:5.11-36.el7 will be an update\n",
      "---> Package glibc.x86_64 0:2.17-292.el7 will be updated\n",
      "---> Package glibc.x86_64 0:2.17-307.el7.1 will be an update\n",
      "---> Package glibc-common.x86_64 0:2.17-292.el7 will be updated\n",
      "---> Package glibc-common.x86_64 0:2.17-307.el7.1 will be an update\n",
      "---> Package hostname.x86_64 0:3.13-3.el7 will be updated\n",
      "---> Package hostname.x86_64 0:3.13-3.el7_7.1 will be an update\n",
      "---> Package kmod.x86_64 0:20-25.el7 will be updated\n",
      "---> Package kmod.x86_64 0:20-28.el7 will be an update\n",
      "---> Package kmod-libs.x86_64 0:20-25.el7 will be updated\n",
      "---> Package kmod-libs.x86_64 0:20-28.el7 will be an update\n",
      "---> Package kpartx.x86_64 0:0.4.9-127.el7 will be updated\n",
      "---> Package kpartx.x86_64 0:0.4.9-131.el7 will be an update\n",
      "---> Package krb5-libs.x86_64 0:1.15.1-37.el7_7.2 will be updated\n",
      "---> Package krb5-libs.x86_64 0:1.15.1-46.el7 will be an update\n",
      "---> Package libacl.x86_64 0:2.2.51-14.el7 will be updated\n",
      "---> Package libacl.x86_64 0:2.2.51-15.el7 will be an update\n",
      "---> Package libblkid.x86_64 0:2.23.2-61.el7 will be updated\n",
      "---> Package libblkid.x86_64 0:2.23.2-63.el7 will be an update\n",
      "---> Package libcap.x86_64 0:2.22-10.el7 will be updated\n",
      "---> Package libcap.x86_64 0:2.22-11.el7 will be an update\n",
      "---> Package libcom_err.x86_64 0:1.42.9-16.el7 will be updated\n",
      "---> Package libcom_err.x86_64 0:1.42.9-17.el7 will be an update\n",
      "---> Package libcurl.x86_64 0:7.29.0-54.el7 will be updated\n",
      "---> Package libcurl.x86_64 0:7.29.0-57.el7 will be an update\n",
      "---> Package libffi.x86_64 0:3.0.13-18.el7 will be updated\n",
      "---> Package libffi.x86_64 0:3.0.13-19.el7 will be an update\n",
      "---> Package libmount.x86_64 0:2.23.2-61.el7 will be updated\n",
      "---> Package libmount.x86_64 0:2.23.2-63.el7 will be an update\n",
      "---> Package libselinux.x86_64 0:2.5-14.1.el7 will be updated\n",
      "---> Package libselinux.x86_64 0:2.5-15.el7 will be an update\n",
      "---> Package libsmartcols.x86_64 0:2.23.2-61.el7 will be updated\n",
      "---> Package libsmartcols.x86_64 0:2.23.2-63.el7 will be an update\n",
      "---> Package libuuid.x86_64 0:2.23.2-61.el7 will be updated\n",
      "---> Package libuuid.x86_64 0:2.23.2-63.el7 will be an update\n",
      "---> Package libxml2.x86_64 0:2.9.1-6.el7_2.3 will be updated\n",
      "---> Package libxml2.x86_64 0:2.9.1-6.el7.4 will be an update\n",
      "---> Package libxml2-python.x86_64 0:2.9.1-6.el7_2.3 will be updated\n",
      "---> Package libxml2-python.x86_64 0:2.9.1-6.el7.4 will be an update\n",
      "---> Package nss.x86_64 0:3.44.0-4.el7 will be updated\n",
      "---> Package nss.x86_64 0:3.44.0-7.el7_7 will be an update\n",
      "---> Package nss-softokn.x86_64 0:3.44.0-5.el7 will be updated\n",
      "---> Package nss-softokn.x86_64 0:3.44.0-8.el7_7 will be an update\n",
      "---> Package nss-softokn-freebl.x86_64 0:3.44.0-5.el7 will be updated\n",
      "---> Package nss-softokn-freebl.x86_64 0:3.44.0-8.el7_7 will be an update\n",
      "---> Package nss-sysinit.x86_64 0:3.44.0-4.el7 will be updated\n",
      "---> Package nss-sysinit.x86_64 0:3.44.0-7.el7_7 will be an update\n",
      "---> Package nss-tools.x86_64 0:3.44.0-4.el7 will be updated\n",
      "---> Package nss-tools.x86_64 0:3.44.0-7.el7_7 will be an update\n",
      "---> Package nss-util.x86_64 0:3.44.0-3.el7 will be updated\n",
      "---> Package nss-util.x86_64 0:3.44.0-4.el7_7 will be an update\n",
      "---> Package pam.x86_64 0:1.1.8-22.el7 will be updated\n",
      "---> Package pam.x86_64 0:1.1.8-23.el7 will be an update\n",
      "---> Package passwd.x86_64 0:0.79-5.el7 will be updated\n",
      "---> Package passwd.x86_64 0:0.79-6.el7 will be an update\n",
      "---> Package procps-ng.x86_64 0:3.3.10-26.el7 will be updated\n",
      "---> Package procps-ng.x86_64 0:3.3.10-27.el7 will be an update\n",
      "---> Package python.x86_64 0:2.7.5-86.el7 will be updated\n",
      "---> Package python.x86_64 0:2.7.5-88.el7 will be an update\n",
      "---> Package python-libs.x86_64 0:2.7.5-86.el7 will be updated\n",
      "---> Package python-libs.x86_64 0:2.7.5-88.el7 will be an update\n",
      "---> Package python-urlgrabber.noarch 0:3.10-9.el7 will be updated\n",
      "---> Package python-urlgrabber.noarch 0:3.10-10.el7 will be an update\n",
      "---> Package rpm.x86_64 0:4.11.3-40.el7 will be updated\n",
      "---> Package rpm.x86_64 0:4.11.3-43.el7 will be an update\n",
      "---> Package rpm-build-libs.x86_64 0:4.11.3-40.el7 will be updated\n",
      "---> Package rpm-build-libs.x86_64 0:4.11.3-43.el7 will be an update\n",
      "---> Package rpm-libs.x86_64 0:4.11.3-40.el7 will be updated\n",
      "---> Package rpm-libs.x86_64 0:4.11.3-43.el7 will be an update\n",
      "---> Package rpm-python.x86_64 0:4.11.3-40.el7 will be updated\n",
      "---> Package rpm-python.x86_64 0:4.11.3-43.el7 will be an update\n",
      "---> Package sed.x86_64 0:4.2.2-5.el7 will be updated\n",
      "---> Package sed.x86_64 0:4.2.2-6.el7 will be an update\n",
      "---> Package setup.noarch 0:2.8.71-10.el7 will be updated\n",
      "---> Package setup.noarch 0:2.8.71-11.el7 will be an update\n",
      "---> Package shared-mime-info.x86_64 0:1.8-4.el7 will be updated\n",
      "---> Package shared-mime-info.x86_64 0:1.8-5.el7 will be an update\n",
      "---> Package sqlite.x86_64 0:3.7.17-8.el7 will be updated\n",
      "---> Package sqlite.x86_64 0:3.7.17-8.el7_7.1 will be an update\n",
      "---> Package systemd.x86_64 0:219-67.el7_7.1 will be updated\n",
      "---> Package systemd.x86_64 0:219-73.el7_8.5 will be an update\n",
      "---> Package systemd-libs.x86_64 0:219-67.el7_7.1 will be updated\n",
      "---> Package systemd-libs.x86_64 0:219-73.el7_8.5 will be an update\n",
      "---> Package tzdata.noarch 0:2019b-1.el7 will be updated\n",
      "---> Package tzdata.noarch 0:2020a-1.el7 will be an update\n",
      "---> Package util-linux.x86_64 0:2.23.2-61.el7 will be updated\n",
      "---> Package util-linux.x86_64 0:2.23.2-63.el7 will be an update\n",
      "---> Package yum.noarch 0:3.4.3-163.el7.centos will be updated\n",
      "---> Package yum.noarch 0:3.4.3-167.el7.centos will be an update\n",
      "---> Package yum-plugin-fastestmirror.noarch 0:1.1.31-52.el7 will be updated\n",
      "---> Package yum-plugin-fastestmirror.noarch 0:1.1.31-53.el7 will be an update\n",
      "---> Package yum-plugin-ovl.noarch 0:1.1.31-52.el7 will be updated\n",
      "---> Package yum-plugin-ovl.noarch 0:1.1.31-53.el7 will be an update\n",
      "---> Package yum-utils.noarch 0:1.1.31-52.el7 will be updated\n",
      "---> Package yum-utils.noarch 0:1.1.31-53.el7 will be an update\n",
      "--> Finished Dependency Resolution\n",
      "\n",
      "Dependencies Resolved\n",
      "\n",
      "================================================================================\n",
      " Package                      Arch    Version                    Repository\n",
      "                                                                           Size\n",
      "================================================================================\n",
      "Updating:\n",
      " acl                          x86_64  2.2.51-15.el7              base      81 k\n",
      " bash                         x86_64  4.2.46-34.el7              base     1.0 M\n",
      " bind-license                 noarch  32:9.11.4-16.P2.el7_8.2    updates   89 k\n",
      " binutils                     x86_64  2.27-43.base.el7           base     5.9 M\n",
      " ca-certificates              noarch  2019.2.32-76.el7_7         base     399 k\n",
      " centos-release               x86_64  7-8.2003.0.el7.centos      base      26 k\n",
      " cryptsetup-libs              x86_64  2.0.3-6.el7                base     339 k\n",
      " curl                         x86_64  7.29.0-57.el7              base     270 k\n",
      " device-mapper                x86_64  7:1.02.164-7.el7_8.1       updates  295 k\n",
      " device-mapper-libs           x86_64  7:1.02.164-7.el7_8.1       updates  324 k\n",
      " dracut                       x86_64  033-568.el7                base     329 k\n",
      " elfutils-default-yama-scope  noarch  0.176-4.el7                base      33 k\n",
      " elfutils-libelf              x86_64  0.176-4.el7                base     195 k\n",
      " elfutils-libs                x86_64  0.176-4.el7                base     291 k\n",
      " expat                        x86_64  2.1.0-11.el7               base      81 k\n",
      " file-libs                    x86_64  5.11-36.el7                base     340 k\n",
      " glibc                        x86_64  2.17-307.el7.1             base     3.6 M\n",
      " glibc-common                 x86_64  2.17-307.el7.1             base      11 M\n",
      " hostname                     x86_64  3.13-3.el7_7.1             base      17 k\n",
      " kmod                         x86_64  20-28.el7                  base     123 k\n",
      " kmod-libs                    x86_64  20-28.el7                  base      51 k\n",
      " kpartx                       x86_64  0.4.9-131.el7              base      80 k\n",
      " krb5-libs                    x86_64  1.15.1-46.el7              base     809 k\n",
      " libacl                       x86_64  2.2.51-15.el7              base      27 k\n",
      " libblkid                     x86_64  2.23.2-63.el7              base     182 k\n",
      " libcap                       x86_64  2.22-11.el7                base      47 k\n",
      " libcom_err                   x86_64  1.42.9-17.el7              base      42 k\n",
      " libcurl                      x86_64  7.29.0-57.el7              base     223 k\n",
      " libffi                       x86_64  3.0.13-19.el7              base      30 k\n",
      " libmount                     x86_64  2.23.2-63.el7              base     184 k\n",
      " libselinux                   x86_64  2.5-15.el7                 base     162 k\n",
      " libsmartcols                 x86_64  2.23.2-63.el7              base     142 k\n",
      " libuuid                      x86_64  2.23.2-63.el7              base      83 k\n",
      " libxml2                      x86_64  2.9.1-6.el7.4              base     668 k\n",
      " libxml2-python               x86_64  2.9.1-6.el7.4              base     247 k\n",
      " nss                          x86_64  3.44.0-7.el7_7             base     854 k\n",
      " nss-softokn                  x86_64  3.44.0-8.el7_7             base     330 k\n",
      " nss-softokn-freebl           x86_64  3.44.0-8.el7_7             base     224 k\n",
      " nss-sysinit                  x86_64  3.44.0-7.el7_7             base      65 k\n",
      " nss-tools                    x86_64  3.44.0-7.el7_7             base     528 k\n",
      " nss-util                     x86_64  3.44.0-4.el7_7             base      79 k\n",
      " pam                          x86_64  1.1.8-23.el7               base     721 k\n",
      " passwd                       x86_64  0.79-6.el7                 base     106 k\n",
      " procps-ng                    x86_64  3.3.10-27.el7              base     291 k\n",
      " python                       x86_64  2.7.5-88.el7               base      96 k\n",
      " python-libs                  x86_64  2.7.5-88.el7               base     5.6 M\n",
      " python-urlgrabber            noarch  3.10-10.el7                base     108 k\n",
      " rpm                          x86_64  4.11.3-43.el7              base     1.2 M\n",
      " rpm-build-libs               x86_64  4.11.3-43.el7              base     107 k\n",
      " rpm-libs                     x86_64  4.11.3-43.el7              base     278 k\n",
      " rpm-python                   x86_64  4.11.3-43.el7              base      84 k\n",
      " sed                          x86_64  4.2.2-6.el7                base     231 k\n",
      " setup                        noarch  2.8.71-11.el7              base     166 k\n",
      " shared-mime-info             x86_64  1.8-5.el7                  base     312 k\n",
      " sqlite                       x86_64  3.7.17-8.el7_7.1           base     394 k\n",
      " systemd                      x86_64  219-73.el7_8.5             updates  5.1 M\n",
      " systemd-libs                 x86_64  219-73.el7_8.5             updates  416 k\n",
      " tzdata                       noarch  2020a-1.el7                updates  495 k\n",
      " util-linux                   x86_64  2.23.2-63.el7              base     2.0 M\n",
      " yum                          noarch  3.4.3-167.el7.centos       base     1.2 M\n",
      " yum-plugin-fastestmirror     noarch  1.1.31-53.el7              base      34 k\n",
      " yum-plugin-ovl               noarch  1.1.31-53.el7              base      28 k\n",
      " yum-utils                    noarch  1.1.31-53.el7              base     122 k\n",
      "\n",
      "Transaction Summary\n",
      "================================================================================\n",
      "Upgrade  63 Packages\n",
      "\n",
      "Total download size: 49 M\n",
      "Downloading packages:\n",
      "Delta RPMs disabled because /usr/bin/applydeltarpm not installed.\n",
      "Public key for acl-2.2.51-15.el7.x86_64.rpm is not installed\n",
      "Public key for bind-license-9.11.4-16.P2.el7_8.2.noarch.rpm is not installed\n",
      "--------------------------------------------------------------------------------\n",
      "Total                                               52 MB/s |  49 MB  00:00     \n",
      "Retrieving key from file:///etc/pki/rpm-gpg/RPM-GPG-KEY-CentOS-7\n",
      "Running transaction check\n",
      "Running transaction test\n",
      "Transaction test succeeded\n",
      "Running transaction\n",
      "  Updating   : centos-release-7-8.2003.0.el7.centos.x86_64                1/126 \n",
      "  Updating   : tzdata-2020a-1.el7.noarch                                  2/126 \n",
      "  Updating   : bash-4.2.46-34.el7.x86_64                                  3/126 \n",
      "  Updating   : nss-softokn-freebl-3.44.0-8.el7_7.x86_64                   4/126 \n",
      "  Updating   : glibc-common-2.17-307.el7.1.x86_64                         5/126 \n",
      "  Updating   : glibc-2.17-307.el7.1.x86_64                                6/126 \n",
      "  Updating   : libselinux-2.5-15.el7.x86_64                               7/126 \n",
      "  Updating   : nss-util-3.44.0-4.el7_7.x86_64                             8/126 \n",
      "  Updating   : libacl-2.2.51-15.el7.x86_64                                9/126 \n",
      "  Updating   : libcap-2.22-11.el7.x86_64                                 10/126 \n",
      "  Updating   : elfutils-libelf-0.176-4.el7.x86_64                        11/126 \n",
      "  Updating   : sed-4.2.2-6.el7.x86_64                                    12/126 \n",
      "install-info: No such file or directory for /usr/share/info/sed.info.gz\n",
      "  Updating   : pam-1.1.8-23.el7.x86_64                                   13/126 \n",
      "  Updating   : libuuid-2.23.2-63.el7.x86_64                              14/126 \n",
      "  Updating   : libblkid-2.23.2-63.el7.x86_64                             15/126 \n",
      "  Updating   : libmount-2.23.2-63.el7.x86_64                             16/126 \n",
      "  Updating   : sqlite-3.7.17-8.el7_7.1.x86_64                            17/126 \n",
      "  Updating   : nss-softokn-3.44.0-8.el7_7.x86_64                         18/126 \n",
      "  Updating   : nss-sysinit-3.44.0-7.el7_7.x86_64                         19/126 \n",
      "  Updating   : nss-3.44.0-7.el7_7.x86_64                                 20/126 \n",
      "  Updating   : file-libs-5.11-36.el7.x86_64                              21/126 \n",
      "  Updating   : libxml2-2.9.1-6.el7.4.x86_64                              22/126 \n",
      "  Updating   : libcom_err-1.42.9-17.el7.x86_64                           23/126 \n",
      "  Updating   : krb5-libs-1.15.1-46.el7.x86_64                            24/126 \n",
      "  Updating   : libcurl-7.29.0-57.el7.x86_64                              25/126 \n",
      "  Updating   : curl-7.29.0-57.el7.x86_64                                 26/126 \n",
      "  Updating   : rpm-4.11.3-43.el7.x86_64                                  27/126 \n",
      "  Updating   : rpm-libs-4.11.3-43.el7.x86_64                             28/126 \n",
      "  Updating   : rpm-build-libs-4.11.3-43.el7.x86_64                       29/126 \n",
      "  Updating   : acl-2.2.51-15.el7.x86_64                                  30/126 \n",
      "  Updating   : kmod-libs-20-28.el7.x86_64                                31/126 \n",
      "  Updating   : libsmartcols-2.23.2-63.el7.x86_64                         32/126 \n",
      "  Updating   : binutils-2.27-43.base.el7.x86_64                          33/126 \n",
      "install-info: No such file or directory for /usr/share/info/as.info.gz\n",
      "install-info: No such file or directory for /usr/share/info/binutils.info.gz\n",
      "install-info: No such file or directory for /usr/share/info/gprof.info.gz\n",
      "install-info: No such file or directory for /usr/share/info/ld.info.gz\n",
      "install-info: No such file or directory for /usr/share/info/standards.info.gz\n",
      "  Updating   : util-linux-2.23.2-63.el7.x86_64                           34/126 \n",
      "  Updating   : procps-ng-3.3.10-27.el7.x86_64                            35/126 \n",
      "  Updating   : kpartx-0.4.9-131.el7.x86_64                               36/126 \n",
      "  Updating   : 7:device-mapper-1.02.164-7.el7_8.1.x86_64                 37/126 \n",
      "  Updating   : 7:device-mapper-libs-1.02.164-7.el7_8.1.x86_64            38/126 \n",
      "  Updating   : cryptsetup-libs-2.0.3-6.el7.x86_64                        39/126 \n",
      "  Updating   : dracut-033-568.el7.x86_64                                 40/126 \n",
      "  Updating   : kmod-20-28.el7.x86_64                                     41/126 \n",
      "  Updating   : systemd-libs-219-73.el7_8.5.x86_64                        42/126 \n",
      "  Updating   : elfutils-libs-0.176-4.el7.x86_64                          43/126 \n",
      "  Updating   : systemd-219-73.el7_8.5.x86_64                             44/126 \n",
      "Failed to get D-Bus connection: Operation not permitted\n",
      "  Updating   : elfutils-default-yama-scope-0.176-4.el7.noarch            45/126 \n",
      "  Updating   : expat-2.1.0-11.el7.x86_64                                 46/126 \n",
      "  Updating   : libffi-3.0.13-19.el7.x86_64                               47/126 \n",
      "  Updating   : python-libs-2.7.5-88.el7.x86_64                           48/126 \n",
      "  Updating   : python-2.7.5-88.el7.x86_64                                49/126 \n",
      "  Updating   : libxml2-python-2.9.1-6.el7.4.x86_64                       50/126 \n",
      "  Updating   : python-urlgrabber-3.10-10.el7.noarch                      51/126 \n",
      "  Updating   : rpm-python-4.11.3-43.el7.x86_64                           52/126 \n",
      "  Updating   : yum-plugin-fastestmirror-1.1.31-53.el7.noarch             53/126 \n",
      "  Updating   : yum-3.4.3-167.el7.centos.noarch                           54/126 \n",
      "  Updating   : yum-utils-1.1.31-53.el7.noarch                            55/126 \n",
      "  Updating   : yum-plugin-ovl-1.1.31-53.el7.noarch                       56/126 \n",
      "  Updating   : shared-mime-info-1.8-5.el7.x86_64                         57/126 \n",
      "  Updating   : nss-tools-3.44.0-7.el7_7.x86_64                           58/126 \n",
      "  Updating   : passwd-0.79-6.el7.x86_64                                  59/126 \n",
      "  Updating   : hostname-3.13-3.el7_7.1.x86_64                            60/126 \n",
      "  Updating   : ca-certificates-2019.2.32-76.el7_7.noarch                 61/126 \n",
      "  Updating   : setup-2.8.71-11.el7.noarch                                62/126 \n",
      "warning: /etc/shadow created as /etc/shadow.rpmnew\n",
      "  Updating   : 32:bind-license-9.11.4-16.P2.el7_8.2.noarch               63/126 \n",
      "  Cleanup    : yum-utils-1.1.31-52.el7.noarch                            64/126 \n",
      "  Cleanup    : yum-plugin-ovl-1.1.31-52.el7.noarch                       65/126 \n",
      "  Cleanup    : yum-plugin-fastestmirror-1.1.31-52.el7.noarch             66/126 \n",
      "  Cleanup    : yum-3.4.3-163.el7.centos.noarch                           67/126 \n",
      "  Cleanup    : python-urlgrabber-3.10-9.el7.noarch                       68/126 \n",
      "  Cleanup    : setup-2.8.71-10.el7.noarch                                69/126 \n",
      "  Cleanup    : ca-certificates-2018.2.22-70.0.el7_5.noarch               70/126 \n",
      "  Cleanup    : 32:bind-license-9.11.4-9.P2.el7.noarch                    71/126 \n",
      "  Cleanup    : rpm-python-4.11.3-40.el7.x86_64                           72/126 \n",
      "  Cleanup    : rpm-build-libs-4.11.3-40.el7.x86_64                       73/126 \n",
      "  Cleanup    : rpm-libs-4.11.3-40.el7.x86_64                             74/126 \n",
      "  Cleanup    : rpm-4.11.3-40.el7.x86_64                                  75/126 \n",
      "  Cleanup    : curl-7.29.0-54.el7.x86_64                                 76/126 \n",
      "  Cleanup    : nss-tools-3.44.0-4.el7.x86_64                             77/126 \n",
      "  Cleanup    : libxml2-python-2.9.1-6.el7_2.3.x86_64                     78/126 \n",
      "  Cleanup    : passwd-0.79-5.el7.x86_64                                  79/126 \n",
      "  Cleanup    : python-2.7.5-86.el7.x86_64                                80/126 \n",
      "  Cleanup    : python-libs-2.7.5-86.el7.x86_64                           81/126 \n",
      "  Cleanup    : shared-mime-info-1.8-4.el7.x86_64                         82/126 \n",
      "  Cleanup    : procps-ng-3.3.10-26.el7.x86_64                            83/126 \n",
      "  Cleanup    : util-linux-2.23.2-61.el7.x86_64                           84/126 \n",
      "  Cleanup    : cryptsetup-libs-2.0.3-5.el7.x86_64                        85/126 \n",
      "  Cleanup    : systemd-libs-219-67.el7_7.1.x86_64                        86/126 \n",
      "  Cleanup    : kpartx-0.4.9-127.el7.x86_64                               87/126 \n",
      "  Cleanup    : kmod-20-25.el7.x86_64                                     88/126 \n",
      "  Cleanup    : dracut-033-564.el7.x86_64                                 89/126 \n",
      "  Cleanup    : elfutils-libs-0.176-2.el7.x86_64                          90/126 \n",
      "  Cleanup    : elfutils-default-yama-scope-0.176-2.el7.noarch            91/126 \n",
      "  Cleanup    : 7:device-mapper-libs-1.02.158-2.el7.x86_64                92/126 \n",
      "  Cleanup    : 7:device-mapper-1.02.158-2.el7.x86_64                     93/126 \n",
      "  Cleanup    : systemd-219-67.el7_7.1.x86_64                             94/126 \n",
      "  Cleanup    : libcurl-7.29.0-54.el7.x86_64                              95/126 \n",
      "  Cleanup    : nss-sysinit-3.44.0-4.el7.x86_64                           96/126 \n",
      "  Cleanup    : nss-3.44.0-4.el7.x86_64                                   97/126 \n",
      "  Cleanup    : nss-softokn-3.44.0-5.el7.x86_64                           98/126 \n",
      "  Cleanup    : krb5-libs-1.15.1-37.el7_7.2.x86_64                        99/126 \n",
      "  Cleanup    : libmount-2.23.2-61.el7.x86_64                            100/126 \n",
      "  Cleanup    : libblkid-2.23.2-61.el7.x86_64                            101/126 \n",
      "  Cleanup    : sed-4.2.2-5.el7.x86_64                                   102/126 \n",
      "  Cleanup    : pam-1.1.8-22.el7.x86_64                                  103/126 \n",
      "  Cleanup    : acl-2.2.51-14.el7.x86_64                                 104/126 \n",
      "  Cleanup    : binutils-2.27-41.base.el7.x86_64                         105/126 \n",
      "  Cleanup    : libacl-2.2.51-14.el7.x86_64                              106/126 \n",
      "  Cleanup    : libuuid-2.23.2-61.el7.x86_64                             107/126 \n",
      "  Cleanup    : libcom_err-1.42.9-16.el7.x86_64                          108/126 \n",
      "  Cleanup    : sqlite-3.7.17-8.el7.x86_64                               109/126 \n",
      "  Cleanup    : libcap-2.22-10.el7.x86_64                                110/126 \n",
      "  Cleanup    : elfutils-libelf-0.176-2.el7.x86_64                       111/126 \n",
      "  Cleanup    : kmod-libs-20-25.el7.x86_64                               112/126 \n",
      "  Cleanup    : libsmartcols-2.23.2-61.el7.x86_64                        113/126 \n",
      "  Cleanup    : libxml2-2.9.1-6.el7_2.3.x86_64                           114/126 \n",
      "  Cleanup    : expat-2.1.0-10.el7_3.x86_64                              115/126 \n",
      "  Cleanup    : libffi-3.0.13-18.el7.x86_64                              116/126 \n",
      "  Cleanup    : file-libs-5.11-35.el7.x86_64                             117/126 \n",
      "  Cleanup    : hostname-3.13-3.el7.x86_64                               118/126 \n",
      "  Cleanup    : centos-release-7-7.1908.0.el7.centos.x86_64              119/126 \n",
      "  Cleanup    : libselinux-2.5-14.1.el7.x86_64                           120/126 \n",
      "  Cleanup    : glibc-common-2.17-292.el7.x86_64                         121/126 \n",
      "  Cleanup    : bash-4.2.46-33.el7.x86_64                                122/126 \n",
      "  Cleanup    : nss-util-3.44.0-3.el7.x86_64                             123/126 \n",
      "  Cleanup    : nss-softokn-freebl-3.44.0-5.el7.x86_64                   124/126 \n",
      "  Cleanup    : glibc-2.17-292.el7.x86_64                                125/126 \n",
      "  Cleanup    : tzdata-2019b-1.el7.noarch                                126/126 \n",
      "  Verifying  : acl-2.2.51-15.el7.x86_64                                   1/126 \n",
      "  Verifying  : libacl-2.2.51-15.el7.x86_64                                2/126 \n",
      "  Verifying  : kpartx-0.4.9-131.el7.x86_64                                3/126 \n",
      "  Verifying  : centos-release-7-8.2003.0.el7.centos.x86_64                4/126 \n",
      "  Verifying  : libcap-2.22-11.el7.x86_64                                  5/126 \n",
      "  Verifying  : nss-3.44.0-7.el7_7.x86_64                                  6/126 \n",
      "  Verifying  : python-2.7.5-88.el7.x86_64                                 7/126 \n",
      "  Verifying  : libxml2-python-2.9.1-6.el7.4.x86_64                        8/126 \n",
      "  Verifying  : libmount-2.23.2-63.el7.x86_64                              9/126 \n",
      "  Verifying  : sqlite-3.7.17-8.el7_7.1.x86_64                            10/126 \n",
      "  Verifying  : util-linux-2.23.2-63.el7.x86_64                           11/126 \n",
      "  Verifying  : ca-certificates-2019.2.32-76.el7_7.noarch                 12/126 \n",
      "  Verifying  : sed-4.2.2-6.el7.x86_64                                    13/126 \n",
      "  Verifying  : 32:bind-license-9.11.4-16.P2.el7_8.2.noarch               14/126 \n",
      "  Verifying  : kmod-libs-20-28.el7.x86_64                                15/126 \n",
      "  Verifying  : elfutils-libs-0.176-4.el7.x86_64                          16/126 \n",
      "  Verifying  : yum-utils-1.1.31-53.el7.noarch                            17/126 \n",
      "  Verifying  : libsmartcols-2.23.2-63.el7.x86_64                         18/126 \n",
      "  Verifying  : systemd-219-73.el7_8.5.x86_64                             19/126 \n",
      "  Verifying  : setup-2.8.71-11.el7.noarch                                20/126 \n",
      "  Verifying  : nss-tools-3.44.0-7.el7_7.x86_64                           21/126 \n",
      "  Verifying  : pam-1.1.8-23.el7.x86_64                                   22/126 \n",
      "  Verifying  : python-urlgrabber-3.10-10.el7.noarch                      23/126 \n",
      "  Verifying  : elfutils-default-yama-scope-0.176-4.el7.noarch            24/126 \n",
      "  Verifying  : cryptsetup-libs-2.0.3-6.el7.x86_64                        25/126 \n",
      "  Verifying  : yum-plugin-ovl-1.1.31-53.el7.noarch                       26/126 \n",
      "  Verifying  : yum-3.4.3-167.el7.centos.noarch                           27/126 \n",
      "  Verifying  : python-libs-2.7.5-88.el7.x86_64                           28/126 \n",
      "  Verifying  : nss-sysinit-3.44.0-7.el7_7.x86_64                         29/126 \n",
      "  Verifying  : file-libs-5.11-36.el7.x86_64                              30/126 \n",
      "  Verifying  : elfutils-libelf-0.176-4.el7.x86_64                        31/126 \n",
      "  Verifying  : 7:device-mapper-1.02.164-7.el7_8.1.x86_64                 32/126 \n",
      "  Verifying  : libxml2-2.9.1-6.el7.4.x86_64                              33/126 \n",
      "  Verifying  : tzdata-2020a-1.el7.noarch                                 34/126 \n",
      "  Verifying  : binutils-2.27-43.base.el7.x86_64                          35/126 \n",
      "  Verifying  : rpm-python-4.11.3-43.el7.x86_64                           36/126 \n",
      "  Verifying  : bash-4.2.46-34.el7.x86_64                                 37/126 \n",
      "  Verifying  : nss-softokn-freebl-3.44.0-8.el7_7.x86_64                  38/126 \n",
      "  Verifying  : nss-softokn-3.44.0-8.el7_7.x86_64                         39/126 \n",
      "  Verifying  : libselinux-2.5-15.el7.x86_64                              40/126 \n",
      "  Verifying  : libcom_err-1.42.9-17.el7.x86_64                           41/126 \n",
      "  Verifying  : passwd-0.79-6.el7.x86_64                                  42/126 \n",
      "  Verifying  : libcurl-7.29.0-57.el7.x86_64                              43/126 \n",
      "  Verifying  : procps-ng-3.3.10-27.el7.x86_64                            44/126 \n",
      "  Verifying  : glibc-common-2.17-307.el7.1.x86_64                        45/126 \n",
      "  Verifying  : kmod-20-28.el7.x86_64                                     46/126 \n",
      "  Verifying  : libblkid-2.23.2-63.el7.x86_64                             47/126 \n",
      "  Verifying  : glibc-2.17-307.el7.1.x86_64                               48/126 \n",
      "  Verifying  : hostname-3.13-3.el7_7.1.x86_64                            49/126 \n",
      "  Verifying  : rpm-4.11.3-43.el7.x86_64                                  50/126 \n",
      "  Verifying  : systemd-libs-219-73.el7_8.5.x86_64                        51/126 \n",
      "  Verifying  : rpm-libs-4.11.3-43.el7.x86_64                             52/126 \n",
      "  Verifying  : yum-plugin-fastestmirror-1.1.31-53.el7.noarch             53/126 \n",
      "  Verifying  : krb5-libs-1.15.1-46.el7.x86_64                            54/126 \n",
      "  Verifying  : curl-7.29.0-57.el7.x86_64                                 55/126 \n",
      "  Verifying  : rpm-build-libs-4.11.3-43.el7.x86_64                       56/126 \n",
      "  Verifying  : 7:device-mapper-libs-1.02.164-7.el7_8.1.x86_64            57/126 \n",
      "  Verifying  : shared-mime-info-1.8-5.el7.x86_64                         58/126 \n",
      "  Verifying  : dracut-033-568.el7.x86_64                                 59/126 \n",
      "  Verifying  : libuuid-2.23.2-63.el7.x86_64                              60/126 \n",
      "  Verifying  : expat-2.1.0-11.el7.x86_64                                 61/126 \n",
      "  Verifying  : nss-util-3.44.0-4.el7_7.x86_64                            62/126 \n",
      "  Verifying  : libffi-3.0.13-19.el7.x86_64                               63/126 \n",
      "  Verifying  : yum-3.4.3-163.el7.centos.noarch                           64/126 \n",
      "  Verifying  : acl-2.2.51-14.el7.x86_64                                  65/126 \n",
      "  Verifying  : python-libs-2.7.5-86.el7.x86_64                           66/126 \n",
      "  Verifying  : file-libs-5.11-35.el7.x86_64                              67/126 \n",
      "  Verifying  : glibc-common-2.17-292.el7.x86_64                          68/126 \n",
      "  Verifying  : kmod-libs-20-25.el7.x86_64                                69/126 \n",
      "  Verifying  : rpm-libs-4.11.3-40.el7.x86_64                             70/126 \n",
      "  Verifying  : 7:device-mapper-1.02.158-2.el7.x86_64                     71/126 \n",
      "  Verifying  : systemd-219-67.el7_7.1.x86_64                             72/126 \n",
      "  Verifying  : libffi-3.0.13-18.el7.x86_64                               73/126 \n",
      "  Verifying  : sqlite-3.7.17-8.el7.x86_64                                74/126 \n",
      "  Verifying  : elfutils-default-yama-scope-0.176-2.el7.noarch            75/126 \n",
      "  Verifying  : nss-util-3.44.0-3.el7.x86_64                              76/126 \n",
      "  Verifying  : libuuid-2.23.2-61.el7.x86_64                              77/126 \n",
      "  Verifying  : libmount-2.23.2-61.el7.x86_64                             78/126 \n",
      "  Verifying  : passwd-0.79-5.el7.x86_64                                  79/126 \n",
      "  Verifying  : nss-sysinit-3.44.0-4.el7.x86_64                           80/126 \n",
      "  Verifying  : 32:bind-license-9.11.4-9.P2.el7.noarch                    81/126 \n",
      "  Verifying  : ca-certificates-2018.2.22-70.0.el7_5.noarch               82/126 \n",
      "  Verifying  : nss-3.44.0-4.el7.x86_64                                   83/126 \n",
      "  Verifying  : setup-2.8.71-10.el7.noarch                                84/126 \n",
      "  Verifying  : yum-utils-1.1.31-52.el7.noarch                            85/126 \n",
      "  Verifying  : elfutils-libs-0.176-2.el7.x86_64                          86/126 \n",
      "  Verifying  : shared-mime-info-1.8-4.el7.x86_64                         87/126 \n",
      "  Verifying  : libsmartcols-2.23.2-61.el7.x86_64                         88/126 \n",
      "  Verifying  : libselinux-2.5-14.1.el7.x86_64                            89/126 \n",
      "  Verifying  : rpm-build-libs-4.11.3-40.el7.x86_64                       90/126 \n",
      "  Verifying  : nss-tools-3.44.0-4.el7.x86_64                             91/126 \n",
      "  Verifying  : yum-plugin-ovl-1.1.31-52.el7.noarch                       92/126 \n",
      "  Verifying  : nss-softokn-freebl-3.44.0-5.el7.x86_64                    93/126 \n",
      "  Verifying  : centos-release-7-7.1908.0.el7.centos.x86_64               94/126 \n",
      "  Verifying  : python-urlgrabber-3.10-9.el7.noarch                       95/126 \n",
      "  Verifying  : cryptsetup-libs-2.0.3-5.el7.x86_64                        96/126 \n",
      "  Verifying  : libxml2-2.9.1-6.el7_2.3.x86_64                            97/126 \n",
      "  Verifying  : yum-plugin-fastestmirror-1.1.31-52.el7.noarch             98/126 \n",
      "  Verifying  : libblkid-2.23.2-61.el7.x86_64                             99/126 \n",
      "  Verifying  : systemd-libs-219-67.el7_7.1.x86_64                       100/126 \n",
      "  Verifying  : hostname-3.13-3.el7.x86_64                               101/126 \n",
      "  Verifying  : pam-1.1.8-22.el7.x86_64                                  102/126 \n",
      "  Verifying  : rpm-4.11.3-40.el7.x86_64                                 103/126 \n",
      "  Verifying  : binutils-2.27-41.base.el7.x86_64                         104/126 \n",
      "  Verifying  : expat-2.1.0-10.el7_3.x86_64                              105/126 \n",
      "  Verifying  : bash-4.2.46-33.el7.x86_64                                106/126 \n",
      "  Verifying  : util-linux-2.23.2-61.el7.x86_64                          107/126 \n",
      "  Verifying  : krb5-libs-1.15.1-37.el7_7.2.x86_64                       108/126 \n",
      "  Verifying  : dracut-033-564.el7.x86_64                                109/126 \n",
      "  Verifying  : rpm-python-4.11.3-40.el7.x86_64                          110/126 \n",
      "  Verifying  : python-2.7.5-86.el7.x86_64                               111/126 \n",
      "  Verifying  : libxml2-python-2.9.1-6.el7_2.3.x86_64                    112/126 \n",
      "  Verifying  : libacl-2.2.51-14.el7.x86_64                              113/126 \n",
      "  Verifying  : kpartx-0.4.9-127.el7.x86_64                              114/126 \n",
      "  Verifying  : libcap-2.22-10.el7.x86_64                                115/126 \n",
      "  Verifying  : libcom_err-1.42.9-16.el7.x86_64                          116/126 \n",
      "  Verifying  : 7:device-mapper-libs-1.02.158-2.el7.x86_64               117/126 \n",
      "  Verifying  : libcurl-7.29.0-54.el7.x86_64                             118/126 \n",
      "  Verifying  : nss-softokn-3.44.0-5.el7.x86_64                          119/126 \n",
      "  Verifying  : curl-7.29.0-54.el7.x86_64                                120/126 \n",
      "  Verifying  : sed-4.2.2-5.el7.x86_64                                   121/126 \n",
      "  Verifying  : glibc-2.17-292.el7.x86_64                                122/126 \n",
      "  Verifying  : kmod-20-25.el7.x86_64                                    123/126 \n",
      "  Verifying  : elfutils-libelf-0.176-2.el7.x86_64                       124/126 \n",
      "  Verifying  : tzdata-2019b-1.el7.noarch                                125/126 \n",
      "  Verifying  : procps-ng-3.3.10-26.el7.x86_64                           126/126 \n",
      "\n",
      "Updated:\n",
      "  acl.x86_64 0:2.2.51-15.el7                                                    \n",
      "  bash.x86_64 0:4.2.46-34.el7                                                   \n",
      "  bind-license.noarch 32:9.11.4-16.P2.el7_8.2                                   \n",
      "  binutils.x86_64 0:2.27-43.base.el7                                            \n",
      "  ca-certificates.noarch 0:2019.2.32-76.el7_7                                   \n",
      "  centos-release.x86_64 0:7-8.2003.0.el7.centos                                 \n",
      "  cryptsetup-libs.x86_64 0:2.0.3-6.el7                                          \n",
      "  curl.x86_64 0:7.29.0-57.el7                                                   \n",
      "  device-mapper.x86_64 7:1.02.164-7.el7_8.1                                     \n",
      "  device-mapper-libs.x86_64 7:1.02.164-7.el7_8.1                                \n",
      "  dracut.x86_64 0:033-568.el7                                                   \n",
      "  elfutils-default-yama-scope.noarch 0:0.176-4.el7                              \n",
      "  elfutils-libelf.x86_64 0:0.176-4.el7                                          \n",
      "  elfutils-libs.x86_64 0:0.176-4.el7                                            \n",
      "  expat.x86_64 0:2.1.0-11.el7                                                   \n",
      "  file-libs.x86_64 0:5.11-36.el7                                                \n",
      "  glibc.x86_64 0:2.17-307.el7.1                                                 \n",
      "  glibc-common.x86_64 0:2.17-307.el7.1                                          \n",
      "  hostname.x86_64 0:3.13-3.el7_7.1                                              \n",
      "  kmod.x86_64 0:20-28.el7                                                       \n",
      "  kmod-libs.x86_64 0:20-28.el7                                                  \n",
      "  kpartx.x86_64 0:0.4.9-131.el7                                                 \n",
      "  krb5-libs.x86_64 0:1.15.1-46.el7                                              \n",
      "  libacl.x86_64 0:2.2.51-15.el7                                                 \n",
      "  libblkid.x86_64 0:2.23.2-63.el7                                               \n",
      "  libcap.x86_64 0:2.22-11.el7                                                   \n",
      "  libcom_err.x86_64 0:1.42.9-17.el7                                             \n",
      "  libcurl.x86_64 0:7.29.0-57.el7                                                \n",
      "  libffi.x86_64 0:3.0.13-19.el7                                                 \n",
      "  libmount.x86_64 0:2.23.2-63.el7                                               \n",
      "  libselinux.x86_64 0:2.5-15.el7                                                \n",
      "  libsmartcols.x86_64 0:2.23.2-63.el7                                           \n",
      "  libuuid.x86_64 0:2.23.2-63.el7                                                \n",
      "  libxml2.x86_64 0:2.9.1-6.el7.4                                                \n",
      "  libxml2-python.x86_64 0:2.9.1-6.el7.4                                         \n",
      "  nss.x86_64 0:3.44.0-7.el7_7                                                   \n",
      "  nss-softokn.x86_64 0:3.44.0-8.el7_7                                           \n",
      "  nss-softokn-freebl.x86_64 0:3.44.0-8.el7_7                                    \n",
      "  nss-sysinit.x86_64 0:3.44.0-7.el7_7                                           \n",
      "  nss-tools.x86_64 0:3.44.0-7.el7_7                                             \n",
      "  nss-util.x86_64 0:3.44.0-4.el7_7                                              \n",
      "  pam.x86_64 0:1.1.8-23.el7                                                     \n",
      "  passwd.x86_64 0:0.79-6.el7                                                    \n",
      "  procps-ng.x86_64 0:3.3.10-27.el7                                              \n",
      "  python.x86_64 0:2.7.5-88.el7                                                  \n",
      "  python-libs.x86_64 0:2.7.5-88.el7                                             \n",
      "  python-urlgrabber.noarch 0:3.10-10.el7                                        \n",
      "  rpm.x86_64 0:4.11.3-43.el7                                                    \n",
      "  rpm-build-libs.x86_64 0:4.11.3-43.el7                                         \n",
      "  rpm-libs.x86_64 0:4.11.3-43.el7                                               \n",
      "  rpm-python.x86_64 0:4.11.3-43.el7                                             \n",
      "  sed.x86_64 0:4.2.2-6.el7                                                      \n",
      "  setup.noarch 0:2.8.71-11.el7                                                  \n",
      "  shared-mime-info.x86_64 0:1.8-5.el7                                           \n",
      "  sqlite.x86_64 0:3.7.17-8.el7_7.1                                              \n",
      "  systemd.x86_64 0:219-73.el7_8.5                                               \n",
      "  systemd-libs.x86_64 0:219-73.el7_8.5                                          \n",
      "  tzdata.noarch 0:2020a-1.el7                                                   \n",
      "  util-linux.x86_64 0:2.23.2-63.el7                                             \n",
      "  yum.noarch 0:3.4.3-167.el7.centos                                             \n",
      "  yum-plugin-fastestmirror.noarch 0:1.1.31-53.el7                               \n",
      "  yum-plugin-ovl.noarch 0:1.1.31-53.el7                                         \n",
      "  yum-utils.noarch 0:1.1.31-53.el7                                              \n",
      "\n",
      "Complete!warning: /var/cache/yum/x86_64/7/base/packages/acl-2.2.51-15.el7.x86_64.rpm: Header V3 RSA/SHA256 Signature, key ID f4a80eb5: NOKEY\n",
      "Importing GPG key 0xF4A80EB5:\n",
      " Userid     : \"CentOS-7 Key (CentOS 7 Official Signing Key) <security@centos.org>\"\n",
      " Fingerprint: 6341 ab27 53d7 8a78 a7c2 7bb1 24c6 a8a7 f4a8 0eb5\n",
      " Package    : centos-release-7-7.1908.0.el7.centos.x86_64 (@CentOS)\n",
      " From       : /etc/pki/rpm-gpg/RPM-GPG-KEY-CentOS-7\n"
     ]
    }
   ],
   "source": [
    "ansible kafka -m command -a \"docker exec sinetstream-kafka yum update -y\""
   ]
  },
  {
   "cell_type": "code",
   "execution_count": 23,
   "metadata": {
    "deletable": false,
    "editable": false,
    "lc_cell_meme": {
     "current": "8abc39c6-719c-11ea-804d-0242ac160002",
     "execution_end_time": "2020-05-12T09:44:38.827866Z",
     "history": [
      {
       "current": "8abc39c6-719c-11ea-804d-0242ac160002",
       "next": "8abc3bec-719c-11ea-804d-0242ac160002",
       "previous": "f45348f8-7196-11ea-804d-0242ac160002"
      },
      {
       "current": "8abc39c6-719c-11ea-804d-0242ac160002",
       "next": "8abc3bec-719c-11ea-804d-0242ac160002",
       "previous": "b1916770-7d4e-11ea-972a-0242ac160002"
      },
      {
       "current": "8abc39c6-719c-11ea-804d-0242ac160002",
       "next": "8abc3bec-719c-11ea-804d-0242ac160002",
       "previous": "f45348f8-7196-11ea-804d-0242ac160002"
      },
      {
       "current": "8abc39c6-719c-11ea-804d-0242ac160002",
       "next": "c6fc8b28-719e-11ea-804d-0242ac160002",
       "previous": "f45348f8-7196-11ea-804d-0242ac160002"
      },
      {
       "current": "8abc39c6-719c-11ea-804d-0242ac160002",
       "next": "9d80a3fa-719f-11ea-804d-0242ac160002",
       "previous": "f45348f8-7196-11ea-804d-0242ac160002"
      },
      {
       "current": "8abc39c6-719c-11ea-804d-0242ac160002",
       "next": "9d80a3fa-719f-11ea-804d-0242ac160002",
       "previous": "05aeb4da-86c7-11ea-972a-0242ac160002"
      }
     ],
     "next": "9d80a3fa-719f-11ea-804d-0242ac160002",
     "previous": "01c34c0a-90d6-11ea-972a-0242ac160002"
    },
    "lc_wrapper": {
     "log_history": [
      "/notebooks/notebook/tmp/サーバ構築手順/.log/20200329/20200329-180640-0243.log",
      "/notebooks/notebook/tmp/サーバ構築手順/.log/20200329/20200329-180748-0726.log",
      "/notebooks/notebook/tmp/サーバ構築手順/.log/20200329/20200329-183343-0936.log",
      "/notebooks/notebook/tmp/サーバ構築手順/.log/20200329/20200329-183705-0071.log",
      "/notebooks/notebook/tmp/サーバ構築手順/.log/20200329/20200329-185554-0274.log",
      "/notebooks/notebook/tmp/サーバ構築手順/.log/20200329/20200329-185704-0424.log",
      "/notebooks/notebook/tmp/サーバ構築手順/.log/20200408/20200408-155608-0526.log",
      "/notebooks/notebook/tmp/サーバ構築手順/.log/20200410/20200410-180211-0174.log",
      "/notebooks/notebook/tmp/サーバ構築手順/.log/20200413/20200413-155842-0788.log",
      "/notebooks/notebook/tmp/サーバ構築手順/.log/20200414/20200414-175904-0749.log",
      "/notebooks/notebook/tmp/サーバ構築手順/.log/20200414/20200414-180848-0468.log",
      "/notebooks/notebook/tmp/サーバ構築手順/.log/20200428/20200428-145109-0661.log",
      "/notebooks/notebook/tmp/サーバ構築手順/.log/20200430/20200430-180833-0780.log",
      "/notebooks/notebook/tmp/サーバ構築手順/.log/20200501/20200501-115404-0571.log",
      "/notebooks/notebook/tmp/サーバ構築手順/.log/20200501/20200501-134849-0368.log",
      "/notebooks/notebook/tmp/サーバ構築手順/.log/20200505/20200505-172833-0988.log",
      "/notebooks/notebook/tmp/サーバ構築手順/.log/20200507/20200507-150720-0703.log",
      "/notebooks/notebook/tmp/サーバ構築手順/.log/20200508/20200508-112544-0011.log",
      "/notebooks/notebook/tmp/サーバ構築手順/.log/20200508/20200508-114823-0934.log",
      "/notebooks/notebook/tmp/サーバ構築手順/.log/20200512/20200512-144110-0802.log",
      "/notebooks/notebook/tmp/サーバ構築手順/.log/20200512/20200512-162028-0903.log",
      "/notebooks/notebook/tmp/サーバ構築手順/.log/20200512/20200512-181713-0502.log",
      "/notebooks/notebook/tmp/サーバ構築手順/.log/20200512/20200512-184247-0883.log"
     ]
    },
    "run_through_control": {
     "frozen": true
    }
   },
   "outputs": [
    {
     "name": "stdout",
     "output_type": "stream",
     "text": [
      "server1.example.jp | CHANGED | rc=0 >>\n",
      "Loaded plugins: fastestmirror, ovl\n",
      "Loading mirror speeds from cached hostfile\n",
      " * base: ty1.mirror.newmediaexpress.com\n",
      " * extras: ty1.mirror.newmediaexpress.com\n",
      " * updates: ty1.mirror.newmediaexpress.com\n",
      "Resolving Dependencies\n",
      "--> Running transaction check\n",
      "---> Package java-1.8.0-openjdk.x86_64 1:1.8.0.252.b09-2.el7_8 will be installed\n",
      "--> Processing Dependency: java-1.8.0-openjdk-headless(x86-64) = 1:1.8.0.252.b09-2.el7_8 for package: 1:java-1.8.0-openjdk-1.8.0.252.b09-2.el7_8.x86_64\n",
      "--> Processing Dependency: xorg-x11-fonts-Type1 for package: 1:java-1.8.0-openjdk-1.8.0.252.b09-2.el7_8.x86_64\n",
      "--> Processing Dependency: libpng15.so.15(PNG15_0)(64bit) for package: 1:java-1.8.0-openjdk-1.8.0.252.b09-2.el7_8.x86_64\n",
      "--> Processing Dependency: libjvm.so(SUNWprivate_1.1)(64bit) for package: 1:java-1.8.0-openjdk-1.8.0.252.b09-2.el7_8.x86_64\n",
      "--> Processing Dependency: libjpeg.so.62(LIBJPEG_6.2)(64bit) for package: 1:java-1.8.0-openjdk-1.8.0.252.b09-2.el7_8.x86_64\n",
      "--> Processing Dependency: libjava.so(SUNWprivate_1.1)(64bit) for package: 1:java-1.8.0-openjdk-1.8.0.252.b09-2.el7_8.x86_64\n",
      "--> Processing Dependency: libasound.so.2(ALSA_0.9.0rc4)(64bit) for package: 1:java-1.8.0-openjdk-1.8.0.252.b09-2.el7_8.x86_64\n",
      "--> Processing Dependency: libasound.so.2(ALSA_0.9)(64bit) for package: 1:java-1.8.0-openjdk-1.8.0.252.b09-2.el7_8.x86_64\n",
      "--> Processing Dependency: libXcomposite(x86-64) for package: 1:java-1.8.0-openjdk-1.8.0.252.b09-2.el7_8.x86_64\n",
      "--> Processing Dependency: gtk2(x86-64) for package: 1:java-1.8.0-openjdk-1.8.0.252.b09-2.el7_8.x86_64\n",
      "--> Processing Dependency: fontconfig(x86-64) for package: 1:java-1.8.0-openjdk-1.8.0.252.b09-2.el7_8.x86_64\n",
      "--> Processing Dependency: libpng15.so.15()(64bit) for package: 1:java-1.8.0-openjdk-1.8.0.252.b09-2.el7_8.x86_64\n",
      "--> Processing Dependency: libjvm.so()(64bit) for package: 1:java-1.8.0-openjdk-1.8.0.252.b09-2.el7_8.x86_64\n",
      "--> Processing Dependency: libjpeg.so.62()(64bit) for package: 1:java-1.8.0-openjdk-1.8.0.252.b09-2.el7_8.x86_64\n",
      "--> Processing Dependency: libjava.so()(64bit) for package: 1:java-1.8.0-openjdk-1.8.0.252.b09-2.el7_8.x86_64\n",
      "--> Processing Dependency: libgif.so.4()(64bit) for package: 1:java-1.8.0-openjdk-1.8.0.252.b09-2.el7_8.x86_64\n",
      "--> Processing Dependency: libasound.so.2()(64bit) for package: 1:java-1.8.0-openjdk-1.8.0.252.b09-2.el7_8.x86_64\n",
      "--> Processing Dependency: libXtst.so.6()(64bit) for package: 1:java-1.8.0-openjdk-1.8.0.252.b09-2.el7_8.x86_64\n",
      "--> Processing Dependency: libXrender.so.1()(64bit) for package: 1:java-1.8.0-openjdk-1.8.0.252.b09-2.el7_8.x86_64\n",
      "--> Processing Dependency: libXi.so.6()(64bit) for package: 1:java-1.8.0-openjdk-1.8.0.252.b09-2.el7_8.x86_64\n",
      "--> Processing Dependency: libXext.so.6()(64bit) for package: 1:java-1.8.0-openjdk-1.8.0.252.b09-2.el7_8.x86_64\n",
      "--> Processing Dependency: libX11.so.6()(64bit) for package: 1:java-1.8.0-openjdk-1.8.0.252.b09-2.el7_8.x86_64\n",
      "---> Package openssl.x86_64 1:1.0.2k-19.el7 will be installed\n",
      "--> Processing Dependency: make for package: 1:openssl-1.0.2k-19.el7.x86_64\n",
      "--> Running transaction check\n",
      "---> Package alsa-lib.x86_64 0:1.1.8-1.el7 will be installed\n",
      "---> Package fontconfig.x86_64 0:2.13.0-4.3.el7 will be installed\n",
      "--> Processing Dependency: freetype >= 2.8-7 for package: fontconfig-2.13.0-4.3.el7.x86_64\n",
      "--> Processing Dependency: freetype for package: fontconfig-2.13.0-4.3.el7.x86_64\n",
      "--> Processing Dependency: fontpackages-filesystem for package: fontconfig-2.13.0-4.3.el7.x86_64\n",
      "--> Processing Dependency: dejavu-sans-fonts for package: fontconfig-2.13.0-4.3.el7.x86_64\n",
      "--> Processing Dependency: libfreetype.so.6()(64bit) for package: fontconfig-2.13.0-4.3.el7.x86_64\n",
      "---> Package giflib.x86_64 0:4.1.6-9.el7 will be installed\n",
      "--> Processing Dependency: libSM.so.6()(64bit) for package: giflib-4.1.6-9.el7.x86_64\n",
      "--> Processing Dependency: libICE.so.6()(64bit) for package: giflib-4.1.6-9.el7.x86_64\n",
      "---> Package gtk2.x86_64 0:2.24.31-1.el7 will be installed\n",
      "--> Processing Dependency: pango >= 1.20.0-1 for package: gtk2-2.24.31-1.el7.x86_64\n",
      "--> Processing Dependency: libtiff >= 3.6.1 for package: gtk2-2.24.31-1.el7.x86_64\n",
      "--> Processing Dependency: libXrandr >= 1.2.99.4-2 for package: gtk2-2.24.31-1.el7.x86_64\n",
      "--> Processing Dependency: atk >= 1.29.4-2 for package: gtk2-2.24.31-1.el7.x86_64\n",
      "--> Processing Dependency: hicolor-icon-theme for package: gtk2-2.24.31-1.el7.x86_64\n",
      "--> Processing Dependency: gtk-update-icon-cache for package: gtk2-2.24.31-1.el7.x86_64\n",
      "--> Processing Dependency: libpangoft2-1.0.so.0()(64bit) for package: gtk2-2.24.31-1.el7.x86_64\n",
      "--> Processing Dependency: libpangocairo-1.0.so.0()(64bit) for package: gtk2-2.24.31-1.el7.x86_64\n",
      "--> Processing Dependency: libpango-1.0.so.0()(64bit) for package: gtk2-2.24.31-1.el7.x86_64\n",
      "--> Processing Dependency: libgdk_pixbuf-2.0.so.0()(64bit) for package: gtk2-2.24.31-1.el7.x86_64\n",
      "--> Processing Dependency: libcups.so.2()(64bit) for package: gtk2-2.24.31-1.el7.x86_64\n",
      "--> Processing Dependency: libcairo.so.2()(64bit) for package: gtk2-2.24.31-1.el7.x86_64\n",
      "--> Processing Dependency: libatk-1.0.so.0()(64bit) for package: gtk2-2.24.31-1.el7.x86_64\n",
      "--> Processing Dependency: libXrandr.so.2()(64bit) for package: gtk2-2.24.31-1.el7.x86_64\n",
      "--> Processing Dependency: libXinerama.so.1()(64bit) for package: gtk2-2.24.31-1.el7.x86_64\n",
      "--> Processing Dependency: libXfixes.so.3()(64bit) for package: gtk2-2.24.31-1.el7.x86_64\n",
      "--> Processing Dependency: libXdamage.so.1()(64bit) for package: gtk2-2.24.31-1.el7.x86_64\n",
      "--> Processing Dependency: libXcursor.so.1()(64bit) for package: gtk2-2.24.31-1.el7.x86_64\n",
      "---> Package java-1.8.0-openjdk-headless.x86_64 1:1.8.0.252.b09-2.el7_8 will be installed\n",
      "--> Processing Dependency: tzdata-java >= 2015d for package: 1:java-1.8.0-openjdk-headless-1.8.0.252.b09-2.el7_8.x86_64\n",
      "--> Processing Dependency: copy-jdk-configs >= 3.3 for package: 1:java-1.8.0-openjdk-headless-1.8.0.252.b09-2.el7_8.x86_64\n",
      "--> Processing Dependency: pcsc-lite-libs(x86-64) for package: 1:java-1.8.0-openjdk-headless-1.8.0.252.b09-2.el7_8.x86_64\n",
      "--> Processing Dependency: lksctp-tools(x86-64) for package: 1:java-1.8.0-openjdk-headless-1.8.0.252.b09-2.el7_8.x86_64\n",
      "--> Processing Dependency: jpackage-utils for package: 1:java-1.8.0-openjdk-headless-1.8.0.252.b09-2.el7_8.x86_64\n",
      "---> Package libX11.x86_64 0:1.6.7-2.el7 will be installed\n",
      "--> Processing Dependency: libX11-common >= 1.6.7-2.el7 for package: libX11-1.6.7-2.el7.x86_64\n",
      "--> Processing Dependency: libxcb.so.1()(64bit) for package: libX11-1.6.7-2.el7.x86_64\n",
      "---> Package libXcomposite.x86_64 0:0.4.4-4.1.el7 will be installed\n",
      "---> Package libXext.x86_64 0:1.3.3-3.el7 will be installed\n",
      "---> Package libXi.x86_64 0:1.7.9-1.el7 will be installed\n",
      "---> Package libXrender.x86_64 0:0.9.10-1.el7 will be installed\n",
      "---> Package libXtst.x86_64 0:1.2.3-1.el7 will be installed\n",
      "---> Package libjpeg-turbo.x86_64 0:1.2.90-8.el7 will be installed\n",
      "---> Package libpng.x86_64 2:1.5.13-7.el7_2 will be installed\n",
      "---> Package make.x86_64 1:3.82-24.el7 will be installed\n",
      "---> Package xorg-x11-fonts-Type1.noarch 0:7.5-9.el7 will be installed\n",
      "--> Processing Dependency: ttmkfdir for package: xorg-x11-fonts-Type1-7.5-9.el7.noarch\n",
      "--> Processing Dependency: ttmkfdir for package: xorg-x11-fonts-Type1-7.5-9.el7.noarch\n",
      "--> Processing Dependency: mkfontdir for package: xorg-x11-fonts-Type1-7.5-9.el7.noarch\n",
      "--> Processing Dependency: mkfontdir for package: xorg-x11-fonts-Type1-7.5-9.el7.noarch\n",
      "--> Running transaction check\n",
      "---> Package atk.x86_64 0:2.28.1-2.el7 will be installed\n",
      "---> Package cairo.x86_64 0:1.15.12-4.el7 will be installed\n",
      "--> Processing Dependency: libpixman-1.so.0()(64bit) for package: cairo-1.15.12-4.el7.x86_64\n",
      "--> Processing Dependency: libGL.so.1()(64bit) for package: cairo-1.15.12-4.el7.x86_64\n",
      "--> Processing Dependency: libEGL.so.1()(64bit) for package: cairo-1.15.12-4.el7.x86_64\n",
      "---> Package copy-jdk-configs.noarch 0:3.3-10.el7_5 will be installed\n",
      "---> Package cups-libs.x86_64 1:1.6.3-43.el7 will be installed\n",
      "--> Processing Dependency: libavahi-common.so.3()(64bit) for package: 1:cups-libs-1.6.3-43.el7.x86_64\n",
      "--> Processing Dependency: libavahi-client.so.3()(64bit) for package: 1:cups-libs-1.6.3-43.el7.x86_64\n",
      "---> Package dejavu-sans-fonts.noarch 0:2.33-6.el7 will be installed\n",
      "--> Processing Dependency: dejavu-fonts-common = 2.33-6.el7 for package: dejavu-sans-fonts-2.33-6.el7.noarch\n",
      "---> Package fontpackages-filesystem.noarch 0:1.44-8.el7 will be installed\n",
      "---> Package freetype.x86_64 0:2.8-14.el7 will be installed\n",
      "---> Package gdk-pixbuf2.x86_64 0:2.36.12-3.el7 will be installed\n",
      "--> Processing Dependency: libjasper.so.1()(64bit) for package: gdk-pixbuf2-2.36.12-3.el7.x86_64\n",
      "---> Package gtk-update-icon-cache.x86_64 0:3.22.30-5.el7 will be installed\n",
      "---> Package hicolor-icon-theme.noarch 0:0.12-7.el7 will be installed\n",
      "---> Package javapackages-tools.noarch 0:3.4.1-11.el7 will be installed\n",
      "--> Processing Dependency: python-javapackages = 3.4.1-11.el7 for package: javapackages-tools-3.4.1-11.el7.noarch\n",
      "--> Processing Dependency: libxslt for package: javapackages-tools-3.4.1-11.el7.noarch\n",
      "---> Package libICE.x86_64 0:1.0.9-9.el7 will be installed\n",
      "---> Package libSM.x86_64 0:1.2.2-2.el7 will be installed\n",
      "---> Package libX11-common.noarch 0:1.6.7-2.el7 will be installed\n",
      "---> Package libXcursor.x86_64 0:1.1.15-1.el7 will be installed\n",
      "---> Package libXdamage.x86_64 0:1.1.4-4.1.el7 will be installed\n",
      "---> Package libXfixes.x86_64 0:5.0.3-1.el7 will be installed\n",
      "---> Package libXinerama.x86_64 0:1.1.3-2.1.el7 will be installed\n",
      "---> Package libXrandr.x86_64 0:1.5.1-2.el7 will be installed\n",
      "---> Package libtiff.x86_64 0:4.0.3-32.el7 will be installed\n",
      "--> Processing Dependency: libjbig.so.2.0()(64bit) for package: libtiff-4.0.3-32.el7.x86_64\n",
      "---> Package libxcb.x86_64 0:1.13-1.el7 will be installed\n",
      "--> Processing Dependency: libXau.so.6()(64bit) for package: libxcb-1.13-1.el7.x86_64\n",
      "---> Package lksctp-tools.x86_64 0:1.0.17-2.el7 will be installed\n",
      "---> Package pango.x86_64 0:1.42.4-4.el7_7 will be installed\n",
      "--> Processing Dependency: libthai(x86-64) >= 0.1.9 for package: pango-1.42.4-4.el7_7.x86_64\n",
      "--> Processing Dependency: libXft(x86-64) >= 2.0.0 for package: pango-1.42.4-4.el7_7.x86_64\n",
      "--> Processing Dependency: harfbuzz(x86-64) >= 1.4.2 for package: pango-1.42.4-4.el7_7.x86_64\n",
      "--> Processing Dependency: fribidi(x86-64) >= 1.0 for package: pango-1.42.4-4.el7_7.x86_64\n",
      "--> Processing Dependency: libthai.so.0(LIBTHAI_0.1)(64bit) for package: pango-1.42.4-4.el7_7.x86_64\n",
      "--> Processing Dependency: libthai.so.0()(64bit) for package: pango-1.42.4-4.el7_7.x86_64\n",
      "--> Processing Dependency: libharfbuzz.so.0()(64bit) for package: pango-1.42.4-4.el7_7.x86_64\n",
      "--> Processing Dependency: libfribidi.so.0()(64bit) for package: pango-1.42.4-4.el7_7.x86_64\n",
      "--> Processing Dependency: libXft.so.2()(64bit) for package: pango-1.42.4-4.el7_7.x86_64\n",
      "---> Package pcsc-lite-libs.x86_64 0:1.8.8-8.el7 will be installed\n",
      "---> Package ttmkfdir.x86_64 0:3.0.9-42.el7 will be installed\n",
      "---> Package tzdata-java.noarch 0:2020a-1.el7 will be installed\n",
      "---> Package xorg-x11-font-utils.x86_64 1:7.5-21.el7 will be installed\n",
      "--> Processing Dependency: libfontenc.so.1()(64bit) for package: 1:xorg-x11-font-utils-7.5-21.el7.x86_64\n",
      "--> Running transaction check\n",
      "---> Package avahi-libs.x86_64 0:0.6.31-20.el7 will be installed\n",
      "---> Package dejavu-fonts-common.noarch 0:2.33-6.el7 will be installed\n",
      "---> Package fribidi.x86_64 0:1.0.2-1.el7_7.1 will be installed\n",
      "---> Package harfbuzz.x86_64 0:1.7.5-2.el7 will be installed\n",
      "--> Processing Dependency: libgraphite2.so.3()(64bit) for package: harfbuzz-1.7.5-2.el7.x86_64\n",
      "---> Package jasper-libs.x86_64 0:1.900.1-33.el7 will be installed\n",
      "---> Package jbigkit-libs.x86_64 0:2.0-11.el7 will be installed\n",
      "---> Package libXau.x86_64 0:1.0.8-2.1.el7 will be installed\n",
      "---> Package libXft.x86_64 0:2.3.2-2.el7 will be installed\n",
      "---> Package libfontenc.x86_64 0:1.1.3-3.el7 will be installed\n",
      "---> Package libglvnd-egl.x86_64 1:1.0.1-0.8.git5baa1e5.el7 will be installed\n",
      "--> Processing Dependency: libglvnd(x86-64) = 1:1.0.1-0.8.git5baa1e5.el7 for package: 1:libglvnd-egl-1.0.1-0.8.git5baa1e5.el7.x86_64\n",
      "--> Processing Dependency: mesa-libEGL(x86-64) >= 13.0.4-1 for package: 1:libglvnd-egl-1.0.1-0.8.git5baa1e5.el7.x86_64\n",
      "--> Processing Dependency: libGLdispatch.so.0()(64bit) for package: 1:libglvnd-egl-1.0.1-0.8.git5baa1e5.el7.x86_64\n",
      "---> Package libglvnd-glx.x86_64 1:1.0.1-0.8.git5baa1e5.el7 will be installed\n",
      "--> Processing Dependency: mesa-libGL(x86-64) >= 13.0.4-1 for package: 1:libglvnd-glx-1.0.1-0.8.git5baa1e5.el7.x86_64\n",
      "---> Package libthai.x86_64 0:0.1.14-9.el7 will be installed\n",
      "---> Package libxslt.x86_64 0:1.1.28-5.el7 will be installed\n",
      "---> Package pixman.x86_64 0:0.34.0-1.el7 will be installed\n",
      "---> Package python-javapackages.noarch 0:3.4.1-11.el7 will be installed\n",
      "--> Processing Dependency: python-lxml for package: python-javapackages-3.4.1-11.el7.noarch\n",
      "--> Running transaction check\n",
      "---> Package graphite2.x86_64 0:1.3.10-1.el7_3 will be installed\n",
      "---> Package libglvnd.x86_64 1:1.0.1-0.8.git5baa1e5.el7 will be installed\n",
      "---> Package mesa-libEGL.x86_64 0:18.3.4-7.el7 will be installed\n",
      "--> Processing Dependency: mesa-libgbm = 18.3.4-7.el7 for package: mesa-libEGL-18.3.4-7.el7.x86_64\n",
      "--> Processing Dependency: libxshmfence.so.1()(64bit) for package: mesa-libEGL-18.3.4-7.el7.x86_64\n",
      "--> Processing Dependency: libwayland-server.so.0()(64bit) for package: mesa-libEGL-18.3.4-7.el7.x86_64\n",
      "--> Processing Dependency: libwayland-client.so.0()(64bit) for package: mesa-libEGL-18.3.4-7.el7.x86_64\n",
      "--> Processing Dependency: libglapi.so.0()(64bit) for package: mesa-libEGL-18.3.4-7.el7.x86_64\n",
      "--> Processing Dependency: libgbm.so.1()(64bit) for package: mesa-libEGL-18.3.4-7.el7.x86_64\n",
      "--> Processing Dependency: libdrm.so.2()(64bit) for package: mesa-libEGL-18.3.4-7.el7.x86_64\n",
      "---> Package mesa-libGL.x86_64 0:18.3.4-7.el7 will be installed\n",
      "--> Processing Dependency: libXxf86vm.so.1()(64bit) for package: mesa-libGL-18.3.4-7.el7.x86_64\n",
      "---> Package python-lxml.x86_64 0:3.2.1-4.el7 will be installed\n",
      "--> Running transaction check\n",
      "---> Package libXxf86vm.x86_64 0:1.1.4-1.el7 will be installed\n",
      "---> Package libdrm.x86_64 0:2.4.97-2.el7 will be installed\n",
      "--> Processing Dependency: libpciaccess.so.0()(64bit) for package: libdrm-2.4.97-2.el7.x86_64\n",
      "---> Package libwayland-client.x86_64 0:1.15.0-1.el7 will be installed\n",
      "---> Package libwayland-server.x86_64 0:1.15.0-1.el7 will be installed\n",
      "---> Package libxshmfence.x86_64 0:1.2-1.el7 will be installed\n",
      "---> Package mesa-libgbm.x86_64 0:18.3.4-7.el7 will be installed\n",
      "---> Package mesa-libglapi.x86_64 0:18.3.4-7.el7 will be installed\n",
      "--> Running transaction check\n",
      "---> Package libpciaccess.x86_64 0:0.14-1.el7 will be installed\n",
      "--> Processing Dependency: hwdata for package: libpciaccess-0.14-1.el7.x86_64\n",
      "--> Running transaction check\n",
      "---> Package hwdata.x86_64 0:0.252-9.5.el7 will be installed\n",
      "--> Finished Dependency Resolution\n",
      "\n",
      "Dependencies Resolved\n",
      "\n",
      "================================================================================\n",
      " Package                     Arch   Version                       Repository\n",
      "                                                                           Size\n",
      "================================================================================\n",
      "Installing:\n",
      " java-1.8.0-openjdk          x86_64 1:1.8.0.252.b09-2.el7_8       updates 295 k\n",
      " openssl                     x86_64 1:1.0.2k-19.el7               base    493 k\n",
      "Installing for dependencies:\n",
      " alsa-lib                    x86_64 1.1.8-1.el7                   base    425 k\n",
      " atk                         x86_64 2.28.1-2.el7                  base    263 k\n",
      " avahi-libs                  x86_64 0.6.31-20.el7                 base     62 k\n",
      " cairo                       x86_64 1.15.12-4.el7                 base    741 k\n",
      " copy-jdk-configs            noarch 3.3-10.el7_5                  base     21 k\n",
      " cups-libs                   x86_64 1:1.6.3-43.el7                base    358 k\n",
      " dejavu-fonts-common         noarch 2.33-6.el7                    base     64 k\n",
      " dejavu-sans-fonts           noarch 2.33-6.el7                    base    1.4 M\n",
      " fontconfig                  x86_64 2.13.0-4.3.el7                base    254 k\n",
      " fontpackages-filesystem     noarch 1.44-8.el7                    base    9.9 k\n",
      " freetype                    x86_64 2.8-14.el7                    base    380 k\n",
      " fribidi                     x86_64 1.0.2-1.el7_7.1               base     79 k\n",
      " gdk-pixbuf2                 x86_64 2.36.12-3.el7                 base    570 k\n",
      " giflib                      x86_64 4.1.6-9.el7                   base     40 k\n",
      " graphite2                   x86_64 1.3.10-1.el7_3                base    115 k\n",
      " gtk-update-icon-cache       x86_64 3.22.30-5.el7                 base     27 k\n",
      " gtk2                        x86_64 2.24.31-1.el7                 base    3.4 M\n",
      " harfbuzz                    x86_64 1.7.5-2.el7                   base    267 k\n",
      " hicolor-icon-theme          noarch 0.12-7.el7                    base     42 k\n",
      " hwdata                      x86_64 0.252-9.5.el7                 base    2.4 M\n",
      " jasper-libs                 x86_64 1.900.1-33.el7                base    150 k\n",
      " java-1.8.0-openjdk-headless x86_64 1:1.8.0.252.b09-2.el7_8       updates  32 M\n",
      " javapackages-tools          noarch 3.4.1-11.el7                  base     73 k\n",
      " jbigkit-libs                x86_64 2.0-11.el7                    base     46 k\n",
      " libICE                      x86_64 1.0.9-9.el7                   base     66 k\n",
      " libSM                       x86_64 1.2.2-2.el7                   base     39 k\n",
      " libX11                      x86_64 1.6.7-2.el7                   base    607 k\n",
      " libX11-common               noarch 1.6.7-2.el7                   base    164 k\n",
      " libXau                      x86_64 1.0.8-2.1.el7                 base     29 k\n",
      " libXcomposite               x86_64 0.4.4-4.1.el7                 base     22 k\n",
      " libXcursor                  x86_64 1.1.15-1.el7                  base     30 k\n",
      " libXdamage                  x86_64 1.1.4-4.1.el7                 base     20 k\n",
      " libXext                     x86_64 1.3.3-3.el7                   base     39 k\n",
      " libXfixes                   x86_64 5.0.3-1.el7                   base     18 k\n",
      " libXft                      x86_64 2.3.2-2.el7                   base     58 k\n",
      " libXi                       x86_64 1.7.9-1.el7                   base     40 k\n",
      " libXinerama                 x86_64 1.1.3-2.1.el7                 base     14 k\n",
      " libXrandr                   x86_64 1.5.1-2.el7                   base     27 k\n",
      " libXrender                  x86_64 0.9.10-1.el7                  base     26 k\n",
      " libXtst                     x86_64 1.2.3-1.el7                   base     20 k\n",
      " libXxf86vm                  x86_64 1.1.4-1.el7                   base     18 k\n",
      " libdrm                      x86_64 2.4.97-2.el7                  base    151 k\n",
      " libfontenc                  x86_64 1.1.3-3.el7                   base     31 k\n",
      " libglvnd                    x86_64 1:1.0.1-0.8.git5baa1e5.el7    base     89 k\n",
      " libglvnd-egl                x86_64 1:1.0.1-0.8.git5baa1e5.el7    base     44 k\n",
      " libglvnd-glx                x86_64 1:1.0.1-0.8.git5baa1e5.el7    base    125 k\n",
      " libjpeg-turbo               x86_64 1.2.90-8.el7                  base    135 k\n",
      " libpciaccess                x86_64 0.14-1.el7                    base     26 k\n",
      " libpng                      x86_64 2:1.5.13-7.el7_2              base    213 k\n",
      " libthai                     x86_64 0.1.14-9.el7                  base    187 k\n",
      " libtiff                     x86_64 4.0.3-32.el7                  base    171 k\n",
      " libwayland-client           x86_64 1.15.0-1.el7                  base     33 k\n",
      " libwayland-server           x86_64 1.15.0-1.el7                  base     39 k\n",
      " libxcb                      x86_64 1.13-1.el7                    base    214 k\n",
      " libxshmfence                x86_64 1.2-1.el7                     base    7.2 k\n",
      " libxslt                     x86_64 1.1.28-5.el7                  base    242 k\n",
      " lksctp-tools                x86_64 1.0.17-2.el7                  base     88 k\n",
      " make                        x86_64 1:3.82-24.el7                 base    421 k\n",
      " mesa-libEGL                 x86_64 18.3.4-7.el7                  base    109 k\n",
      " mesa-libGL                  x86_64 18.3.4-7.el7                  base    165 k\n",
      " mesa-libgbm                 x86_64 18.3.4-7.el7                  base     39 k\n",
      " mesa-libglapi               x86_64 18.3.4-7.el7                  base     45 k\n",
      " pango                       x86_64 1.42.4-4.el7_7                base    280 k\n",
      " pcsc-lite-libs              x86_64 1.8.8-8.el7                   base     34 k\n",
      " pixman                      x86_64 0.34.0-1.el7                  base    248 k\n",
      " python-javapackages         noarch 3.4.1-11.el7                  base     31 k\n",
      " python-lxml                 x86_64 3.2.1-4.el7                   base    758 k\n",
      " ttmkfdir                    x86_64 3.0.9-42.el7                  base     48 k\n",
      " tzdata-java                 noarch 2020a-1.el7                   updates 188 k\n",
      " xorg-x11-font-utils         x86_64 1:7.5-21.el7                  base    104 k\n",
      " xorg-x11-fonts-Type1        noarch 7.5-9.el7                     base    521 k\n",
      "\n",
      "Transaction Summary\n",
      "================================================================================\n",
      "Install  2 Packages (+71 Dependent packages)\n",
      "\n",
      "Total download size: 50 M\n",
      "Installed size: 169 M\n",
      "Downloading packages:\n",
      "--------------------------------------------------------------------------------\n",
      "Total                                               60 MB/s |  50 MB  00:00     \n",
      "Running transaction check\n",
      "Running transaction test\n",
      "Transaction test succeeded\n",
      "Running transaction\n",
      "  Installing : libjpeg-turbo-1.2.90-8.el7.x86_64                           1/73 \n",
      "  Installing : 2:libpng-1.5.13-7.el7_2.x86_64                              2/73 \n",
      "  Installing : freetype-2.8-14.el7.x86_64                                  3/73 \n",
      "  Installing : mesa-libglapi-18.3.4-7.el7.x86_64                           4/73 \n",
      "  Installing : libxshmfence-1.2-1.el7.x86_64                               5/73 \n",
      "  Installing : libxslt-1.1.28-5.el7.x86_64                                 6/73 \n",
      "  Installing : 1:libglvnd-1.0.1-0.8.git5baa1e5.el7.x86_64                  7/73 \n",
      "  Installing : fontpackages-filesystem-1.44-8.el7.noarch                   8/73 \n",
      "  Installing : libICE-1.0.9-9.el7.x86_64                                   9/73 \n",
      "  Installing : libwayland-server-1.15.0-1.el7.x86_64                      10/73 \n",
      "  Installing : libSM-1.2.2-2.el7.x86_64                                   11/73 \n",
      "  Installing : dejavu-fonts-common-2.33-6.el7.noarch                      12/73 \n",
      "  Installing : dejavu-sans-fonts-2.33-6.el7.noarch                        13/73 \n",
      "  Installing : fontconfig-2.13.0-4.3.el7.x86_64                           14/73 \n",
      "  Installing : python-lxml-3.2.1-4.el7.x86_64                             15/73 \n",
      "  Installing : python-javapackages-3.4.1-11.el7.noarch                    16/73 \n",
      "  Installing : javapackages-tools-3.4.1-11.el7.noarch                     17/73 \n",
      "  Installing : ttmkfdir-3.0.9-42.el7.x86_64                               18/73 \n",
      "  Installing : jasper-libs-1.900.1-33.el7.x86_64                          19/73 \n",
      "  Installing : pixman-0.34.0-1.el7.x86_64                                 20/73 \n",
      "  Installing : avahi-libs-0.6.31-20.el7.x86_64                            21/73 \n",
      "  Installing : 1:cups-libs-1.6.3-43.el7.x86_64                            22/73 \n",
      "  Installing : libfontenc-1.1.3-3.el7.x86_64                              23/73 \n",
      "  Installing : 1:xorg-x11-font-utils-7.5-21.el7.x86_64                    24/73 \n",
      "  Installing : xorg-x11-fonts-Type1-7.5-9.el7.noarch                      25/73 \n",
      "  Installing : atk-2.28.1-2.el7.x86_64                                    26/73 \n",
      "  Installing : libthai-0.1.14-9.el7.x86_64                                27/73 \n",
      "  Installing : graphite2-1.3.10-1.el7_3.x86_64                            28/73 \n",
      "  Installing : harfbuzz-1.7.5-2.el7.x86_64                                29/73 \n",
      "  Installing : libXau-1.0.8-2.1.el7.x86_64                                30/73 \n",
      "  Installing : libxcb-1.13-1.el7.x86_64                                   31/73 \n",
      "  Installing : jbigkit-libs-2.0-11.el7.x86_64                             32/73 \n",
      "  Installing : libtiff-4.0.3-32.el7.x86_64                                33/73 \n",
      "  Installing : pcsc-lite-libs-1.8.8-8.el7.x86_64                          34/73 \n",
      "  Installing : hwdata-0.252-9.5.el7.x86_64                                35/73 \n",
      "  Installing : libpciaccess-0.14-1.el7.x86_64                             36/73 \n",
      "  Installing : libdrm-2.4.97-2.el7.x86_64                                 37/73 \n",
      "  Installing : mesa-libgbm-18.3.4-7.el7.x86_64                            38/73 \n",
      "  Installing : lksctp-tools-1.0.17-2.el7.x86_64                           39/73 \n",
      "  Installing : 1:make-3.82-24.el7.x86_64                                  40/73 \n",
      "  Installing : libX11-common-1.6.7-2.el7.noarch                           41/73 \n",
      "  Installing : libX11-1.6.7-2.el7.x86_64                                  42/73 \n",
      "  Installing : libXext-1.3.3-3.el7.x86_64                                 43/73 \n",
      "  Installing : libXrender-0.9.10-1.el7.x86_64                             44/73 \n",
      "  Installing : libXfixes-5.0.3-1.el7.x86_64                               45/73 \n",
      "  Installing : libXi-1.7.9-1.el7.x86_64                                   46/73 \n",
      "  Installing : libXdamage-1.1.4-4.1.el7.x86_64                            47/73 \n",
      "  Installing : gdk-pixbuf2-2.36.12-3.el7.x86_64                           48/73 \n",
      "  Installing : libXcomposite-0.4.4-4.1.el7.x86_64                         49/73 \n",
      "  Installing : gtk-update-icon-cache-3.22.30-5.el7.x86_64                 50/73 \n",
      "  Installing : libXtst-1.2.3-1.el7.x86_64                                 51/73 \n",
      "  Installing : libXcursor-1.1.15-1.el7.x86_64                             52/73 \n",
      "  Installing : libXft-2.3.2-2.el7.x86_64                                  53/73 \n",
      "  Installing : libXrandr-1.5.1-2.el7.x86_64                               54/73 \n",
      "  Installing : libXinerama-1.1.3-2.1.el7.x86_64                           55/73 \n",
      "  Installing : libXxf86vm-1.1.4-1.el7.x86_64                              56/73 \n",
      "  Installing : mesa-libGL-18.3.4-7.el7.x86_64                             57/73 \n",
      "  Installing : 1:libglvnd-glx-1.0.1-0.8.git5baa1e5.el7.x86_64             58/73 \n",
      "  Installing : giflib-4.1.6-9.el7.x86_64                                  59/73 \n",
      "  Installing : fribidi-1.0.2-1.el7_7.1.x86_64                             60/73 \n",
      "  Installing : copy-jdk-configs-3.3-10.el7_5.noarch                       61/73 \n",
      "  Installing : libwayland-client-1.15.0-1.el7.x86_64                      62/73 \n",
      "  Installing : 1:libglvnd-egl-1.0.1-0.8.git5baa1e5.el7.x86_64             63/73 \n",
      "  Installing : mesa-libEGL-18.3.4-7.el7.x86_64                            64/73 \n",
      "  Installing : cairo-1.15.12-4.el7.x86_64                                 65/73 \n",
      "  Installing : pango-1.42.4-4.el7_7.x86_64                                66/73 \n",
      "  Installing : alsa-lib-1.1.8-1.el7.x86_64                                67/73 \n",
      "  Installing : hicolor-icon-theme-0.12-7.el7.noarch                       68/73 \n",
      "  Installing : gtk2-2.24.31-1.el7.x86_64                                  69/73 \n",
      "  Installing : tzdata-java-2020a-1.el7.noarch                             70/73 \n",
      "  Installing : 1:java-1.8.0-openjdk-headless-1.8.0.252.b09-2.el7_8.x86_   71/73 \n",
      "  Installing : 1:java-1.8.0-openjdk-1.8.0.252.b09-2.el7_8.x86_64          72/73 \n",
      "  Installing : 1:openssl-1.0.2k-19.el7.x86_64                             73/73 \n",
      "  Verifying  : libXext-1.3.3-3.el7.x86_64                                  1/73 \n",
      "  Verifying  : mesa-libEGL-18.3.4-7.el7.x86_64                             2/73 \n",
      "  Verifying  : libXi-1.7.9-1.el7.x86_64                                    3/73 \n",
      "  Verifying  : fontconfig-2.13.0-4.3.el7.x86_64                            4/73 \n",
      "  Verifying  : giflib-4.1.6-9.el7.x86_64                                   5/73 \n",
      "  Verifying  : libpciaccess-0.14-1.el7.x86_64                              6/73 \n",
      "  Verifying  : libXinerama-1.1.3-2.1.el7.x86_64                            7/73 \n",
      "  Verifying  : libXrender-0.9.10-1.el7.x86_64                              8/73 \n",
      "  Verifying  : 1:cups-libs-1.6.3-43.el7.x86_64                             9/73 \n",
      "  Verifying  : libXxf86vm-1.1.4-1.el7.x86_64                              10/73 \n",
      "  Verifying  : libwayland-server-1.15.0-1.el7.x86_64                      11/73 \n",
      "  Verifying  : libXcursor-1.1.15-1.el7.x86_64                             12/73 \n",
      "  Verifying  : tzdata-java-2020a-1.el7.noarch                             13/73 \n",
      "  Verifying  : 2:libpng-1.5.13-7.el7_2.x86_64                             14/73 \n",
      "  Verifying  : freetype-2.8-14.el7.x86_64                                 15/73 \n",
      "  Verifying  : libICE-1.0.9-9.el7.x86_64                                  16/73 \n",
      "  Verifying  : dejavu-fonts-common-2.33-6.el7.noarch                      17/73 \n",
      "  Verifying  : fontpackages-filesystem-1.44-8.el7.noarch                  18/73 \n",
      "  Verifying  : ttmkfdir-3.0.9-42.el7.x86_64                               19/73 \n",
      "  Verifying  : hicolor-icon-theme-0.12-7.el7.noarch                       20/73 \n",
      "  Verifying  : alsa-lib-1.1.8-1.el7.x86_64                                21/73 \n",
      "  Verifying  : libwayland-client-1.15.0-1.el7.x86_64                      22/73 \n",
      "  Verifying  : gdk-pixbuf2-2.36.12-3.el7.x86_64                           23/73 \n",
      "  Verifying  : pango-1.42.4-4.el7_7.x86_64                                24/73 \n",
      "  Verifying  : gtk2-2.24.31-1.el7.x86_64                                  25/73 \n",
      "  Verifying  : copy-jdk-configs-3.3-10.el7_5.noarch                       26/73 \n",
      "  Verifying  : python-javapackages-3.4.1-11.el7.noarch                    27/73 \n",
      "  Verifying  : mesa-libgbm-18.3.4-7.el7.x86_64                            28/73 \n",
      "  Verifying  : 1:java-1.8.0-openjdk-headless-1.8.0.252.b09-2.el7_8.x86_   29/73 \n",
      "  Verifying  : libXcomposite-0.4.4-4.1.el7.x86_64                         30/73 \n",
      "  Verifying  : fribidi-1.0.2-1.el7_7.1.x86_64                             31/73 \n",
      "  Verifying  : libXtst-1.2.3-1.el7.x86_64                                 32/73 \n",
      "  Verifying  : libX11-1.6.7-2.el7.x86_64                                  33/73 \n",
      "  Verifying  : libX11-common-1.6.7-2.el7.noarch                           34/73 \n",
      "  Verifying  : 1:java-1.8.0-openjdk-1.8.0.252.b09-2.el7_8.x86_64          35/73 \n",
      "  Verifying  : 1:make-3.82-24.el7.x86_64                                  36/73 \n",
      "  Verifying  : libdrm-2.4.97-2.el7.x86_64                                 37/73 \n",
      "  Verifying  : mesa-libGL-18.3.4-7.el7.x86_64                             38/73 \n",
      "  Verifying  : lksctp-tools-1.0.17-2.el7.x86_64                           39/73 \n",
      "  Verifying  : gtk-update-icon-cache-3.22.30-5.el7.x86_64                 40/73 \n",
      "  Verifying  : 1:libglvnd-1.0.1-0.8.git5baa1e5.el7.x86_64                 41/73 \n",
      "  Verifying  : libjpeg-turbo-1.2.90-8.el7.x86_64                          42/73 \n",
      "  Verifying  : libxcb-1.13-1.el7.x86_64                                   43/73 \n",
      "  Verifying  : xorg-x11-fonts-Type1-7.5-9.el7.noarch                      44/73 \n",
      "  Verifying  : hwdata-0.252-9.5.el7.x86_64                                45/73 \n",
      "  Verifying  : harfbuzz-1.7.5-2.el7.x86_64                                46/73 \n",
      "  Verifying  : libXft-2.3.2-2.el7.x86_64                                  47/73 \n",
      "  Verifying  : libxslt-1.1.28-5.el7.x86_64                                48/73 \n",
      "  Verifying  : 1:openssl-1.0.2k-19.el7.x86_64                             49/73 \n",
      "  Verifying  : 1:libglvnd-glx-1.0.1-0.8.git5baa1e5.el7.x86_64             50/73 \n",
      "  Verifying  : dejavu-sans-fonts-2.33-6.el7.noarch                        51/73 \n",
      "  Verifying  : libXrandr-1.5.1-2.el7.x86_64                               52/73 \n",
      "  Verifying  : pcsc-lite-libs-1.8.8-8.el7.x86_64                          53/73 \n",
      "  Verifying  : javapackages-tools-3.4.1-11.el7.noarch                     54/73 \n",
      "  Verifying  : jbigkit-libs-2.0-11.el7.x86_64                             55/73 \n",
      "  Verifying  : cairo-1.15.12-4.el7.x86_64                                 56/73 \n",
      "  Verifying  : mesa-libglapi-18.3.4-7.el7.x86_64                          57/73 \n",
      "  Verifying  : libxshmfence-1.2-1.el7.x86_64                              58/73 \n",
      "  Verifying  : libXau-1.0.8-2.1.el7.x86_64                                59/73 \n",
      "  Verifying  : libtiff-4.0.3-32.el7.x86_64                                60/73 \n",
      "  Verifying  : libSM-1.2.2-2.el7.x86_64                                   61/73 \n",
      "  Verifying  : jasper-libs-1.900.1-33.el7.x86_64                          62/73 \n",
      "  Verifying  : graphite2-1.3.10-1.el7_3.x86_64                            63/73 \n",
      "  Verifying  : 1:xorg-x11-font-utils-7.5-21.el7.x86_64                    64/73 \n",
      "  Verifying  : python-lxml-3.2.1-4.el7.x86_64                             65/73 \n",
      "  Verifying  : libthai-0.1.14-9.el7.x86_64                                66/73 \n",
      "  Verifying  : libXdamage-1.1.4-4.1.el7.x86_64                            67/73 \n",
      "  Verifying  : libXfixes-5.0.3-1.el7.x86_64                               68/73 \n",
      "  Verifying  : atk-2.28.1-2.el7.x86_64                                    69/73 \n",
      "  Verifying  : libfontenc-1.1.3-3.el7.x86_64                              70/73 \n",
      "  Verifying  : avahi-libs-0.6.31-20.el7.x86_64                            71/73 \n",
      "  Verifying  : 1:libglvnd-egl-1.0.1-0.8.git5baa1e5.el7.x86_64             72/73 \n",
      "  Verifying  : pixman-0.34.0-1.el7.x86_64                                 73/73 \n",
      "\n",
      "Installed:\n",
      "  java-1.8.0-openjdk.x86_64 1:1.8.0.252.b09-2.el7_8                             \n",
      "  openssl.x86_64 1:1.0.2k-19.el7                                                \n",
      "\n",
      "Dependency Installed:\n",
      "  alsa-lib.x86_64 0:1.1.8-1.el7                                                 \n",
      "  atk.x86_64 0:2.28.1-2.el7                                                     \n",
      "  avahi-libs.x86_64 0:0.6.31-20.el7                                             \n",
      "  cairo.x86_64 0:1.15.12-4.el7                                                  \n",
      "  copy-jdk-configs.noarch 0:3.3-10.el7_5                                        \n",
      "  cups-libs.x86_64 1:1.6.3-43.el7                                               \n",
      "  dejavu-fonts-common.noarch 0:2.33-6.el7                                       \n",
      "  dejavu-sans-fonts.noarch 0:2.33-6.el7                                         \n",
      "  fontconfig.x86_64 0:2.13.0-4.3.el7                                            \n",
      "  fontpackages-filesystem.noarch 0:1.44-8.el7                                   \n",
      "  freetype.x86_64 0:2.8-14.el7                                                  \n",
      "  fribidi.x86_64 0:1.0.2-1.el7_7.1                                              \n",
      "  gdk-pixbuf2.x86_64 0:2.36.12-3.el7                                            \n",
      "  giflib.x86_64 0:4.1.6-9.el7                                                   \n",
      "  graphite2.x86_64 0:1.3.10-1.el7_3                                             \n",
      "  gtk-update-icon-cache.x86_64 0:3.22.30-5.el7                                  \n",
      "  gtk2.x86_64 0:2.24.31-1.el7                                                   \n",
      "  harfbuzz.x86_64 0:1.7.5-2.el7                                                 \n",
      "  hicolor-icon-theme.noarch 0:0.12-7.el7                                        \n",
      "  hwdata.x86_64 0:0.252-9.5.el7                                                 \n",
      "  jasper-libs.x86_64 0:1.900.1-33.el7                                           \n",
      "  java-1.8.0-openjdk-headless.x86_64 1:1.8.0.252.b09-2.el7_8                    \n",
      "  javapackages-tools.noarch 0:3.4.1-11.el7                                      \n",
      "  jbigkit-libs.x86_64 0:2.0-11.el7                                              \n",
      "  libICE.x86_64 0:1.0.9-9.el7                                                   \n",
      "  libSM.x86_64 0:1.2.2-2.el7                                                    \n",
      "  libX11.x86_64 0:1.6.7-2.el7                                                   \n",
      "  libX11-common.noarch 0:1.6.7-2.el7                                            \n",
      "  libXau.x86_64 0:1.0.8-2.1.el7                                                 \n",
      "  libXcomposite.x86_64 0:0.4.4-4.1.el7                                          \n",
      "  libXcursor.x86_64 0:1.1.15-1.el7                                              \n",
      "  libXdamage.x86_64 0:1.1.4-4.1.el7                                             \n",
      "  libXext.x86_64 0:1.3.3-3.el7                                                  \n",
      "  libXfixes.x86_64 0:5.0.3-1.el7                                                \n",
      "  libXft.x86_64 0:2.3.2-2.el7                                                   \n",
      "  libXi.x86_64 0:1.7.9-1.el7                                                    \n",
      "  libXinerama.x86_64 0:1.1.3-2.1.el7                                            \n",
      "  libXrandr.x86_64 0:1.5.1-2.el7                                                \n",
      "  libXrender.x86_64 0:0.9.10-1.el7                                              \n",
      "  libXtst.x86_64 0:1.2.3-1.el7                                                  \n",
      "  libXxf86vm.x86_64 0:1.1.4-1.el7                                               \n",
      "  libdrm.x86_64 0:2.4.97-2.el7                                                  \n",
      "  libfontenc.x86_64 0:1.1.3-3.el7                                               \n",
      "  libglvnd.x86_64 1:1.0.1-0.8.git5baa1e5.el7                                    \n",
      "  libglvnd-egl.x86_64 1:1.0.1-0.8.git5baa1e5.el7                                \n",
      "  libglvnd-glx.x86_64 1:1.0.1-0.8.git5baa1e5.el7                                \n",
      "  libjpeg-turbo.x86_64 0:1.2.90-8.el7                                           \n",
      "  libpciaccess.x86_64 0:0.14-1.el7                                              \n",
      "  libpng.x86_64 2:1.5.13-7.el7_2                                                \n",
      "  libthai.x86_64 0:0.1.14-9.el7                                                 \n",
      "  libtiff.x86_64 0:4.0.3-32.el7                                                 \n",
      "  libwayland-client.x86_64 0:1.15.0-1.el7                                       \n",
      "  libwayland-server.x86_64 0:1.15.0-1.el7                                       \n",
      "  libxcb.x86_64 0:1.13-1.el7                                                    \n",
      "  libxshmfence.x86_64 0:1.2-1.el7                                               \n",
      "  libxslt.x86_64 0:1.1.28-5.el7                                                 \n",
      "  lksctp-tools.x86_64 0:1.0.17-2.el7                                            \n",
      "  make.x86_64 1:3.82-24.el7                                                     \n",
      "  mesa-libEGL.x86_64 0:18.3.4-7.el7                                             \n",
      "  mesa-libGL.x86_64 0:18.3.4-7.el7                                              \n",
      "  mesa-libgbm.x86_64 0:18.3.4-7.el7                                             \n",
      "  mesa-libglapi.x86_64 0:18.3.4-7.el7                                           \n",
      "  pango.x86_64 0:1.42.4-4.el7_7                                                 \n",
      "  pcsc-lite-libs.x86_64 0:1.8.8-8.el7                                           \n",
      "  pixman.x86_64 0:0.34.0-1.el7                                                  \n",
      "  python-javapackages.noarch 0:3.4.1-11.el7                                     \n",
      "  python-lxml.x86_64 0:3.2.1-4.el7                                              \n",
      "  ttmkfdir.x86_64 0:3.0.9-42.el7                                                \n",
      "  tzdata-java.noarch 0:2020a-1.el7                                              \n",
      "  xorg-x11-font-utils.x86_64 1:7.5-21.el7                                       \n",
      "  xorg-x11-fonts-Type1.noarch 0:7.5-9.el7                                       \n",
      "\n",
      "Complete!\n"
     ]
    }
   ],
   "source": [
    "ansible kafka -m command -a \"docker exec sinetstream-kafka yum install -y java-1.8.0-openjdk openssl\""
   ]
  },
  {
   "cell_type": "code",
   "execution_count": 24,
   "metadata": {
    "deletable": false,
    "editable": false,
    "lc_cell_meme": {
     "current": "9d80a3fa-719f-11ea-804d-0242ac160002",
     "execution_end_time": "2020-05-12T09:44:43.003662Z",
     "history": [
      {
       "current": "9d80a3fa-719f-11ea-804d-0242ac160002",
       "next": null,
       "previous": "c6fc8b28-719e-11ea-804d-0242ac160002"
      },
      {
       "current": "9d80a3fa-719f-11ea-804d-0242ac160002",
       "next": "922b1f6a-71a1-11ea-804d-0242ac160002",
       "previous": "c6fc8b28-719e-11ea-804d-0242ac160002"
      },
      {
       "current": "9d80a3fa-719f-11ea-804d-0242ac160002",
       "next": "4e0cda72-7dee-11ea-972a-0242ac160002",
       "previous": "c6fc8b28-719e-11ea-804d-0242ac160002"
      }
     ],
     "next": "4e0cda72-7dee-11ea-972a-0242ac160002",
     "previous": "8abc39c6-719c-11ea-804d-0242ac160002"
    },
    "lc_wrapper": {
     "log_history": [
      "/notebooks/notebook/tmp/サーバ構築手順/.log/20200329/20200329-182657-0741.log",
      "/notebooks/notebook/tmp/サーバ構築手順/.log/20200329/20200329-184022-0738.log",
      "/notebooks/notebook/tmp/サーバ構築手順/.log/20200329/20200329-185958-0256.log",
      "/notebooks/notebook/tmp/サーバ構築手順/.log/20200408/20200408-160636-0442.log",
      "/notebooks/notebook/tmp/サーバ構築手順/.log/20200410/20200410-180409-0736.log",
      "/notebooks/notebook/tmp/サーバ構築手順/.log/20200413/20200413-163920-0847.log",
      "/notebooks/notebook/tmp/サーバ構築手順/.log/20200414/20200414-180100-0352.log",
      "/notebooks/notebook/tmp/サーバ構築手順/.log/20200414/20200414-181047-0315.log",
      "/notebooks/notebook/tmp/サーバ構築手順/.log/20200428/20200428-145307-0185.log",
      "/notebooks/notebook/tmp/サーバ構築手順/.log/20200430/20200430-182857-0419.log",
      "/notebooks/notebook/tmp/サーバ構築手順/.log/20200501/20200501-115601-0613.log",
      "/notebooks/notebook/tmp/サーバ構築手順/.log/20200501/20200501-152608-0820.log",
      "/notebooks/notebook/tmp/サーバ構築手順/.log/20200505/20200505-173028-0705.log",
      "/notebooks/notebook/tmp/サーバ構築手順/.log/20200507/20200507-150916-0736.log",
      "/notebooks/notebook/tmp/サーバ構築手順/.log/20200508/20200508-112739-0002.log",
      "/notebooks/notebook/tmp/サーバ構築手順/.log/20200508/20200508-115016-0105.log",
      "/notebooks/notebook/tmp/サーバ構築手順/.log/20200512/20200512-144302-0428.log",
      "/notebooks/notebook/tmp/サーバ構築手順/.log/20200512/20200512-162220-0415.log",
      "/notebooks/notebook/tmp/サーバ構築手順/.log/20200512/20200512-181905-0693.log",
      "/notebooks/notebook/tmp/サーバ構築手順/.log/20200512/20200512-184438-0966.log"
     ]
    },
    "run_through_control": {
     "frozen": true
    }
   },
   "outputs": [
    {
     "name": "stdout",
     "output_type": "stream",
     "text": [
      "server1.example.jp | CHANGED | rc=0 >>\n",
      "\n",
      "server1.example.jp | CHANGED | rc=0 >>\n",
      "\n"
     ]
    }
   ],
   "source": [
    "ansible kafka -m command -a \"docker exec sinetstream-kafka tar xf /sinetstream-kafka/$KAFKA.tgz\" &&\n",
    "ansible kafka -m command -a \"docker exec sinetstream-kafka ln -s /$KAFKA /kafka\""
   ]
  },
  {
   "cell_type": "markdown",
   "metadata": {
    "lc_cell_meme": {
     "current": "4e0cda72-7dee-11ea-972a-0242ac160002",
     "history": [
      {
       "current": "4e0cda72-7dee-11ea-972a-0242ac160002",
       "next": "922b1f6a-71a1-11ea-804d-0242ac160002",
       "previous": "9d80a3fa-719f-11ea-804d-0242ac160002"
      },
      {
       "current": "4e0cda72-7dee-11ea-972a-0242ac160002",
       "next": "159bb684-7ada-11ea-972a-0242ac160002",
       "previous": "9d80a3fa-719f-11ea-804d-0242ac160002"
      }
     ],
     "next": "5fd2626a-86ca-11ea-972a-0242ac160002",
     "previous": "9d80a3fa-719f-11ea-804d-0242ac160002"
    }
   },
   "source": [
    "### Kafkaブローカの設定"
   ]
  },
  {
   "cell_type": "markdown",
   "metadata": {
    "lc_cell_meme": {
     "current": "5fd2626a-86ca-11ea-972a-0242ac160002",
     "next": "159bb684-7ada-11ea-972a-0242ac160002",
     "previous": "4e0cda72-7dee-11ea-972a-0242ac160002"
    }
   },
   "source": [
    "kafkaブローカの設定ファイルを生成する。"
   ]
  },
  {
   "cell_type": "code",
   "execution_count": 25,
   "metadata": {
    "deletable": false,
    "editable": false,
    "lc_cell_meme": {
     "current": "159bb684-7ada-11ea-972a-0242ac160002",
     "execution_end_time": "2020-05-12T09:44:48.978486Z",
     "history": [
      {
       "current": "159bb684-7ada-11ea-972a-0242ac160002",
       "next": null,
       "previous": "922b1f6a-71a1-11ea-804d-0242ac160002"
      },
      {
       "current": "159bb684-7ada-11ea-972a-0242ac160002",
       "next": "fcd53e6c-7d5a-11ea-972a-0242ac160002",
       "previous": "922b1f6a-71a1-11ea-804d-0242ac160002"
      },
      {
       "current": "159bb684-7ada-11ea-972a-0242ac160002",
       "next": "06771fa6-7dee-11ea-972a-0242ac160002",
       "previous": "922b1f6a-71a1-11ea-804d-0242ac160002"
      },
      {
       "current": "159bb684-7ada-11ea-972a-0242ac160002",
       "next": "06771fa6-7dee-11ea-972a-0242ac160002",
       "previous": "4e0cda72-7dee-11ea-972a-0242ac160002"
      },
      {
       "current": "159bb684-7ada-11ea-972a-0242ac160002",
       "next": "06771fa6-7dee-11ea-972a-0242ac160002",
       "previous": "5fd2626a-86ca-11ea-972a-0242ac160002"
      },
      {
       "current": "159bb684-7ada-11ea-972a-0242ac160002",
       "next": "ba2282d8-86cd-11ea-972a-0242ac160002",
       "previous": "5fd2626a-86ca-11ea-972a-0242ac160002"
      }
     ],
     "next": "25934f34-8ac5-11ea-972a-0242ac160002",
     "previous": "5fd2626a-86ca-11ea-972a-0242ac160002"
    },
    "lc_wrapper": {
     "log_history": [
      "/notebooks/notebook/tmp/サーバ構築手順/.log/20200410/20200410-121834-0681.log",
      "/notebooks/notebook/tmp/サーバ構築手順/.log/20200410/20200410-180412-0075.log",
      "/notebooks/notebook/tmp/サーバ構築手順/.log/20200413/20200413-164046-0154.log",
      "/notebooks/notebook/tmp/サーバ構築手順/.log/20200413/20200413-164107-0563.log",
      "/notebooks/notebook/tmp/サーバ構築手順/.log/20200414/20200414-160519-0672.log",
      "/notebooks/notebook/tmp/サーバ構築手順/.log/20200414/20200414-161608-0535.log",
      "/notebooks/notebook/tmp/サーバ構築手順/.log/20200414/20200414-161804-0167.log",
      "/notebooks/notebook/tmp/サーバ構築手順/.log/20200414/20200414-180104-0494.log",
      "/notebooks/notebook/tmp/サーバ構築手順/.log/20200414/20200414-181051-0393.log",
      "/notebooks/notebook/tmp/サーバ構築手順/.log/20200428/20200428-145311-0333.log",
      "/notebooks/notebook/tmp/サーバ構築手順/.log/20200430/20200430-182906-0266.log",
      "/notebooks/notebook/tmp/サーバ構築手順/.log/20200430/20200430-184728-0729.log",
      "/notebooks/notebook/tmp/サーバ構築手順/.log/20200501/20200501-115605-0721.log",
      "/notebooks/notebook/tmp/サーバ構築手順/.log/20200501/20200501-152619-0639.log",
      "/notebooks/notebook/tmp/サーバ構築手順/.log/20200505/20200505-173032-0909.log",
      "/notebooks/notebook/tmp/サーバ構築手順/.log/20200505/20200505-183057-0328.log",
      "/notebooks/notebook/tmp/サーバ構築手順/.log/20200507/20200507-114544-0118.log",
      "/notebooks/notebook/tmp/サーバ構築手順/.log/20200507/20200507-115100-0361.log",
      "/notebooks/notebook/tmp/サーバ構築手順/.log/20200507/20200507-133853-0237.log",
      "/notebooks/notebook/tmp/サーバ構築手順/.log/20200507/20200507-150920-0883.log",
      "/notebooks/notebook/tmp/サーバ構築手順/.log/20200507/20200507-154201-0143.log",
      "/notebooks/notebook/tmp/サーバ構築手順/.log/20200507/20200507-154705-0579.log",
      "/notebooks/notebook/tmp/サーバ構築手順/.log/20200507/20200507-155017-0872.log",
      "/notebooks/notebook/tmp/サーバ構築手順/.log/20200507/20200507-184016-0014.log",
      "/notebooks/notebook/tmp/サーバ構築手順/.log/20200507/20200507-184141-0912.log",
      "/notebooks/notebook/tmp/サーバ構築手順/.log/20200508/20200508-112742-0937.log",
      "/notebooks/notebook/tmp/サーバ構築手順/.log/20200508/20200508-114437-0801.log",
      "/notebooks/notebook/tmp/サーバ構築手順/.log/20200508/20200508-115020-0173.log",
      "/notebooks/notebook/tmp/サーバ構築手順/.log/20200512/20200512-144306-0410.log",
      "/notebooks/notebook/tmp/サーバ構築手順/.log/20200512/20200512-162224-0439.log",
      "/notebooks/notebook/tmp/サーバ構築手順/.log/20200512/20200512-170225-0891.log",
      "/notebooks/notebook/tmp/サーバ構築手順/.log/20200512/20200512-181909-0724.log",
      "/notebooks/notebook/tmp/サーバ構築手順/.log/20200512/20200512-184443-0014.log"
     ]
    },
    "run_through_control": {
     "frozen": true
    }
   },
   "outputs": [],
   "source": [
    "LIST_KAFKA_HOSTS=\"$(ansible-inventory --list  | jq  -r '.kafka.hosts|.[]')\"\n",
    "list_kafka_hosts() {\n",
    "    echo \"$LIST_KAFKA_HOSTS\"\n",
    "}\n",
    "\n",
    "print_server_properties() {\n",
    "    local HOST=\"$1\"\n",
    "    local ID=\"$2\"\n",
    "    \n",
    "    echo \"broker.id=${ID}\"\n",
    "    \n",
    "    local ZKHOST\n",
    "    printf \"zookeeper.connect=\"\n",
    "    list_zookeeper_hosts | sed \"s/\\$/:${ZK_CPORT}/\" | paste -s -d,\n",
    "\n",
    "    printf \"listeners=\"\n",
    "    {\n",
    "        case \"$KAFKA_AUTH\" in\n",
    "        PLAINTEXT) echo \"PLAINTEXT://:${KAFKA_PORT_PLAINTEXT}\" ;;\n",
    "        SSL)       echo \"SSL://:${KAFKA_PORT_SSL}\" ;;\n",
    "        SASL_SSL*) echo \"SASL_SSL://:${KAFKA_PORT_SASL_SSL}\"\n",
    "                   echo \"SSL://:$((KAFKA_PORT_SASL_SSL+1))\" ;;\n",
    "        esac\n",
    "    } | paste -s -d,\n",
    "    \n",
    "    printf \"advertised.listeners=\"\n",
    "    {\n",
    "        case \"$KAFKA_AUTH\" in\n",
    "        PLAINTEXT) echo \"PLAINTEXT://${HOST}:${KAFKA_PORT_PLAINTEXT}\" ;;\n",
    "        SSL)       echo \"SSL://${HOST}:${KAFKA_PORT_SSL}\" ;;\n",
    "        SASL_SSL*) echo \"SASL_SSL://${HOST}:${KAFKA_PORT_SASL_SSL}\"\n",
    "                   echo \"SSL://${HOST}:$((KAFKA_PORT_SASL_SSL+1))\" ;; # for inter-broker\n",
    "        esac\n",
    "    } | paste -s -d,\n",
    "    \n",
    "\n",
    "    # CA証明書の設定\n",
    "    echo \"ssl.truststore.location=/sinetstream-kafka/truststore.p12\"\n",
    "    echo \"ssl.truststore.password=${TRUSTSTORE_PASSWORD}\"\n",
    "    echo \"ssl.truststore.type=pkcs12\"\n",
    "    # サーバー秘密鍵の設定\n",
    "    echo \"ssl.keystore.location=/sinetstream-kafka/keystore.p12\"\n",
    "    echo \"ssl.keystore.password=${KEYSTORE_PASSWORD}\"\n",
    "    echo \"ssl.keystore.type=pkcs12\"\n",
    "        \n",
    "    case \"$KAFKA_AUTH\" in\n",
    "    SSL)\n",
    "        # SSL/TLS認証（クライアント認証）\n",
    "        echo \"ssl.client.auth=required\"\n",
    "        echo \"security.inter.broker.protocol=SSL\"\n",
    "        ;;\n",
    "    SASL_SSL_SCRAM)\n",
    "        # SCRAM認証/TLS\n",
    "        echo \"ssl.client.auth=required\"\n",
    "        echo \"security.inter.broker.protocol=SSL\"\n",
    "        echo \"sasl.enabled.mechanisms=${SCRAM_MECHANISM}\"\n",
    "        #echo \"sasl.mechanism.inter.broker.protocol=${SCRAM_MECHANISM}\"\n",
    "        local scram_mechanism=\"$(echo \"${SCRAM_MECHANISM}\" | tr '[A-Z]' '[a-z]')\"\n",
    "        echo \"listener.name.sasl_ssl.${scram_mechanism}.sasl.jaas.config=org.apache.kafka.common.security.scram.ScramLoginModule required \\\\\"\n",
    "        echo \"    username=admin password=${PASSWORD_admin};\"\n",
    "        ;;\n",
    "    SASL_SSL_PLAIN)\n",
    "        # パスワード認証/TLS\n",
    "        echo \"ssl.client.auth=required\"\n",
    "        echo \"security.inter.broker.protocol=SSL\"\n",
    "        echo \"sasl.enabled.mechanisms=PLAIN\"\n",
    "        #echo \"sasl.mechanism.inter.broker.protocol=PLAIN\"\n",
    "        echo \"listener.name.sasl_ssl.plain.sasl.jaas.config=org.apache.kafka.common.security.plain.PlainLoginModule required \\\\\"\n",
    "        echo \"    username=admin password=${PASSWORD_admin} \\\\\"\n",
    "        local USER PASSWORD\n",
    "        for USER in ${USER_LIST}; do\n",
    "            eval PASSWORD=\\$PASSWORD_${USER}\n",
    "            echo \"    user_${USER}=\\\"${PASSWORD}\\\" \\\\\"\n",
    "        done\n",
    "        echo \"    ;\"\n",
    "        ;;\n",
    "    esac\n",
    "    \n",
    "    # 認可\n",
    "    echo \"authorizer.class.name=kafka.security.auth.SimpleAclAuthorizer\"  # ZooKeeperに記録されているACL設定による認可\n",
    "    echo \"allow.everyone.if.no.acl.found=${KAFKA_ACL_DEFAULT_TO_ALLOW}\"\n",
    "    echo \"super.users=User:admin\"  # adminには特権を与える\n",
    "}\n",
    "\n",
    "ID=1\n",
    "tar x -f $KAFKA.tgz --to-stdout $KAFKA/config/server.properties >server.properties  &&\n",
    "mkdir -p tmp  &&\n",
    "rm -f tmp/*.properties  &&\n",
    "list_kafka_hosts | while read HOST; do\n",
    "    {\n",
    "        cat server.properties\n",
    "        print_server_properties \"$HOST\" \"$ID\"\n",
    "    } >\"tmp/server-${HOST}.properties\"\n",
    "    ID=$((ID + 1))\n",
    "done"
   ]
  },
  {
   "cell_type": "code",
   "execution_count": 26,
   "metadata": {
    "deletable": false,
    "editable": false,
    "lc_cell_meme": {
     "current": "25934f34-8ac5-11ea-972a-0242ac160002",
     "execution_end_time": "2020-05-12T09:44:49.096687Z",
     "history": [
      {
       "current": "25934f34-8ac5-11ea-972a-0242ac160002",
       "next": "159bb684-7ada-11ea-972a-0242ac160002",
       "previous": "ba2282d8-86cd-11ea-972a-0242ac160002"
      }
     ],
     "next": "ba2282d8-86cd-11ea-972a-0242ac160002",
     "previous": "159bb684-7ada-11ea-972a-0242ac160002"
    },
    "lc_wrapper": {
     "log_history": [
      "/notebooks/notebook/tmp/サーバ構築手順/.log/20200430/20200430-183004-0467.log",
      "/notebooks/notebook/tmp/サーバ構築手順/.log/20200430/20200430-184735-0751.log",
      "/notebooks/notebook/tmp/サーバ構築手順/.log/20200501/20200501-115610-0894.log",
      "/notebooks/notebook/tmp/サーバ構築手順/.log/20200501/20200501-152631-0237.log",
      "/notebooks/notebook/tmp/サーバ構築手順/.log/20200505/20200505-173038-0079.log",
      "/notebooks/notebook/tmp/サーバ構築手順/.log/20200505/20200505-183109-0890.log",
      "/notebooks/notebook/tmp/サーバ構築手順/.log/20200507/20200507-150926-0377.log",
      "/notebooks/notebook/tmp/サーバ構築手順/.log/20200508/20200508-112748-0817.log",
      "/notebooks/notebook/tmp/サーバ構築手順/.log/20200508/20200508-115026-0040.log",
      "/notebooks/notebook/tmp/サーバ構築手順/.log/20200512/20200512-144312-0400.log",
      "/notebooks/notebook/tmp/サーバ構築手順/.log/20200512/20200512-162230-0442.log",
      "/notebooks/notebook/tmp/サーバ構築手順/.log/20200512/20200512-181915-0667.log",
      "/notebooks/notebook/tmp/サーバ構築手順/.log/20200512/20200512-184448-0988.log"
     ]
    },
    "run_through_control": {
     "frozen": true
    }
   },
   "outputs": [
    {
     "name": "stdout",
     "output_type": "stream",
     "text": [
      "-rw-r--r-- 1 jovyan users 7644 May 12 18:44 tmp/server-server1.example.jp.properties\n"
     ]
    }
   ],
   "source": [
    "ls -l tmp/server-*.properties"
   ]
  },
  {
   "cell_type": "markdown",
   "metadata": {
    "lc_cell_meme": {
     "current": "ba2282d8-86cd-11ea-972a-0242ac160002",
     "history": [
      {
       "current": "ba2282d8-86cd-11ea-972a-0242ac160002",
       "next": "159bb684-7ada-11ea-972a-0242ac160002",
       "previous": "159bb684-7ada-11ea-972a-0242ac160002"
      },
      {
       "current": "ba2282d8-86cd-11ea-972a-0242ac160002",
       "next": "25934f34-8ac5-11ea-972a-0242ac160002",
       "previous": "159bb684-7ada-11ea-972a-0242ac160002"
      }
     ],
     "next": "159bb684-7ada-11ea-972a-0242ac160002",
     "previous": "25934f34-8ac5-11ea-972a-0242ac160002"
    }
   },
   "source": [
    "kafkaブローカの設定ファイルを各ホストにコピーする。"
   ]
  },
  {
   "cell_type": "code",
   "execution_count": 27,
   "metadata": {
    "deletable": false,
    "editable": false,
    "lc_cell_meme": {
     "current": "159bb684-7ada-11ea-972a-0242ac160002",
     "execution_end_time": "2020-05-12T09:44:51.159895Z",
     "history": [
      {
       "current": "159bb684-7ada-11ea-972a-0242ac160002",
       "next": null,
       "previous": "922b1f6a-71a1-11ea-804d-0242ac160002"
      },
      {
       "current": "159bb684-7ada-11ea-972a-0242ac160002",
       "next": "fcd53e6c-7d5a-11ea-972a-0242ac160002",
       "previous": "922b1f6a-71a1-11ea-804d-0242ac160002"
      },
      {
       "current": "159bb684-7ada-11ea-972a-0242ac160002",
       "next": "06771fa6-7dee-11ea-972a-0242ac160002",
       "previous": "922b1f6a-71a1-11ea-804d-0242ac160002"
      },
      {
       "current": "159bb684-7ada-11ea-972a-0242ac160002",
       "next": "06771fa6-7dee-11ea-972a-0242ac160002",
       "previous": "4e0cda72-7dee-11ea-972a-0242ac160002"
      },
      {
       "current": "159bb684-7ada-11ea-972a-0242ac160002",
       "next": "06771fa6-7dee-11ea-972a-0242ac160002",
       "previous": "5fd2626a-86ca-11ea-972a-0242ac160002"
      },
      {
       "current": "159bb684-7ada-11ea-972a-0242ac160002",
       "next": "06771fa6-7dee-11ea-972a-0242ac160002",
       "previous": "ba2282d8-86cd-11ea-972a-0242ac160002"
      },
      {
       "current": "159bb684-7ada-11ea-972a-0242ac160002",
       "next": "06771fa6-7dee-11ea-972a-0242ac160002",
       "previous": "25934f34-8ac5-11ea-972a-0242ac160002"
      }
     ],
     "next": "06771fa6-7dee-11ea-972a-0242ac160002",
     "previous": "ba2282d8-86cd-11ea-972a-0242ac160002"
    },
    "lc_wrapper": {
     "log_history": [
      "/notebooks/notebook/tmp/サーバ構築手順/.log/20200410/20200410-121834-0681.log",
      "/notebooks/notebook/tmp/サーバ構築手順/.log/20200410/20200410-180412-0075.log",
      "/notebooks/notebook/tmp/サーバ構築手順/.log/20200413/20200413-164046-0154.log",
      "/notebooks/notebook/tmp/サーバ構築手順/.log/20200413/20200413-164107-0563.log",
      "/notebooks/notebook/tmp/サーバ構築手順/.log/20200414/20200414-160519-0672.log",
      "/notebooks/notebook/tmp/サーバ構築手順/.log/20200414/20200414-161608-0535.log",
      "/notebooks/notebook/tmp/サーバ構築手順/.log/20200414/20200414-161804-0167.log",
      "/notebooks/notebook/tmp/サーバ構築手順/.log/20200414/20200414-180104-0494.log",
      "/notebooks/notebook/tmp/サーバ構築手順/.log/20200414/20200414-181051-0393.log",
      "/notebooks/notebook/tmp/サーバ構築手順/.log/20200428/20200428-145316-0565.log",
      "/notebooks/notebook/tmp/サーバ構築手順/.log/20200430/20200430-183022-0402.log",
      "/notebooks/notebook/tmp/サーバ構築手順/.log/20200430/20200430-184748-0517.log",
      "/notebooks/notebook/tmp/サーバ構築手順/.log/20200501/20200501-115611-0012.log",
      "/notebooks/notebook/tmp/サーバ構築手順/.log/20200501/20200501-152636-0115.log",
      "/notebooks/notebook/tmp/サーバ構築手順/.log/20200505/20200505-173038-0198.log",
      "/notebooks/notebook/tmp/サーバ構築手順/.log/20200505/20200505-183111-0612.log",
      "/notebooks/notebook/tmp/サーバ構築手順/.log/20200507/20200507-114608-0218.log",
      "/notebooks/notebook/tmp/サーバ構築手順/.log/20200507/20200507-115111-0753.log",
      "/notebooks/notebook/tmp/サーバ構築手順/.log/20200507/20200507-140030-0245.log",
      "/notebooks/notebook/tmp/サーバ構築手順/.log/20200507/20200507-150926-0492.log",
      "/notebooks/notebook/tmp/サーバ構築手順/.log/20200507/20200507-154217-0164.log",
      "/notebooks/notebook/tmp/サーバ構築手順/.log/20200507/20200507-154732-0043.log",
      "/notebooks/notebook/tmp/サーバ構築手順/.log/20200507/20200507-154937-0632.log",
      "/notebooks/notebook/tmp/サーバ構築手順/.log/20200507/20200507-155027-0843.log",
      "/notebooks/notebook/tmp/サーバ構築手順/.log/20200507/20200507-184029-0819.log",
      "/notebooks/notebook/tmp/サーバ構築手順/.log/20200507/20200507-184149-0618.log",
      "/notebooks/notebook/tmp/サーバ構築手順/.log/20200508/20200508-112748-0934.log",
      "/notebooks/notebook/tmp/サーバ構築手順/.log/20200508/20200508-115026-0156.log",
      "/notebooks/notebook/tmp/サーバ構築手順/.log/20200512/20200512-144312-0518.log",
      "/notebooks/notebook/tmp/サーバ構築手順/.log/20200512/20200512-162230-0559.log",
      "/notebooks/notebook/tmp/サーバ構築手順/.log/20200512/20200512-170236-0830.log",
      "/notebooks/notebook/tmp/サーバ構築手順/.log/20200512/20200512-181915-0784.log",
      "/notebooks/notebook/tmp/サーバ構築手順/.log/20200512/20200512-184449-0104.log"
     ]
    },
    "pinned_outputs": [],
    "run_through_control": {
     "frozen": true
    },
    "scrolled": false
   },
   "outputs": [
    {
     "name": "stdout",
     "output_type": "stream",
     "text": [
      "server1.example.jp | CHANGED => {\n",
      "    \"changed\": true,\n",
      "    \"checksum\": \"8db15549d6e82be4c5c3a93360f97de6cfbf0573\",\n",
      "    \"dest\": \"/home/piyo/sinetstream-kafka/server.properties\",\n",
      "    \"gid\": 1004,\n",
      "    \"group\": \"piyo\",\n",
      "    \"md5sum\": \"1f3d845ad03be8bfef632b72d54336ab\",\n",
      "    \"mode\": \"0664\",\n",
      "    \"owner\": \"piyo\",\n",
      "    \"size\": 7644,\n",
      "    \"src\": \"/home/piyo/.ansible/tmp/ansible-tmp-1589276689.879836-22666949452525/source\",\n",
      "    \"state\": \"file\",\n",
      "    \"uid\": 1004\n",
      "}\n"
     ]
    }
   ],
   "source": [
    "ansible kafka -m copy -a \"src=tmp/server-{{inventory_hostname}}.properties dest=\\$PWD/sinetstream-kafka/server.properties\""
   ]
  },
  {
   "cell_type": "markdown",
   "metadata": {
    "lc_cell_meme": {
     "current": "06771fa6-7dee-11ea-972a-0242ac160002",
     "history": [
      {
       "current": "06771fa6-7dee-11ea-972a-0242ac160002",
       "next": "fcd53e6c-7d5a-11ea-972a-0242ac160002",
       "previous": "159bb684-7ada-11ea-972a-0242ac160002"
      }
     ],
     "next": "494e5a4a-86ce-11ea-972a-0242ac160002",
     "previous": "159bb684-7ada-11ea-972a-0242ac160002"
    }
   },
   "source": [
    "### SSL/TLSのための証明書を設定"
   ]
  },
  {
   "cell_type": "markdown",
   "metadata": {
    "lc_cell_meme": {
     "current": "494e5a4a-86ce-11ea-972a-0242ac160002",
     "history": [
      {
       "current": "494e5a4a-86ce-11ea-972a-0242ac160002",
       "next": "fcd53e6c-7d5a-11ea-972a-0242ac160002",
       "previous": "06771fa6-7dee-11ea-972a-0242ac160002"
      }
     ],
     "next": "d83b0960-86ce-11ea-972a-0242ac160002",
     "previous": "06771fa6-7dee-11ea-972a-0242ac160002"
    }
   },
   "source": [
    "opensslをつかってPEM形式の証明書をkafkaブローカが扱えるPKCS#12(p12)形式に変換する。"
   ]
  },
  {
   "cell_type": "markdown",
   "metadata": {
    "lc_cell_meme": {
     "current": "d83b0960-86ce-11ea-972a-0242ac160002",
     "execution_end_time": "2020-04-25T08:28:09.358288Z",
     "history": [
      {
       "current": "d83b0960-86ce-11ea-972a-0242ac160002",
       "next": "fcd53e6c-7d5a-11ea-972a-0242ac160002",
       "previous": "494e5a4a-86ce-11ea-972a-0242ac160002"
      }
     ],
     "next": "349690da-8abc-11ea-972a-0242ac160002",
     "previous": "494e5a4a-86ce-11ea-972a-0242ac160002"
    },
    "lc_wrapper": {
     "log_history": [
      "/notebooks/notebook/tmp/サーバ構築手順/.log/20200425/20200425-172809-0247.log"
     ]
    }
   },
   "source": [
    "CA証明書・サーバ秘密鍵・サーバ証明書をkafkaブローカの動かすコンテナ内にコピーする。\n",
    "\n",
    "自己署名CA証明書の場合はCA秘密鍵もコピーする。"
   ]
  },
  {
   "cell_type": "code",
   "execution_count": 28,
   "metadata": {
    "deletable": false,
    "editable": false,
    "lc_cell_meme": {
     "current": "349690da-8abc-11ea-972a-0242ac160002",
     "execution_end_time": "2020-05-12T09:44:52.045546Z",
     "next": "fcd53e6c-7d5a-11ea-972a-0242ac160002",
     "previous": "d83b0960-86ce-11ea-972a-0242ac160002"
    },
    "lc_wrapper": {
     "log_history": [
      "/notebooks/notebook/tmp/サーバ構築手順/.log/20200430/20200430-184804-0891.log",
      "/notebooks/notebook/tmp/サーバ構築手順/.log/20200430/20200430-184833-0544.log",
      "/notebooks/notebook/tmp/サーバ構築手順/.log/20200501/20200501-115613-0013.log",
      "/notebooks/notebook/tmp/サーバ構築手順/.log/20200501/20200501-123906-0952.log",
      "/notebooks/notebook/tmp/サーバ構築手順/.log/20200501/20200501-152700-0825.log",
      "/notebooks/notebook/tmp/サーバ構築手順/.log/20200505/20200505-173040-0246.log",
      "/notebooks/notebook/tmp/サーバ構築手順/.log/20200507/20200507-150928-0597.log",
      "/notebooks/notebook/tmp/サーバ構築手順/.log/20200508/20200508-112751-0096.log",
      "/notebooks/notebook/tmp/サーバ構築手順/.log/20200508/20200508-115028-0135.log",
      "/notebooks/notebook/tmp/サーバ構築手順/.log/20200512/20200512-144314-0614.log",
      "/notebooks/notebook/tmp/サーバ構築手順/.log/20200512/20200512-162232-0634.log",
      "/notebooks/notebook/tmp/サーバ構築手順/.log/20200512/20200512-181917-0835.log",
      "/notebooks/notebook/tmp/サーバ構築手順/.log/20200512/20200512-184451-0168.log"
     ]
    },
    "run_through_control": {
     "frozen": true
    }
   },
   "outputs": [],
   "source": [
    "CA_CERT_PATH=./cacert.pem\n",
    "CA_KEY_PATH=NONE  \n",
    "CA_KEY_PATH=./cakey.pem  # CA証明書が自己署名の場合はCA秘密鍵も指定する\n",
    "\n",
    "BROKER_CERT_PATH=./broker.crt\n",
    "BROKER_KEY_PATH=./broker.key\n",
    "\n",
    "# 以下、変更しなくてよい\n",
    "CA_CERT_FILE=$(basename \"${CA_CERT_PATH}\")\n",
    "BROKER_CERT_FILE=$(basename \"${BROKER_CERT_PATH}\")\n",
    "BROKER_KEY_FILE=$(basename \"${BROKER_KEY_PATH}\")\n",
    "if [ \"x$CA_KEY_PATH\" != \"xNONE\" ]; then\n",
    "    CA_KEY_FILE=$(basename \"${CA_KEY_PATH}\")\n",
    "else\n",
    "    CA_KEY_FILE=\"\"\n",
    "fi"
   ]
  },
  {
   "cell_type": "code",
   "execution_count": 29,
   "metadata": {
    "deletable": false,
    "editable": false,
    "lc_cell_meme": {
     "current": "fcd53e6c-7d5a-11ea-972a-0242ac160002",
     "execution_end_time": "2020-05-12T09:44:59.678103Z",
     "history": [
      {
       "current": "fcd53e6c-7d5a-11ea-972a-0242ac160002",
       "next": null,
       "previous": "159bb684-7ada-11ea-972a-0242ac160002"
      },
      {
       "current": "fcd53e6c-7d5a-11ea-972a-0242ac160002",
       "next": null,
       "previous": "06771fa6-7dee-11ea-972a-0242ac160002"
      },
      {
       "current": "fcd53e6c-7d5a-11ea-972a-0242ac160002",
       "next": "c29a4f18-7df9-11ea-972a-0242ac160002",
       "previous": "06771fa6-7dee-11ea-972a-0242ac160002"
      },
      {
       "current": "fcd53e6c-7d5a-11ea-972a-0242ac160002",
       "next": "c29a4f18-7df9-11ea-972a-0242ac160002",
       "previous": "494e5a4a-86ce-11ea-972a-0242ac160002"
      },
      {
       "current": "fcd53e6c-7d5a-11ea-972a-0242ac160002",
       "next": "d83b0b0e-86ce-11ea-972a-0242ac160002",
       "previous": "d83b0960-86ce-11ea-972a-0242ac160002"
      }
     ],
     "next": "d83b0b0e-86ce-11ea-972a-0242ac160002",
     "previous": "349690da-8abc-11ea-972a-0242ac160002"
    },
    "lc_wrapper": {
     "log_history": [
      "/notebooks/notebook/tmp/サーバ構築手順/.log/20200414/20200414-114148-0575.log",
      "/notebooks/notebook/tmp/サーバ構築手順/.log/20200414/20200414-114259-0190.log",
      "/notebooks/notebook/tmp/サーバ構築手順/.log/20200414/20200414-180112-0110.log",
      "/notebooks/notebook/tmp/サーバ構築手順/.log/20200414/20200414-181058-0774.log",
      "/notebooks/notebook/tmp/サーバ構築手順/.log/20200428/20200428-145318-0640.log",
      "/notebooks/notebook/tmp/サーバ構築手順/.log/20200428/20200428-181138-0200.log",
      "/notebooks/notebook/tmp/サーバ構築手順/.log/20200430/20200430-184807-0044.log",
      "/notebooks/notebook/tmp/サーバ構築手順/.log/20200430/20200430-184837-0008.log",
      "/notebooks/notebook/tmp/サーバ構築手順/.log/20200430/20200430-184956-0236.log",
      "/notebooks/notebook/tmp/サーバ構築手順/.log/20200501/20200501-115613-0895.log",
      "/notebooks/notebook/tmp/サーバ構築手順/.log/20200501/20200501-152702-0636.log",
      "/notebooks/notebook/tmp/サーバ構築手順/.log/20200505/20200505-173041-0130.log",
      "/notebooks/notebook/tmp/サーバ構築手順/.log/20200507/20200507-150929-0482.log",
      "/notebooks/notebook/tmp/サーバ構築手順/.log/20200508/20200508-112751-0980.log",
      "/notebooks/notebook/tmp/サーバ構築手順/.log/20200508/20200508-115029-0021.log",
      "/notebooks/notebook/tmp/サーバ構築手順/.log/20200512/20200512-144315-0525.log",
      "/notebooks/notebook/tmp/サーバ構築手順/.log/20200512/20200512-162233-0516.log",
      "/notebooks/notebook/tmp/サーバ構築手順/.log/20200512/20200512-181918-0719.log",
      "/notebooks/notebook/tmp/サーバ構築手順/.log/20200512/20200512-184452-0052.log"
     ]
    },
    "run_through_control": {
     "frozen": true
    }
   },
   "outputs": [
    {
     "name": "stdout",
     "output_type": "stream",
     "text": [
      "server1.example.jp | SUCCESS => {\n",
      "    \"changed\": false,\n",
      "    \"checksum\": \"43513e67aa1278fdd15ad23304971edc3f6dda52\",\n",
      "    \"dest\": \"/home/piyo/sinetstream-kafka/cacert.pem\",\n",
      "    \"gid\": 1004,\n",
      "    \"group\": \"piyo\",\n",
      "    \"mode\": \"0664\",\n",
      "    \"owner\": \"piyo\",\n",
      "    \"path\": \"/home/piyo/sinetstream-kafka/cacert.pem\",\n",
      "    \"size\": 4349,\n",
      "    \"state\": \"file\",\n",
      "    \"uid\": 1004\n",
      "}\n",
      "server1.example.jp | SUCCESS => {\n",
      "    \"changed\": false,\n",
      "    \"checksum\": \"d92b90e240f0bf59677367354ffe2ce6e5f5c8c6\",\n",
      "    \"dest\": \"/home/piyo/sinetstream-kafka/broker.crt\",\n",
      "    \"gid\": 1004,\n",
      "    \"group\": \"piyo\",\n",
      "    \"mode\": \"0664\",\n",
      "    \"owner\": \"piyo\",\n",
      "    \"path\": \"/home/piyo/sinetstream-kafka/broker.crt\",\n",
      "    \"size\": 4389,\n",
      "    \"state\": \"file\",\n",
      "    \"uid\": 1004\n",
      "}\n",
      "server1.example.jp | SUCCESS => {\n",
      "    \"changed\": false,\n",
      "    \"checksum\": \"cf6364f56c6ec29b2acdb40e3ede96fe77821585\",\n",
      "    \"dest\": \"/home/piyo/sinetstream-kafka/broker.key\",\n",
      "    \"gid\": 1004,\n",
      "    \"group\": \"piyo\",\n",
      "    \"mode\": \"0664\",\n",
      "    \"owner\": \"piyo\",\n",
      "    \"path\": \"/home/piyo/sinetstream-kafka/broker.key\",\n",
      "    \"size\": 1708,\n",
      "    \"state\": \"file\",\n",
      "    \"uid\": 1004\n",
      "}\n",
      "server1.example.jp | SUCCESS => {\n",
      "    \"changed\": false,\n",
      "    \"checksum\": \"3fd725769a1ce97b7087a17af1bf1fc51a102b81\",\n",
      "    \"dest\": \"/home/piyo/sinetstream-kafka/cakey.pem\",\n",
      "    \"gid\": 1004,\n",
      "    \"group\": \"piyo\",\n",
      "    \"mode\": \"0664\",\n",
      "    \"owner\": \"piyo\",\n",
      "    \"path\": \"/home/piyo/sinetstream-kafka/cakey.pem\",\n",
      "    \"size\": 1708,\n",
      "    \"state\": \"file\",\n",
      "    \"uid\": 1004\n",
      "}\n"
     ]
    }
   ],
   "source": [
    "ansible kafka -m copy -a \"src=${CA_CERT_PATH} dest=\\$PWD/sinetstream-kafka/${CA_CERT_FILE}\" &&\n",
    "ansible kafka -m copy -a \"src=${BROKER_CERT_PATH} dest=\\$PWD/sinetstream-kafka/${BROKER_CERT_FILE}\" &&\n",
    "ansible kafka -m copy -a \"src=${BROKER_KEY_PATH} dest=\\$PWD/sinetstream-kafka/${BROKER_KEY_FILE}\" &&\n",
    "if [ -n \"${CA_KEY_FILE}\" ]; then\n",
    "    ansible kafka -m copy -a \"src=${CA_KEY_PATH} dest=\\$PWD/sinetstream-kafka/${CA_KEY_FILE}\"\n",
    "fi"
   ]
  },
  {
   "cell_type": "markdown",
   "metadata": {
    "lc_cell_meme": {
     "current": "d83b0b0e-86ce-11ea-972a-0242ac160002",
     "next": "c29a4f18-7df9-11ea-972a-0242ac160002",
     "previous": "fcd53e6c-7d5a-11ea-972a-0242ac160002"
    }
   },
   "source": [
    "CA証明書を変換してtruststoreに登録する。"
   ]
  },
  {
   "cell_type": "code",
   "execution_count": 30,
   "metadata": {
    "deletable": false,
    "editable": false,
    "lc_cell_meme": {
     "current": "c29a4f18-7df9-11ea-972a-0242ac160002",
     "execution_end_time": "2020-05-12T09:45:03.542645Z",
     "history": [
      {
       "current": "c29a4f18-7df9-11ea-972a-0242ac160002",
       "next": null,
       "previous": "fcd53e6c-7d5a-11ea-972a-0242ac160002"
      },
      {
       "current": "c29a4f18-7df9-11ea-972a-0242ac160002",
       "next": "592b97e8-7dff-11ea-972a-0242ac160002",
       "previous": "fcd53e6c-7d5a-11ea-972a-0242ac160002"
      },
      {
       "current": "c29a4f18-7df9-11ea-972a-0242ac160002",
       "next": "592b97e8-7dff-11ea-972a-0242ac160002",
       "previous": "d83b0b0e-86ce-11ea-972a-0242ac160002"
      }
     ],
     "next": "1fbf3194-86cf-11ea-972a-0242ac160002",
     "previous": "d83b0b0e-86ce-11ea-972a-0242ac160002"
    },
    "lc_wrapper": {
     "log_history": [
      "/notebooks/notebook/tmp/サーバ構築手順/.log/20200414/20200414-121544-0904.log",
      "/notebooks/notebook/tmp/サーバ構築手順/.log/20200414/20200414-121624-0434.log",
      "/notebooks/notebook/tmp/サーバ構築手順/.log/20200414/20200414-121639-0363.log",
      "/notebooks/notebook/tmp/サーバ構築手順/.log/20200414/20200414-121736-0167.log",
      "/notebooks/notebook/tmp/サーバ構築手順/.log/20200414/20200414-180117-0874.log",
      "/notebooks/notebook/tmp/サーバ構築手順/.log/20200414/20200414-181104-0539.log",
      "/notebooks/notebook/tmp/サーバ構築手順/.log/20200428/20200428-145324-0356.log",
      "/notebooks/notebook/tmp/サーバ構築手順/.log/20200428/20200428-181222-0468.log",
      "/notebooks/notebook/tmp/サーバ構築手順/.log/20200430/20200430-185012-0742.log",
      "/notebooks/notebook/tmp/サーバ構築手順/.log/20200501/20200501-115621-0735.log",
      "/notebooks/notebook/tmp/サーバ構築手順/.log/20200501/20200501-152718-0026.log",
      "/notebooks/notebook/tmp/サーバ構築手順/.log/20200505/20200505-173048-0986.log",
      "/notebooks/notebook/tmp/サーバ構築手順/.log/20200507/20200507-150937-0290.log",
      "/notebooks/notebook/tmp/サーバ構築手順/.log/20200508/20200508-112759-0742.log",
      "/notebooks/notebook/tmp/サーバ構築手順/.log/20200508/20200508-115036-0791.log",
      "/notebooks/notebook/tmp/サーバ構築手順/.log/20200512/20200512-144323-0443.log",
      "/notebooks/notebook/tmp/サーバ構築手順/.log/20200512/20200512-162241-0201.log",
      "/notebooks/notebook/tmp/サーバ構築手順/.log/20200512/20200512-181926-0466.log",
      "/notebooks/notebook/tmp/サーバ構築手順/.log/20200512/20200512-184459-0685.log"
     ]
    },
    "run_through_control": {
     "frozen": true
    }
   },
   "outputs": [
    {
     "name": "stdout",
     "output_type": "stream",
     "text": [
      "server1.example.jp | CHANGED | rc=0 >>\n",
      "\n",
      "server1.example.jp | CHANGED | rc=0 >>\n",
      "MAC Iteration 2048\n",
      "MAC verified OK\n",
      "PKCS7 Encrypted data: pbeWithSHA1And40BitRC2-CBC, Iteration 2048\n",
      "Certificate bag\n",
      "PKCS7 Data\n",
      "Shrouded Keybag: pbeWithSHA1And3-KeyTripleDES-CBC, Iteration 2048\n"
     ]
    }
   ],
   "source": [
    "ansible kafka -m command -a \"docker exec sinetstream-kafka \\\n",
    "  openssl pkcs12 -export \\\n",
    "    -in sinetstream-kafka/${CA_CERT_FILE} \\\n",
    "    ${CA_KEY_FILE:+-inkey sinetstream-kafka/${CA_KEY_FILE}} \\\n",
    "    -name private-ca \\\n",
    "    -CAfile sinetstream-kafka/${CA_CERT_FILE}\\\n",
    "    -caname private-ca \\\n",
    "    -out sinetstream-kafka/truststore.p12 \\\n",
    "    -passout pass:${TRUSTSTORE_PASSWORD}\" &&\n",
    "ansible kafka -m command -a \"docker exec sinetstream-kafka \\\n",
    "  openssl pkcs12 -in sinetstream-kafka/truststore.p12 -passin pass:${TRUSTSTORE_PASSWORD} -info -noout\""
   ]
  },
  {
   "cell_type": "markdown",
   "metadata": {
    "lc_cell_meme": {
     "current": "1fbf3194-86cf-11ea-972a-0242ac160002",
     "next": "592b97e8-7dff-11ea-972a-0242ac160002",
     "previous": "c29a4f18-7df9-11ea-972a-0242ac160002"
    }
   },
   "source": [
    "サーバ秘密鍵・サーバ証明書・CA証明書を変換してkeystoreに登録する。"
   ]
  },
  {
   "cell_type": "code",
   "execution_count": 31,
   "metadata": {
    "deletable": false,
    "editable": false,
    "lc_cell_meme": {
     "current": "592b97e8-7dff-11ea-972a-0242ac160002",
     "execution_end_time": "2020-05-12T09:45:07.409792Z",
     "history": [
      {
       "current": "592b97e8-7dff-11ea-972a-0242ac160002",
       "next": null,
       "previous": "c29a4f18-7df9-11ea-972a-0242ac160002"
      },
      {
       "current": "592b97e8-7dff-11ea-972a-0242ac160002",
       "next": "d8ec8030-7e2e-11ea-972a-0242ac160002",
       "previous": "c29a4f18-7df9-11ea-972a-0242ac160002"
      },
      {
       "current": "592b97e8-7dff-11ea-972a-0242ac160002",
       "next": "d8ec8030-7e2e-11ea-972a-0242ac160002",
       "previous": "1fbf3194-86cf-11ea-972a-0242ac160002"
      },
      {
       "current": "592b97e8-7dff-11ea-972a-0242ac160002",
       "next": "07d30c08-8a8b-11ea-972a-0242ac160002",
       "previous": "1fbf3194-86cf-11ea-972a-0242ac160002"
      }
     ],
     "next": "861905f2-7e30-11ea-972a-0242ac160002",
     "previous": "1fbf3194-86cf-11ea-972a-0242ac160002"
    },
    "lc_wrapper": {
     "log_history": [
      "/notebooks/notebook/tmp/サーバ構築手順/.log/20200414/20200414-122418-0402.log",
      "/notebooks/notebook/tmp/サーバ構築手順/.log/20200414/20200414-180121-0802.log",
      "/notebooks/notebook/tmp/サーバ構築手順/.log/20200414/20200414-181108-0275.log",
      "/notebooks/notebook/tmp/サーバ構築手順/.log/20200428/20200428-145328-0171.log",
      "/notebooks/notebook/tmp/サーバ構築手順/.log/20200428/20200428-181243-0960.log",
      "/notebooks/notebook/tmp/サーバ構築手順/.log/20200430/20200430-185022-0976.log",
      "/notebooks/notebook/tmp/サーバ構築手順/.log/20200430/20200430-185415-0601.log",
      "/notebooks/notebook/tmp/サーバ構築手順/.log/20200501/20200501-115625-0621.log",
      "/notebooks/notebook/tmp/サーバ構築手順/.log/20200501/20200501-121444-0824.log",
      "/notebooks/notebook/tmp/サーバ構築手順/.log/20200501/20200501-123110-0813.log",
      "/notebooks/notebook/tmp/サーバ構築手順/.log/20200501/20200501-123126-0864.log",
      "/notebooks/notebook/tmp/サーバ構築手順/.log/20200501/20200501-123931-0298.log",
      "/notebooks/notebook/tmp/サーバ構築手順/.log/20200501/20200501-152723-0582.log",
      "/notebooks/notebook/tmp/サーバ構築手順/.log/20200505/20200505-173052-0981.log",
      "/notebooks/notebook/tmp/サーバ構築手順/.log/20200507/20200507-150941-0248.log",
      "/notebooks/notebook/tmp/サーバ構築手順/.log/20200508/20200508-112803-0693.log",
      "/notebooks/notebook/tmp/サーバ構築手順/.log/20200508/20200508-115040-0747.log",
      "/notebooks/notebook/tmp/サーバ構築手順/.log/20200512/20200512-144327-0250.log",
      "/notebooks/notebook/tmp/サーバ構築手順/.log/20200512/20200512-162245-0107.log",
      "/notebooks/notebook/tmp/サーバ構築手順/.log/20200512/20200512-181930-0396.log",
      "/notebooks/notebook/tmp/サーバ構築手順/.log/20200512/20200512-184503-0550.log"
     ]
    },
    "run_through_control": {
     "frozen": true
    }
   },
   "outputs": [
    {
     "name": "stdout",
     "output_type": "stream",
     "text": [
      "server1.example.jp | CHANGED | rc=0 >>\n",
      "\n",
      "server1.example.jp | CHANGED | rc=0 >>\n",
      "MAC Iteration 2048\n",
      "MAC verified OK\n",
      "PKCS7 Encrypted data: pbeWithSHA1And40BitRC2-CBC, Iteration 2048\n",
      "Certificate bag\n",
      "PKCS7 Data\n",
      "Shrouded Keybag: pbeWithSHA1And3-KeyTripleDES-CBC, Iteration 2048\n"
     ]
    }
   ],
   "source": [
    "ansible kafka -m command -a \"docker exec sinetstream-kafka \\\n",
    "  openssl pkcs12 -export \\\n",
    "    -in sinetstream-kafka/${BROKER_CERT_FILE} \\\n",
    "    -inkey sinetstream-kafka/${BROKER_KEY_FILE} \\\n",
    "    -name broker \\\n",
    "    -CAfile sinetstream-kafka/${CA_CERT_FILE} \\\n",
    "    -caname private-ca \\\n",
    "    -out sinetstream-kafka/keystore.p12 \\\n",
    "    -passout pass:${KEYSTORE_PASSWORD}\" &&\n",
    "ansible kafka -m command -a \"docker exec sinetstream-kafka \\\n",
    "  openssl pkcs12 -in sinetstream-kafka/keystore.p12 -passin pass:${KEYSTORE_PASSWORD} -info -noout\""
   ]
  },
  {
   "cell_type": "markdown",
   "metadata": {
    "lc_cell_meme": {
     "current": "861905f2-7e30-11ea-972a-0242ac160002",
     "history": [
      {
       "current": "861905f2-7e30-11ea-972a-0242ac160002",
       "next": null,
       "previous": "d8ec83b4-7e2e-11ea-972a-0242ac160002"
      },
      {
       "current": "861905f2-7e30-11ea-972a-0242ac160002",
       "next": "07d30c08-8a8b-11ea-972a-0242ac160002",
       "previous": "d8ec83b4-7e2e-11ea-972a-0242ac160002"
      },
      {
       "current": "861905f2-7e30-11ea-972a-0242ac160002",
       "next": "6d770de2-8a8c-11ea-972a-0242ac160002",
       "previous": "d8ec83b4-7e2e-11ea-972a-0242ac160002"
      }
     ],
     "next": "6d770de2-8a8c-11ea-972a-0242ac160002",
     "previous": "592b97e8-7dff-11ea-972a-0242ac160002"
    }
   },
   "source": [
    "### SCRAM認証の設定"
   ]
  },
  {
   "cell_type": "markdown",
   "metadata": {
    "lc_cell_meme": {
     "current": "6d770de2-8a8c-11ea-972a-0242ac160002",
     "history": [
      {
       "current": "6d770de2-8a8c-11ea-972a-0242ac160002",
       "next": "07d30c08-8a8b-11ea-972a-0242ac160002",
       "previous": "861905f2-7e30-11ea-972a-0242ac160002"
      },
      {
       "current": "6d770de2-8a8c-11ea-972a-0242ac160002",
       "next": "a34d4694-8b5d-11ea-972a-0242ac160002",
       "previous": "861905f2-7e30-11ea-972a-0242ac160002"
      },
      {
       "current": "6d770de2-8a8c-11ea-972a-0242ac160002",
       "next": "6d770de2-8a8c-11ea-972a-0242ac160002",
       "previous": "861905f2-7e30-11ea-972a-0242ac160002"
      }
     ],
     "next": "07d30c08-8a8b-11ea-972a-0242ac160002",
     "previous": "861905f2-7e30-11ea-972a-0242ac160002"
    }
   },
   "source": [
    "パスワードをzookeeperに保存する。"
   ]
  },
  {
   "cell_type": "code",
   "execution_count": 32,
   "metadata": {
    "deletable": false,
    "editable": false,
    "lc_cell_meme": {
     "current": "07d30c08-8a8b-11ea-972a-0242ac160002",
     "execution_end_time": "2020-05-12T09:45:31.325488Z",
     "history": [
      {
       "current": "07d30c08-8a8b-11ea-972a-0242ac160002",
       "next": null,
       "previous": "861905f2-7e30-11ea-972a-0242ac160002"
      },
      {
       "current": "07d30c08-8a8b-11ea-972a-0242ac160002",
       "next": null,
       "previous": "6d770de2-8a8c-11ea-972a-0242ac160002"
      },
      {
       "current": "07d30c08-8a8b-11ea-972a-0242ac160002",
       "next": "a34d4694-8b5d-11ea-972a-0242ac160002",
       "previous": "6d770de2-8a8c-11ea-972a-0242ac160002"
      },
      {
       "current": "07d30c08-8a8b-11ea-972a-0242ac160002",
       "next": "d8ec8030-7e2e-11ea-972a-0242ac160002",
       "previous": "592b97e8-7dff-11ea-972a-0242ac160002"
      },
      {
       "current": "07d30c08-8a8b-11ea-972a-0242ac160002",
       "next": "d8ec83b4-7e2e-11ea-972a-0242ac160002",
       "previous": "6d770de2-8a8c-11ea-972a-0242ac160002"
      },
      {
       "current": "07d30c08-8a8b-11ea-972a-0242ac160002",
       "next": "6d770de2-8a8c-11ea-972a-0242ac160002",
       "previous": "6d770de2-8a8c-11ea-972a-0242ac160002"
      }
     ],
     "next": "632c9f3a-9047-11ea-972a-0242ac160002",
     "previous": "6d770de2-8a8c-11ea-972a-0242ac160002"
    },
    "lc_wrapper": {
     "log_history": [
      "/notebooks/notebook/tmp/サーバ構築手順/.log/20200430/20200430-114031-0723.log",
      "/notebooks/notebook/tmp/サーバ構築手順/.log/20200430/20200430-114736-0436.log",
      "/notebooks/notebook/tmp/サーバ構築手順/.log/20200501/20200501-123953-0547.log",
      "/notebooks/notebook/tmp/サーバ構築手順/.log/20200501/20200501-152744-0132.log",
      "/notebooks/notebook/tmp/サーバ構築手順/.log/20200501/20200501-161033-0014.log",
      "/notebooks/notebook/tmp/サーバ構築手順/.log/20200501/20200501-161116-0414.log",
      "/notebooks/notebook/tmp/サーバ構築手順/.log/20200501/20200501-161300-0877.log",
      "/notebooks/notebook/tmp/サーバ構築手順/.log/20200501/20200501-161515-0027.log",
      "/notebooks/notebook/tmp/サーバ構築手順/.log/20200501/20200501-161617-0636.log",
      "/notebooks/notebook/tmp/サーバ構築手順/.log/20200505/20200505-173058-0462.log",
      "/notebooks/notebook/tmp/サーバ構築手順/.log/20200507/20200507-115945-0881.log",
      "/notebooks/notebook/tmp/サーバ構築手順/.log/20200507/20200507-120150-0103.log",
      "/notebooks/notebook/tmp/サーバ構築手順/.log/20200507/20200507-120218-0253.log",
      "/notebooks/notebook/tmp/サーバ構築手順/.log/20200507/20200507-150946-0767.log",
      "/notebooks/notebook/tmp/サーバ構築手順/.log/20200507/20200507-155109-0179.log",
      "/notebooks/notebook/tmp/サーバ構築手順/.log/20200508/20200508-112807-0521.log",
      "/notebooks/notebook/tmp/サーバ構築手順/.log/20200508/20200508-115044-0612.log",
      "/notebooks/notebook/tmp/サーバ構築手順/.log/20200512/20200512-144331-0051.log",
      "/notebooks/notebook/tmp/サーバ構築手順/.log/20200512/20200512-162249-0015.log",
      "/notebooks/notebook/tmp/サーバ構築手順/.log/20200512/20200512-181934-0180.log",
      "/notebooks/notebook/tmp/サーバ構築手順/.log/20200512/20200512-184507-0417.log"
     ]
    },
    "run_through_control": {
     "frozen": true
    }
   },
   "outputs": [
    {
     "name": "stdout",
     "output_type": "stream",
     "text": [
      "server1.example.jp | CHANGED | rc=0 >>\n",
      "Completed Updating config for entity: user-principal 'admin'.\n",
      "server1.example.jp | CHANGED | rc=0 >>\n",
      "Completed Updating config for entity: user-principal 'user01'.\n",
      "server1.example.jp | CHANGED | rc=0 >>\n",
      "Completed Updating config for entity: user-principal 'user02'.\n",
      "server1.example.jp | CHANGED | rc=0 >>\n",
      "Completed Updating config for entity: user-principal 'user03'.\n",
      "server1.example.jp | CHANGED | rc=0 >>\n",
      "Completed Updating config for entity: user-principal 'CN=client0,C=JP'.\n",
      "server1.example.jp | CHANGED | rc=0 >>\n",
      "Configs for user-principal 'admin' are SCRAM-SHA-256=salt=bW5hOGN4MWhqdDFnb2x6M3JzZjZyNmkzdA==,stored_key=ABCz61QlROA189AQ08lwSJfccwrPHGfIsGbjJo0ytBQ=,server_key=VYAOL6tjsvIi/dBl9eLMFFo6eKRiuQPSYGbCaEFrj4w=,iterations=8192\n",
      "Configs for user-principal 'user03' are SCRAM-SHA-256=salt=aWp1a2tmb3FsMzBxbjMxZ2lyOTV6dWltaw==,stored_key=GXmoPMFH43u6FrFAXGbE8vno8LutImQsdob86BptD/E=,server_key=/dtVne4q1dDvJgeDXryufJqaPCwxdyj8dnaDrWxKpME=,iterations=8192\n",
      "Configs for user-principal 'user02' are SCRAM-SHA-256=salt=MWRhZnh3bHllb2E1ZGhhNGpneGszbGY1Zno=,stored_key=SfI9vcJYIkGvVdKuMyyElLZSGOivJIZDyC8jqVvDxr0=,server_key=mcEbH92Q5PVzEzM0gk3HAhtRwMedaGygc+Zqm4zXSLY=,iterations=8192\n",
      "Configs for user-principal 'CN=client0,C=JP' are SCRAM-SHA-256=salt=MWV4b2o4MnFseWxqeHJxeWN0dWllc3Z1b2s=,stored_key=MfKFvHiIHr21OZN7xCqvu0tJxkCgFaVdg2eZ8jRNibc=,server_key=EtSsd7UknoF+DgjMOb894IzfN3YoawbNSomSyGRwVhU=,iterations=8192\n",
      "Configs for user-principal 'user01' are SCRAM-SHA-256=salt=bmZ0Y25xeHFuNTlqcGhtbWYzOTF3cGE1OA==,stored_key=DAqDLQTHYohZ8wamY0kXww8cvUfM4LqTwG01K/viiHs=,server_key=PiY3omsrnG6xJRrvpLPGEvGiYUp+74Pdgpqj8Uo4CRE=,iterations=8192\n"
     ]
    }
   ],
   "source": [
    "if [ \"x$KAFKA_AUTH\" = \"xSASL_SSL_SCRAM\" ]; then\n",
    "    ZK1=\"$(list_zookeeper_hosts | head -1)\"\n",
    "    KAFKA1=\"$(list_kafka_hosts | head -1)\"\n",
    "    for USER in admin ${USER_LIST}; do\n",
    "        eval PASSWORD=\\$PASSWORD_${USER}\n",
    "        ansible kafka --limit=\"${KAFKA1}\" -m command -a \"docker exec sinetstream-kafka \\\n",
    "            /kafka/bin/kafka-configs.sh --zookeeper ${ZK1}:${ZK_CPORT} --alter \\\n",
    "                --entity-type users \\\n",
    "                --entity-name ${USER} \\\n",
    "                --add-config 'SCRAM-SHA-256=[iterations=8192,password=${PASSWORD}]'\"\n",
    "    done &&\n",
    "    ansible kafka -m command -a \"docker exec sinetstream-kafka \\\n",
    "            /kafka/bin/kafka-configs.sh --zookeeper ${ZK1}:${ZK_CPORT} --describe --entity-type users\"\n",
    "fi"
   ]
  },
  {
   "cell_type": "markdown",
   "metadata": {
    "lc_cell_meme": {
     "current": "632c9f3a-9047-11ea-972a-0242ac160002",
     "history": [
      {
       "current": "632c9f3a-9047-11ea-972a-0242ac160002",
       "next": "632ca20a-9047-11ea-972a-0242ac160002",
       "previous": "07d30c08-8a8b-11ea-972a-0242ac160002"
      }
     ],
     "next": "2f55dc0e-941f-11ea-972a-0242ac160002",
     "previous": "07d30c08-8a8b-11ea-972a-0242ac160002"
    }
   },
   "source": [
    "### 認可(ACL)の設定"
   ]
  },
  {
   "cell_type": "markdown",
   "metadata": {
    "lc_cell_meme": {
     "current": "2f55dc0e-941f-11ea-972a-0242ac160002",
     "next": "2f55de8e-941f-11ea-972a-0242ac160002",
     "previous": "632c9f3a-9047-11ea-972a-0242ac160002"
    }
   },
   "source": [
    "ブローカがつかっているサーバ証明書のCommon Nameを設定する。ブローカ間通信の認可で必要となる。"
   ]
  },
  {
   "cell_type": "code",
   "execution_count": 33,
   "metadata": {
    "deletable": false,
    "editable": false,
    "lc_cell_meme": {
     "current": "2f55de8e-941f-11ea-972a-0242ac160002",
     "execution_end_time": "2020-05-12T09:45:31.438360Z",
     "next": "632ca20a-9047-11ea-972a-0242ac160002",
     "previous": "2f55dc0e-941f-11ea-972a-0242ac160002"
    },
    "lc_wrapper": {
     "log_history": [
      "/notebooks/notebook/tmp/サーバ構築手順/.log/20200512/20200512-160832-0033.log",
      "/notebooks/notebook/tmp/サーバ構築手順/.log/20200512/20200512-162309-0386.log",
      "/notebooks/notebook/tmp/サーバ構築手順/.log/20200512/20200512-163705-0915.log",
      "/notebooks/notebook/tmp/サーバ構築手順/.log/20200512/20200512-181934-0958.log",
      "/notebooks/notebook/tmp/サーバ構築手順/.log/20200512/20200512-184531-0332.log"
     ]
    },
    "run_through_control": {
     "frozen": true
    }
   },
   "outputs": [],
   "source": [
    "ADMIN_USER=\"CN=server1.example.jp,C=JP\""
   ]
  },
  {
   "cell_type": "code",
   "execution_count": 34,
   "metadata": {
    "deletable": false,
    "editable": false,
    "lc_cell_meme": {
     "current": "632ca20a-9047-11ea-972a-0242ac160002",
     "execution_end_time": "2020-05-12T09:46:02.417573Z",
     "history": [
      {
       "current": "632ca20a-9047-11ea-972a-0242ac160002",
       "next": "6d770de2-8a8c-11ea-972a-0242ac160002",
       "previous": "632c9f3a-9047-11ea-972a-0242ac160002"
      },
      {
       "current": "632ca20a-9047-11ea-972a-0242ac160002",
       "next": "6d770de2-8a8c-11ea-972a-0242ac160002",
       "previous": "2f55de8e-941f-11ea-972a-0242ac160002"
      }
     ],
     "next": "632ca20a-9047-11ea-972a-0242ac160002",
     "previous": "2f55de8e-941f-11ea-972a-0242ac160002"
    },
    "lc_wrapper": {
     "log_history": [
      "/notebooks/notebook/tmp/サーバ構築手順/.log/20200507/20200507-190605-0668.log",
      "/notebooks/notebook/tmp/サーバ構築手順/.log/20200508/20200508-110902-0537.log",
      "/notebooks/notebook/tmp/サーバ構築手順/.log/20200508/20200508-112827-0122.log",
      "/notebooks/notebook/tmp/サーバ構築手順/.log/20200508/20200508-115104-0620.log",
      "/notebooks/notebook/tmp/サーバ構築手順/.log/20200512/20200512-144351-0430.log",
      "/notebooks/notebook/tmp/サーバ構築手順/.log/20200512/20200512-160837-0486.log",
      "/notebooks/notebook/tmp/サーバ構築手順/.log/20200512/20200512-160959-0502.log",
      "/notebooks/notebook/tmp/サーバ構築手順/.log/20200512/20200512-162309-0499.log",
      "/notebooks/notebook/tmp/サーバ構築手順/.log/20200512/20200512-163708-0067.log",
      "/notebooks/notebook/tmp/サーバ構築手順/.log/20200512/20200512-181935-0070.log",
      "/notebooks/notebook/tmp/サーバ構築手順/.log/20200512/20200512-183221-0905.log",
      "/notebooks/notebook/tmp/サーバ構築手順/.log/20200512/20200512-183407-0850.log",
      "/notebooks/notebook/tmp/サーバ構築手順/.log/20200512/20200512-184531-0443.log"
     ]
    },
    "run_through_control": {
     "frozen": true
    }
   },
   "outputs": [
    {
     "name": "stdout",
     "output_type": "stream",
     "text": [
      "server1.example.jp | CHANGED | rc=0 >>\n",
      "Adding ACLs for resource `ResourcePattern(resourceType=CLUSTER, name=kafka-cluster, patternType=LITERAL)`: \n",
      " \t(principal=User:CN=server1.example.jp,C=JP, host=*, operation=ALL, permissionType=ALLOW) \n",
      "\n",
      "Current ACLs for resource `Cluster:LITERAL:kafka-cluster`: \n",
      " \tUser:CN=server1.example.jp,C=JP has Allow permission for operations: All from hosts: * \n",
      "server1.example.jp | CHANGED | rc=0 >>\n",
      "Adding ACLs for resource `ResourcePattern(resourceType=TOPIC, name=*, patternType=LITERAL)`: \n",
      " \t(principal=User:user01, host=*, operation=DESCRIBE, permissionType=ALLOW)\n",
      "\t(principal=User:user01, host=*, operation=WRITE, permissionType=ALLOW)\n",
      "\t(principal=User:user01, host=*, operation=CREATE, permissionType=ALLOW) \n",
      "\n",
      "Current ACLs for resource `Topic:LITERAL:*`: \n",
      " \tUser:user01 has Allow permission for operations: Describe from hosts: *\n",
      "\tUser:user01 has Allow permission for operations: Write from hosts: *\n",
      "\tUser:user01 has Allow permission for operations: Create from hosts: * \n",
      "server1.example.jp | CHANGED | rc=0 >>\n",
      "Adding ACLs for resource `ResourcePattern(resourceType=TOPIC, name=*, patternType=LITERAL)`: \n",
      " \t(principal=User:user01, host=*, operation=READ, permissionType=ALLOW)\n",
      "\t(principal=User:user01, host=*, operation=DESCRIBE, permissionType=ALLOW) \n",
      "\n",
      "Adding ACLs for resource `ResourcePattern(resourceType=GROUP, name=*, patternType=LITERAL)`: \n",
      " \t(principal=User:user01, host=*, operation=READ, permissionType=ALLOW) \n",
      "\n",
      "Current ACLs for resource `Topic:LITERAL:*`: \n",
      " \tUser:user01 has Allow permission for operations: Describe from hosts: *\n",
      "\tUser:user01 has Allow permission for operations: Write from hosts: *\n",
      "\tUser:user01 has Allow permission for operations: Create from hosts: *\n",
      "\tUser:user01 has Allow permission for operations: Read from hosts: * \n",
      "\n",
      "Current ACLs for resource `Group:LITERAL:*`: \n",
      " \tUser:user01 has Allow permission for operations: Read from hosts: * \n",
      "server1.example.jp | CHANGED | rc=0 >>\n",
      "Adding ACLs for resource `ResourcePattern(resourceType=TOPIC, name=*, patternType=LITERAL)`: \n",
      " \t(principal=User:user02, host=*, operation=CREATE, permissionType=ALLOW)\n",
      "\t(principal=User:user02, host=*, operation=DESCRIBE, permissionType=ALLOW)\n",
      "\t(principal=User:user02, host=*, operation=WRITE, permissionType=ALLOW) \n",
      "\n",
      "Current ACLs for resource `Topic:LITERAL:*`: \n",
      " \tUser:user01 has Allow permission for operations: Write from hosts: *\n",
      "\tUser:user01 has Allow permission for operations: Create from hosts: *\n",
      "\tUser:user02 has Allow permission for operations: Write from hosts: *\n",
      "\tUser:user01 has Allow permission for operations: Describe from hosts: *\n",
      "\tUser:user01 has Allow permission for operations: Read from hosts: *\n",
      "\tUser:user02 has Allow permission for operations: Describe from hosts: *\n",
      "\tUser:user02 has Allow permission for operations: Create from hosts: * \n",
      "server1.example.jp | CHANGED | rc=0 >>\n",
      "Adding ACLs for resource `ResourcePattern(resourceType=TOPIC, name=*, patternType=LITERAL)`: \n",
      " \t(principal=User:user03, host=*, operation=DESCRIBE, permissionType=ALLOW)\n",
      "\t(principal=User:user03, host=*, operation=READ, permissionType=ALLOW) \n",
      "\n",
      "Adding ACLs for resource `ResourcePattern(resourceType=GROUP, name=*, patternType=LITERAL)`: \n",
      " \t(principal=User:user03, host=*, operation=READ, permissionType=ALLOW) \n",
      "\n",
      "Current ACLs for resource `Topic:LITERAL:*`: \n",
      " \tUser:user01 has Allow permission for operations: Write from hosts: *\n",
      "\tUser:user01 has Allow permission for operations: Create from hosts: *\n",
      "\tUser:user03 has Allow permission for operations: Read from hosts: *\n",
      "\tUser:user02 has Allow permission for operations: Write from hosts: *\n",
      "\tUser:user01 has Allow permission for operations: Describe from hosts: *\n",
      "\tUser:user01 has Allow permission for operations: Read from hosts: *\n",
      "\tUser:user02 has Allow permission for operations: Describe from hosts: *\n",
      "\tUser:user02 has Allow permission for operations: Create from hosts: *\n",
      "\tUser:user03 has Allow permission for operations: Describe from hosts: * \n",
      "\n",
      "Current ACLs for resource `Group:LITERAL:*`: \n",
      " \tUser:user03 has Allow permission for operations: Read from hosts: *\n",
      "\tUser:user01 has Allow permission for operations: Read from hosts: * \n",
      "server1.example.jp | CHANGED | rc=0 >>\n",
      "Adding ACLs for resource `ResourcePattern(resourceType=TOPIC, name=*, patternType=LITERAL)`: \n",
      " \t(principal=User:CN=client0,C=JP, host=*, operation=DESCRIBE, permissionType=ALLOW)\n",
      "\t(principal=User:CN=client0,C=JP, host=*, operation=WRITE, permissionType=ALLOW)\n",
      "\t(principal=User:CN=client0,C=JP, host=*, operation=CREATE, permissionType=ALLOW) \n",
      "\n",
      "Current ACLs for resource `Topic:LITERAL:*`: \n",
      " \tUser:user01 has Allow permission for operations: Write from hosts: *\n",
      "\tUser:user01 has Allow permission for operations: Create from hosts: *\n",
      "\tUser:CN=client0,C=JP has Allow permission for operations: Describe from hosts: *\n",
      "\tUser:CN=client0,C=JP has Allow permission for operations: Create from hosts: *\n",
      "\tUser:CN=client0,C=JP has Allow permission for operations: Write from hosts: *\n",
      "\tUser:user03 has Allow permission for operations: Read from hosts: *\n",
      "\tUser:user02 has Allow permission for operations: Write from hosts: *\n",
      "\tUser:user01 has Allow permission for operations: Describe from hosts: *\n",
      "\tUser:user01 has Allow permission for operations: Read from hosts: *\n",
      "\tUser:user02 has Allow permission for operations: Describe from hosts: *\n",
      "\tUser:user02 has Allow permission for operations: Create from hosts: *\n",
      "\tUser:user03 has Allow permission for operations: Describe from hosts: * \n",
      "server1.example.jp | CHANGED | rc=0 >>\n",
      "Adding ACLs for resource `ResourcePattern(resourceType=TOPIC, name=*, patternType=LITERAL)`: \n",
      " \t(principal=User:CN=client0,C=JP, host=*, operation=READ, permissionType=ALLOW)\n",
      "\t(principal=User:CN=client0,C=JP, host=*, operation=DESCRIBE, permissionType=ALLOW) \n",
      "\n",
      "Adding ACLs for resource `ResourcePattern(resourceType=GROUP, name=*, patternType=LITERAL)`: \n",
      " \t(principal=User:CN=client0,C=JP, host=*, operation=READ, permissionType=ALLOW) \n",
      "\n",
      "Current ACLs for resource `Topic:LITERAL:*`: \n",
      " \tUser:CN=client0,C=JP has Allow permission for operations: Read from hosts: *\n",
      "\tUser:user01 has Allow permission for operations: Write from hosts: *\n",
      "\tUser:user01 has Allow permission for operations: Create from hosts: *\n",
      "\tUser:CN=client0,C=JP has Allow permission for operations: Describe from hosts: *\n",
      "\tUser:CN=client0,C=JP has Allow permission for operations: Create from hosts: *\n",
      "\tUser:CN=client0,C=JP has Allow permission for operations: Write from hosts: *\n",
      "\tUser:user03 has Allow permission for operations: Read from hosts: *\n",
      "\tUser:user02 has Allow permission for operations: Write from hosts: *\n",
      "\tUser:user01 has Allow permission for operations: Describe from hosts: *\n",
      "\tUser:user01 has Allow permission for operations: Read from hosts: *\n",
      "\tUser:user02 has Allow permission for operations: Describe from hosts: *\n",
      "\tUser:user02 has Allow permission for operations: Create from hosts: *\n",
      "\tUser:user03 has Allow permission for operations: Describe from hosts: * \n",
      "\n",
      "Current ACLs for resource `Group:LITERAL:*`: \n",
      " \tUser:user03 has Allow permission for operations: Read from hosts: *\n",
      "\tUser:CN=client0,C=JP has Allow permission for operations: Read from hosts: *\n",
      "\tUser:user01 has Allow permission for operations: Read from hosts: * \n"
     ]
    }
   ],
   "source": [
    "ZK1=\"$(list_zookeeper_hosts | head -1)\"\n",
    "KAFKA1=\"$(list_kafka_hosts | head -1)\"\n",
    "\n",
    "ansible kafka --limit=\"${KAFKA1}\" -m command -a \"docker exec sinetstream-kafka \\\n",
    "    /kafka/bin/kafka-acls.sh --authorizer-properties zookeeper.connect=${ZK1}:${ZK_CPORT} \\\n",
    "    --add --allow-principal User:${ADMIN_USER} --cluster --operation All\"  &&\n",
    "\n",
    "for USER in ${USER_LIST}; do\n",
    "    USER1=$(echo \"$USER\" | sed 's/[^[:alnum:]]/_/g')  # サニタイズ\n",
    "    eval ACL=\\$ACL_${USER1}\n",
    "    case \"${ACL}\" in\n",
    "    *write*)\n",
    "        ansible kafka --limit=\"${KAFKA1}\" -m command -a \"docker exec sinetstream-kafka \\\n",
    "            /kafka/bin/kafka-acls.sh --authorizer-properties zookeeper.connect=${ZK1}:${ZK_CPORT} \\\n",
    "            --add --allow-principal User:${USER} \\\n",
    "            --producer --topic '*'\"\n",
    "            ;;\n",
    "    esac\n",
    "    case \"${ACL}\" in\n",
    "    *read*)\n",
    "        ansible kafka --limit=\"${KAFKA1}\" -m command -a \"docker exec sinetstream-kafka \\\n",
    "            /kafka/bin/kafka-acls.sh --authorizer-properties zookeeper.connect=${ZK1}:${ZK_CPORT} \\\n",
    "            --add --allow-principal User:${USER} \\\n",
    "            --consumer --topic '*' --group '*'\"\n",
    "        ;;\n",
    "    esac\n",
    "done "
   ]
  },
  {
   "cell_type": "code",
   "execution_count": 35,
   "metadata": {
    "deletable": false,
    "editable": false,
    "lc_cell_meme": {
     "current": "632ca20a-9047-11ea-972a-0242ac160002",
     "execution_end_time": "2020-05-12T09:46:06.525206Z",
     "history": [
      {
       "current": "632ca20a-9047-11ea-972a-0242ac160002",
       "next": "6d770de2-8a8c-11ea-972a-0242ac160002",
       "previous": "632c9f3a-9047-11ea-972a-0242ac160002"
      },
      {
       "current": "632ca20a-9047-11ea-972a-0242ac160002",
       "next": "6d770de2-8a8c-11ea-972a-0242ac160002",
       "previous": "2f55de8e-941f-11ea-972a-0242ac160002"
      }
     ],
     "next": "6d770de2-8a8c-11ea-972a-0242ac160002",
     "previous": "632ca20a-9047-11ea-972a-0242ac160002"
    },
    "lc_wrapper": {
     "log_history": [
      "/notebooks/notebook/tmp/サーバ構築手順/.log/20200507/20200507-190605-0668.log",
      "/notebooks/notebook/tmp/サーバ構築手順/.log/20200508/20200508-110902-0537.log",
      "/notebooks/notebook/tmp/サーバ構築手順/.log/20200508/20200508-112827-0122.log",
      "/notebooks/notebook/tmp/サーバ構築手順/.log/20200508/20200508-115104-0620.log",
      "/notebooks/notebook/tmp/サーバ構築手順/.log/20200512/20200512-144351-0430.log",
      "/notebooks/notebook/tmp/サーバ構築手順/.log/20200512/20200512-160837-0486.log",
      "/notebooks/notebook/tmp/サーバ構築手順/.log/20200512/20200512-161027-0543.log",
      "/notebooks/notebook/tmp/サーバ構築手順/.log/20200512/20200512-162331-0827.log",
      "/notebooks/notebook/tmp/サーバ構築手順/.log/20200512/20200512-163731-0376.log",
      "/notebooks/notebook/tmp/サーバ構築手順/.log/20200512/20200512-181957-0428.log",
      "/notebooks/notebook/tmp/サーバ構築手順/.log/20200512/20200512-183311-0306.log",
      "/notebooks/notebook/tmp/サーバ構築手順/.log/20200512/20200512-183443-0952.log",
      "/notebooks/notebook/tmp/サーバ構築手順/.log/20200512/20200512-184602-0426.log"
     ]
    },
    "run_through_control": {
     "frozen": true
    }
   },
   "outputs": [
    {
     "name": "stdout",
     "output_type": "stream",
     "text": [
      "server1.example.jp | CHANGED | rc=0 >>\n",
      "Current ACLs for resource `Group:LITERAL:*`: \n",
      " \tUser:user03 has Allow permission for operations: Read from hosts: *\n",
      "\tUser:CN=client0,C=JP has Allow permission for operations: Read from hosts: *\n",
      "\tUser:user01 has Allow permission for operations: Read from hosts: * \n",
      "\n",
      "Current ACLs for resource `Topic:LITERAL:*`: \n",
      " \tUser:CN=client0,C=JP has Allow permission for operations: Read from hosts: *\n",
      "\tUser:user01 has Allow permission for operations: Write from hosts: *\n",
      "\tUser:user01 has Allow permission for operations: Create from hosts: *\n",
      "\tUser:CN=client0,C=JP has Allow permission for operations: Describe from hosts: *\n",
      "\tUser:CN=client0,C=JP has Allow permission for operations: Create from hosts: *\n",
      "\tUser:CN=client0,C=JP has Allow permission for operations: Write from hosts: *\n",
      "\tUser:user03 has Allow permission for operations: Read from hosts: *\n",
      "\tUser:user02 has Allow permission for operations: Write from hosts: *\n",
      "\tUser:user01 has Allow permission for operations: Describe from hosts: *\n",
      "\tUser:user01 has Allow permission for operations: Read from hosts: *\n",
      "\tUser:user02 has Allow permission for operations: Describe from hosts: *\n",
      "\tUser:user02 has Allow permission for operations: Create from hosts: *\n",
      "\tUser:user03 has Allow permission for operations: Describe from hosts: * \n",
      "\n",
      "Current ACLs for resource `Cluster:LITERAL:kafka-cluster`: \n",
      " \tUser:CN=server1.example.jp,C=JP has Allow permission for operations: All from hosts: * \n"
     ]
    }
   ],
   "source": [
    "ansible kafka --limit=\"${KAFKA1}\" -m command -a \"docker exec sinetstream-kafka \\\n",
    "        /kafka/bin/kafka-acls.sh --authorizer-properties zookeeper.connect=${ZK1}:${ZK_CPORT} \\\n",
    "        --list\""
   ]
  },
  {
   "cell_type": "markdown",
   "metadata": {
    "lc_cell_meme": {
     "current": "6d770de2-8a8c-11ea-972a-0242ac160002",
     "history": [
      {
       "current": "6d770de2-8a8c-11ea-972a-0242ac160002",
       "next": "07d30c08-8a8b-11ea-972a-0242ac160002",
       "previous": "861905f2-7e30-11ea-972a-0242ac160002"
      },
      {
       "current": "6d770de2-8a8c-11ea-972a-0242ac160002",
       "next": "a34d4694-8b5d-11ea-972a-0242ac160002",
       "previous": "861905f2-7e30-11ea-972a-0242ac160002"
      },
      {
       "current": "6d770de2-8a8c-11ea-972a-0242ac160002",
       "next": "07d30c08-8a8b-11ea-972a-0242ac160002",
       "previous": "6d770de2-8a8c-11ea-972a-0242ac160002"
      },
      {
       "current": "6d770de2-8a8c-11ea-972a-0242ac160002",
       "next": "d8ec83b4-7e2e-11ea-972a-0242ac160002",
       "previous": "07d30c08-8a8b-11ea-972a-0242ac160002"
      }
     ],
     "next": "d8ec83b4-7e2e-11ea-972a-0242ac160002",
     "previous": "632ca20a-9047-11ea-972a-0242ac160002"
    }
   },
   "source": [
    "### Kafkaブローカー起動"
   ]
  },
  {
   "cell_type": "code",
   "execution_count": 36,
   "metadata": {
    "deletable": false,
    "editable": false,
    "lc_cell_meme": {
     "current": "d8ec83b4-7e2e-11ea-972a-0242ac160002",
     "execution_end_time": "2020-05-12T09:46:08.252048Z",
     "history": [
      {
       "current": "d8ec83b4-7e2e-11ea-972a-0242ac160002",
       "next": null,
       "previous": "d8ec8030-7e2e-11ea-972a-0242ac160002"
      },
      {
       "current": "d8ec83b4-7e2e-11ea-972a-0242ac160002",
       "next": "861905f2-7e30-11ea-972a-0242ac160002",
       "previous": "d8ec8030-7e2e-11ea-972a-0242ac160002"
      },
      {
       "current": "d8ec83b4-7e2e-11ea-972a-0242ac160002",
       "next": null,
       "previous": "07d30c08-8a8b-11ea-972a-0242ac160002"
      }
     ],
     "next": null,
     "previous": "6d770de2-8a8c-11ea-972a-0242ac160002"
    },
    "lc_wrapper": {
     "log_history": [
      "/notebooks/notebook/tmp/サーバ構築手順/.log/20200414/20200414-181111-0997.log",
      "/notebooks/notebook/tmp/サーバ構築手順/.log/20200414/20200414-181425-0347.log",
      "/notebooks/notebook/tmp/サーバ構築手順/.log/20200428/20200428-145332-0022.log",
      "/notebooks/notebook/tmp/サーバ構築手順/.log/20200501/20200501-123943-0206.log",
      "/notebooks/notebook/tmp/サーバ構築手順/.log/20200501/20200501-152735-0928.log",
      "/notebooks/notebook/tmp/サーバ構築手順/.log/20200505/20200505-173056-0805.log",
      "/notebooks/notebook/tmp/サーバ構築手順/.log/20200507/20200507-150945-0052.log",
      "/notebooks/notebook/tmp/サーバ構築手順/.log/20200508/20200508-112849-0219.log",
      "/notebooks/notebook/tmp/サーバ構築手順/.log/20200508/20200508-115126-0444.log",
      "/notebooks/notebook/tmp/サーバ構築手順/.log/20200512/20200512-144413-0537.log",
      "/notebooks/notebook/tmp/サーバ構築手順/.log/20200512/20200512-162335-0940.log",
      "/notebooks/notebook/tmp/サーバ構築手順/.log/20200512/20200512-182001-0666.log",
      "/notebooks/notebook/tmp/サーバ構築手順/.log/20200512/20200512-184606-0532.log"
     ]
    },
    "run_through_control": {
     "frozen": true
    }
   },
   "outputs": [
    {
     "name": "stdout",
     "output_type": "stream",
     "text": [
      "server1.example.jp | CHANGED | rc=0 >>\n",
      "\n"
     ]
    }
   ],
   "source": [
    "ansible kafka -m command -a \"docker exec --detach sinetstream-kafka \\\n",
    "   /kafka/bin/kafka-server-start.sh /sinetstream-kafka/server.properties\""
   ]
  }
 ],
 "metadata": {
  "kernelspec": {
   "display_name": "Bash",
   "language": "bash",
   "name": "bash"
  },
  "language_info": {
   "name": "bash"
  },
  "lc_notebook_meme": {
   "current": "a8c17e70-7009-11ea-804d-0242ac160002",
   "lc_server_signature": {
    "current": {
     "notebook_dir": "/notebooks/notebook",
     "notebook_path": "/tmp/サーバ構築手順",
     "server_url": "https://vcc3056.vcp-handson.org/jupyter/",
     "signature_id": "b59f511c-eef9-11e9-9194-0242ac130002"
    },
    "history": []
   }
  },
  "toc": {
   "base_numbering": 1,
   "nav_menu": {},
   "number_sections": true,
   "sideBar": true,
   "skip_h1_title": false,
   "title_cell": "Table of Contents",
   "title_sidebar": "Contents",
   "toc_cell": false,
   "toc_position": {},
   "toc_section_display": true,
   "toc_window_display": true
  }
 },
 "nbformat": 4,
 "nbformat_minor": 2
}
