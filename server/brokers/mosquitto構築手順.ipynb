{
 "cells": [
  {
   "cell_type": "markdown",
   "metadata": {
    "lc_cell_meme": {
     "current": "4ecfcff2-6299-11ea-804d-0242ac160002",
     "next": "4ecfd240-6299-11ea-804d-0242ac160002",
     "previous": null
    }
   },
   "source": [
    "# mosquitto(MQTT broker)の構築手順"
   ]
  },
  {
   "cell_type": "markdown",
   "metadata": {
    "lc_cell_meme": {
     "current": "4ecfd240-6299-11ea-804d-0242ac160002",
     "next": "4e068458-5790-11ea-804d-0242ac160002",
     "previous": "4ecfcff2-6299-11ea-804d-0242ac160002"
    }
   },
   "source": [
    "`server` 上でdocker composeをつかってdockerコンテナでCentOS 7を立ち上げ、その中でmosquitto(MQTT broker)を起動する。\n",
    "\n",
    "moqsuittoを実行するノード(`server`)と実行ユーザ(`user`)を決めて変数に設定する。"
   ]
  },
  {
   "cell_type": "code",
   "execution_count": 1,
   "metadata": {
    "deletable": false,
    "editable": false,
    "lc_cell_meme": {
     "current": "4e068458-5790-11ea-804d-0242ac160002",
     "execution_end_time": "2020-03-27T08:34:46.197536Z",
     "history": [
      {
       "current": "4e068458-5790-11ea-804d-0242ac160002",
       "next": "4e06852a-5790-11ea-804d-0242ac160002",
       "previous": null
      },
      {
       "current": "4e068458-5790-11ea-804d-0242ac160002",
       "next": "4e06852a-5790-11ea-804d-0242ac160002",
       "previous": "e1d9859c-6292-11ea-804d-0242ac160002"
      },
      {
       "current": "4e068458-5790-11ea-804d-0242ac160002",
       "next": "ffd70c76-6293-11ea-804d-0242ac160002",
       "previous": "e1d9859c-6292-11ea-804d-0242ac160002"
      },
      {
       "current": "4e068458-5790-11ea-804d-0242ac160002",
       "next": "5a2679d4-6297-11ea-804d-0242ac160002",
       "previous": null
      },
      {
       "current": "4e068458-5790-11ea-804d-0242ac160002",
       "next": "4e0685c0-5790-11ea-804d-0242ac160002",
       "previous": null
      },
      {
       "current": "4e068458-5790-11ea-804d-0242ac160002",
       "next": "4e0685c0-5790-11ea-804d-0242ac160002",
       "previous": "4ecfd240-6299-11ea-804d-0242ac160002"
      },
      {
       "current": "4e068458-5790-11ea-804d-0242ac160002",
       "next": "dddc6e08-6299-11ea-804d-0242ac160002",
       "previous": "4ecfd240-6299-11ea-804d-0242ac160002"
      }
     ],
     "next": "7f564694-62b0-11ea-804d-0242ac160002",
     "previous": "4ecfd240-6299-11ea-804d-0242ac160002"
    },
    "lc_wrapper": {
     "log_history": [
      "/notebooks/notebook/tmp/サーバ構築手順/.log/20200225/20200225-143144-0208.log",
      "/notebooks/notebook/tmp/サーバ構築手順/.log/20200225/20200225-143216-0671.log",
      "/notebooks/notebook/tmp/サーバ構築手順/.log/20200225/20200225-143307-0725.log",
      "/notebooks/notebook/tmp/サーバ構築手順/.log/20200225/20200225-144252-0707.log",
      "/notebooks/notebook/tmp/サーバ構築手順/.log/20200310/20200310-145529-0555.log",
      "/notebooks/notebook/tmp/サーバ構築手順/.log/20200310/20200310-145703-0228.log",
      "/notebooks/notebook/tmp/サーバ構築手順/.log/20200310/20200310-145945-0346.log",
      "/notebooks/notebook/tmp/サーバ構築手順/.log/20200310/20200310-150142-0703.log",
      "/notebooks/notebook/tmp/サーバ構築手順/.log/20200310/20200310-151947-0521.log",
      "/notebooks/notebook/tmp/サーバ構築手順/.log/20200311/20200311-160329-0109.log",
      "/notebooks/notebook/tmp/サーバ構築手順/.log/20200327/20200327-170405-0635.log",
      "/notebooks/notebook/tmp/サーバ構築手順/.log/20200327/20200327-173446-0036.log"
     ]
    },
    "run_through_control": {
     "frozen": true,
     "read_only": false
    }
   },
   "outputs": [],
   "source": [
    "server=server1.example.jp\n",
    "user=piyo"
   ]
  },
  {
   "cell_type": "markdown",
   "metadata": {
    "lc_cell_meme": {
     "current": "7f564694-62b0-11ea-804d-0242ac160002",
     "next": "dddc6e08-6299-11ea-804d-0242ac160002",
     "previous": "4e068458-5790-11ea-804d-0242ac160002"
    }
   },
   "source": [
    "## 下準備"
   ]
  },
  {
   "cell_type": "markdown",
   "metadata": {
    "lc_cell_meme": {
     "current": "dddc6e08-6299-11ea-804d-0242ac160002",
     "history": [
      {
       "current": "dddc6e08-6299-11ea-804d-0242ac160002",
       "next": "4e0685c0-5790-11ea-804d-0242ac160002",
       "previous": "4e068458-5790-11ea-804d-0242ac160002"
      }
     ],
     "next": "4e0685c0-5790-11ea-804d-0242ac160002",
     "previous": "7f564694-62b0-11ea-804d-0242ac160002"
    }
   },
   "source": [
    "`server`でdockerとdocker-composeが動くのを確認する。"
   ]
  },
  {
   "cell_type": "code",
   "execution_count": 2,
   "metadata": {
    "deletable": false,
    "editable": false,
    "lc_cell_meme": {
     "current": "4e0685c0-5790-11ea-804d-0242ac160002",
     "execution_end_time": "2020-03-27T08:34:50.484038Z",
     "history": [
      {
       "current": "4e0685c0-5790-11ea-804d-0242ac160002",
       "next": null,
       "previous": "4e06852a-5790-11ea-804d-0242ac160002"
      },
      {
       "current": "4e0685c0-5790-11ea-804d-0242ac160002",
       "next": "959cb9d6-5790-11ea-804d-0242ac160002",
       "previous": "4e06852a-5790-11ea-804d-0242ac160002"
      },
      {
       "current": "4e0685c0-5790-11ea-804d-0242ac160002",
       "next": "959cb9d6-5790-11ea-804d-0242ac160002",
       "previous": "5a2679d4-6297-11ea-804d-0242ac160002"
      },
      {
       "current": "4e0685c0-5790-11ea-804d-0242ac160002",
       "next": "959cb9d6-5790-11ea-804d-0242ac160002",
       "previous": "4e068458-5790-11ea-804d-0242ac160002"
      }
     ],
     "next": "959cb9d6-5790-11ea-804d-0242ac160002",
     "previous": "dddc6e08-6299-11ea-804d-0242ac160002"
    },
    "lc_wrapper": {
     "log_history": [
      "/notebooks/notebook/tmp/サーバ構築手順/.log/20200225/20200225-143348-0893.log",
      "/notebooks/notebook/tmp/サーバ構築手順/.log/20200225/20200225-144258-0208.log",
      "/notebooks/notebook/tmp/サーバ構築手順/.log/20200225/20200225-154809-0490.log",
      "/notebooks/notebook/tmp/サーバ構築手順/.log/20200310/20200310-152031-0978.log",
      "/notebooks/notebook/tmp/サーバ構築手順/.log/20200311/20200311-160331-0519.log",
      "/notebooks/notebook/tmp/サーバ構築手順/.log/20200327/20200327-170419-0823.log",
      "/notebooks/notebook/tmp/サーバ構築手順/.log/20200327/20200327-173449-0987.log"
     ]
    },
    "run_through_control": {
     "frozen": true,
     "read_only": false
    }
   },
   "outputs": [
    {
     "name": "stdout",
     "output_type": "stream",
     "text": [
      "Client:\n",
      " Debug Mode: false\n",
      "\n",
      "Server:\n",
      " Containers: 7\n",
      "  Running: 3\n",
      "  Paused: 0\n",
      "  Stopped: 4\n",
      " Images: 27\n",
      " Server Version: 19.03.5\n",
      " Storage Driver: overlay2\n",
      "  Backing Filesystem: xfs\n",
      "  Supports d_type: true\n",
      "  Native Overlay Diff: true\n",
      " Logging Driver: json-file\n",
      " Cgroup Driver: cgroupfs\n",
      " Plugins:\n",
      "  Volume: local\n",
      "  Network: bridge host ipvlan macvlan null overlay\n",
      "  Log: awslogs fluentd gcplogs gelf journald json-file local logentries splunk syslog\n",
      " Swarm: inactive\n",
      " Runtimes: runc\n",
      " Default Runtime: runc\n",
      " Init Binary: docker-init\n",
      " containerd version: b34a5c8af56e510852c35414db4c1f4fa6172339\n",
      " runc version: 3e425f80a8c931f88e6d94a8c831b9d5aa481657\n",
      " init version: fec3683\n",
      " Security Options:\n",
      "  seccomp\n",
      "   Profile: default\n",
      " Kernel Version: 3.10.0-1062.9.1.el7.x86_64\n",
      " Operating System: CentOS Linux 7 (Core)\n",
      " OSType: linux\n",
      " Architecture: x86_64\n",
      " CPUs: 4\n",
      " Total Memory: 7.795GiB\n",
      " Name: server1.example.jp\n",
      " ID: BJXN:IKAF:66EJ:FL7M:YHS2:E2ET:DCLY:GVYR:COC3:5AAY:T2E4:S522\n",
      " Docker Root Dir: /var/lib/docker\n",
      " Debug Mode: false\n",
      " Registry: https://index.docker.io/v1/\n",
      " Labels:\n",
      " Experimental: false\n",
      " Insecure Registries:\n",
      "  192.168.2.1:5000\n",
      "  192.168.2.1:5001\n",
      "  127.0.0.0/8\n",
      " Live Restore Enabled: false\n",
      "\n"
     ]
    }
   ],
   "source": [
    "ssh ${user}@${server} 'docker info'"
   ]
  },
  {
   "cell_type": "code",
   "execution_count": 3,
   "metadata": {
    "deletable": false,
    "editable": false,
    "lc_cell_meme": {
     "current": "959cb9d6-5790-11ea-804d-0242ac160002",
     "execution_end_time": "2020-03-27T08:34:52.377532Z",
     "history": [
      {
       "current": "959cb9d6-5790-11ea-804d-0242ac160002",
       "next": "fb2ad084-5791-11ea-804d-0242ac160002",
       "previous": "4e0685c0-5790-11ea-804d-0242ac160002"
      },
      {
       "current": "959cb9d6-5790-11ea-804d-0242ac160002",
       "next": "2562a8c8-629a-11ea-804d-0242ac160002",
       "previous": "4e0685c0-5790-11ea-804d-0242ac160002"
      }
     ],
     "next": "7f564964-62b0-11ea-804d-0242ac160002",
     "previous": "4e0685c0-5790-11ea-804d-0242ac160002"
    },
    "lc_wrapper": {
     "log_history": [
      "/notebooks/notebook/tmp/サーバ構築手順/.log/20200225/20200225-144323-0503.log",
      "/notebooks/notebook/tmp/サーバ構築手順/.log/20200225/20200225-154809-0954.log",
      "/notebooks/notebook/tmp/サーバ構築手順/.log/20200310/20200310-152037-0315.log",
      "/notebooks/notebook/tmp/サーバ構築手順/.log/20200311/20200311-160335-0166.log",
      "/notebooks/notebook/tmp/サーバ構築手順/.log/20200327/20200327-170421-0537.log",
      "/notebooks/notebook/tmp/サーバ構築手順/.log/20200327/20200327-173451-0599.log"
     ]
    },
    "run_through_control": {
     "frozen": true,
     "read_only": false
    }
   },
   "outputs": [
    {
     "name": "stdout",
     "output_type": "stream",
     "text": [
      "docker-compose version 1.23.2, build 1110ad01\n",
      "docker-py version: 3.6.0\n",
      "CPython version: 3.6.7\n",
      "OpenSSL version: OpenSSL 1.1.0f  25 May 2017\n"
     ]
    }
   ],
   "source": [
    "ssh ${user}@${server} 'docker-compose version'"
   ]
  },
  {
   "cell_type": "markdown",
   "metadata": {
    "lc_cell_meme": {
     "current": "7f564964-62b0-11ea-804d-0242ac160002",
     "next": "2562a8c8-629a-11ea-804d-0242ac160002",
     "previous": "959cb9d6-5790-11ea-804d-0242ac160002"
    }
   },
   "source": [
    "## 設定ファイル"
   ]
  },
  {
   "cell_type": "markdown",
   "metadata": {
    "lc_cell_meme": {
     "current": "2562a8c8-629a-11ea-804d-0242ac160002",
     "history": [
      {
       "current": "2562a8c8-629a-11ea-804d-0242ac160002",
       "next": "fb2ad084-5791-11ea-804d-0242ac160002",
       "previous": "959cb9d6-5790-11ea-804d-0242ac160002"
      }
     ],
     "next": "fb2ad084-5791-11ea-804d-0242ac160002",
     "previous": "7f564964-62b0-11ea-804d-0242ac160002"
    }
   },
   "source": [
    "設定ファイルを用意するための一時ディレクトリを作成する。"
   ]
  },
  {
   "cell_type": "code",
   "execution_count": 4,
   "metadata": {
    "deletable": false,
    "editable": false,
    "lc_cell_meme": {
     "current": "fb2ad084-5791-11ea-804d-0242ac160002",
     "execution_end_time": "2020-03-27T08:34:57.827963Z",
     "history": [
      {
       "current": "fb2ad084-5791-11ea-804d-0242ac160002",
       "next": "fb2ad232-5791-11ea-804d-0242ac160002",
       "previous": "959cb9d6-5790-11ea-804d-0242ac160002"
      },
      {
       "current": "fb2ad084-5791-11ea-804d-0242ac160002",
       "next": "cdda8e3c-5799-11ea-804d-0242ac160002",
       "previous": "959cb9d6-5790-11ea-804d-0242ac160002"
      },
      {
       "current": "fb2ad084-5791-11ea-804d-0242ac160002",
       "next": "cdda8e3c-5799-11ea-804d-0242ac160002",
       "previous": "2562a8c8-629a-11ea-804d-0242ac160002"
      },
      {
       "current": "fb2ad084-5791-11ea-804d-0242ac160002",
       "next": "fb2ad232-5791-11ea-804d-0242ac160002",
       "previous": "2562a8c8-629a-11ea-804d-0242ac160002"
      }
     ],
     "next": "b46f9472-629a-11ea-804d-0242ac160002",
     "previous": "2562a8c8-629a-11ea-804d-0242ac160002"
    },
    "lc_wrapper": {
     "log_history": [
      "/notebooks/notebook/tmp/サーバ構築手順/.log/20200225/20200225-144344-0271.log",
      "/notebooks/notebook/tmp/サーバ構築手順/.log/20200225/20200225-144409-0322.log",
      "/notebooks/notebook/tmp/サーバ構築手順/.log/20200225/20200225-154810-0743.log",
      "/notebooks/notebook/tmp/サーバ構築手順/.log/20200310/20200310-152050-0129.log",
      "/notebooks/notebook/tmp/サーバ構築手順/.log/20200311/20200311-160341-0958.log",
      "/notebooks/notebook/tmp/サーバ構築手順/.log/20200311/20200311-160410-0878.log",
      "/notebooks/notebook/tmp/サーバ構築手順/.log/20200311/20200311-160418-0928.log",
      "/notebooks/notebook/tmp/サーバ構築手順/.log/20200327/20200327-170428-0556.log",
      "/notebooks/notebook/tmp/サーバ構築手順/.log/20200327/20200327-173457-0562.log"
     ]
    },
    "run_through_control": {
     "frozen": true,
     "read_only": false
    }
   },
   "outputs": [
    {
     "name": "stdout",
     "output_type": "stream",
     "text": [
      "/tmp/tmp.UWsZ9aGSMC\n",
      "total 0\n",
      "drwxr-xr-x 2 jovyan users 6 Mar 27 17:34 config\n"
     ]
    }
   ],
   "source": [
    "work_dir=$(mktemp -d)\n",
    "echo \"${work_dir}\"\n",
    "mkdir ${work_dir}/config\n",
    "ls -l ${work_dir}"
   ]
  },
  {
   "cell_type": "markdown",
   "metadata": {
    "lc_cell_meme": {
     "current": "b46f9472-629a-11ea-804d-0242ac160002",
     "next": "fb2ad232-5791-11ea-804d-0242ac160002",
     "previous": "fb2ad084-5791-11ea-804d-0242ac160002"
    }
   },
   "source": [
    "docker-composeの設定ファイルを用意する。"
   ]
  },
  {
   "cell_type": "code",
   "execution_count": 5,
   "metadata": {
    "deletable": false,
    "editable": false,
    "lc_cell_meme": {
     "current": "fb2ad232-5791-11ea-804d-0242ac160002",
     "execution_end_time": "2020-03-27T08:35:01.871350Z",
     "history": [
      {
       "current": "fb2ad232-5791-11ea-804d-0242ac160002",
       "next": "1943aa7c-5793-11ea-804d-0242ac160002",
       "previous": "fb2ad084-5791-11ea-804d-0242ac160002"
      },
      {
       "current": "fb2ad232-5791-11ea-804d-0242ac160002",
       "next": "60caea4a-5793-11ea-804d-0242ac160002",
       "previous": "fb2ad084-5791-11ea-804d-0242ac160002"
      },
      {
       "current": "fb2ad232-5791-11ea-804d-0242ac160002",
       "next": "3760320e-5794-11ea-804d-0242ac160002",
       "previous": "fb2ad084-5791-11ea-804d-0242ac160002"
      },
      {
       "current": "fb2ad232-5791-11ea-804d-0242ac160002",
       "next": "3760320e-5794-11ea-804d-0242ac160002",
       "previous": "cdda8e3c-5799-11ea-804d-0242ac160002"
      },
      {
       "current": "fb2ad232-5791-11ea-804d-0242ac160002",
       "next": "3760320e-5794-11ea-804d-0242ac160002",
       "previous": "fb2ad084-5791-11ea-804d-0242ac160002"
      },
      {
       "current": "fb2ad232-5791-11ea-804d-0242ac160002",
       "next": "3760320e-5794-11ea-804d-0242ac160002",
       "previous": "b46f9472-629a-11ea-804d-0242ac160002"
      }
     ],
     "next": "fbf37ebc-629a-11ea-804d-0242ac160002",
     "previous": "b46f9472-629a-11ea-804d-0242ac160002"
    },
    "lc_wrapper": {
     "log_history": [
      "/notebooks/notebook/tmp/サーバ構築手順/.log/20200225/20200225-145131-0161.log",
      "/notebooks/notebook/tmp/サーバ構築手順/.log/20200225/20200225-154811-0024.log",
      "/notebooks/notebook/tmp/サーバ構築手順/.log/20200225/20200225-154845-0077.log",
      "/notebooks/notebook/tmp/サーバ構築手順/.log/20200310/20200310-152151-0709.log",
      "/notebooks/notebook/tmp/サーバ構築手順/.log/20200311/20200311-160433-0281.log",
      "/notebooks/notebook/tmp/サーバ構築手順/.log/20200327/20200327-170431-0919.log",
      "/notebooks/notebook/tmp/サーバ構築手順/.log/20200327/20200327-173501-0044.log"
     ]
    },
    "run_through_control": {
     "frozen": true,
     "read_only": false
    }
   },
   "outputs": [
    {
     "name": "stdout",
     "output_type": "stream",
     "text": [
      "version: '3.7'\n",
      "services:\n",
      "  mosquitto:\n",
      "    image: eclipse-mosquitto:1.6\n",
      "    hostname: server1.example.jp\n",
      "    ports:\n",
      "      - \"8883:8883\"\n",
      "    volumes:\n",
      "      - ./config:/mosquitto/config\n",
      "      - ./pki:/etc/pki\n",
      "      - /mosquitto/data\n",
      "      - /mosquitto/log\n"
     ]
    }
   ],
   "source": [
    "cat > ${work_dir}/docker-compose.yml <<EOF\n",
    "version: '3.7'\n",
    "services:\n",
    "  mosquitto:\n",
    "    image: eclipse-mosquitto:1.6\n",
    "    hostname: ${server}\n",
    "    ports:\n",
    "      - \"8883:8883\"\n",
    "    volumes:\n",
    "      - ./config:/mosquitto/config\n",
    "      - ./pki:/etc/pki\n",
    "      - /mosquitto/data\n",
    "      - /mosquitto/log\n",
    "EOF\n",
    "cat ${work_dir}/docker-compose.yml"
   ]
  },
  {
   "cell_type": "markdown",
   "metadata": {
    "lc_cell_meme": {
     "current": "fbf37ebc-629a-11ea-804d-0242ac160002",
     "next": "3760320e-5794-11ea-804d-0242ac160002",
     "previous": "fb2ad232-5791-11ea-804d-0242ac160002"
    }
   },
   "source": [
    "mosquittoの設定ファイルを用意する。"
   ]
  },
  {
   "cell_type": "code",
   "execution_count": 16,
   "metadata": {
    "deletable": false,
    "editable": false,
    "lc_cell_meme": {
     "current": "3760320e-5794-11ea-804d-0242ac160002",
     "execution_end_time": "2020-03-27T08:36:35.595785Z",
     "history": [
      {
       "current": "3760320e-5794-11ea-804d-0242ac160002",
       "next": "a8537fbc-5793-11ea-804d-0242ac160002",
       "previous": "60caed60-5793-11ea-804d-0242ac160002"
      },
      {
       "current": "3760320e-5794-11ea-804d-0242ac160002",
       "next": "7ef89412-5794-11ea-804d-0242ac160002",
       "previous": "60caed60-5793-11ea-804d-0242ac160002"
      },
      {
       "current": "3760320e-5794-11ea-804d-0242ac160002",
       "next": "7ef89412-5794-11ea-804d-0242ac160002",
       "previous": "fb2ad232-5791-11ea-804d-0242ac160002"
      },
      {
       "current": "3760320e-5794-11ea-804d-0242ac160002",
       "next": "7ef89412-5794-11ea-804d-0242ac160002",
       "previous": "fbf37ebc-629a-11ea-804d-0242ac160002"
      },
      {
       "current": "3760320e-5794-11ea-804d-0242ac160002",
       "next": "438b6bd6-629b-11ea-804d-0242ac160002",
       "previous": "fbf37ebc-629a-11ea-804d-0242ac160002"
      },
      {
       "current": "3760320e-5794-11ea-804d-0242ac160002",
       "next": "19ba3e54-62af-11ea-804d-0242ac160002",
       "previous": "fbf37ebc-629a-11ea-804d-0242ac160002"
      }
     ],
     "next": "37ddce04-62b0-11ea-804d-0242ac160002",
     "previous": "fbf37ebc-629a-11ea-804d-0242ac160002"
    },
    "lc_wrapper": {
     "log_history": [
      "/notebooks/notebook/tmp/サーバ構築手順/.log/20200225/20200225-150152-0372.log",
      "/notebooks/notebook/tmp/サーバ構築手順/.log/20200225/20200225-151820-0890.log",
      "/notebooks/notebook/tmp/サーバ構築手順/.log/20200225/20200225-154811-0796.log",
      "/notebooks/notebook/tmp/サーバ構築手順/.log/20200225/20200225-154845-0854.log",
      "/notebooks/notebook/tmp/サーバ構築手順/.log/20200310/20200310-152202-0716.log",
      "/notebooks/notebook/tmp/サーバ構築手順/.log/20200311/20200311-160455-0545.log",
      "/notebooks/notebook/tmp/サーバ構築手順/.log/20200327/20200327-170435-0296.log",
      "/notebooks/notebook/tmp/サーバ構築手順/.log/20200327/20200327-173504-0146.log",
      "/notebooks/notebook/tmp/サーバ構築手順/.log/20200327/20200327-173635-0027.log"
     ]
    },
    "run_through_control": {
     "frozen": true,
     "read_only": false
    }
   },
   "outputs": [
    {
     "name": "stdout",
     "output_type": "stream",
     "text": [
      "per_listener_settings true\n",
      "listener 8883\n",
      "\n",
      "persistence true\n",
      "persistence_location /mosquitto/data/\n",
      "log_dest file /mosquitto/log/mosquitto.log\n",
      "\n"
     ]
    }
   ],
   "source": [
    "cat >${work_dir}/config/mosquitto.conf <<EOF\n",
    "per_listener_settings true\n",
    "listener 8883\n",
    "\n",
    "persistence true\n",
    "persistence_location /mosquitto/data/\n",
    "log_dest file /mosquitto/log/mosquitto.log\n",
    "\n",
    "EOF\n",
    "cat ${work_dir}/config/mosquitto.conf"
   ]
  },
  {
   "cell_type": "markdown",
   "metadata": {
    "lc_cell_meme": {
     "current": "37ddce04-62b0-11ea-804d-0242ac160002",
     "history": [
      {
       "current": "37ddce04-62b0-11ea-804d-0242ac160002",
       "next": "19ba3e54-62af-11ea-804d-0242ac160002",
       "previous": "3760320e-5794-11ea-804d-0242ac160002"
      },
      {
       "current": "37ddce04-62b0-11ea-804d-0242ac160002",
       "next": "438b6bd6-629b-11ea-804d-0242ac160002",
       "previous": "3760320e-5794-11ea-804d-0242ac160002"
      }
     ],
     "next": "4762a0e8-7002-11ea-804d-0242ac160002",
     "previous": "3760320e-5794-11ea-804d-0242ac160002"
    }
   },
   "source": [
    "## 認証の設定\n",
    "\n",
    "TLSで通信路を暗号化したうえでのパスワード認証の設定をおこなう。"
   ]
  },
  {
   "cell_type": "markdown",
   "metadata": {
    "lc_cell_meme": {
     "current": "4762a0e8-7002-11ea-804d-0242ac160002",
     "next": "438b6bd6-629b-11ea-804d-0242ac160002",
     "previous": "37ddce04-62b0-11ea-804d-0242ac160002"
    }
   },
   "source": [
    "### パスワードの設定"
   ]
  },
  {
   "cell_type": "markdown",
   "metadata": {
    "lc_cell_meme": {
     "current": "438b6bd6-629b-11ea-804d-0242ac160002",
     "history": [
      {
       "current": "438b6bd6-629b-11ea-804d-0242ac160002",
       "next": "7ef89412-5794-11ea-804d-0242ac160002",
       "previous": "3760320e-5794-11ea-804d-0242ac160002"
      },
      {
       "current": "438b6bd6-629b-11ea-804d-0242ac160002",
       "next": "7ef89412-5794-11ea-804d-0242ac160002",
       "previous": "19ba3e54-62af-11ea-804d-0242ac160002"
      },
      {
       "current": "438b6bd6-629b-11ea-804d-0242ac160002",
       "next": "7ef89412-5794-11ea-804d-0242ac160002",
       "previous": "37ddce04-62b0-11ea-804d-0242ac160002"
      }
     ],
     "next": "7ef89412-5794-11ea-804d-0242ac160002",
     "previous": "4762a0e8-7002-11ea-804d-0242ac160002"
    }
   },
   "source": [
    "認証のためのユーザとパスワードを書いたファイルを用意する。\n",
    "フォーマットは行単位でユーザ名とパスワードをコロンで区切る。\n",
    "\n",
    "この段階ではパスワードは平文だがが後の手順でハッシュする。"
   ]
  },
  {
   "cell_type": "code",
   "execution_count": 7,
   "metadata": {
    "deletable": false,
    "editable": false,
    "lc_cell_meme": {
     "current": "7ef89412-5794-11ea-804d-0242ac160002",
     "execution_end_time": "2020-03-27T08:35:07.178193Z",
     "history": [
      {
       "current": "7ef89412-5794-11ea-804d-0242ac160002",
       "next": "a8537fbc-5793-11ea-804d-0242ac160002",
       "previous": "3760320e-5794-11ea-804d-0242ac160002"
      },
      {
       "current": "7ef89412-5794-11ea-804d-0242ac160002",
       "next": "2c0b8622-5796-11ea-804d-0242ac160002",
       "previous": "3760320e-5794-11ea-804d-0242ac160002"
      },
      {
       "current": "7ef89412-5794-11ea-804d-0242ac160002",
       "next": "2c0b8622-5796-11ea-804d-0242ac160002",
       "previous": "438b6bd6-629b-11ea-804d-0242ac160002"
      },
      {
       "current": "7ef89412-5794-11ea-804d-0242ac160002",
       "next": "1a20e342-629c-11ea-804d-0242ac160002",
       "previous": "438b6bd6-629b-11ea-804d-0242ac160002"
      },
      {
       "current": "7ef89412-5794-11ea-804d-0242ac160002",
       "next": "b41e2444-62ad-11ea-804d-0242ac160002",
       "previous": "438b6bd6-629b-11ea-804d-0242ac160002"
      },
      {
       "current": "7ef89412-5794-11ea-804d-0242ac160002",
       "next": "19ba4232-62af-11ea-804d-0242ac160002",
       "previous": "438b6bd6-629b-11ea-804d-0242ac160002"
      }
     ],
     "next": "8883c3fe-635f-11ea-804d-0242ac160002",
     "previous": "438b6bd6-629b-11ea-804d-0242ac160002"
    },
    "lc_wrapper": {
     "log_history": [
      "/notebooks/notebook/tmp/サーバ構築手順/.log/20200225/20200225-151452-0713.log",
      "/notebooks/notebook/tmp/サーバ構築手順/.log/20200225/20200225-151823-0157.log",
      "/notebooks/notebook/tmp/サーバ構築手順/.log/20200225/20200225-154812-0264.log",
      "/notebooks/notebook/tmp/サーバ構築手順/.log/20200225/20200225-154846-0323.log",
      "/notebooks/notebook/tmp/サーバ構築手順/.log/20200310/20200310-152211-0973.log",
      "/notebooks/notebook/tmp/サーバ構築手順/.log/20200311/20200311-151243-0010.log",
      "/notebooks/notebook/tmp/サーバ構築手順/.log/20200311/20200311-160509-0866.log",
      "/notebooks/notebook/tmp/サーバ構築手順/.log/20200327/20200327-170653-0067.log",
      "/notebooks/notebook/tmp/サーバ構築手順/.log/20200327/20200327-173506-0814.log"
     ]
    },
    "run_through_control": {
     "frozen": true,
     "read_only": false
    }
   },
   "outputs": [
    {
     "name": "stdout",
     "output_type": "stream",
     "text": [
      "user01:user01-pass\n",
      "user02:user02-pass\n",
      "user03:user03-pass\n"
     ]
    }
   ],
   "source": [
    "cat >${work_dir}/config/mosquitto.passwd <<EOF\n",
    "user01:user01-pass\n",
    "user02:user02-pass\n",
    "user03:user03-pass\n",
    "EOF\n",
    "cat ${work_dir}/config/mosquitto.passwd"
   ]
  },
  {
   "cell_type": "code",
   "execution_count": 8,
   "metadata": {
    "deletable": false,
    "editable": false,
    "lc_cell_meme": {
     "current": "8883c3fe-635f-11ea-804d-0242ac160002",
     "execution_end_time": "2020-03-27T08:35:07.660125Z",
     "history": [
      {
       "current": "8883c3fe-635f-11ea-804d-0242ac160002",
       "next": "19ba4232-62af-11ea-804d-0242ac160002",
       "previous": "7ef89412-5794-11ea-804d-0242ac160002"
      }
     ],
     "next": "4762a426-7002-11ea-804d-0242ac160002",
     "previous": "7ef89412-5794-11ea-804d-0242ac160002"
    },
    "lc_wrapper": {
     "log_history": [
      "/notebooks/notebook/tmp/サーバ構築手順/.log/20200311/20200311-160511-0969.log",
      "/notebooks/notebook/tmp/サーバ構築手順/.log/20200327/20200327-170655-0737.log",
      "/notebooks/notebook/tmp/サーバ構築手順/.log/20200327/20200327-173507-0345.log"
     ]
    },
    "run_through_control": {
     "frozen": true,
     "read_only": false
    }
   },
   "outputs": [
    {
     "name": "stdout",
     "output_type": "stream",
     "text": [
      "persistence true\n",
      "persistence_location /mosquitto/data/\n",
      "log_dest file /mosquitto/log/mosquitto.log\n",
      "per_listener_settings true\n",
      "listener 8883\n",
      "\n",
      "password_file /mosquitto/config/mosquitto.passwd\n",
      "\n"
     ]
    }
   ],
   "source": [
    "cat >>${work_dir}/config/mosquitto.conf <<EOF\n",
    "password_file /mosquitto/config/mosquitto.passwd\n",
    "\n",
    "EOF\n",
    "cat ${work_dir}/config/mosquitto.conf"
   ]
  },
  {
   "cell_type": "markdown",
   "metadata": {
    "lc_cell_meme": {
     "current": "4762a426-7002-11ea-804d-0242ac160002",
     "next": "b41e2444-62ad-11ea-804d-0242ac160002",
     "previous": "8883c3fe-635f-11ea-804d-0242ac160002"
    }
   },
   "source": [
    "### TLSの設定"
   ]
  },
  {
   "cell_type": "markdown",
   "metadata": {
    "lc_cell_meme": {
     "current": "b41e2444-62ad-11ea-804d-0242ac160002",
     "history": [
      {
       "current": "b41e2444-62ad-11ea-804d-0242ac160002",
       "next": "b41e264c-62ad-11ea-804d-0242ac160002",
       "previous": "7ef89412-5794-11ea-804d-0242ac160002"
      },
      {
       "current": "b41e2444-62ad-11ea-804d-0242ac160002",
       "next": "b41e264c-62ad-11ea-804d-0242ac160002",
       "previous": "19ba4232-62af-11ea-804d-0242ac160002"
      }
     ],
     "next": "b41e264c-62ad-11ea-804d-0242ac160002",
     "previous": "4762a426-7002-11ea-804d-0242ac160002"
    }
   },
   "source": [
    "TLSで通信を暗号化するための秘密鍵と証明書を設定する。\n",
    "\n",
    "CA証明書とmosquitto用のサーバ秘密鍵とサーバ証明書は事前に作成しておく\n",
    "ここではファイル名を\n",
    "* CA証明書: `./cacert.pem`\n",
    "* サーバ秘密鍵: `./broker.key`\n",
    "* サーバ証明書: `./broker.crt`\n",
    "\n",
    "とする。\n",
    "\n",
    "> 本来ならmosquittoを動かすコンテナのなかでサーバの秘密鍵とCSRを作成して、\n",
    "> CSRをCAに渡して証明書を受け取るの安全だが、\n",
    "> 簡単のため別の場所で秘密鍵と証明書を作成する手順となっている。"
   ]
  },
  {
   "cell_type": "code",
   "execution_count": 9,
   "metadata": {
    "deletable": false,
    "editable": false,
    "lc_cell_meme": {
     "current": "b41e264c-62ad-11ea-804d-0242ac160002",
     "execution_end_time": "2020-03-27T08:35:10.577975Z",
     "history": [
      {
       "current": "b41e264c-62ad-11ea-804d-0242ac160002",
       "next": "1a20e342-629c-11ea-804d-0242ac160002",
       "previous": "b41e2444-62ad-11ea-804d-0242ac160002"
      },
      {
       "current": "b41e264c-62ad-11ea-804d-0242ac160002",
       "next": "19ba42fa-62af-11ea-804d-0242ac160002",
       "previous": "b41e2444-62ad-11ea-804d-0242ac160002"
      }
     ],
     "next": "a9822f6a-6ff7-11ea-804d-0242ac160002",
     "previous": "b41e2444-62ad-11ea-804d-0242ac160002"
    },
    "lc_wrapper": {
     "log_history": [
      "/notebooks/notebook/tmp/サーバ構築手順/.log/20200327/20200327-170948-0733.log",
      "/notebooks/notebook/tmp/サーバ構築手順/.log/20200327/20200327-173510-0108.log"
     ]
    },
    "run_through_control": {
     "frozen": true,
     "read_only": false
    }
   },
   "outputs": [
    {
     "name": "stdout",
     "output_type": "stream",
     "text": [
      "persistence true\n",
      "persistence_location /mosquitto/data/\n",
      "log_dest file /mosquitto/log/mosquitto.log\n",
      "per_listener_settings true\n",
      "listener 8883\n",
      "\n",
      "password_file /mosquitto/config/mosquitto.passwd\n",
      "\n",
      "cafile /etc/pki/CA/cacert.pem\n",
      "certfile /etc/pki/CA/certs/broker.crt\n",
      "keyfile /etc/pki/CA/private/broker.key\n",
      "require_certificate false\n",
      "\n"
     ]
    }
   ],
   "source": [
    "cat >>${work_dir}/config/mosquitto.conf <<EOF\n",
    "cafile /etc/pki/CA/cacert.pem\n",
    "certfile /etc/pki/CA/certs/broker.crt\n",
    "keyfile /etc/pki/CA/private/broker.key\n",
    "require_certificate false\n",
    "\n",
    "EOF\n",
    "cat ${work_dir}/config/mosquitto.conf"
   ]
  },
  {
   "cell_type": "markdown",
   "metadata": {
    "lc_cell_meme": {
     "current": "a9822f6a-6ff7-11ea-804d-0242ac160002",
     "history": [
      {
       "current": "a9822f6a-6ff7-11ea-804d-0242ac160002",
       "next": "19ba42fa-62af-11ea-804d-0242ac160002",
       "previous": "b41e264c-62ad-11ea-804d-0242ac160002"
      }
     ],
     "next": "38832f48-6ff8-11ea-804d-0242ac160002",
     "previous": "b41e264c-62ad-11ea-804d-0242ac160002"
    }
   },
   "source": [
    "サーバに秘密鍵と証明書をコピーする。"
   ]
  },
  {
   "cell_type": "code",
   "execution_count": 10,
   "metadata": {
    "deletable": false,
    "editable": false,
    "lc_cell_meme": {
     "current": "38832f48-6ff8-11ea-804d-0242ac160002",
     "execution_end_time": "2020-03-27T08:35:13.861159Z",
     "history": [
      {
       "current": "38832f48-6ff8-11ea-804d-0242ac160002",
       "next": "19ba42fa-62af-11ea-804d-0242ac160002",
       "previous": "a9822f6a-6ff7-11ea-804d-0242ac160002"
      }
     ],
     "next": "7f564a5e-62b0-11ea-804d-0242ac160002",
     "previous": "a9822f6a-6ff7-11ea-804d-0242ac160002"
    },
    "lc_wrapper": {
     "log_history": [
      "/notebooks/notebook/tmp/サーバ構築手順/.log/20200327/20200327-160523-0599.log",
      "/notebooks/notebook/tmp/サーバ構築手順/.log/20200327/20200327-160933-0602.log",
      "/notebooks/notebook/tmp/サーバ構築手順/.log/20200327/20200327-170951-0575.log",
      "/notebooks/notebook/tmp/サーバ構築手順/.log/20200327/20200327-173512-0806.log"
     ]
    },
    "run_through_control": {
     "frozen": true,
     "read_only": false
    }
   },
   "outputs": [
    {
     "name": "stdout",
     "output_type": "stream",
     "text": [
      "cacert.pem                                    100% 4349     3.7MB/s   00:00    \n",
      "broker.crt                                    100% 4389     4.6MB/s   00:00    \n",
      "broker.key                                    100% 1704     1.4MB/s   00:00    \n"
     ]
    }
   ],
   "source": [
    "ssh ${user}@${server} 'mkdir -p mosquitto/pki/CA mosquitto/pki/CA/certs mosquitto/pki/CA/private'\n",
    "scp ./cacert.pem ${user}@${server}:mosquitto/pki/CA/cacert.pem\n",
    "scp ./broker.crt ${user}@${server}:mosquitto/pki/CA/certs/broker.crt\n",
    "scp ./broker.key ${user}@${server}:mosquitto/pki/CA/private/broker.key"
   ]
  },
  {
   "cell_type": "markdown",
   "metadata": {
    "lc_cell_meme": {
     "current": "7f564a5e-62b0-11ea-804d-0242ac160002",
     "history": [
      {
       "current": "7f564a5e-62b0-11ea-804d-0242ac160002",
       "next": "1a20e342-629c-11ea-804d-0242ac160002",
       "previous": "9be1ed8c-62af-11ea-804d-0242ac160002"
      }
     ],
     "next": "1a20e342-629c-11ea-804d-0242ac160002",
     "previous": "38832f48-6ff8-11ea-804d-0242ac160002"
    }
   },
   "source": [
    "## 認可の設定"
   ]
  },
  {
   "cell_type": "markdown",
   "metadata": {
    "lc_cell_meme": {
     "current": "1a20e342-629c-11ea-804d-0242ac160002",
     "history": [
      {
       "current": "1a20e342-629c-11ea-804d-0242ac160002",
       "next": "2c0b8622-5796-11ea-804d-0242ac160002",
       "previous": "7ef89412-5794-11ea-804d-0242ac160002"
      },
      {
       "current": "1a20e342-629c-11ea-804d-0242ac160002",
       "next": "2c0b8622-5796-11ea-804d-0242ac160002",
       "previous": "b41e264c-62ad-11ea-804d-0242ac160002"
      },
      {
       "current": "1a20e342-629c-11ea-804d-0242ac160002",
       "next": "2c0b8622-5796-11ea-804d-0242ac160002",
       "previous": "19ba42fa-62af-11ea-804d-0242ac160002"
      },
      {
       "current": "1a20e342-629c-11ea-804d-0242ac160002",
       "next": "2c0b8622-5796-11ea-804d-0242ac160002",
       "previous": "9be1ed8c-62af-11ea-804d-0242ac160002"
      }
     ],
     "next": "2c0b8622-5796-11ea-804d-0242ac160002",
     "previous": "7f564a5e-62b0-11ea-804d-0242ac160002"
    }
   },
   "source": [
    "認可のためのACLファイルを用意する。\n",
    "フォーマットは2行単位で\n",
    "\n",
    "`user` ユーザ名<br>\n",
    "`topic` `read`または`write`または`readwrite` `#`<br>\n",
    "\n",
    "`topic`のあとに`read`を書くとそのユーザはメッセージを読めるけど書かけない、\n",
    "`write`だと書けるけど読めない、\n",
    "`readwrite`だと読み書きできる指定になる。\n",
    "\n",
    "最後の`#`は任意のトピック名の意味する特殊文字(マルチレベル・ワイルドカード)である。"
   ]
  },
  {
   "cell_type": "code",
   "execution_count": 11,
   "metadata": {
    "deletable": false,
    "editable": false,
    "lc_cell_meme": {
     "current": "2c0b8622-5796-11ea-804d-0242ac160002",
     "execution_end_time": "2020-03-27T08:35:16.594884Z",
     "history": [
      {
       "current": "2c0b8622-5796-11ea-804d-0242ac160002",
       "next": "a8537fbc-5793-11ea-804d-0242ac160002",
       "previous": "7ef89412-5794-11ea-804d-0242ac160002"
      },
      {
       "current": "2c0b8622-5796-11ea-804d-0242ac160002",
       "next": "738ef498-5796-11ea-804d-0242ac160002",
       "previous": "7ef89412-5794-11ea-804d-0242ac160002"
      },
      {
       "current": "2c0b8622-5796-11ea-804d-0242ac160002",
       "next": "bb12bd9a-5796-11ea-804d-0242ac160002",
       "previous": "7ef89412-5794-11ea-804d-0242ac160002"
      },
      {
       "current": "2c0b8622-5796-11ea-804d-0242ac160002",
       "next": "bb12bd9a-5796-11ea-804d-0242ac160002",
       "previous": "1a20e342-629c-11ea-804d-0242ac160002"
      },
      {
       "current": "2c0b8622-5796-11ea-804d-0242ac160002",
       "next": "f42e6166-62a8-11ea-804d-0242ac160002",
       "previous": "1a20e342-629c-11ea-804d-0242ac160002"
      },
      {
       "current": "2c0b8622-5796-11ea-804d-0242ac160002",
       "next": "7f564b30-62b0-11ea-804d-0242ac160002",
       "previous": "1a20e342-629c-11ea-804d-0242ac160002"
      }
     ],
     "next": "d0026b9a-635f-11ea-804d-0242ac160002",
     "previous": "1a20e342-629c-11ea-804d-0242ac160002"
    },
    "lc_wrapper": {
     "log_history": [
      "/notebooks/notebook/tmp/サーバ構築手順/.log/20200225/20200225-151553-0317.log",
      "/notebooks/notebook/tmp/サーバ構築手順/.log/20200225/20200225-151824-0459.log",
      "/notebooks/notebook/tmp/サーバ構築手順/.log/20200225/20200225-154812-0578.log",
      "/notebooks/notebook/tmp/サーバ構築手順/.log/20200225/20200225-154846-0640.log",
      "/notebooks/notebook/tmp/サーバ構築手順/.log/20200310/20200310-152446-0188.log",
      "/notebooks/notebook/tmp/サーバ構築手順/.log/20200311/20200311-160528-0147.log",
      "/notebooks/notebook/tmp/サーバ構築手順/.log/20200311/20200311-173122-0839.log",
      "/notebooks/notebook/tmp/サーバ構築手順/.log/20200327/20200327-170957-0368.log",
      "/notebooks/notebook/tmp/サーバ構築手順/.log/20200327/20200327-173515-0922.log"
     ]
    },
    "run_through_control": {
     "frozen": true,
     "read_only": false
    }
   },
   "outputs": [
    {
     "name": "stdout",
     "output_type": "stream",
     "text": [
      "user user01\n",
      "topic write #\n",
      "\n",
      "user user02\n",
      "topic read #\n",
      "\n",
      "user user03\n",
      "topic readwrite #\n",
      "\n"
     ]
    }
   ],
   "source": [
    "cat >${work_dir}/config/mosquitto.acl <<EOF\n",
    "user user01\n",
    "topic write #\n",
    "\n",
    "user user02\n",
    "topic read #\n",
    "\n",
    "user user03\n",
    "topic readwrite #\n",
    "\n",
    "EOF\n",
    "cat ${work_dir}/config/mosquitto.acl"
   ]
  },
  {
   "cell_type": "code",
   "execution_count": 12,
   "metadata": {
    "deletable": false,
    "editable": false,
    "lc_cell_meme": {
     "current": "d0026b9a-635f-11ea-804d-0242ac160002",
     "execution_end_time": "2020-03-27T08:35:16.917474Z",
     "next": "7f564b30-62b0-11ea-804d-0242ac160002",
     "previous": "2c0b8622-5796-11ea-804d-0242ac160002"
    },
    "lc_wrapper": {
     "log_history": [
      "/notebooks/notebook/tmp/サーバ構築手順/.log/20200311/20200311-160532-0322.log",
      "/notebooks/notebook/tmp/サーバ構築手順/.log/20200327/20200327-170959-0559.log",
      "/notebooks/notebook/tmp/サーバ構築手順/.log/20200327/20200327-173516-0601.log"
     ]
    },
    "run_through_control": {
     "frozen": true,
     "read_only": false
    }
   },
   "outputs": [
    {
     "name": "stdout",
     "output_type": "stream",
     "text": [
      "persistence true\n",
      "persistence_location /mosquitto/data/\n",
      "log_dest file /mosquitto/log/mosquitto.log\n",
      "per_listener_settings true\n",
      "listener 8883\n",
      "\n",
      "password_file /mosquitto/config/mosquitto.passwd\n",
      "\n",
      "cafile /etc/pki/CA/cacert.pem\n",
      "certfile /etc/pki/CA/certs/broker.crt\n",
      "keyfile /etc/pki/CA/private/broker.key\n",
      "require_certificate false\n",
      "\n",
      "acl_file /mosquitto/config/mosquitto.acl\n",
      "\n"
     ]
    }
   ],
   "source": [
    "cat >>${work_dir}/config/mosquitto.conf <<EOF\n",
    "acl_file /mosquitto/config/mosquitto.acl\n",
    "\n",
    "EOF\n",
    "cat ${work_dir}/config/mosquitto.conf"
   ]
  },
  {
   "cell_type": "markdown",
   "metadata": {
    "lc_cell_meme": {
     "current": "7f564b30-62b0-11ea-804d-0242ac160002",
     "history": [
      {
       "current": "7f564b30-62b0-11ea-804d-0242ac160002",
       "next": "f42e6166-62a8-11ea-804d-0242ac160002",
       "previous": "2c0b8622-5796-11ea-804d-0242ac160002"
      }
     ],
     "next": "f42e6166-62a8-11ea-804d-0242ac160002",
     "previous": "d0026b9a-635f-11ea-804d-0242ac160002"
    }
   },
   "source": [
    "## mosquittoの起動"
   ]
  },
  {
   "cell_type": "markdown",
   "metadata": {
    "lc_cell_meme": {
     "current": "f42e6166-62a8-11ea-804d-0242ac160002",
     "history": [
      {
       "current": "f42e6166-62a8-11ea-804d-0242ac160002",
       "next": "bb12bd9a-5796-11ea-804d-0242ac160002",
       "previous": "2c0b8622-5796-11ea-804d-0242ac160002"
      }
     ],
     "next": "bb12bd9a-5796-11ea-804d-0242ac160002",
     "previous": "7f564b30-62b0-11ea-804d-0242ac160002"
    }
   },
   "source": [
    "`server` 上にmosquittoがつかうディレクトリを用意する。"
   ]
  },
  {
   "cell_type": "code",
   "execution_count": 13,
   "metadata": {
    "deletable": false,
    "editable": false,
    "lc_cell_meme": {
     "current": "bb12bd9a-5796-11ea-804d-0242ac160002",
     "execution_end_time": "2020-03-27T08:35:22.140639Z",
     "history": [
      {
       "current": "bb12bd9a-5796-11ea-804d-0242ac160002",
       "next": "738ef498-5796-11ea-804d-0242ac160002",
       "previous": "2c0b8622-5796-11ea-804d-0242ac160002"
      },
      {
       "current": "bb12bd9a-5796-11ea-804d-0242ac160002",
       "next": "738ef498-5796-11ea-804d-0242ac160002",
       "previous": "f42e6166-62a8-11ea-804d-0242ac160002"
      }
     ],
     "next": "3bb35686-62a9-11ea-804d-0242ac160002",
     "previous": "f42e6166-62a8-11ea-804d-0242ac160002"
    },
    "lc_wrapper": {
     "log_history": [
      "/notebooks/notebook/tmp/サーバ構築手順/.log/20200225/20200225-151827-0399.log",
      "/notebooks/notebook/tmp/サーバ構築手順/.log/20200225/20200225-154813-0147.log",
      "/notebooks/notebook/tmp/サーバ構築手順/.log/20200225/20200225-154847-0210.log",
      "/notebooks/notebook/tmp/サーバ構築手順/.log/20200310/20200310-152521-0843.log",
      "/notebooks/notebook/tmp/サーバ構築手順/.log/20200311/20200311-151530-0016.log",
      "/notebooks/notebook/tmp/サーバ構築手順/.log/20200311/20200311-160545-0659.log",
      "/notebooks/notebook/tmp/サーバ構築手順/.log/20200327/20200327-160553-0157.log",
      "/notebooks/notebook/tmp/サーバ構築手順/.log/20200327/20200327-171004-0463.log",
      "/notebooks/notebook/tmp/サーバ構築手順/.log/20200327/20200327-173521-0836.log"
     ]
    },
    "run_through_control": {
     "frozen": true,
     "read_only": false
    },
    "scrolled": false
   },
   "outputs": [
    {
     "name": "stdout",
     "output_type": "stream",
     "text": [
      "drwxrwxr-x 4 piyo piyo 57 Mar 27 17:10 mosquitto\n"
     ]
    }
   ],
   "source": [
    "ssh ${user}@${server} 'mkdir -p mosquitto && ls -ld mosquitto'"
   ]
  },
  {
   "cell_type": "markdown",
   "metadata": {
    "lc_cell_meme": {
     "current": "3bb35686-62a9-11ea-804d-0242ac160002",
     "next": "738ef498-5796-11ea-804d-0242ac160002",
     "previous": "bb12bd9a-5796-11ea-804d-0242ac160002"
    }
   },
   "source": [
    "一時ディレクトリに用意した設定ファイルを`server`上にコピーする。"
   ]
  },
  {
   "cell_type": "code",
   "execution_count": 14,
   "metadata": {
    "deletable": false,
    "editable": false,
    "lc_cell_meme": {
     "current": "738ef498-5796-11ea-804d-0242ac160002",
     "execution_end_time": "2020-03-27T08:35:26.874407Z",
     "history": [
      {
       "current": "738ef498-5796-11ea-804d-0242ac160002",
       "next": "a8537fbc-5793-11ea-804d-0242ac160002",
       "previous": "2c0b8622-5796-11ea-804d-0242ac160002"
      },
      {
       "current": "738ef498-5796-11ea-804d-0242ac160002",
       "next": "bb12bf48-5796-11ea-804d-0242ac160002",
       "previous": "bb12bd9a-5796-11ea-804d-0242ac160002"
      },
      {
       "current": "738ef498-5796-11ea-804d-0242ac160002",
       "next": "bb12bf48-5796-11ea-804d-0242ac160002",
       "previous": "3bb35686-62a9-11ea-804d-0242ac160002"
      }
     ],
     "next": "833b365e-62a9-11ea-804d-0242ac160002",
     "previous": "3bb35686-62a9-11ea-804d-0242ac160002"
    },
    "lc_wrapper": {
     "log_history": [
      "/notebooks/notebook/tmp/サーバ構築手順/.log/20200225/20200225-151829-0095.log",
      "/notebooks/notebook/tmp/サーバ構築手順/.log/20200225/20200225-154813-0458.log",
      "/notebooks/notebook/tmp/サーバ構築手順/.log/20200225/20200225-154847-0525.log",
      "/notebooks/notebook/tmp/サーバ構築手順/.log/20200310/20200310-152541-0507.log",
      "/notebooks/notebook/tmp/サーバ構築手順/.log/20200311/20200311-151530-0341.log",
      "/notebooks/notebook/tmp/サーバ構築手順/.log/20200311/20200311-160619-0973.log",
      "/notebooks/notebook/tmp/サーバ構築手順/.log/20200327/20200327-171009-0033.log",
      "/notebooks/notebook/tmp/サーバ構築手順/.log/20200327/20200327-173526-0294.log"
     ]
    },
    "run_through_control": {
     "frozen": true,
     "read_only": false
    }
   },
   "outputs": [
    {
     "name": "stdout",
     "output_type": "stream",
     "text": [
      "docker-compose.yml                            100%  253   245.2KB/s   00:00    \n",
      "mosquitto.conf                                100%  366   365.4KB/s   00:00    \n",
      "mosquitto.passwd                              100%   57    13.3KB/s   00:00    \n",
      "mosquitto.acl                                 100%   84   128.6KB/s   00:00    \n",
      "mosquitto/:\n",
      "total 8\n",
      "drwxrwxr-x  4 piyo piyo   57 Mar 27 17:10 .\n",
      "drwxr-xr-x 33 piyo piyo 4096 Mar 27 17:30 ..\n",
      "drwxr-xr-x  2 piyo piyo   73 Mar 27 17:26 config\n",
      "-rw-r--r--  1 piyo piyo  253 Mar 27 17:35 docker-compose.yml\n",
      "drwxrwxr-x  3 piyo piyo   16 Mar 27 17:09 pki\n",
      "\n",
      "mosquitto/config:\n",
      "total 12\n",
      "drwxr-xr-x 2 piyo piyo  73 Mar 27 17:26 .\n",
      "drwxrwxr-x 4 piyo piyo  57 Mar 27 17:10 ..\n",
      "-rw-r--r-- 1 piyo piyo  84 Mar 27 17:35 mosquitto.acl\n",
      "-rw-r--r-- 1 piyo piyo 366 Mar 27 17:35 mosquitto.conf\n",
      "-rw-r--r-- 1 piyo piyo  57 Mar 27 17:35 mosquitto.passwd\n",
      "\n",
      "mosquitto/pki:\n",
      "total 0\n",
      "drwxrwxr-x 3 piyo piyo 16 Mar 27 17:09 .\n",
      "drwxrwxr-x 4 piyo piyo 57 Mar 27 17:10 ..\n",
      "drwxrwxr-x 4 piyo piyo 52 Mar 27 17:30 CA\n",
      "\n",
      "mosquitto/pki/CA:\n",
      "total 8\n",
      "drwxrwxr-x 4 piyo piyo   52 Mar 27 17:30 .\n",
      "drwxrwxr-x 3 piyo piyo   16 Mar 27 17:09 ..\n",
      "-rw-r--r-- 1 piyo piyo 4349 Mar 27 17:35 cacert.pem\n",
      "drwxrwxr-x 2 piyo piyo   24 Mar 27 17:30 certs\n",
      "drwxrwxr-x 2 piyo piyo   24 Mar 27 17:30 private\n",
      "\n",
      "mosquitto/pki/CA/certs:\n",
      "total 8\n",
      "drwxrwxr-x 2 piyo piyo   24 Mar 27 17:30 .\n",
      "drwxrwxr-x 4 piyo piyo   52 Mar 27 17:30 ..\n",
      "-rw-r--r-- 1 piyo piyo 4389 Mar 27 17:35 broker.crt\n",
      "\n",
      "mosquitto/pki/CA/private:\n",
      "total 4\n",
      "drwxrwxr-x 2 piyo piyo   24 Mar 27 17:30 .\n",
      "drwxrwxr-x 4 piyo piyo   52 Mar 27 17:30 ..\n",
      "-rw-r--r-- 1 piyo piyo 1704 Mar 27 17:35 broker.key\n"
     ]
    }
   ],
   "source": [
    "scp -r ${work_dir}/docker-compose.yml ${work_dir}/config ${user}@${server}:mosquitto/\n",
    "ssh ${user}@${server} 'ls -laR mosquitto/'"
   ]
  },
  {
   "cell_type": "markdown",
   "metadata": {
    "lc_cell_meme": {
     "current": "833b365e-62a9-11ea-804d-0242ac160002",
     "next": "029b3aca-5797-11ea-804d-0242ac160002",
     "previous": "738ef498-5796-11ea-804d-0242ac160002"
    },
    "lc_wrapper": {
     "log_history": [
      "/notebooks/notebook/tmp/サーバ構築手順/.log/20200311/20200311-151531-0668.log"
     ]
    }
   },
   "source": [
    "`server`にコピーしたパスワードをハッシュする。"
   ]
  },
  {
   "cell_type": "code",
   "execution_count": 15,
   "metadata": {
    "deletable": false,
    "editable": false,
    "lc_cell_meme": {
     "current": "029b3aca-5797-11ea-804d-0242ac160002",
     "execution_end_time": "2020-03-27T08:35:33.689770Z",
     "history": [
      {
       "current": "029b3aca-5797-11ea-804d-0242ac160002",
       "next": "a8537fbc-5793-11ea-804d-0242ac160002",
       "previous": "bb12bf48-5796-11ea-804d-0242ac160002"
      },
      {
       "current": "029b3aca-5797-11ea-804d-0242ac160002",
       "next": "a8537fbc-5793-11ea-804d-0242ac160002",
       "previous": "833b365e-62a9-11ea-804d-0242ac160002"
      }
     ],
     "next": "a50bcfa0-62a9-11ea-804d-0242ac160002",
     "previous": "833b365e-62a9-11ea-804d-0242ac160002"
    },
    "lc_wrapper": {
     "log_history": [
      "/notebooks/notebook/tmp/サーバ構築手順/.log/20200225/20200225-154848-0944.log",
      "/notebooks/notebook/tmp/サーバ構築手順/.log/20200310/20200310-152642-0166.log",
      "/notebooks/notebook/tmp/サーバ構築手順/.log/20200310/20200310-152740-0112.log",
      "/notebooks/notebook/tmp/サーバ構築手順/.log/20200310/20200310-152819-0377.log",
      "/notebooks/notebook/tmp/サーバ構築手順/.log/20200311/20200311-160659-0292.log",
      "/notebooks/notebook/tmp/サーバ構築手順/.log/20200327/20200327-171017-0239.log",
      "/notebooks/notebook/tmp/サーバ構築手順/.log/20200327/20200327-173532-0462.log"
     ]
    },
    "run_through_control": {
     "frozen": true,
     "read_only": false
    }
   },
   "outputs": [
    {
     "name": "stdout",
     "output_type": "stream",
     "text": [
      "user01:$6$Z5MQud/y0Ume9EPH$A8bplGBWKeYFpbDS91/NNGbX80aCaKAEDr7wOhdswPYvOsaiGh446+6IF5fag7EjV8GzirudJsQOV3ubA4sh1Q==\n",
      "user02:$6$HSfbzGThVLJgc8jl$gCmkqg0+Q4qyVzwZCRf3Ynsjxc/MGtjHvMT6vY4CRVOLphp1my7jLLc9VZpVo1ga1TknYj3t26Pzcg+zsQpuFw==\n",
      "user03:$6$Dw4TN0L41wXi2bH2$MQvotJU1bEjanrhpQ9PHkB+T3ZYp9wrI4rxE2mHYVvrbaZJfCCJASCZ24CdWVHJcf9cXvEG/7Wd8/j32HlIAgg==\n"
     ]
    }
   ],
   "source": [
    "ssh ${user}@${server} 'cd mosquitto && docker run -v $PWD/config:/mosquitto/config eclipse-mosquitto:1.6 mosquitto_passwd -U /mosquitto/config/mosquitto.passwd'\n",
    "ssh ${user}@${server} 'cat mosquitto/config/mosquitto.passwd'"
   ]
  },
  {
   "cell_type": "markdown",
   "metadata": {
    "lc_cell_meme": {
     "current": "a50bcfa0-62a9-11ea-804d-0242ac160002",
     "execution_end_time": "2020-03-10T08:31:57.509162Z",
     "next": "a8537fbc-5793-11ea-804d-0242ac160002",
     "previous": "029b3aca-5797-11ea-804d-0242ac160002"
    },
    "lc_wrapper": {
     "log_history": [
      "/notebooks/notebook/tmp/サーバ構築手順/.log/20200310/20200310-173157-0393.log"
     ]
    }
   },
   "source": [
    "mosquittoを起動する。"
   ]
  },
  {
   "cell_type": "code",
   "execution_count": null,
   "metadata": {
    "lc_cell_meme": {
     "current": "a8537fbc-5793-11ea-804d-0242ac160002",
     "history": [
      {
       "current": "a8537fbc-5793-11ea-804d-0242ac160002",
       "next": "1943ac16-5793-11ea-804d-0242ac160002",
       "previous": "60caed60-5793-11ea-804d-0242ac160002"
      },
      {
       "current": "a8537fbc-5793-11ea-804d-0242ac160002",
       "next": null,
       "previous": "3760320e-5794-11ea-804d-0242ac160002"
      },
      {
       "current": "a8537fbc-5793-11ea-804d-0242ac160002",
       "next": null,
       "previous": "7ef89412-5794-11ea-804d-0242ac160002"
      },
      {
       "current": "a8537fbc-5793-11ea-804d-0242ac160002",
       "next": null,
       "previous": "2c0b8622-5796-11ea-804d-0242ac160002"
      },
      {
       "current": "a8537fbc-5793-11ea-804d-0242ac160002",
       "next": null,
       "previous": "738ef498-5796-11ea-804d-0242ac160002"
      },
      {
       "current": "a8537fbc-5793-11ea-804d-0242ac160002",
       "next": null,
       "previous": "bb12bf48-5796-11ea-804d-0242ac160002"
      },
      {
       "current": "a8537fbc-5793-11ea-804d-0242ac160002",
       "next": "ebf03b32-579a-11ea-804d-0242ac160002",
       "previous": "029b3aca-5797-11ea-804d-0242ac160002"
      },
      {
       "current": "a8537fbc-5793-11ea-804d-0242ac160002",
       "next": null,
       "previous": "a50bcfa0-62a9-11ea-804d-0242ac160002"
      }
     ],
     "next": "35a13fca-6361-11ea-804d-0242ac160002",
     "previous": "a50bcfa0-62a9-11ea-804d-0242ac160002"
    },
    "lc_wrapper": {
     "log_history": [
      "/notebooks/notebook/tmp/サーバ構築手順/.log/20200225/20200225-154849-0956.log",
      "/notebooks/notebook/tmp/サーバ構築手順/.log/20200311/20200311-161415-0701.log",
      "/notebooks/notebook/tmp/サーバ構築手順/.log/20200327/20200327-171027-0633.log"
     ]
    }
   },
   "outputs": [],
   "source": [
    "ssh ${user}@${server} 'cd mosquitto && docker-compose up -d'\n",
    "ssh ${user}@${server} 'cd mosquitto && docker-compose ps'"
   ]
  },
  {
   "cell_type": "markdown",
   "metadata": {
    "lc_cell_meme": {
     "current": "35a13fca-6361-11ea-804d-0242ac160002",
     "history": [
      {
       "current": "35a13fca-6361-11ea-804d-0242ac160002",
       "next": "35a141b4-6361-11ea-804d-0242ac160002",
       "previous": "a8537fbc-5793-11ea-804d-0242ac160002"
      }
     ],
     "next": "8ef74e54-7002-11ea-804d-0242ac160002",
     "previous": "a8537fbc-5793-11ea-804d-0242ac160002"
    }
   },
   "source": [
    "## ユーザ追加"
   ]
  },
  {
   "cell_type": "markdown",
   "metadata": {
    "lc_cell_meme": {
     "current": "8ef74e54-7002-11ea-804d-0242ac160002",
     "execution_end_time": "2020-03-27T08:13:10.297431Z",
     "next": "35a141b4-6361-11ea-804d-0242ac160002",
     "previous": "35a13fca-6361-11ea-804d-0242ac160002"
    },
    "lc_wrapper": {
     "log_history": [
      "/notebooks/notebook/tmp/サーバ構築手順/.log/20200327/20200327-171310-0080.log"
     ]
    }
   },
   "source": [
    "mosquitto起動後にユーザを追加するには `mosquitto_passwd` コマンドでユーザをパスワードファイルに追加した後、\n",
    "mosquittoを再起動して新しいパスワードファイルを反映する必要がある。\n",
    "ここではコンテナごと再起動している。"
   ]
  },
  {
   "cell_type": "code",
   "execution_count": null,
   "metadata": {
    "lc_cell_meme": {
     "current": "35a141b4-6361-11ea-804d-0242ac160002",
     "history": [
      {
       "current": "35a141b4-6361-11ea-804d-0242ac160002",
       "next": null,
       "previous": "35a13fca-6361-11ea-804d-0242ac160002"
      }
     ],
     "next": null,
     "previous": "8ef74e54-7002-11ea-804d-0242ac160002"
    },
    "lc_wrapper": {
     "log_history": [
      "/notebooks/notebook/tmp/サーバ構築手順/.log/20200311/20200311-173715-0203.log"
     ]
    }
   },
   "outputs": [],
   "source": [
    "ssh ${user}@${server} 'cd mosquitto && docker run -v $PWD/config:/mosquitto/config eclipse-mosquitto:1.6 mosquitto_passwd -b /mosquitto/config/mosquitto.passwd user04 user04-pass'\n",
    "ssh ${user}@${server} 'cd mosquitto && cat >> config/mosquitto.acl && cat config/mosquitto.acl' << EOF\n",
    "user user04\n",
    "topic readwrite +\n",
    "\n",
    "EOF\n",
    "ssh ${user}@${server} 'cd mosquitto && docker-compose restart'"
   ]
  }
 ],
 "metadata": {
  "kernelspec": {
   "display_name": "Bash",
   "language": "bash",
   "name": "bash"
  },
  "language_info": {
   "name": "bash"
  },
  "lc_notebook_meme": {
   "current": "4e06817e-5790-11ea-804d-0242ac160002",
   "lc_server_signature": {
    "current": {
     "notebook_dir": "/notebooks/notebook",
     "notebook_path": "/tmp/サーバ構築手順",
     "server_url": "https://vcc3056.vcp-handson.org/jupyter/",
     "signature_id": "b59f511c-eef9-11e9-9194-0242ac130002"
    },
    "history": []
   }
  },
  "toc": {
   "base_numbering": 1,
   "nav_menu": {},
   "number_sections": true,
   "sideBar": true,
   "skip_h1_title": false,
   "title_cell": "Table of Contents",
   "title_sidebar": "Contents",
   "toc_cell": false,
   "toc_position": {},
   "toc_section_display": true,
   "toc_window_display": false
  }
 },
 "nbformat": 4,
 "nbformat_minor": 2
}
