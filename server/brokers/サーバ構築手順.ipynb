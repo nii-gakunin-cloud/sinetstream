{
 "cells": [
  {
   "cell_type": "markdown",
   "metadata": {
    "lc_cell_meme": {
     "current": "46566a54-90ff-11ea-972a-0242ac160002",
     "execution_end_time": "2020-05-08T07:40:05.704239Z",
     "next": null,
     "previous": null
    },
    "lc_wrapper": {
     "log_history": [
      "/notebooks/notebook/tmp/サーバ構築手順/.log/20200508/20200508-164005-0492.log"
     ]
    }
   },
   "source": [
    "# サーバ構築手順\n",
    "\n",
    "SINETStream のサーバ側のメッセージング基盤として\n",
    "Apache KafkaとEclipse Mosquittoの設定方法を\n",
    "以下のノートブックに記した。\n",
    "\n",
    "* [プライベート認証局で証明書を作成](プライベート認証局で証明書を作成.ipynb)\n",
    "* [mosquitto構築手順](mosquitto構築手順.ipynb)\n",
    "* [Kafka brokerの構築手順](Kafkabrokerの構築手順.ipynb)\n",
    "\n",
    "これらのノートブックでは\n",
    "[bashカーネル](https://github.com/takluyver/bash_kernel)\n",
    "を使用しているので事前にインストールしておくこと。\n",
    "\n",
    "サーバを構築するうえでいくつか選択肢があるが、\n",
    "本構築手順では手順を簡単にするため選択肢を固定した。\n",
    "\n",
    "* 暗号化(SSL/TLS)の有無 → 暗号化有の手順のみ記述\n",
    "* 認証(authentication)の有無 → 認証有の手順のみ記述(認証の種類については各ノートブックに記述)\n",
    "* 認可(authorization)の有無 → 認可有の手順のみ記述\n",
    "\n",
    "SSL/TLSで使用するCA証明書・サーバ秘密鍵・サーバ証明書であるが、\n",
    "[プライベート認証局で証明書を作成](プライベート認証局で証明書を作成.ipynb)\n",
    "の手順にしたがって作成するか、外部のCAにより署名されたものを用意する必要がある。\n",
    "Kafkaはクラスタ構成にできるが、サーバ証明書はつかいまわすので1つだけ用意すればよい。\n",
    "\n",
    "ノートブックがうごいているサーバからブローカを動かすサーバにsshで接続して構築手順になっているので、\n",
    "パスワードなしにsshが接続できるよう事前に設定しておく必要がある。\n",
    "\n",
    "ブローカを動かすサーバ上でdockerを利用するので事前に導入しておく必要がある。"
   ]
  }
 ],
 "metadata": {
  "kernelspec": {
   "display_name": "Python 3",
   "language": "python",
   "name": "python3"
  },
  "language_info": {
   "file_extension": ".py",
   "mimetype": "text/x-python",
   "name": "python",
   "nbconvert_exporter": "python",
   "pygments_lexer": "ipython3",
   "version": "3.7.3"
  },
  "lc_notebook_meme": {
   "current": "46566432-90ff-11ea-972a-0242ac160002",
   "lc_server_signature": {
    "current": {
     "notebook_dir": "/notebooks/notebook",
     "notebook_path": "/tmp/サーバ構築手順",
     "server_url": "https://vcc3056.vcp-handson.org/jupyter/",
     "signature_id": "b59f511c-eef9-11e9-9194-0242ac130002"
    },
    "history": []
   }
  },
  "toc": {
   "base_numbering": 1,
   "nav_menu": {},
   "number_sections": true,
   "sideBar": true,
   "skip_h1_title": true,
   "title_cell": "Table of Contents",
   "title_sidebar": "Contents",
   "toc_cell": false,
   "toc_position": {},
   "toc_section_display": true,
   "toc_window_display": false
  }
 },
 "nbformat": 4,
 "nbformat_minor": 2
}
