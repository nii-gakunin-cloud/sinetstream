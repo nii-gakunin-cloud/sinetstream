{
 "cells": [
  {
   "cell_type": "markdown",
   "metadata": {
    "lc_cell_meme": {
     "current": "77a824c0-6dab-11ea-804d-0242ac160002",
     "history": [
      {
       "current": "77a824c0-6dab-11ea-804d-0242ac160002",
       "next": "77a8272c-6dab-11ea-804d-0242ac160002",
       "previous": null
      }
     ],
     "next": "695135b8-6fec-11ea-804d-0242ac160002",
     "previous": null
    }
   },
   "source": [
    "# プライベート認証局で証明書を作成する"
   ]
  },
  {
   "cell_type": "markdown",
   "metadata": {
    "lc_cell_meme": {
     "current": "695135b8-6fec-11ea-804d-0242ac160002",
     "next": "77a8272c-6dab-11ea-804d-0242ac160002",
     "previous": "77a824c0-6dab-11ea-804d-0242ac160002"
    }
   },
   "source": [
    "概要: `server` 上にdockerコンテナでCentOS 7を立ち上げ、その中にCAを構築しサーバー証明書・クライアント証明書を発行する。\n",
    "\n",
    "詳細なドキュメントは [プライベート認証局における証明書の作成手順](../../docs/userguide/certificate.md) を参照のこと。"
   ]
  },
  {
   "cell_type": "markdown",
   "metadata": {
    "lc_cell_meme": {
     "current": "77a8272c-6dab-11ea-804d-0242ac160002",
     "history": [
      {
       "current": "77a8272c-6dab-11ea-804d-0242ac160002",
       "next": "86905786-6429-11ea-804d-0242ac160002",
       "previous": "77a824c0-6dab-11ea-804d-0242ac160002"
      }
     ],
     "next": "86905786-6429-11ea-804d-0242ac160002",
     "previous": "695135b8-6fec-11ea-804d-0242ac160002"
    }
   },
   "source": [
    "## プライベート認証局を構築する"
   ]
  },
  {
   "cell_type": "code",
   "execution_count": 1,
   "metadata": {
    "deletable": false,
    "editable": false,
    "lc_cell_meme": {
     "current": "86905786-6429-11ea-804d-0242ac160002",
     "execution_end_time": "2020-03-24T09:54:44.416943Z",
     "history": [
      {
       "current": "86905786-6429-11ea-804d-0242ac160002",
       "next": "86905858-6429-11ea-804d-0242ac160002",
       "previous": null
      },
      {
       "current": "86905786-6429-11ea-804d-0242ac160002",
       "next": "33b3d4c8-642b-11ea-804d-0242ac160002",
       "previous": null
      },
      {
       "current": "86905786-6429-11ea-804d-0242ac160002",
       "next": "33b3d4c8-642b-11ea-804d-0242ac160002",
       "previous": "77a8272c-6dab-11ea-804d-0242ac160002"
      }
     ],
     "next": "bf329dca-6dab-11ea-804d-0242ac160002",
     "previous": "77a8272c-6dab-11ea-804d-0242ac160002"
    },
    "lc_wrapper": {
     "log_history": [
      "/notebooks/notebook/tmp/サーバ構築手順/.log/20200312/20200312-153013-0276.log",
      "/notebooks/notebook/tmp/サーバ構築手順/.log/20200312/20200312-153729-0705.log",
      "/notebooks/notebook/tmp/サーバ構築手順/.log/20200312/20200312-155505-0495.log",
      "/notebooks/notebook/tmp/サーバ構築手順/.log/20200324/20200324-184706-0988.log",
      "/notebooks/notebook/tmp/サーバ構築手順/.log/20200324/20200324-185443-0901.log"
     ]
    },
    "run_through_control": {
     "frozen": true
    }
   },
   "outputs": [],
   "source": [
    "server=server1.example.jp\n",
    "user=piyo\n",
    "\n",
    "country=\"JP\"\n",
    "\n",
    "subject=\"/C=${country}/ST=Example_State/O=Example_Organization/CN=private-ca\"\n",
    "server_fqdn=\"broker.example.org\"\n",
    "\n",
    "client_common_name=\"client0\""
   ]
  },
  {
   "cell_type": "markdown",
   "metadata": {
    "lc_cell_meme": {
     "current": "bf329dca-6dab-11ea-804d-0242ac160002",
     "execution_end_time": "2020-03-24T08:45:18.620468Z",
     "next": "33b3d4c8-642b-11ea-804d-0242ac160002",
     "previous": "86905786-6429-11ea-804d-0242ac160002"
    },
    "lc_wrapper": {
     "log_history": [
      "/notebooks/notebook/tmp/サーバ構築手順/.log/20200324/20200324-174518-0512.log"
     ]
    }
   },
   "source": [
    "### ここで示す手順は CentOS 7 で実行することを前提としている。"
   ]
  },
  {
   "cell_type": "code",
   "execution_count": 2,
   "metadata": {
    "deletable": false,
    "editable": false,
    "lc_cell_meme": {
     "current": "33b3d4c8-642b-11ea-804d-0242ac160002",
     "execution_end_time": "2020-03-24T09:54:47.690605Z",
     "history": [
      {
       "current": "33b3d4c8-642b-11ea-804d-0242ac160002",
       "next": null,
       "previous": "86905858-6429-11ea-804d-0242ac160002"
      },
      {
       "current": "33b3d4c8-642b-11ea-804d-0242ac160002",
       "next": "c2bbfad8-642b-11ea-804d-0242ac160002",
       "previous": "86905786-6429-11ea-804d-0242ac160002"
      },
      {
       "current": "33b3d4c8-642b-11ea-804d-0242ac160002",
       "next": "0a421b12-642c-11ea-804d-0242ac160002",
       "previous": "86905786-6429-11ea-804d-0242ac160002"
      },
      {
       "current": "33b3d4c8-642b-11ea-804d-0242ac160002",
       "next": "0a421b12-642c-11ea-804d-0242ac160002",
       "previous": "bf329dca-6dab-11ea-804d-0242ac160002"
      }
     ],
     "next": "06e4619e-6dac-11ea-804d-0242ac160002",
     "previous": "bf329dca-6dab-11ea-804d-0242ac160002"
    },
    "lc_wrapper": {
     "log_history": [
      "/notebooks/notebook/tmp/サーバ構築手順/.log/20200312/20200312-153103-0597.log",
      "/notebooks/notebook/tmp/サーバ構築手順/.log/20200312/20200312-153228-0311.log",
      "/notebooks/notebook/tmp/サーバ構築手順/.log/20200312/20200312-153354-0997.log",
      "/notebooks/notebook/tmp/サーバ構築手順/.log/20200312/20200312-153717-0882.log",
      "/notebooks/notebook/tmp/サーバ構築手順/.log/20200312/20200312-153724-0217.log",
      "/notebooks/notebook/tmp/サーバ構築手順/.log/20200312/20200312-153732-0546.log",
      "/notebooks/notebook/tmp/サーバ構築手順/.log/20200312/20200312-155508-0461.log",
      "/notebooks/notebook/tmp/サーバ構築手順/.log/20200324/20200324-185446-0559.log"
     ]
    },
    "run_through_control": {
     "frozen": true
    },
    "scrolled": true
   },
   "outputs": [
    {
     "name": "stdout",
     "output_type": "stream",
     "text": [
      "c654874e8c7b777f9ffb4ee2ccab2521798665ddc07aced14b602219afe55ce4\n",
      "CONTAINER ID        IMAGE                            COMMAND                  CREATED             STATUS                  PORTS                                            NAMES\n",
      "c654874e8c7b        centos:7                         \"/bin/bash\"              1 second ago        Up Less than a second                                                    sinetstream_ca\n",
      "33b8b736b890        eclipse-mosquitto:1.6            \"/docker-entrypoint.…\"   13 days ago         Up 13 days              0.0.0.0:1883->1883/tcp, 0.0.0.0:9001->9001/tcp   mosquitto_mosquitto_1\n",
      "6adecd62865a        hlebalbau/kafka-manager:stable   \"/kafka-manager/bin/…\"   3 months ago        Up 3 months                                                              manager_kafka-manager_1\n",
      "ece7b78ddfb7        zookeeper                        \"/docker-entrypoint.…\"   10 months ago       Up 3 months             2181/tcp, 2888/tcp, 3888/tcp                     some-zookeeper\n"
     ]
    }
   ],
   "source": [
    "ssh ${user}@${server} 'docker run --detach --tty --name sinetstream_ca centos:7'\n",
    "ssh ${user}@${server} 'docker ps'"
   ]
  },
  {
   "cell_type": "markdown",
   "metadata": {
    "lc_cell_meme": {
     "current": "06e4619e-6dac-11ea-804d-0242ac160002",
     "next": "0a421b12-642c-11ea-804d-0242ac160002",
     "previous": "33b3d4c8-642b-11ea-804d-0242ac160002"
    }
   },
   "source": [
    "### openssl パッケージをインストールする"
   ]
  },
  {
   "cell_type": "code",
   "execution_count": 3,
   "metadata": {
    "deletable": false,
    "editable": false,
    "lc_cell_meme": {
     "current": "0a421b12-642c-11ea-804d-0242ac160002",
     "execution_end_time": "2020-03-24T09:55:59.060430Z",
     "history": [
      {
       "current": "0a421b12-642c-11ea-804d-0242ac160002",
       "next": "c2bbfad8-642b-11ea-804d-0242ac160002",
       "previous": "33b3d4c8-642b-11ea-804d-0242ac160002"
      }
     ],
     "next": "c2bbfad8-642b-11ea-804d-0242ac160002",
     "previous": "06e4619e-6dac-11ea-804d-0242ac160002"
    },
    "lc_wrapper": {
     "log_history": [
      "/notebooks/notebook/tmp/サーバ構築手順/.log/20200312/20200312-153711-0302.log",
      "/notebooks/notebook/tmp/サーバ構築手順/.log/20200312/20200312-153739-0692.log",
      "/notebooks/notebook/tmp/サーバ構築手順/.log/20200312/20200312-153759-0322.log",
      "/notebooks/notebook/tmp/サーバ構築手順/.log/20200312/20200312-155512-0132.log",
      "/notebooks/notebook/tmp/サーバ構築手順/.log/20200324/20200324-185449-0422.log"
     ]
    },
    "run_through_control": {
     "frozen": true
    }
   },
   "outputs": [
    {
     "name": "stdout",
     "output_type": "stream",
     "text": [
      "Loaded plugins: fastestmirror, ovl\n",
      "Determining fastest mirrors\n",
      " * base: ftp.riken.jp\n",
      " * extras: ftp.riken.jp\n",
      " * updates: ftp.riken.jp\n",
      "Resolving Dependencies\n",
      "--> Running transaction check\n",
      "---> Package binutils.x86_64 0:2.27-41.base.el7 will be updated\n",
      "---> Package binutils.x86_64 0:2.27-41.base.el7_7.3 will be an update\n",
      "---> Package ca-certificates.noarch 0:2018.2.22-70.0.el7_5 will be updated\n",
      "---> Package ca-certificates.noarch 0:2019.2.32-76.el7_7 will be an update\n",
      "---> Package curl.x86_64 0:7.29.0-54.el7 will be updated\n",
      "---> Package curl.x86_64 0:7.29.0-54.el7_7.2 will be an update\n",
      "---> Package device-mapper.x86_64 7:1.02.158-2.el7 will be updated\n",
      "---> Package device-mapper.x86_64 7:1.02.158-2.el7_7.2 will be an update\n",
      "---> Package device-mapper-libs.x86_64 7:1.02.158-2.el7 will be updated\n",
      "---> Package device-mapper-libs.x86_64 7:1.02.158-2.el7_7.2 will be an update\n",
      "---> Package hostname.x86_64 0:3.13-3.el7 will be updated\n",
      "---> Package hostname.x86_64 0:3.13-3.el7_7.1 will be an update\n",
      "---> Package kmod.x86_64 0:20-25.el7 will be updated\n",
      "---> Package kmod.x86_64 0:20-25.el7_7.1 will be an update\n",
      "---> Package kmod-libs.x86_64 0:20-25.el7 will be updated\n",
      "---> Package kmod-libs.x86_64 0:20-25.el7_7.1 will be an update\n",
      "---> Package libblkid.x86_64 0:2.23.2-61.el7 will be updated\n",
      "---> Package libblkid.x86_64 0:2.23.2-61.el7_7.1 will be an update\n",
      "---> Package libcurl.x86_64 0:7.29.0-54.el7 will be updated\n",
      "---> Package libcurl.x86_64 0:7.29.0-54.el7_7.2 will be an update\n",
      "---> Package libmount.x86_64 0:2.23.2-61.el7 will be updated\n",
      "---> Package libmount.x86_64 0:2.23.2-61.el7_7.1 will be an update\n",
      "---> Package libsmartcols.x86_64 0:2.23.2-61.el7 will be updated\n",
      "---> Package libsmartcols.x86_64 0:2.23.2-61.el7_7.1 will be an update\n",
      "---> Package libuuid.x86_64 0:2.23.2-61.el7 will be updated\n",
      "---> Package libuuid.x86_64 0:2.23.2-61.el7_7.1 will be an update\n",
      "---> Package nss.x86_64 0:3.44.0-4.el7 will be updated\n",
      "---> Package nss.x86_64 0:3.44.0-7.el7_7 will be an update\n",
      "---> Package nss-softokn.x86_64 0:3.44.0-5.el7 will be updated\n",
      "---> Package nss-softokn.x86_64 0:3.44.0-8.el7_7 will be an update\n",
      "---> Package nss-softokn-freebl.x86_64 0:3.44.0-5.el7 will be updated\n",
      "---> Package nss-softokn-freebl.x86_64 0:3.44.0-8.el7_7 will be an update\n",
      "---> Package nss-sysinit.x86_64 0:3.44.0-4.el7 will be updated\n",
      "---> Package nss-sysinit.x86_64 0:3.44.0-7.el7_7 will be an update\n",
      "---> Package nss-tools.x86_64 0:3.44.0-4.el7 will be updated\n",
      "---> Package nss-tools.x86_64 0:3.44.0-7.el7_7 will be an update\n",
      "---> Package nss-util.x86_64 0:3.44.0-3.el7 will be updated\n",
      "---> Package nss-util.x86_64 0:3.44.0-4.el7_7 will be an update\n",
      "---> Package procps-ng.x86_64 0:3.3.10-26.el7 will be updated\n",
      "---> Package procps-ng.x86_64 0:3.3.10-26.el7_7.1 will be an update\n",
      "---> Package sqlite.x86_64 0:3.7.17-8.el7 will be updated\n",
      "---> Package sqlite.x86_64 0:3.7.17-8.el7_7.1 will be an update\n",
      "---> Package systemd.x86_64 0:219-67.el7_7.1 will be updated\n",
      "---> Package systemd.x86_64 0:219-67.el7_7.4 will be an update\n",
      "---> Package systemd-libs.x86_64 0:219-67.el7_7.1 will be updated\n",
      "---> Package systemd-libs.x86_64 0:219-67.el7_7.4 will be an update\n",
      "---> Package tzdata.noarch 0:2019b-1.el7 will be updated\n",
      "---> Package tzdata.noarch 0:2019c-1.el7 will be an update\n",
      "---> Package util-linux.x86_64 0:2.23.2-61.el7 will be updated\n",
      "---> Package util-linux.x86_64 0:2.23.2-61.el7_7.1 will be an update\n",
      "--> Finished Dependency Resolution\n",
      "\n",
      "Dependencies Resolved\n",
      "\n",
      "================================================================================\n",
      " Package                Arch       Version                    Repository   Size\n",
      "================================================================================\n",
      "Updating:\n",
      " binutils               x86_64     2.27-41.base.el7_7.3       updates     5.9 M\n",
      " ca-certificates        noarch     2019.2.32-76.el7_7         updates     399 k\n",
      " curl                   x86_64     7.29.0-54.el7_7.2          updates     270 k\n",
      " device-mapper          x86_64     7:1.02.158-2.el7_7.2       updates     294 k\n",
      " device-mapper-libs     x86_64     7:1.02.158-2.el7_7.2       updates     322 k\n",
      " hostname               x86_64     3.13-3.el7_7.1             updates      17 k\n",
      " kmod                   x86_64     20-25.el7_7.1              updates     122 k\n",
      " kmod-libs              x86_64     20-25.el7_7.1              updates      51 k\n",
      " libblkid               x86_64     2.23.2-61.el7_7.1          updates     181 k\n",
      " libcurl                x86_64     7.29.0-54.el7_7.2          updates     223 k\n",
      " libmount               x86_64     2.23.2-61.el7_7.1          updates     183 k\n",
      " libsmartcols           x86_64     2.23.2-61.el7_7.1          updates     141 k\n",
      " libuuid                x86_64     2.23.2-61.el7_7.1          updates      83 k\n",
      " nss                    x86_64     3.44.0-7.el7_7             updates     854 k\n",
      " nss-softokn            x86_64     3.44.0-8.el7_7             updates     330 k\n",
      " nss-softokn-freebl     x86_64     3.44.0-8.el7_7             updates     224 k\n",
      " nss-sysinit            x86_64     3.44.0-7.el7_7             updates      65 k\n",
      " nss-tools              x86_64     3.44.0-7.el7_7             updates     528 k\n",
      " nss-util               x86_64     3.44.0-4.el7_7             updates      79 k\n",
      " procps-ng              x86_64     3.3.10-26.el7_7.1          updates     291 k\n",
      " sqlite                 x86_64     3.7.17-8.el7_7.1           updates     394 k\n",
      " systemd                x86_64     219-67.el7_7.4             updates     5.1 M\n",
      " systemd-libs           x86_64     219-67.el7_7.4             updates     411 k\n",
      " tzdata                 noarch     2019c-1.el7                updates     493 k\n",
      " util-linux             x86_64     2.23.2-61.el7_7.1          updates     2.0 M\n",
      "\n",
      "Transaction Summary\n",
      "================================================================================\n",
      "Upgrade  25 Packages\n",
      "\n",
      "Total download size: 19 M\n",
      "Downloading packages:\n",
      "Delta RPMs disabled because /usr/bin/applydeltarpm not installed.\n",
      "Public key for ca-certificates-2019.2.32-76.el7_7.noarch.rpm is not installed\n",
      "warning: /var/cache/yum/x86_64/7/updates/packages/ca-certificates-2019.2.32-76.el7_7.noarch.rpm: Header V3 RSA/SHA256 Signature, key ID f4a80eb5: NOKEY\n",
      "--------------------------------------------------------------------------------\n",
      "Total                                               63 MB/s |  19 MB  00:00     \n",
      "Retrieving key from file:///etc/pki/rpm-gpg/RPM-GPG-KEY-CentOS-7\n",
      "Importing GPG key 0xF4A80EB5:\n",
      " Userid     : \"CentOS-7 Key (CentOS 7 Official Signing Key) <security@centos.org>\"\n",
      " Fingerprint: 6341 ab27 53d7 8a78 a7c2 7bb1 24c6 a8a7 f4a8 0eb5\n",
      " Package    : centos-release-7-7.1908.0.el7.centos.x86_64 (@CentOS)\n",
      " From       : /etc/pki/rpm-gpg/RPM-GPG-KEY-CentOS-7\n",
      "Running transaction check\n",
      "Running transaction test\n",
      "Transaction test succeeded\n",
      "Running transaction\n",
      "  Updating   : nss-util-3.44.0-4.el7_7.x86_64                              1/50 \n",
      "  Updating   : systemd-libs-219-67.el7_7.4.x86_64                          2/50 \n",
      "  Updating   : libuuid-2.23.2-61.el7_7.1.x86_64                            3/50 \n",
      "  Updating   : libblkid-2.23.2-61.el7_7.1.x86_64                           4/50 \n",
      "  Updating   : libmount-2.23.2-61.el7_7.1.x86_64                           5/50 \n",
      "  Updating   : nss-softokn-freebl-3.44.0-8.el7_7.x86_64                    6/50 \n",
      "  Updating   : libsmartcols-2.23.2-61.el7_7.1.x86_64                       7/50 \n",
      "  Updating   : util-linux-2.23.2-61.el7_7.1.x86_64                         8/50 \n",
      "  Updating   : binutils-2.27-41.base.el7_7.3.x86_64                        9/50 \n",
      "install-info: No such file or directory for /usr/share/info/as.info.gz\n",
      "install-info: No such file or directory for /usr/share/info/binutils.info.gz\n",
      "install-info: No such file or directory for /usr/share/info/gprof.info.gz\n",
      "install-info: No such file or directory for /usr/share/info/ld.info.gz\n",
      "install-info: No such file or directory for /usr/share/info/standards.info.gz\n",
      "  Updating   : kmod-20-25.el7_7.1.x86_64                                  10/50 \n",
      "  Updating   : kmod-libs-20-25.el7_7.1.x86_64                             11/50 \n",
      "  Updating   : sqlite-3.7.17-8.el7_7.1.x86_64                             12/50 \n",
      "  Updating   : nss-softokn-3.44.0-8.el7_7.x86_64                          13/50 \n",
      "  Updating   : nss-sysinit-3.44.0-7.el7_7.x86_64                          14/50 \n",
      "  Updating   : nss-3.44.0-7.el7_7.x86_64                                  15/50 \n",
      "  Updating   : libcurl-7.29.0-54.el7_7.2.x86_64                           16/50 \n",
      "  Updating   : systemd-219-67.el7_7.4.x86_64                              17/50 \n",
      "Failed to get D-Bus connection: Operation not permitted\n",
      "  Updating   : 7:device-mapper-libs-1.02.158-2.el7_7.2.x86_64             18/50 \n",
      "  Updating   : 7:device-mapper-1.02.158-2.el7_7.2.x86_64                  19/50 \n",
      "  Updating   : curl-7.29.0-54.el7_7.2.x86_64                              20/50 \n",
      "  Updating   : nss-tools-3.44.0-7.el7_7.x86_64                            21/50 \n",
      "  Updating   : procps-ng-3.3.10-26.el7_7.1.x86_64                         22/50 \n",
      "  Updating   : tzdata-2019c-1.el7.noarch                                  23/50 \n",
      "  Updating   : hostname-3.13-3.el7_7.1.x86_64                             24/50 \n",
      "  Updating   : ca-certificates-2019.2.32-76.el7_7.noarch                  25/50 \n",
      "  Cleanup    : nss-tools-3.44.0-4.el7.x86_64                              26/50 \n",
      "  Cleanup    : curl-7.29.0-54.el7.x86_64                                  27/50 \n",
      "  Cleanup    : 7:device-mapper-1.02.158-2.el7.x86_64                      28/50 \n",
      "  Cleanup    : 7:device-mapper-libs-1.02.158-2.el7.x86_64                 29/50 \n",
      "  Cleanup    : systemd-219-67.el7_7.1.x86_64                              30/50 \n",
      "  Cleanup    : util-linux-2.23.2-61.el7.x86_64                            31/50 \n",
      "  Cleanup    : libcurl-7.29.0-54.el7.x86_64                               32/50 \n",
      "  Cleanup    : nss-sysinit-3.44.0-4.el7.x86_64                            33/50 \n",
      "  Cleanup    : nss-3.44.0-4.el7.x86_64                                    34/50 \n",
      "  Cleanup    : nss-softokn-3.44.0-5.el7.x86_64                            35/50 \n",
      "  Cleanup    : libmount-2.23.2-61.el7.x86_64                              36/50 \n",
      "  Cleanup    : libblkid-2.23.2-61.el7.x86_64                              37/50 \n",
      "  Cleanup    : nss-softokn-freebl-3.44.0-5.el7.x86_64                     38/50 \n",
      "  Cleanup    : kmod-20-25.el7.x86_64                                      39/50 \n",
      "  Cleanup    : procps-ng-3.3.10-26.el7.x86_64                             40/50 \n",
      "  Cleanup    : tzdata-2019b-1.el7.noarch                                  41/50 \n",
      "  Cleanup    : ca-certificates-2018.2.22-70.0.el7_5.noarch                42/50 \n",
      "  Cleanup    : systemd-libs-219-67.el7_7.1.x86_64                         43/50 \n",
      "  Cleanup    : binutils-2.27-41.base.el7.x86_64                           44/50 \n",
      "  Cleanup    : nss-util-3.44.0-3.el7.x86_64                               45/50 \n",
      "  Cleanup    : libuuid-2.23.2-61.el7.x86_64                               46/50 \n",
      "  Cleanup    : sqlite-3.7.17-8.el7.x86_64                                 47/50 \n",
      "  Cleanup    : libsmartcols-2.23.2-61.el7.x86_64                          48/50 \n",
      "  Cleanup    : kmod-libs-20-25.el7.x86_64                                 49/50 \n",
      "  Cleanup    : hostname-3.13-3.el7.x86_64                                 50/50 \n",
      "  Verifying  : util-linux-2.23.2-61.el7_7.1.x86_64                         1/50 \n",
      "  Verifying  : nss-tools-3.44.0-7.el7_7.x86_64                             2/50 \n",
      "  Verifying  : systemd-libs-219-67.el7_7.4.x86_64                          3/50 \n",
      "  Verifying  : 7:device-mapper-libs-1.02.158-2.el7_7.2.x86_64              4/50 \n",
      "  Verifying  : 7:device-mapper-1.02.158-2.el7_7.2.x86_64                   5/50 \n",
      "  Verifying  : sqlite-3.7.17-8.el7_7.1.x86_64                              6/50 \n",
      "  Verifying  : procps-ng-3.3.10-26.el7_7.1.x86_64                          7/50 \n",
      "  Verifying  : kmod-20-25.el7_7.1.x86_64                                   8/50 \n",
      "  Verifying  : curl-7.29.0-54.el7_7.2.x86_64                               9/50 \n",
      "  Verifying  : ca-certificates-2019.2.32-76.el7_7.noarch                  10/50 \n",
      "  Verifying  : libuuid-2.23.2-61.el7_7.1.x86_64                           11/50 \n",
      "  Verifying  : kmod-libs-20-25.el7_7.1.x86_64                             12/50 \n",
      "  Verifying  : binutils-2.27-41.base.el7_7.3.x86_64                       13/50 \n",
      "  Verifying  : hostname-3.13-3.el7_7.1.x86_64                             14/50 \n",
      "  Verifying  : nss-sysinit-3.44.0-7.el7_7.x86_64                          15/50 \n",
      "  Verifying  : libmount-2.23.2-61.el7_7.1.x86_64                          16/50 \n",
      "  Verifying  : systemd-219-67.el7_7.4.x86_64                              17/50 \n",
      "  Verifying  : nss-softokn-3.44.0-8.el7_7.x86_64                          18/50 \n",
      "  Verifying  : libsmartcols-2.23.2-61.el7_7.1.x86_64                      19/50 \n",
      "  Verifying  : tzdata-2019c-1.el7.noarch                                  20/50 \n",
      "  Verifying  : libcurl-7.29.0-54.el7_7.2.x86_64                           21/50 \n",
      "  Verifying  : nss-3.44.0-7.el7_7.x86_64                                  22/50 \n",
      "  Verifying  : nss-util-3.44.0-4.el7_7.x86_64                             23/50 \n",
      "  Verifying  : nss-softokn-freebl-3.44.0-8.el7_7.x86_64                   24/50 \n",
      "  Verifying  : libblkid-2.23.2-61.el7_7.1.x86_64                          25/50 \n",
      "  Verifying  : nss-tools-3.44.0-4.el7.x86_64                              26/50 \n",
      "  Verifying  : curl-7.29.0-54.el7.x86_64                                  27/50 \n",
      "  Verifying  : nss-softokn-freebl-3.44.0-5.el7.x86_64                     28/50 \n",
      "  Verifying  : util-linux-2.23.2-61.el7.x86_64                            29/50 \n",
      "  Verifying  : nss-util-3.44.0-3.el7.x86_64                               30/50 \n",
      "  Verifying  : procps-ng-3.3.10-26.el7.x86_64                             31/50 \n",
      "  Verifying  : libmount-2.23.2-61.el7.x86_64                              32/50 \n",
      "  Verifying  : nss-sysinit-3.44.0-4.el7.x86_64                            33/50 \n",
      "  Verifying  : kmod-libs-20-25.el7.x86_64                                 34/50 \n",
      "  Verifying  : libblkid-2.23.2-61.el7.x86_64                              35/50 \n",
      "  Verifying  : libuuid-2.23.2-61.el7.x86_64                               36/50 \n",
      "  Verifying  : systemd-libs-219-67.el7_7.1.x86_64                         37/50 \n",
      "  Verifying  : 7:device-mapper-1.02.158-2.el7.x86_64                      38/50 \n",
      "  Verifying  : libcurl-7.29.0-54.el7.x86_64                               39/50 \n",
      "  Verifying  : nss-softokn-3.44.0-5.el7.x86_64                            40/50 \n",
      "  Verifying  : systemd-219-67.el7_7.1.x86_64                              41/50 \n",
      "  Verifying  : hostname-3.13-3.el7.x86_64                                 42/50 \n",
      "  Verifying  : ca-certificates-2018.2.22-70.0.el7_5.noarch                43/50 \n",
      "  Verifying  : 7:device-mapper-libs-1.02.158-2.el7.x86_64                 44/50 \n",
      "  Verifying  : nss-3.44.0-4.el7.x86_64                                    45/50 \n",
      "  Verifying  : binutils-2.27-41.base.el7.x86_64                           46/50 \n",
      "  Verifying  : kmod-20-25.el7.x86_64                                      47/50 \n",
      "  Verifying  : tzdata-2019b-1.el7.noarch                                  48/50 \n",
      "  Verifying  : libsmartcols-2.23.2-61.el7.x86_64                          49/50 \n",
      "  Verifying  : sqlite-3.7.17-8.el7.x86_64                                 50/50 \n",
      "\n",
      "Updated:\n",
      "  binutils.x86_64 0:2.27-41.base.el7_7.3                                        \n",
      "  ca-certificates.noarch 0:2019.2.32-76.el7_7                                   \n",
      "  curl.x86_64 0:7.29.0-54.el7_7.2                                               \n",
      "  device-mapper.x86_64 7:1.02.158-2.el7_7.2                                     \n",
      "  device-mapper-libs.x86_64 7:1.02.158-2.el7_7.2                                \n",
      "  hostname.x86_64 0:3.13-3.el7_7.1                                              \n",
      "  kmod.x86_64 0:20-25.el7_7.1                                                   \n",
      "  kmod-libs.x86_64 0:20-25.el7_7.1                                              \n",
      "  libblkid.x86_64 0:2.23.2-61.el7_7.1                                           \n",
      "  libcurl.x86_64 0:7.29.0-54.el7_7.2                                            \n",
      "  libmount.x86_64 0:2.23.2-61.el7_7.1                                           \n",
      "  libsmartcols.x86_64 0:2.23.2-61.el7_7.1                                       \n",
      "  libuuid.x86_64 0:2.23.2-61.el7_7.1                                            \n",
      "  nss.x86_64 0:3.44.0-7.el7_7                                                   \n",
      "  nss-softokn.x86_64 0:3.44.0-8.el7_7                                           \n",
      "  nss-softokn-freebl.x86_64 0:3.44.0-8.el7_7                                    \n",
      "  nss-sysinit.x86_64 0:3.44.0-7.el7_7                                           \n",
      "  nss-tools.x86_64 0:3.44.0-7.el7_7                                             \n",
      "  nss-util.x86_64 0:3.44.0-4.el7_7                                              \n",
      "  procps-ng.x86_64 0:3.3.10-26.el7_7.1                                          \n",
      "  sqlite.x86_64 0:3.7.17-8.el7_7.1                                              \n",
      "  systemd.x86_64 0:219-67.el7_7.4                                               \n",
      "  systemd-libs.x86_64 0:219-67.el7_7.4                                          \n",
      "  tzdata.noarch 0:2019c-1.el7                                                   \n",
      "  util-linux.x86_64 0:2.23.2-61.el7_7.1                                         \n",
      "\n",
      "Complete!\n"
     ]
    }
   ],
   "source": [
    "ssh ${user}@${server} 'docker exec sinetstream_ca yum -y update'"
   ]
  },
  {
   "cell_type": "code",
   "execution_count": 4,
   "metadata": {
    "deletable": false,
    "editable": false,
    "lc_cell_meme": {
     "current": "c2bbfad8-642b-11ea-804d-0242ac160002",
     "execution_end_time": "2020-03-24T09:56:02.017615Z",
     "history": [
      {
       "current": "c2bbfad8-642b-11ea-804d-0242ac160002",
       "next": null,
       "previous": "33b3d4c8-642b-11ea-804d-0242ac160002"
      },
      {
       "current": "c2bbfad8-642b-11ea-804d-0242ac160002",
       "next": "0a421d9c-642c-11ea-804d-0242ac160002",
       "previous": "0a421b12-642c-11ea-804d-0242ac160002"
      }
     ],
     "next": "06e463ba-6dac-11ea-804d-0242ac160002",
     "previous": "0a421b12-642c-11ea-804d-0242ac160002"
    },
    "lc_wrapper": {
     "log_history": [
      "/notebooks/notebook/tmp/サーバ構築手順/.log/20200312/20200312-153504-0461.log",
      "/notebooks/notebook/tmp/サーバ構築手順/.log/20200312/20200312-153529-0839.log",
      "/notebooks/notebook/tmp/サーバ構築手順/.log/20200312/20200312-153907-0652.log",
      "/notebooks/notebook/tmp/サーバ構築手順/.log/20200312/20200312-155623-0102.log",
      "/notebooks/notebook/tmp/サーバ構築手順/.log/20200324/20200324-185559-0069.log"
     ]
    },
    "run_through_control": {
     "frozen": true
    },
    "scrolled": false
   },
   "outputs": [
    {
     "name": "stdout",
     "output_type": "stream",
     "text": [
      "Loaded plugins: fastestmirror, ovl\n",
      "Loading mirror speeds from cached hostfile\n",
      " * base: ftp.riken.jp\n",
      " * extras: ftp.riken.jp\n",
      " * updates: ftp.riken.jp\n",
      "Resolving Dependencies\n",
      "--> Running transaction check\n",
      "---> Package openssl.x86_64 1:1.0.2k-19.el7 will be installed\n",
      "--> Processing Dependency: make for package: 1:openssl-1.0.2k-19.el7.x86_64\n",
      "--> Running transaction check\n",
      "---> Package make.x86_64 1:3.82-24.el7 will be installed\n",
      "--> Finished Dependency Resolution\n",
      "\n",
      "Dependencies Resolved\n",
      "\n",
      "================================================================================\n",
      " Package          Arch            Version                   Repository     Size\n",
      "================================================================================\n",
      "Installing:\n",
      " openssl          x86_64          1:1.0.2k-19.el7           base          493 k\n",
      "Installing for dependencies:\n",
      " make             x86_64          1:3.82-24.el7             base          421 k\n",
      "\n",
      "Transaction Summary\n",
      "================================================================================\n",
      "Install  1 Package (+1 Dependent package)\n",
      "\n",
      "Total download size: 914 k\n",
      "Installed size: 1.9 M\n",
      "Downloading packages:\n",
      "--------------------------------------------------------------------------------\n",
      "Total                                              7.1 MB/s | 914 kB  00:00     \n",
      "Running transaction check\n",
      "Running transaction test\n",
      "Transaction test succeeded\n",
      "Running transaction\n",
      "  Installing : 1:make-3.82-24.el7.x86_64                                    1/2 \n",
      "  Installing : 1:openssl-1.0.2k-19.el7.x86_64                               2/2 \n",
      "  Verifying  : 1:openssl-1.0.2k-19.el7.x86_64                               1/2 \n",
      "  Verifying  : 1:make-3.82-24.el7.x86_64                                    2/2 \n",
      "\n",
      "Installed:\n",
      "  openssl.x86_64 1:1.0.2k-19.el7                                                \n",
      "\n",
      "Dependency Installed:\n",
      "  make.x86_64 1:3.82-24.el7                                                     \n",
      "\n",
      "Complete!\n"
     ]
    }
   ],
   "source": [
    "ssh ${user}@${server} 'docker exec sinetstream_ca yum -y install openssl'"
   ]
  },
  {
   "cell_type": "markdown",
   "metadata": {
    "lc_cell_meme": {
     "current": "06e463ba-6dac-11ea-804d-0242ac160002",
     "execution_end_time": "2020-03-24T08:47:13.005563Z",
     "next": "0a421d9c-642c-11ea-804d-0242ac160002",
     "previous": "c2bbfad8-642b-11ea-804d-0242ac160002"
    },
    "lc_wrapper": {
     "log_history": [
      "/notebooks/notebook/tmp/サーバ構築手順/.log/20200324/20200324-174712-0898.log"
     ]
    }
   },
   "source": [
    "### 証明書や秘密鍵などを格納するディレクトリを作成する"
   ]
  },
  {
   "cell_type": "code",
   "execution_count": 5,
   "metadata": {
    "deletable": false,
    "editable": false,
    "lc_cell_meme": {
     "current": "0a421d9c-642c-11ea-804d-0242ac160002",
     "execution_end_time": "2020-03-24T09:56:14.273002Z",
     "history": [
      {
       "current": "0a421d9c-642c-11ea-804d-0242ac160002",
       "next": null,
       "previous": "c2bbfad8-642b-11ea-804d-0242ac160002"
      },
      {
       "current": "0a421d9c-642c-11ea-804d-0242ac160002",
       "next": "b769828e-642d-11ea-804d-0242ac160002",
       "previous": "c2bbfad8-642b-11ea-804d-0242ac160002"
      },
      {
       "current": "0a421d9c-642c-11ea-804d-0242ac160002",
       "next": "b769828e-642d-11ea-804d-0242ac160002",
       "previous": "06e463ba-6dac-11ea-804d-0242ac160002"
      }
     ],
     "next": "4e6ab02c-6dac-11ea-804d-0242ac160002",
     "previous": "06e463ba-6dac-11ea-804d-0242ac160002"
    },
    "lc_wrapper": {
     "log_history": [
      "/notebooks/notebook/tmp/サーバ構築手順/.log/20200312/20200312-154743-0056.log",
      "/notebooks/notebook/tmp/サーバ構築手順/.log/20200312/20200312-154951-0939.log",
      "/notebooks/notebook/tmp/サーバ構築手順/.log/20200312/20200312-155629-0198.log",
      "/notebooks/notebook/tmp/サーバ構築手順/.log/20200324/20200324-185613-0804.log"
     ]
    },
    "run_through_control": {
     "frozen": true
    }
   },
   "outputs": [],
   "source": [
    "ssh ${user}@${server} 'docker exec sinetstream_ca mkdir -p /etc/pki/CA/certs /etc/pki/CA/crl /etc/pki/CA/newcerts /etc/pki/CA/private'"
   ]
  },
  {
   "cell_type": "markdown",
   "metadata": {
    "lc_cell_meme": {
     "current": "4e6ab02c-6dac-11ea-804d-0242ac160002",
     "next": "4e6ab220-6dac-11ea-804d-0242ac160002",
     "previous": "0a421d9c-642c-11ea-804d-0242ac160002"
    }
   },
   "source": [
    "### プライベート認証局のために必要となる設定を行う"
   ]
  },
  {
   "cell_type": "markdown",
   "metadata": {
    "lc_cell_meme": {
     "current": "4e6ab220-6dac-11ea-804d-0242ac160002",
     "next": "b769828e-642d-11ea-804d-0242ac160002",
     "previous": "4e6ab02c-6dac-11ea-804d-0242ac160002"
    }
   },
   "source": [
    "* unique_subject\n",
    "    * CA証明書のロールオーバーを簡単にするために no を指定する\n",
    "* copy_extensions\n",
    "    * 証明書のリクエストが SAN(subjectAltName)をコピーできるようにするためにcopyを指定する"
   ]
  },
  {
   "cell_type": "code",
   "execution_count": 6,
   "metadata": {
    "deletable": false,
    "editable": false,
    "lc_cell_meme": {
     "current": "b769828e-642d-11ea-804d-0242ac160002",
     "execution_end_time": "2020-03-24T09:56:18.554937Z",
     "history": [
      {
       "current": "b769828e-642d-11ea-804d-0242ac160002",
       "next": "d5824908-642e-11ea-804d-0242ac160002",
       "previous": "0a421d9c-642c-11ea-804d-0242ac160002"
      },
      {
       "current": "b769828e-642d-11ea-804d-0242ac160002",
       "next": "d5824908-642e-11ea-804d-0242ac160002",
       "previous": "4e6ab220-6dac-11ea-804d-0242ac160002"
      }
     ],
     "next": "95c80424-6dac-11ea-804d-0242ac160002",
     "previous": "4e6ab220-6dac-11ea-804d-0242ac160002"
    },
    "lc_wrapper": {
     "log_history": [
      "/notebooks/notebook/tmp/サーバ構築手順/.log/20200312/20200312-155701-0943.log",
      "/notebooks/notebook/tmp/サーバ構築手順/.log/20200324/20200324-185618-0062.log"
     ]
    },
    "run_through_control": {
     "frozen": true
    }
   },
   "outputs": [],
   "source": [
    "ssh ${user}@${server} 'docker exec sinetstream_ca sed --in-place \"/unique_subject/s/^.*/unique_subject = no/;/copy_extensions/s/^.*/copy_extensions = copy/\" /etc/pki/tls/openssl.cnf'"
   ]
  },
  {
   "cell_type": "markdown",
   "metadata": {
    "lc_cell_meme": {
     "current": "95c80424-6dac-11ea-804d-0242ac160002",
     "next": "d5824908-642e-11ea-804d-0242ac160002",
     "previous": "b769828e-642d-11ea-804d-0242ac160002"
    }
   },
   "source": [
    "プライベート認証局が署名した証明書を記録するためのファイル index.txt を作成する"
   ]
  },
  {
   "cell_type": "code",
   "execution_count": 7,
   "metadata": {
    "deletable": false,
    "editable": false,
    "lc_cell_meme": {
     "current": "d5824908-642e-11ea-804d-0242ac160002",
     "execution_end_time": "2020-03-24T09:56:27.469800Z",
     "history": [
      {
       "current": "d5824908-642e-11ea-804d-0242ac160002",
       "next": "d5824bc4-642e-11ea-804d-0242ac160002",
       "previous": "b769828e-642d-11ea-804d-0242ac160002"
      }
     ],
     "next": "95c805d2-6dac-11ea-804d-0242ac160002",
     "previous": "95c80424-6dac-11ea-804d-0242ac160002"
    },
    "lc_wrapper": {
     "log_history": [
      "/notebooks/notebook/tmp/サーバ構築手順/.log/20200312/20200312-155801-0441.log",
      "/notebooks/notebook/tmp/サーバ構築手順/.log/20200324/20200324-185626-0978.log"
     ]
    },
    "run_through_control": {
     "frozen": true
    }
   },
   "outputs": [],
   "source": [
    "ssh ${user}@${server} 'docker exec sinetstream_ca touch /etc/pki/CA/index.txt'"
   ]
  },
  {
   "cell_type": "markdown",
   "metadata": {
    "lc_cell_meme": {
     "current": "95c805d2-6dac-11ea-804d-0242ac160002",
     "next": "d5824bc4-642e-11ea-804d-0242ac160002",
     "previous": "d5824908-642e-11ea-804d-0242ac160002"
    }
   },
   "source": [
    "### CA証明書のCSRと秘密鍵を作成する"
   ]
  },
  {
   "cell_type": "code",
   "execution_count": 8,
   "metadata": {
    "deletable": false,
    "editable": false,
    "lc_cell_meme": {
     "current": "d5824bc4-642e-11ea-804d-0242ac160002",
     "execution_end_time": "2020-03-24T09:56:30.304439Z",
     "history": [
      {
       "current": "d5824bc4-642e-11ea-804d-0242ac160002",
       "next": null,
       "previous": "d5824908-642e-11ea-804d-0242ac160002"
      },
      {
       "current": "d5824bc4-642e-11ea-804d-0242ac160002",
       "next": "ac14cf40-642f-11ea-804d-0242ac160002",
       "previous": "d5824908-642e-11ea-804d-0242ac160002"
      }
     ],
     "next": "95c80690-6dac-11ea-804d-0242ac160002",
     "previous": "95c805d2-6dac-11ea-804d-0242ac160002"
    },
    "lc_wrapper": {
     "log_history": [
      "/notebooks/notebook/tmp/サーバ構築手順/.log/20200312/20200312-160505-0014.log",
      "/notebooks/notebook/tmp/サーバ構築手順/.log/20200324/20200324-173957-0984.log",
      "/notebooks/notebook/tmp/サーバ構築手順/.log/20200324/20200324-185628-0899.log"
     ]
    },
    "run_through_control": {
     "frozen": true
    }
   },
   "outputs": [
    {
     "name": "stdout",
     "output_type": "stream",
     "text": [
      "Generating a 2048 bit RSA private key\n",
      "................................................................................+++\n",
      ".....................................................+++\n",
      "writing new private key to '/etc/pki/CA/private/cakey.pem'\n",
      "-----\n",
      "-rw-r--r-- 1 root root 1704 Mar 24 09:56 /etc/pki/CA/private/cakey.pem\n"
     ]
    }
   ],
   "source": [
    "\n",
    "ssh ${user}@${server} \"docker exec sinetstream_ca \\\n",
    "    openssl req -new \\\n",
    "                -keyout /etc/pki/CA/private/cakey.pem \\\n",
    "                -out /etc/pki/CA/careq.pem \\\n",
    "                -nodes \\\n",
    "                -subj ${subject}\"\n",
    "ssh ${user}@${server} 'docker exec sinetstream_ca ls -l /etc/pki/CA/private/cakey.pem'"
   ]
  },
  {
   "cell_type": "markdown",
   "metadata": {
    "lc_cell_meme": {
     "current": "95c80690-6dac-11ea-804d-0242ac160002",
     "execution_end_time": "2020-03-24T08:50:16.148403Z",
     "next": "ac14cf40-642f-11ea-804d-0242ac160002",
     "previous": "d5824bc4-642e-11ea-804d-0242ac160002"
    },
    "lc_wrapper": {
     "log_history": [
      "/notebooks/notebook/tmp/サーバ構築手順/.log/20200324/20200324-175016-0041.log"
     ]
    }
   },
   "source": [
    "### 自己署名によるCA証明書を作成する"
   ]
  },
  {
   "cell_type": "code",
   "execution_count": 9,
   "metadata": {
    "deletable": false,
    "editable": false,
    "lc_cell_meme": {
     "current": "ac14cf40-642f-11ea-804d-0242ac160002",
     "execution_end_time": "2020-03-24T09:56:34.409985Z",
     "history": [
      {
       "current": "ac14cf40-642f-11ea-804d-0242ac160002",
       "next": null,
       "previous": "d5824bc4-642e-11ea-804d-0242ac160002"
      }
     ],
     "next": "95c80730-6dac-11ea-804d-0242ac160002",
     "previous": "95c80690-6dac-11ea-804d-0242ac160002"
    },
    "lc_wrapper": {
     "log_history": [
      "/notebooks/notebook/tmp/サーバ構築手順/.log/20200324/20200324-174003-0169.log",
      "/notebooks/notebook/tmp/サーバ構築手順/.log/20200324/20200324-185633-0104.log"
     ]
    },
    "run_through_control": {
     "frozen": true
    }
   },
   "outputs": [
    {
     "name": "stdout",
     "output_type": "stream",
     "text": [
      "Using configuration from /etc/pki/tls/openssl.cnf\n",
      "Check that the request matches the signature\n",
      "Signature ok\n",
      "Certificate Details:\n",
      "        Serial Number:\n",
      "            c5:b2:cf:5c:ab:23:77:90\n",
      "        Validity\n",
      "            Not Before: Mar 24 09:56:33 2020 GMT\n",
      "            Not After : Mar 22 09:56:33 2030 GMT\n",
      "        Subject:\n",
      "            countryName               = JP\n",
      "            stateOrProvinceName       = Example_State\n",
      "            organizationName          = Example_Organization\n",
      "            commonName                = private-ca\n",
      "        X509v3 extensions:\n",
      "            X509v3 Subject Key Identifier: \n",
      "                B6:0A:CE:3D:55:44:0A:2C:9E:B1:29:4E:7F:C5:DB:4C:87:4B:06:DB\n",
      "            X509v3 Authority Key Identifier: \n",
      "                keyid:B6:0A:CE:3D:55:44:0A:2C:9E:B1:29:4E:7F:C5:DB:4C:87:4B:06:DB\n",
      "\n",
      "            X509v3 Basic Constraints: \n",
      "                CA:TRUE\n",
      "Certificate is to be certified until Mar 22 09:56:33 2030 GMT (3650 days)\n",
      "\n",
      "Write out database with 1 new entries\n",
      "Data Base Updated\n",
      "-rw-r--r-- 1 root root 4349 Mar 24 09:56 /etc/pki/CA/cacert.pem\n"
     ]
    }
   ],
   "source": [
    "ssh ${user}@${server} \"docker exec sinetstream_ca \\\n",
    "    openssl ca -batch \\\n",
    "               -in /etc/pki/CA/careq.pem \\\n",
    "               -selfsign \\\n",
    "               -extensions v3_ca \\\n",
    "               -keyfile /etc/pki/CA/private/cakey.pem \\\n",
    "               -days 3650 \\\n",
    "               -create_serial \\\n",
    "               -out /etc/pki/CA/cacert.pem\"\n",
    "ssh ${user}@${server} \"docker exec sinetstream_ca ls -l /etc/pki/CA/cacert.pem\""
   ]
  },
  {
   "cell_type": "markdown",
   "metadata": {
    "lc_cell_meme": {
     "current": "95c80730-6dac-11ea-804d-0242ac160002",
     "next": "dd764056-6dac-11ea-804d-0242ac160002",
     "previous": "ac14cf40-642f-11ea-804d-0242ac160002"
    }
   },
   "source": [
    "作成したCA証明書/etc/pki/CA/cacert.pemの内容を確認する"
   ]
  },
  {
   "cell_type": "code",
   "execution_count": 10,
   "metadata": {
    "deletable": false,
    "editable": false,
    "lc_cell_meme": {
     "current": "dd764056-6dac-11ea-804d-0242ac160002",
     "execution_end_time": "2020-03-24T09:56:40.108002Z",
     "history": [
      {
       "current": "dd764056-6dac-11ea-804d-0242ac160002",
       "next": "dd7641fa-6dac-11ea-804d-0242ac160002",
       "previous": "95c80730-6dac-11ea-804d-0242ac160002"
      }
     ],
     "next": "3fe1cec6-6fed-11ea-804d-0242ac160002",
     "previous": "95c80730-6dac-11ea-804d-0242ac160002"
    },
    "lc_wrapper": {
     "log_history": [
      "/notebooks/notebook/tmp/サーバ構築手順/.log/20200324/20200324-175155-0714.log",
      "/notebooks/notebook/tmp/サーバ構築手順/.log/20200324/20200324-185639-0630.log"
     ]
    },
    "run_through_control": {
     "frozen": true
    },
    "scrolled": false
   },
   "outputs": [
    {
     "name": "stdout",
     "output_type": "stream",
     "text": [
      "Certificate:\n",
      "    Data:\n",
      "        Version: 3 (0x2)\n",
      "        Serial Number:\n",
      "            c5:b2:cf:5c:ab:23:77:90\n",
      "    Signature Algorithm: sha256WithRSAEncryption\n",
      "        Issuer: C=JP, ST=Example_State, O=Example_Organization, CN=private-ca\n",
      "        Validity\n",
      "            Not Before: Mar 24 09:56:33 2020 GMT\n",
      "            Not After : Mar 22 09:56:33 2030 GMT\n",
      "        Subject: C=JP, ST=Example_State, O=Example_Organization, CN=private-ca\n",
      "        Subject Public Key Info:\n",
      "            Public Key Algorithm: rsaEncryption\n",
      "                Public-Key: (2048 bit)\n",
      "                Modulus:\n",
      "                    00:ee:1b:a6:de:5b:2d:df:d8:2d:d7:43:94:b7:14:\n",
      "                    13:57:38:50:ca:9f:1c:fc:96:6c:9d:9b:03:2c:50:\n",
      "                    5e:df:11:23:28:d1:6d:6d:1b:3f:ef:36:1c:2e:b1:\n",
      "                    bb:5a:8d:81:1e:e2:6c:24:bb:35:95:bf:27:48:c5:\n",
      "                    29:91:06:f0:a5:ec:00:3f:35:d2:c5:2b:31:ef:83:\n",
      "                    32:ba:99:dd:5f:c2:6a:4a:29:b2:78:ec:ae:60:98:\n",
      "                    eb:3d:79:69:65:de:49:bd:ec:7a:e4:f8:32:3e:99:\n",
      "                    df:40:fd:43:72:bd:5e:bd:5c:11:12:93:e5:5d:f3:\n",
      "                    da:77:11:98:08:4a:48:ab:f9:5b:cf:1c:62:09:c0:\n",
      "                    d5:9b:d1:97:43:6a:14:60:a3:c0:2f:56:5a:0c:01:\n",
      "                    a9:d6:b0:f6:49:40:38:cd:af:c3:83:db:6b:10:89:\n",
      "                    d8:ab:22:69:b9:2e:00:75:1d:1d:1b:55:8c:35:02:\n",
      "                    a4:8a:36:72:33:94:da:e3:49:27:38:6d:b7:59:91:\n",
      "                    4f:42:a7:7e:98:46:33:fb:87:78:17:af:61:da:5f:\n",
      "                    47:ab:f4:e3:3c:6c:62:e9:e2:1b:e9:e7:07:b7:04:\n",
      "                    72:68:d2:f0:96:4d:26:03:2a:e2:11:83:2f:2d:d7:\n",
      "                    19:7b:72:a8:1a:9f:2c:0c:54:81:62:61:f7:ee:f2:\n",
      "                    ab:f1\n",
      "                Exponent: 65537 (0x10001)\n",
      "        X509v3 extensions:\n",
      "            X509v3 Subject Key Identifier: \n",
      "                B6:0A:CE:3D:55:44:0A:2C:9E:B1:29:4E:7F:C5:DB:4C:87:4B:06:DB\n",
      "            X509v3 Authority Key Identifier: \n",
      "                keyid:B6:0A:CE:3D:55:44:0A:2C:9E:B1:29:4E:7F:C5:DB:4C:87:4B:06:DB\n",
      "\n",
      "            X509v3 Basic Constraints: \n",
      "                CA:TRUE\n",
      "    Signature Algorithm: sha256WithRSAEncryption\n",
      "         6a:03:04:6f:96:f7:43:d5:2a:2b:79:4f:f6:b5:d2:6c:91:9c:\n",
      "         f7:88:d3:37:92:61:a0:ea:74:ec:c8:6c:2a:c3:b1:45:5b:de:\n",
      "         e4:db:fe:c4:c2:e9:d0:44:96:e5:23:09:f1:51:73:c3:31:af:\n",
      "         57:77:4e:9a:26:1a:f2:7b:8b:03:9b:44:8c:2b:04:e2:bf:44:\n",
      "         e9:18:fe:91:19:54:73:cf:b9:c8:8f:e2:ad:f3:ea:80:0c:c7:\n",
      "         bb:26:36:c9:e9:9b:45:f2:48:61:b8:91:0e:3a:16:46:c8:a2:\n",
      "         63:f4:80:c9:8d:59:a9:4a:6e:7e:f6:1f:3d:7e:61:1b:03:f0:\n",
      "         3b:42:3d:00:b8:60:5d:7a:a1:c3:19:71:63:b8:c4:75:e8:ae:\n",
      "         62:7d:d5:e2:a0:73:cd:c8:5e:f4:e3:c7:63:79:37:2d:e4:f4:\n",
      "         99:3d:24:e5:11:92:06:1a:4d:92:62:8d:7f:a0:d5:b7:57:84:\n",
      "         bd:0f:14:a9:9a:0b:be:86:41:ef:94:d3:8f:11:e9:f2:a8:76:\n",
      "         40:20:87:81:70:53:91:c2:3f:b1:26:e7:b7:b1:0f:4c:a8:e0:\n",
      "         90:27:5f:4b:b3:0d:86:db:ee:29:7b:52:76:d2:6e:c7:f3:e8:\n",
      "         44:5b:04:8e:0e:06:a3:41:e4:68:53:f1:c8:f7:4e:53:db:2c:\n",
      "         39:5b:58:d0\n"
     ]
    }
   ],
   "source": [
    "ssh ${user}@${server} \"docker exec sinetstream_ca openssl x509 -in /etc/pki/CA/cacert.pem -noout -text\""
   ]
  },
  {
   "cell_type": "markdown",
   "metadata": {
    "lc_cell_meme": {
     "current": "3fe1cec6-6fed-11ea-804d-0242ac160002",
     "next": "3fe1d0c4-6fed-11ea-804d-0242ac160002",
     "previous": "dd764056-6dac-11ea-804d-0242ac160002"
    }
   },
   "source": [
    "### 作成したCA証明書を手元にコピーする。"
   ]
  },
  {
   "cell_type": "code",
   "execution_count": 19,
   "metadata": {
    "deletable": false,
    "editable": false,
    "lc_cell_meme": {
     "current": "3fe1d0c4-6fed-11ea-804d-0242ac160002",
     "execution_end_time": "2020-03-27T05:38:36.539005Z",
     "next": "dd7641fa-6dac-11ea-804d-0242ac160002",
     "previous": "3fe1cec6-6fed-11ea-804d-0242ac160002"
    },
    "lc_wrapper": {
     "log_history": [
      "/notebooks/notebook/tmp/サーバ構築手順/.log/20200327/20200327-143823-0832.log",
      "/notebooks/notebook/tmp/サーバ構築手順/.log/20200327/20200327-143835-0986.log"
     ]
    },
    "run_through_control": {
     "frozen": true
    }
   },
   "outputs": [
    {
     "name": "stdout",
     "output_type": "stream",
     "text": [
      "-rw-r--r-- 1 jovyan users 4349 Mar 27 14:38 cacert.pem\n"
     ]
    }
   ],
   "source": [
    "ssh ${user}@${server} 'docker exec sinetstream_ca cat /etc/pki/CA/cacert.pem' > cacert.pem\n",
    "ls -l cacert.pem"
   ]
  },
  {
   "cell_type": "markdown",
   "metadata": {
    "lc_cell_meme": {
     "current": "dd7641fa-6dac-11ea-804d-0242ac160002",
     "history": [
      {
       "current": "dd7641fa-6dac-11ea-804d-0242ac160002",
       "next": null,
       "previous": "dd764056-6dac-11ea-804d-0242ac160002"
      },
      {
       "current": "dd7641fa-6dac-11ea-804d-0242ac160002",
       "next": "24f8c250-6dad-11ea-804d-0242ac160002",
       "previous": "dd764056-6dac-11ea-804d-0242ac160002"
      }
     ],
     "next": "24f8c250-6dad-11ea-804d-0242ac160002",
     "previous": "3fe1d0c4-6fed-11ea-804d-0242ac160002"
    }
   },
   "source": [
    "## サーバ証明書の秘密鍵、証明書を作成する"
   ]
  },
  {
   "cell_type": "markdown",
   "metadata": {
    "lc_cell_meme": {
     "current": "24f8c250-6dad-11ea-804d-0242ac160002",
     "next": "24f8c43a-6dad-11ea-804d-0242ac160002",
     "previous": "dd7641fa-6dac-11ea-804d-0242ac160002"
    }
   },
   "source": [
    "### 証明書のSAN(subjectAltName)にサーバのホスト名を追加するための設定"
   ]
  },
  {
   "cell_type": "code",
   "execution_count": 11,
   "metadata": {
    "deletable": false,
    "editable": false,
    "lc_cell_meme": {
     "current": "24f8c43a-6dad-11ea-804d-0242ac160002",
     "execution_end_time": "2020-03-24T09:56:47.795748Z",
     "history": [
      {
       "current": "24f8c43a-6dad-11ea-804d-0242ac160002",
       "next": null,
       "previous": "24f8c250-6dad-11ea-804d-0242ac160002"
      }
     ],
     "next": "8a6cad4e-6dae-11ea-804d-0242ac160002",
     "previous": "24f8c250-6dad-11ea-804d-0242ac160002"
    },
    "lc_wrapper": {
     "log_history": [
      "/notebooks/notebook/tmp/サーバ構築手順/.log/20200324/20200324-175943-0196.log",
      "/notebooks/notebook/tmp/サーバ構築手順/.log/20200324/20200324-180405-0914.log",
      "/notebooks/notebook/tmp/サーバ構築手順/.log/20200324/20200324-185646-0903.log"
     ]
    },
    "run_through_control": {
     "frozen": true
    }
   },
   "outputs": [],
   "source": [
    "ssh ${user}@${server} \"docker exec sinetstream_ca /bin/sh -c 'cat >>/etc/pki/tls/openssl.cnf'\" << EOF\n",
    "[ req ]\n",
    "req_extensions = v3_req\n",
    "\n",
    "[ v3_req ]\n",
    "subjectAltName = @alt_names\n",
    "\n",
    "[ alt_names ]\n",
    "DNS = ${server_fqdn}\n",
    "EOF"
   ]
  },
  {
   "cell_type": "markdown",
   "metadata": {
    "lc_cell_meme": {
     "current": "8a6cad4e-6dae-11ea-804d-0242ac160002",
     "next": "8a6caf7e-6dae-11ea-804d-0242ac160002",
     "previous": "24f8c43a-6dad-11ea-804d-0242ac160002"
    }
   },
   "source": [
    "### サーバの秘密鍵とサーバ証明書のCSR(Certificate Signing Request)を作成する"
   ]
  },
  {
   "cell_type": "code",
   "execution_count": 12,
   "metadata": {
    "deletable": false,
    "editable": false,
    "lc_cell_meme": {
     "current": "8a6caf7e-6dae-11ea-804d-0242ac160002",
     "execution_end_time": "2020-03-24T09:56:53.540118Z",
     "history": [
      {
       "current": "8a6caf7e-6dae-11ea-804d-0242ac160002",
       "next": null,
       "previous": "8a6cad4e-6dae-11ea-804d-0242ac160002"
      }
     ],
     "next": "c6b1e74a-6db0-11ea-804d-0242ac160002",
     "previous": "8a6cad4e-6dae-11ea-804d-0242ac160002"
    },
    "lc_wrapper": {
     "log_history": [
      "/notebooks/notebook/tmp/サーバ構築手順/.log/20200324/20200324-180720-0938.log",
      "/notebooks/notebook/tmp/サーバ構築手順/.log/20200324/20200324-180752-0672.log",
      "/notebooks/notebook/tmp/サーバ構築手順/.log/20200324/20200324-185652-0782.log"
     ]
    },
    "run_through_control": {
     "frozen": true
    }
   },
   "outputs": [
    {
     "name": "stdout",
     "output_type": "stream",
     "text": [
      "Generating a 2048 bit RSA private key\n",
      "...+++\n",
      "...........+++\n",
      "writing new private key to '/etc/pki/CA/private/broker.key'\n",
      "-----\n"
     ]
    }
   ],
   "source": [
    "ssh ${user}@${server} \"docker exec sinetstream_ca \\\n",
    "    openssl req -new \\\n",
    "                -keyout /etc/pki/CA/private/broker.key \\\n",
    "                -out /etc/pki/CA/broker.csr \\\n",
    "                -nodes \\\n",
    "                -subj /C=${country}/CN=${server_fqdn}\""
   ]
  },
  {
   "cell_type": "markdown",
   "metadata": {
    "lc_cell_meme": {
     "current": "c6b1e74a-6db0-11ea-804d-0242ac160002",
     "next": "c6b1ebdc-6db0-11ea-804d-0242ac160002",
     "previous": "8a6caf7e-6dae-11ea-804d-0242ac160002"
    }
   },
   "source": [
    "### CA証明書で署名をおこない、サーバ証明書を作成する"
   ]
  },
  {
   "cell_type": "code",
   "execution_count": 13,
   "metadata": {
    "deletable": false,
    "editable": false,
    "lc_cell_meme": {
     "current": "c6b1ebdc-6db0-11ea-804d-0242ac160002",
     "execution_end_time": "2020-03-24T09:57:00.050454Z",
     "history": [
      {
       "current": "c6b1ebdc-6db0-11ea-804d-0242ac160002",
       "next": null,
       "previous": "c6b1e74a-6db0-11ea-804d-0242ac160002"
      }
     ],
     "next": "0e26985a-6db1-11ea-804d-0242ac160002",
     "previous": "c6b1e74a-6db0-11ea-804d-0242ac160002"
    },
    "lc_wrapper": {
     "log_history": [
      "/notebooks/notebook/tmp/サーバ構築手順/.log/20200324/20200324-182102-0627.log",
      "/notebooks/notebook/tmp/サーバ構築手順/.log/20200324/20200324-185659-0246.log"
     ]
    },
    "run_through_control": {
     "frozen": true
    }
   },
   "outputs": [
    {
     "name": "stdout",
     "output_type": "stream",
     "text": [
      "Using configuration from /etc/pki/tls/openssl.cnf\n",
      "Check that the request matches the signature\n",
      "Signature ok\n",
      "Certificate Details:\n",
      "        Serial Number:\n",
      "            c5:b2:cf:5c:ab:23:77:91\n",
      "        Validity\n",
      "            Not Before: Mar 24 09:56:59 2020 GMT\n",
      "            Not After : Mar 24 09:56:59 2021 GMT\n",
      "        Subject:\n",
      "            countryName               = JP\n",
      "            commonName                = broker.example.org\n",
      "        X509v3 extensions:\n",
      "            X509v3 Basic Constraints: \n",
      "                CA:FALSE\n",
      "            Netscape Comment: \n",
      "                OpenSSL Generated Certificate\n",
      "            X509v3 Subject Key Identifier: \n",
      "                5C:68:29:27:7A:84:4E:B6:32:99:01:6A:8C:D3:B9:EE:D9:D4:AC:E3\n",
      "            X509v3 Authority Key Identifier: \n",
      "                keyid:B6:0A:CE:3D:55:44:0A:2C:9E:B1:29:4E:7F:C5:DB:4C:87:4B:06:DB\n",
      "\n",
      "Certificate is to be certified until Mar 24 09:56:59 2021 GMT (365 days)\n",
      "\n",
      "Write out database with 1 new entries\n",
      "Data Base Updated\n"
     ]
    }
   ],
   "source": [
    "ssh ${user}@${server} \"docker exec sinetstream_ca \\\n",
    "    openssl ca -batch \\\n",
    "               -keyfile /etc/pki/CA/private/cakey.pem \\\n",
    "               -cert /etc/pki/CA/cacert.pem \\\n",
    "               -in /etc/pki/CA/broker.csr \\\n",
    "               -out /etc/pki/CA/certs/broker.crt \\\n",
    "               -policy policy_anything\""
   ]
  },
  {
   "cell_type": "markdown",
   "metadata": {
    "lc_cell_meme": {
     "current": "0e26985a-6db1-11ea-804d-0242ac160002",
     "next": "0e269c1a-6db1-11ea-804d-0242ac160002",
     "previous": "c6b1ebdc-6db0-11ea-804d-0242ac160002"
    }
   },
   "source": [
    "作成したサーバ証明書/etc/pki/CA/certs/broker.crtの内容を確認する"
   ]
  },
  {
   "cell_type": "code",
   "execution_count": 14,
   "metadata": {
    "deletable": false,
    "editable": false,
    "lc_cell_meme": {
     "current": "0e269c1a-6db1-11ea-804d-0242ac160002",
     "execution_end_time": "2020-03-24T09:57:11.147173Z",
     "history": [
      {
       "current": "0e269c1a-6db1-11ea-804d-0242ac160002",
       "next": null,
       "previous": "0e26985a-6db1-11ea-804d-0242ac160002"
      },
      {
       "current": "0e269c1a-6db1-11ea-804d-0242ac160002",
       "next": "e4c90136-6db1-11ea-804d-0242ac160002",
       "previous": "0e26985a-6db1-11ea-804d-0242ac160002"
      }
     ],
     "next": "c399bbf0-6fef-11ea-804d-0242ac160002",
     "previous": "0e26985a-6db1-11ea-804d-0242ac160002"
    },
    "lc_wrapper": {
     "log_history": [
      "/notebooks/notebook/tmp/サーバ構築手順/.log/20200324/20200324-182148-0634.log",
      "/notebooks/notebook/tmp/サーバ構築手順/.log/20200324/20200324-185710-0632.log"
     ]
    },
    "run_through_control": {
     "frozen": true
    },
    "scrolled": true
   },
   "outputs": [
    {
     "name": "stdout",
     "output_type": "stream",
     "text": [
      "Certificate:\n",
      "    Data:\n",
      "        Version: 3 (0x2)\n",
      "        Serial Number:\n",
      "            c5:b2:cf:5c:ab:23:77:91\n",
      "    Signature Algorithm: sha256WithRSAEncryption\n",
      "        Issuer: C=JP, ST=Example_State, O=Example_Organization, CN=private-ca\n",
      "        Validity\n",
      "            Not Before: Mar 24 09:56:59 2020 GMT\n",
      "            Not After : Mar 24 09:56:59 2021 GMT\n",
      "        Subject: C=JP, CN=broker.example.org\n",
      "        Subject Public Key Info:\n",
      "            Public Key Algorithm: rsaEncryption\n",
      "                Public-Key: (2048 bit)\n",
      "                Modulus:\n",
      "                    00:ef:29:c2:32:89:21:7b:8f:5a:b2:82:fe:df:df:\n",
      "                    eb:a1:89:a9:b7:d3:7d:3d:5d:39:9e:c7:72:11:5f:\n",
      "                    43:63:f0:bd:d6:07:1d:f6:00:52:fd:e2:88:3a:e7:\n",
      "                    85:2f:b7:f8:51:db:2f:c8:2e:19:00:9d:3e:c9:fc:\n",
      "                    95:d6:8d:b6:8c:35:0f:50:4c:6c:6f:fa:23:d7:4c:\n",
      "                    97:7a:ec:87:98:38:1e:96:aa:05:2f:ad:76:16:77:\n",
      "                    0d:a0:2a:5d:ae:b3:18:ea:3d:93:83:63:6c:61:f1:\n",
      "                    7e:15:6d:81:c4:1a:8d:ab:24:a6:bf:f0:ff:f1:7b:\n",
      "                    22:a1:52:cd:36:c0:08:24:5e:24:bd:b3:38:31:a2:\n",
      "                    3b:32:be:95:2d:23:db:1d:83:91:6a:75:38:0a:cc:\n",
      "                    51:10:57:f7:6b:70:b8:e8:72:ef:40:cd:a9:c0:f3:\n",
      "                    0b:e4:30:8d:b7:ac:c9:d2:f7:87:6c:c4:dc:d0:b7:\n",
      "                    b0:04:35:42:f3:ed:9c:b9:3c:77:26:c9:3e:61:86:\n",
      "                    1e:db:98:65:e6:cf:d3:cc:72:fb:05:d5:7e:96:57:\n",
      "                    2b:ac:ce:dd:81:e7:03:b4:2e:02:2d:6e:a5:7b:51:\n",
      "                    27:d4:8b:1a:98:35:df:50:8d:0e:43:96:8e:3c:5c:\n",
      "                    86:b1:47:91:f7:65:3e:55:f1:91:41:11:8b:0c:71:\n",
      "                    cc:cf\n",
      "                Exponent: 65537 (0x10001)\n",
      "        X509v3 extensions:\n",
      "            X509v3 Basic Constraints: \n",
      "                CA:FALSE\n",
      "            Netscape Comment: \n",
      "                OpenSSL Generated Certificate\n",
      "            X509v3 Subject Key Identifier: \n",
      "                5C:68:29:27:7A:84:4E:B6:32:99:01:6A:8C:D3:B9:EE:D9:D4:AC:E3\n",
      "            X509v3 Authority Key Identifier: \n",
      "                keyid:B6:0A:CE:3D:55:44:0A:2C:9E:B1:29:4E:7F:C5:DB:4C:87:4B:06:DB\n",
      "\n",
      "    Signature Algorithm: sha256WithRSAEncryption\n",
      "         a0:4e:93:61:3a:99:c0:3a:01:ff:d7:5a:b9:6a:36:1c:75:ea:\n",
      "         7f:df:6a:4f:a9:31:00:44:67:26:f3:df:12:af:4f:7a:72:2f:\n",
      "         8d:88:23:de:35:00:ad:5e:4b:fb:0d:f0:18:d0:2f:d1:c6:aa:\n",
      "         6e:b4:bc:7b:6e:d2:64:3e:59:54:a1:e6:35:7a:d9:c2:08:1a:\n",
      "         a0:7d:77:1a:4e:f4:e7:30:a4:11:c8:82:c2:60:bf:dd:0f:a2:\n",
      "         ca:f5:a6:0c:20:18:b8:c9:db:73:e4:43:62:f2:67:ee:95:d5:\n",
      "         5d:9a:4f:df:f9:1e:e3:b0:dd:e7:44:e2:46:79:a8:09:85:5a:\n",
      "         eb:e0:c0:26:41:ab:a0:6a:9c:e7:21:00:40:e0:7f:ce:66:c1:\n",
      "         95:0f:2b:60:f4:ca:f2:b7:8b:cf:f8:83:1e:96:f5:38:99:d8:\n",
      "         ea:fc:a8:55:51:e9:6a:02:f9:b0:59:9e:36:ae:90:11:b9:05:\n",
      "         74:01:73:8e:2d:e6:66:d4:08:94:ff:c7:08:f5:a0:89:92:0d:\n",
      "         92:72:2d:10:52:e9:1b:e2:13:d3:46:dc:db:51:75:2b:00:66:\n",
      "         07:a8:c1:67:8d:83:5e:6d:6f:66:6c:30:71:b0:df:c2:d4:cd:\n",
      "         03:c7:ec:39:12:f8:8a:72:50:3a:1f:a4:9a:50:62:56:80:12:\n",
      "         9d:73:52:d4\n"
     ]
    }
   ],
   "source": [
    "ssh ${user}@${server} \"docker exec sinetstream_ca \\\n",
    "    openssl x509 -in /etc/pki/CA/certs/broker.crt -noout -text\""
   ]
  },
  {
   "cell_type": "markdown",
   "metadata": {
    "lc_cell_meme": {
     "current": "c399bbf0-6fef-11ea-804d-0242ac160002",
     "history": [
      {
       "current": "c399bbf0-6fef-11ea-804d-0242ac160002",
       "next": "c399be8e-6fef-11ea-804d-0242ac160002",
       "previous": "0e269c1a-6db1-11ea-804d-0242ac160002"
      }
     ],
     "next": "9a3aad9a-6ff0-11ea-804d-0242ac160002",
     "previous": "0e269c1a-6db1-11ea-804d-0242ac160002"
    }
   },
   "source": [
    "### 作成したサーバ秘密鍵とサーバ証明書を手元にコピーする"
   ]
  },
  {
   "cell_type": "markdown",
   "metadata": {
    "lc_cell_meme": {
     "current": "9a3aad9a-6ff0-11ea-804d-0242ac160002",
     "next": "c399be8e-6fef-11ea-804d-0242ac160002",
     "previous": "c399bbf0-6fef-11ea-804d-0242ac160002"
    }
   },
   "source": [
    "サーバ秘密鍵にパスフレーズを設定してないので盗難に注意する。"
   ]
  },
  {
   "cell_type": "code",
   "execution_count": 20,
   "metadata": {
    "deletable": false,
    "editable": false,
    "lc_cell_meme": {
     "current": "c399be8e-6fef-11ea-804d-0242ac160002",
     "execution_end_time": "2020-03-27T06:01:03.778610Z",
     "history": [
      {
       "current": "c399be8e-6fef-11ea-804d-0242ac160002",
       "next": "e4c90136-6db1-11ea-804d-0242ac160002",
       "previous": "c399bbf0-6fef-11ea-804d-0242ac160002"
      }
     ],
     "next": "e4c90136-6db1-11ea-804d-0242ac160002",
     "previous": "9a3aad9a-6ff0-11ea-804d-0242ac160002"
    },
    "lc_wrapper": {
     "log_history": [
      "/notebooks/notebook/tmp/サーバ構築手順/.log/20200327/20200327-150102-0740.log"
     ]
    },
    "run_through_control": {
     "frozen": true
    }
   },
   "outputs": [
    {
     "name": "stdout",
     "output_type": "stream",
     "text": [
      "-rw-r--r-- 1 jovyan users 4389 Mar 27 15:01 broker.crt\n",
      "-rw-r--r-- 1 jovyan users 1704 Mar 27 15:01 broker.key\n"
     ]
    }
   ],
   "source": [
    "ssh ${user}@${server} 'docker exec sinetstream_ca cat /etc/pki/CA/private/broker.key ' > broker.key\n",
    "ssh ${user}@${server} 'docker exec sinetstream_ca cat /etc/pki/CA/certs/broker.crt' > broker.crt\n",
    "ls -l broker.key broker.crt"
   ]
  },
  {
   "cell_type": "markdown",
   "metadata": {
    "lc_cell_meme": {
     "current": "e4c90136-6db1-11ea-804d-0242ac160002",
     "history": [
      {
       "current": "e4c90136-6db1-11ea-804d-0242ac160002",
       "next": "e4c90366-6db1-11ea-804d-0242ac160002",
       "previous": "0e269c1a-6db1-11ea-804d-0242ac160002"
      }
     ],
     "next": "e4c90366-6db1-11ea-804d-0242ac160002",
     "previous": "c399be8e-6fef-11ea-804d-0242ac160002"
    }
   },
   "source": [
    "## クライアント認証のための秘密鍵、証明書を作成する"
   ]
  },
  {
   "cell_type": "markdown",
   "metadata": {
    "lc_cell_meme": {
     "current": "e4c90366-6db1-11ea-804d-0242ac160002",
     "history": [
      {
       "current": "e4c90366-6db1-11ea-804d-0242ac160002",
       "next": null,
       "previous": "e4c90136-6db1-11ea-804d-0242ac160002"
      }
     ],
     "next": "2c446dd4-6db2-11ea-804d-0242ac160002",
     "previous": "e4c90136-6db1-11ea-804d-0242ac160002"
    }
   },
   "source": [
    "### クライアント証明書のCSRと秘密鍵を作成する"
   ]
  },
  {
   "cell_type": "code",
   "execution_count": 15,
   "metadata": {
    "deletable": false,
    "editable": false,
    "lc_cell_meme": {
     "current": "2c446dd4-6db2-11ea-804d-0242ac160002",
     "execution_end_time": "2020-03-24T09:57:19.813035Z",
     "next": "d9658bbe-6db3-11ea-804d-0242ac160002",
     "previous": "e4c90366-6db1-11ea-804d-0242ac160002"
    },
    "lc_wrapper": {
     "log_history": [
      "/notebooks/notebook/tmp/サーバ構築手順/.log/20200324/20200324-184044-0611.log",
      "/notebooks/notebook/tmp/サーバ構築手順/.log/20200324/20200324-184054-0288.log",
      "/notebooks/notebook/tmp/サーバ構築手順/.log/20200324/20200324-184731-0237.log",
      "/notebooks/notebook/tmp/サーバ構築手順/.log/20200324/20200324-185718-0825.log"
     ]
    },
    "run_through_control": {
     "frozen": true
    }
   },
   "outputs": [
    {
     "name": "stdout",
     "output_type": "stream",
     "text": [
      "Generating a 2048 bit RSA private key\n",
      "..............................................................................................+++\n",
      "..............+++\n",
      "writing new private key to '/etc/pki/CA/private/client0.key'\n",
      "-----\n"
     ]
    }
   ],
   "source": [
    "\n",
    "\n",
    "ssh ${user}@${server} \"docker exec sinetstream_ca \\\n",
    "    openssl req -new \\\n",
    "                -keyout /etc/pki/CA/private/${client_common_name}.key \\\n",
    "                -out /etc/pki/CA/${client_common_name}.csr \\\n",
    "                -nodes \\\n",
    "                -subj /C=${country}/CN=${client_common_name}\""
   ]
  },
  {
   "cell_type": "markdown",
   "metadata": {
    "lc_cell_meme": {
     "current": "d9658bbe-6db3-11ea-804d-0242ac160002",
     "execution_end_time": "2020-03-24T09:41:16.795935Z",
     "next": "d9658d80-6db3-11ea-804d-0242ac160002",
     "previous": "2c446dd4-6db2-11ea-804d-0242ac160002"
    },
    "lc_wrapper": {
     "log_history": [
      "/notebooks/notebook/tmp/サーバ構築手順/.log/20200324/20200324-184116-0689.log"
     ]
    }
   },
   "source": [
    "### CA証明書で署名をおこない、クライアント証明書を作成する"
   ]
  },
  {
   "cell_type": "code",
   "execution_count": 16,
   "metadata": {
    "deletable": false,
    "editable": false,
    "lc_cell_meme": {
     "current": "d9658d80-6db3-11ea-804d-0242ac160002",
     "execution_end_time": "2020-03-24T09:57:22.183826Z",
     "history": [
      {
       "current": "d9658d80-6db3-11ea-804d-0242ac160002",
       "next": null,
       "previous": "d9658bbe-6db3-11ea-804d-0242ac160002"
      }
     ],
     "next": "20e8d0ea-6db4-11ea-804d-0242ac160002",
     "previous": "d9658bbe-6db3-11ea-804d-0242ac160002"
    },
    "lc_wrapper": {
     "log_history": [
      "/notebooks/notebook/tmp/サーバ構築手順/.log/20200324/20200324-184259-0702.log",
      "/notebooks/notebook/tmp/サーバ構築手順/.log/20200324/20200324-184738-0404.log",
      "/notebooks/notebook/tmp/サーバ構築手順/.log/20200324/20200324-185721-0395.log"
     ]
    },
    "run_through_control": {
     "frozen": true
    }
   },
   "outputs": [
    {
     "name": "stdout",
     "output_type": "stream",
     "text": [
      "Using configuration from /etc/pki/tls/openssl.cnf\n",
      "Check that the request matches the signature\n",
      "Signature ok\n",
      "Certificate Details:\n",
      "        Serial Number:\n",
      "            c5:b2:cf:5c:ab:23:77:92\n",
      "        Validity\n",
      "            Not Before: Mar 24 09:57:22 2020 GMT\n",
      "            Not After : Mar 24 09:57:22 2021 GMT\n",
      "        Subject:\n",
      "            countryName               = JP\n",
      "            commonName                = client0\n",
      "        X509v3 extensions:\n",
      "            X509v3 Basic Constraints: \n",
      "                CA:FALSE\n",
      "            Netscape Comment: \n",
      "                OpenSSL Generated Certificate\n",
      "            X509v3 Subject Key Identifier: \n",
      "                35:F6:D3:43:27:74:2B:D4:45:DD:61:46:1D:29:9F:F4:3F:68:E0:DD\n",
      "            X509v3 Authority Key Identifier: \n",
      "                keyid:B6:0A:CE:3D:55:44:0A:2C:9E:B1:29:4E:7F:C5:DB:4C:87:4B:06:DB\n",
      "\n",
      "Certificate is to be certified until Mar 24 09:57:22 2021 GMT (365 days)\n",
      "\n",
      "Write out database with 1 new entries\n",
      "Data Base Updated\n"
     ]
    }
   ],
   "source": [
    "ssh ${user}@${server} \"docker exec sinetstream_ca \\\n",
    "    openssl ca -batch \\\n",
    "               -keyfile /etc/pki/CA/private/cakey.pem \\\n",
    "               -cert /etc/pki/CA/cacert.pem \\\n",
    "               -in /etc/pki/CA/client0.csr \\\n",
    "               -out /etc/pki/CA/certs/${client_common_name}.crt \\\n",
    "               -policy policy_anything\""
   ]
  },
  {
   "cell_type": "markdown",
   "metadata": {
    "lc_cell_meme": {
     "current": "20e8d0ea-6db4-11ea-804d-0242ac160002",
     "next": "20e8d39c-6db4-11ea-804d-0242ac160002",
     "previous": "d9658d80-6db3-11ea-804d-0242ac160002"
    }
   },
   "source": [
    "作成したクライアント証明書/etc/pki/CA/certs/client0.crtの内容を確認する"
   ]
  },
  {
   "cell_type": "code",
   "execution_count": 17,
   "metadata": {
    "deletable": false,
    "editable": false,
    "lc_cell_meme": {
     "current": "20e8d39c-6db4-11ea-804d-0242ac160002",
     "execution_end_time": "2020-03-24T09:57:26.977862Z",
     "history": [
      {
       "current": "20e8d39c-6db4-11ea-804d-0242ac160002",
       "next": null,
       "previous": "20e8d0ea-6db4-11ea-804d-0242ac160002"
      }
     ],
     "next": "aff7c8a4-6db4-11ea-804d-0242ac160002",
     "previous": "20e8d0ea-6db4-11ea-804d-0242ac160002"
    },
    "lc_wrapper": {
     "log_history": [
      "/notebooks/notebook/tmp/サーバ構築手順/.log/20200324/20200324-184615-0951.log",
      "/notebooks/notebook/tmp/サーバ構築手順/.log/20200324/20200324-184714-0684.log",
      "/notebooks/notebook/tmp/サーバ構築手順/.log/20200324/20200324-184742-0029.log",
      "/notebooks/notebook/tmp/サーバ構築手順/.log/20200324/20200324-185726-0446.log"
     ]
    },
    "run_through_control": {
     "frozen": true
    }
   },
   "outputs": [
    {
     "name": "stdout",
     "output_type": "stream",
     "text": [
      "Certificate:\n",
      "    Data:\n",
      "        Version: 3 (0x2)\n",
      "        Serial Number:\n",
      "            c5:b2:cf:5c:ab:23:77:92\n",
      "    Signature Algorithm: sha256WithRSAEncryption\n",
      "        Issuer: C=JP, ST=Example_State, O=Example_Organization, CN=private-ca\n",
      "        Validity\n",
      "            Not Before: Mar 24 09:57:22 2020 GMT\n",
      "            Not After : Mar 24 09:57:22 2021 GMT\n",
      "        Subject: C=JP, CN=client0\n",
      "        Subject Public Key Info:\n",
      "            Public Key Algorithm: rsaEncryption\n",
      "                Public-Key: (2048 bit)\n",
      "                Modulus:\n",
      "                    00:b9:19:24:59:70:05:6a:a9:be:40:f6:bd:f6:0a:\n",
      "                    74:77:8f:e2:d9:66:56:30:30:79:01:ce:82:e4:bf:\n",
      "                    cd:cc:c7:04:74:4a:f4:83:e5:c9:04:96:d9:98:bd:\n",
      "                    ce:39:71:ff:83:34:39:7e:26:dd:24:7d:af:b2:25:\n",
      "                    1d:7f:2b:32:45:89:28:a9:e0:f1:13:79:60:70:ae:\n",
      "                    5f:e9:c5:29:ea:08:f9:df:0b:20:2f:cd:7f:9b:0f:\n",
      "                    9f:14:5a:91:5d:e2:7c:31:75:b7:90:cb:ce:45:ec:\n",
      "                    87:5e:49:6e:28:9e:1b:05:16:3e:d1:86:d7:e4:6f:\n",
      "                    4c:74:07:97:0f:7f:97:20:26:7e:cb:55:7e:99:23:\n",
      "                    12:31:e5:48:9b:83:8c:ec:41:87:a2:86:c9:71:1f:\n",
      "                    66:13:84:05:55:50:34:b9:a9:0b:62:35:a6:38:b9:\n",
      "                    68:8c:04:a6:e9:e4:a3:ed:14:f9:2c:cf:28:f2:1c:\n",
      "                    30:9b:4f:f0:bd:2b:fd:b9:35:8d:5d:c7:c3:c6:1e:\n",
      "                    e5:79:b8:2e:f2:90:10:0d:bb:14:b0:01:5e:b1:4e:\n",
      "                    19:eb:64:12:4b:07:e5:22:1a:4b:cf:f9:60:cf:9b:\n",
      "                    f1:b8:7f:70:28:d2:11:82:92:e0:9e:a1:67:33:ea:\n",
      "                    b3:30:c5:3d:e1:69:0a:17:de:e9:59:6d:4a:e3:bb:\n",
      "                    e9:c9\n",
      "                Exponent: 65537 (0x10001)\n",
      "        X509v3 extensions:\n",
      "            X509v3 Basic Constraints: \n",
      "                CA:FALSE\n",
      "            Netscape Comment: \n",
      "                OpenSSL Generated Certificate\n",
      "            X509v3 Subject Key Identifier: \n",
      "                35:F6:D3:43:27:74:2B:D4:45:DD:61:46:1D:29:9F:F4:3F:68:E0:DD\n",
      "            X509v3 Authority Key Identifier: \n",
      "                keyid:B6:0A:CE:3D:55:44:0A:2C:9E:B1:29:4E:7F:C5:DB:4C:87:4B:06:DB\n",
      "\n",
      "    Signature Algorithm: sha256WithRSAEncryption\n",
      "         da:b4:6d:f4:ba:59:b2:75:6d:a6:98:63:96:ba:78:31:18:cf:\n",
      "         0d:1c:31:b6:23:ee:c6:f2:df:88:7a:62:ac:1b:c3:bf:e8:f2:\n",
      "         0d:b2:f7:41:b4:26:6a:bd:7d:31:ba:53:b2:ef:de:4f:e6:72:\n",
      "         1e:1d:fb:ff:7b:0e:7a:ac:98:a6:e9:18:6f:6b:68:b1:d5:e3:\n",
      "         96:d1:03:21:ab:78:d5:ea:52:86:80:03:95:87:68:95:f8:df:\n",
      "         2b:be:d7:d8:c7:93:f2:37:a3:58:da:0b:3f:91:90:c5:31:e6:\n",
      "         56:e0:56:aa:29:2e:ac:e1:a8:aa:ce:b1:8e:ff:c1:f1:91:3a:\n",
      "         d7:6b:22:97:30:d5:18:c2:8a:af:f7:0d:5a:27:6f:75:a6:8c:\n",
      "         af:48:df:be:1d:d5:19:0f:6c:65:ad:cc:9d:12:2d:9d:e5:09:\n",
      "         f8:d4:2a:40:47:e2:71:bc:85:7f:bf:01:4d:d4:0b:89:e4:b8:\n",
      "         0d:75:e9:78:6f:5f:aa:59:c7:e1:99:89:c0:be:bc:02:32:15:\n",
      "         eb:ed:17:e7:e2:cb:f5:ba:e5:46:8d:c7:5a:cb:f3:30:43:84:\n",
      "         0e:8c:59:57:d9:94:ee:eb:18:36:a0:c3:bf:52:7f:ec:96:68:\n",
      "         a6:52:3d:40:75:08:c9:45:f6:0d:e9:58:ae:c6:16:b9:4b:ee:\n",
      "         7a:5c:47:41\n"
     ]
    }
   ],
   "source": [
    "ssh ${user}@${server} \"docker exec sinetstream_ca \\\n",
    "    openssl x509 -in /etc/pki/CA/certs/${client_common_name}.crt -noout -text\""
   ]
  },
  {
   "cell_type": "code",
   "execution_count": null,
   "metadata": {
    "lc_cell_meme": {
     "current": "aff7c8a4-6db4-11ea-804d-0242ac160002",
     "next": null,
     "previous": "20e8d39c-6db4-11ea-804d-0242ac160002"
    }
   },
   "outputs": [],
   "source": []
  }
 ],
 "metadata": {
  "kernelspec": {
   "display_name": "Bash",
   "language": "bash",
   "name": "bash"
  },
  "language_info": {
   "name": "bash"
  },
  "lc_notebook_meme": {
   "current": "8690548e-6429-11ea-804d-0242ac160002",
   "lc_server_signature": {
    "current": {
     "notebook_dir": "/notebooks/notebook",
     "notebook_path": "/tmp/サーバ構築手順",
     "server_url": "https://vcc3056.vcp-handson.org/jupyter/",
     "signature_id": "b59f511c-eef9-11e9-9194-0242ac130002"
    },
    "history": []
   }
  },
  "toc": {
   "base_numbering": 1,
   "nav_menu": {},
   "number_sections": true,
   "sideBar": true,
   "skip_h1_title": false,
   "title_cell": "Table of Contents",
   "title_sidebar": "Contents",
   "toc_cell": false,
   "toc_position": {},
   "toc_section_display": true,
   "toc_window_display": false
  }
 },
 "nbformat": 4,
 "nbformat_minor": 2
}
